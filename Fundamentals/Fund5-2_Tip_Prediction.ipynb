{
 "cells": [
  {
   "cell_type": "markdown",
   "id": "c518bfde",
   "metadata": {},
   "source": [
    ">다변수 데이터의 선형회귀를 위한 데이터 확인 및 모델 설계"
   ]
  },
  {
   "cell_type": "code",
   "execution_count": 1,
   "id": "872b01f0",
   "metadata": {},
   "outputs": [
    {
     "data": {
      "text/plain": [
       "['anagrams',\n",
       " 'anscombe',\n",
       " 'attention',\n",
       " 'brain_networks',\n",
       " 'car_crashes',\n",
       " 'diamonds',\n",
       " 'dots',\n",
       " 'exercise',\n",
       " 'flights',\n",
       " 'fmri',\n",
       " 'gammas',\n",
       " 'geyser',\n",
       " 'iris',\n",
       " 'mpg',\n",
       " 'penguins',\n",
       " 'planets',\n",
       " 'taxis',\n",
       " 'tips',\n",
       " 'titanic']"
      ]
     },
     "execution_count": 1,
     "metadata": {},
     "output_type": "execute_result"
    }
   ],
   "source": [
    "import seaborn as sns\n",
    "\n",
    "sns.get_dataset_names()"
   ]
  },
  {
   "cell_type": "code",
   "execution_count": 2,
   "id": "09aaf0ce",
   "metadata": {},
   "outputs": [
    {
     "name": "stdout",
     "output_type": "stream",
     "text": [
      "(244, 7)\n"
     ]
    },
    {
     "data": {
      "text/html": [
       "<div>\n",
       "<style scoped>\n",
       "    .dataframe tbody tr th:only-of-type {\n",
       "        vertical-align: middle;\n",
       "    }\n",
       "\n",
       "    .dataframe tbody tr th {\n",
       "        vertical-align: top;\n",
       "    }\n",
       "\n",
       "    .dataframe thead th {\n",
       "        text-align: right;\n",
       "    }\n",
       "</style>\n",
       "<table border=\"1\" class=\"dataframe\">\n",
       "  <thead>\n",
       "    <tr style=\"text-align: right;\">\n",
       "      <th></th>\n",
       "      <th>total_bill</th>\n",
       "      <th>tip</th>\n",
       "      <th>sex</th>\n",
       "      <th>smoker</th>\n",
       "      <th>day</th>\n",
       "      <th>time</th>\n",
       "      <th>size</th>\n",
       "    </tr>\n",
       "  </thead>\n",
       "  <tbody>\n",
       "    <tr>\n",
       "      <th>0</th>\n",
       "      <td>16.99</td>\n",
       "      <td>1.01</td>\n",
       "      <td>Female</td>\n",
       "      <td>No</td>\n",
       "      <td>Sun</td>\n",
       "      <td>Dinner</td>\n",
       "      <td>2</td>\n",
       "    </tr>\n",
       "    <tr>\n",
       "      <th>1</th>\n",
       "      <td>10.34</td>\n",
       "      <td>1.66</td>\n",
       "      <td>Male</td>\n",
       "      <td>No</td>\n",
       "      <td>Sun</td>\n",
       "      <td>Dinner</td>\n",
       "      <td>3</td>\n",
       "    </tr>\n",
       "    <tr>\n",
       "      <th>2</th>\n",
       "      <td>21.01</td>\n",
       "      <td>3.50</td>\n",
       "      <td>Male</td>\n",
       "      <td>No</td>\n",
       "      <td>Sun</td>\n",
       "      <td>Dinner</td>\n",
       "      <td>3</td>\n",
       "    </tr>\n",
       "    <tr>\n",
       "      <th>3</th>\n",
       "      <td>23.68</td>\n",
       "      <td>3.31</td>\n",
       "      <td>Male</td>\n",
       "      <td>No</td>\n",
       "      <td>Sun</td>\n",
       "      <td>Dinner</td>\n",
       "      <td>2</td>\n",
       "    </tr>\n",
       "    <tr>\n",
       "      <th>4</th>\n",
       "      <td>24.59</td>\n",
       "      <td>3.61</td>\n",
       "      <td>Female</td>\n",
       "      <td>No</td>\n",
       "      <td>Sun</td>\n",
       "      <td>Dinner</td>\n",
       "      <td>4</td>\n",
       "    </tr>\n",
       "  </tbody>\n",
       "</table>\n",
       "</div>"
      ],
      "text/plain": [
       "   total_bill   tip     sex smoker  day    time  size\n",
       "0       16.99  1.01  Female     No  Sun  Dinner     2\n",
       "1       10.34  1.66    Male     No  Sun  Dinner     3\n",
       "2       21.01  3.50    Male     No  Sun  Dinner     3\n",
       "3       23.68  3.31    Male     No  Sun  Dinner     2\n",
       "4       24.59  3.61  Female     No  Sun  Dinner     4"
      ]
     },
     "execution_count": 2,
     "metadata": {},
     "output_type": "execute_result"
    }
   ],
   "source": [
    "tips = sns.load_dataset(\"tips\")\n",
    "print(tips.shape)\n",
    "tips.head()"
   ]
  },
  {
   "cell_type": "markdown",
   "id": "b71dd53b",
   "metadata": {},
   "source": [
    "문자열 데이터가 있기 때문에 pandas의 `get_dummies()` 함수로 문자열 데이터를 0, 1로 변환한다.  \n",
    ">수식을 구할 때 카테고리형 데이터가 있다면 더미 변수를 활용해 식에 포함시킬 수 있다.  \n",
    "이러한 데이터 변환 방식을 원-핫 인코딩이라고 한다."
   ]
  },
  {
   "cell_type": "code",
   "execution_count": 3,
   "id": "ce46269b",
   "metadata": {},
   "outputs": [
    {
     "data": {
      "text/html": [
       "<div>\n",
       "<style scoped>\n",
       "    .dataframe tbody tr th:only-of-type {\n",
       "        vertical-align: middle;\n",
       "    }\n",
       "\n",
       "    .dataframe tbody tr th {\n",
       "        vertical-align: top;\n",
       "    }\n",
       "\n",
       "    .dataframe thead th {\n",
       "        text-align: right;\n",
       "    }\n",
       "</style>\n",
       "<table border=\"1\" class=\"dataframe\">\n",
       "  <thead>\n",
       "    <tr style=\"text-align: right;\">\n",
       "      <th></th>\n",
       "      <th>total_bill</th>\n",
       "      <th>tip</th>\n",
       "      <th>size</th>\n",
       "      <th>sex_Male</th>\n",
       "      <th>sex_Female</th>\n",
       "      <th>smoker_Yes</th>\n",
       "      <th>smoker_No</th>\n",
       "      <th>day_Thur</th>\n",
       "      <th>day_Fri</th>\n",
       "      <th>day_Sat</th>\n",
       "      <th>day_Sun</th>\n",
       "      <th>time_Lunch</th>\n",
       "      <th>time_Dinner</th>\n",
       "    </tr>\n",
       "  </thead>\n",
       "  <tbody>\n",
       "    <tr>\n",
       "      <th>0</th>\n",
       "      <td>16.99</td>\n",
       "      <td>1.01</td>\n",
       "      <td>2</td>\n",
       "      <td>0</td>\n",
       "      <td>1</td>\n",
       "      <td>0</td>\n",
       "      <td>1</td>\n",
       "      <td>0</td>\n",
       "      <td>0</td>\n",
       "      <td>0</td>\n",
       "      <td>1</td>\n",
       "      <td>0</td>\n",
       "      <td>1</td>\n",
       "    </tr>\n",
       "    <tr>\n",
       "      <th>1</th>\n",
       "      <td>10.34</td>\n",
       "      <td>1.66</td>\n",
       "      <td>3</td>\n",
       "      <td>1</td>\n",
       "      <td>0</td>\n",
       "      <td>0</td>\n",
       "      <td>1</td>\n",
       "      <td>0</td>\n",
       "      <td>0</td>\n",
       "      <td>0</td>\n",
       "      <td>1</td>\n",
       "      <td>0</td>\n",
       "      <td>1</td>\n",
       "    </tr>\n",
       "    <tr>\n",
       "      <th>2</th>\n",
       "      <td>21.01</td>\n",
       "      <td>3.50</td>\n",
       "      <td>3</td>\n",
       "      <td>1</td>\n",
       "      <td>0</td>\n",
       "      <td>0</td>\n",
       "      <td>1</td>\n",
       "      <td>0</td>\n",
       "      <td>0</td>\n",
       "      <td>0</td>\n",
       "      <td>1</td>\n",
       "      <td>0</td>\n",
       "      <td>1</td>\n",
       "    </tr>\n",
       "    <tr>\n",
       "      <th>3</th>\n",
       "      <td>23.68</td>\n",
       "      <td>3.31</td>\n",
       "      <td>2</td>\n",
       "      <td>1</td>\n",
       "      <td>0</td>\n",
       "      <td>0</td>\n",
       "      <td>1</td>\n",
       "      <td>0</td>\n",
       "      <td>0</td>\n",
       "      <td>0</td>\n",
       "      <td>1</td>\n",
       "      <td>0</td>\n",
       "      <td>1</td>\n",
       "    </tr>\n",
       "    <tr>\n",
       "      <th>4</th>\n",
       "      <td>24.59</td>\n",
       "      <td>3.61</td>\n",
       "      <td>4</td>\n",
       "      <td>0</td>\n",
       "      <td>1</td>\n",
       "      <td>0</td>\n",
       "      <td>1</td>\n",
       "      <td>0</td>\n",
       "      <td>0</td>\n",
       "      <td>0</td>\n",
       "      <td>1</td>\n",
       "      <td>0</td>\n",
       "      <td>1</td>\n",
       "    </tr>\n",
       "  </tbody>\n",
       "</table>\n",
       "</div>"
      ],
      "text/plain": [
       "   total_bill   tip  size  sex_Male  sex_Female  smoker_Yes  smoker_No  \\\n",
       "0       16.99  1.01     2         0           1           0          1   \n",
       "1       10.34  1.66     3         1           0           0          1   \n",
       "2       21.01  3.50     3         1           0           0          1   \n",
       "3       23.68  3.31     2         1           0           0          1   \n",
       "4       24.59  3.61     4         0           1           0          1   \n",
       "\n",
       "   day_Thur  day_Fri  day_Sat  day_Sun  time_Lunch  time_Dinner  \n",
       "0         0        0        0        1           0            1  \n",
       "1         0        0        0        1           0            1  \n",
       "2         0        0        0        1           0            1  \n",
       "3         0        0        0        1           0            1  \n",
       "4         0        0        0        1           0            1  "
      ]
     },
     "execution_count": 3,
     "metadata": {},
     "output_type": "execute_result"
    }
   ],
   "source": [
    "import pandas as pd\n",
    "tips = pd.get_dummies(tips, columns=['sex', 'smoker', 'day', 'time'])\n",
    "tips.head()"
   ]
  },
  {
   "cell_type": "code",
   "execution_count": 4,
   "id": "931b6de7",
   "metadata": {},
   "outputs": [
    {
     "data": {
      "text/html": [
       "<div>\n",
       "<style scoped>\n",
       "    .dataframe tbody tr th:only-of-type {\n",
       "        vertical-align: middle;\n",
       "    }\n",
       "\n",
       "    .dataframe tbody tr th {\n",
       "        vertical-align: top;\n",
       "    }\n",
       "\n",
       "    .dataframe thead th {\n",
       "        text-align: right;\n",
       "    }\n",
       "</style>\n",
       "<table border=\"1\" class=\"dataframe\">\n",
       "  <thead>\n",
       "    <tr style=\"text-align: right;\">\n",
       "      <th></th>\n",
       "      <th>total_bill</th>\n",
       "      <th>size</th>\n",
       "      <th>sex_Male</th>\n",
       "      <th>sex_Female</th>\n",
       "      <th>smoker_Yes</th>\n",
       "      <th>smoker_No</th>\n",
       "      <th>day_Thur</th>\n",
       "      <th>day_Fri</th>\n",
       "      <th>day_Sat</th>\n",
       "      <th>day_Sun</th>\n",
       "      <th>time_Lunch</th>\n",
       "      <th>time_Dinner</th>\n",
       "      <th>tip</th>\n",
       "    </tr>\n",
       "  </thead>\n",
       "  <tbody>\n",
       "    <tr>\n",
       "      <th>0</th>\n",
       "      <td>16.99</td>\n",
       "      <td>2</td>\n",
       "      <td>0</td>\n",
       "      <td>1</td>\n",
       "      <td>0</td>\n",
       "      <td>1</td>\n",
       "      <td>0</td>\n",
       "      <td>0</td>\n",
       "      <td>0</td>\n",
       "      <td>1</td>\n",
       "      <td>0</td>\n",
       "      <td>1</td>\n",
       "      <td>1.01</td>\n",
       "    </tr>\n",
       "    <tr>\n",
       "      <th>1</th>\n",
       "      <td>10.34</td>\n",
       "      <td>3</td>\n",
       "      <td>1</td>\n",
       "      <td>0</td>\n",
       "      <td>0</td>\n",
       "      <td>1</td>\n",
       "      <td>0</td>\n",
       "      <td>0</td>\n",
       "      <td>0</td>\n",
       "      <td>1</td>\n",
       "      <td>0</td>\n",
       "      <td>1</td>\n",
       "      <td>1.66</td>\n",
       "    </tr>\n",
       "    <tr>\n",
       "      <th>2</th>\n",
       "      <td>21.01</td>\n",
       "      <td>3</td>\n",
       "      <td>1</td>\n",
       "      <td>0</td>\n",
       "      <td>0</td>\n",
       "      <td>1</td>\n",
       "      <td>0</td>\n",
       "      <td>0</td>\n",
       "      <td>0</td>\n",
       "      <td>1</td>\n",
       "      <td>0</td>\n",
       "      <td>1</td>\n",
       "      <td>3.50</td>\n",
       "    </tr>\n",
       "    <tr>\n",
       "      <th>3</th>\n",
       "      <td>23.68</td>\n",
       "      <td>2</td>\n",
       "      <td>1</td>\n",
       "      <td>0</td>\n",
       "      <td>0</td>\n",
       "      <td>1</td>\n",
       "      <td>0</td>\n",
       "      <td>0</td>\n",
       "      <td>0</td>\n",
       "      <td>1</td>\n",
       "      <td>0</td>\n",
       "      <td>1</td>\n",
       "      <td>3.31</td>\n",
       "    </tr>\n",
       "    <tr>\n",
       "      <th>4</th>\n",
       "      <td>24.59</td>\n",
       "      <td>4</td>\n",
       "      <td>0</td>\n",
       "      <td>1</td>\n",
       "      <td>0</td>\n",
       "      <td>1</td>\n",
       "      <td>0</td>\n",
       "      <td>0</td>\n",
       "      <td>0</td>\n",
       "      <td>1</td>\n",
       "      <td>0</td>\n",
       "      <td>1</td>\n",
       "      <td>3.61</td>\n",
       "    </tr>\n",
       "  </tbody>\n",
       "</table>\n",
       "</div>"
      ],
      "text/plain": [
       "   total_bill  size  sex_Male  sex_Female  smoker_Yes  smoker_No  day_Thur  \\\n",
       "0       16.99     2         0           1           0          1         0   \n",
       "1       10.34     3         1           0           0          1         0   \n",
       "2       21.01     3         1           0           0          1         0   \n",
       "3       23.68     2         1           0           0          1         0   \n",
       "4       24.59     4         0           1           0          1         0   \n",
       "\n",
       "   day_Fri  day_Sat  day_Sun  time_Lunch  time_Dinner   tip  \n",
       "0        0        0        1           0            1  1.01  \n",
       "1        0        0        1           0            1  1.66  \n",
       "2        0        0        1           0            1  3.50  \n",
       "3        0        0        1           0            1  3.31  \n",
       "4        0        0        1           0            1  3.61  "
      ]
     },
     "execution_count": 4,
     "metadata": {},
     "output_type": "execute_result"
    }
   ],
   "source": [
    "tips = tips[['total_bill', 'size', 'sex_Male', 'sex_Female', 'smoker_Yes', 'smoker_No',\n",
    "             'day_Thur', 'day_Fri', 'day_Sat', 'day_Sun', 'time_Lunch', 'time_Dinner', 'tip']]\n",
    "tips.head()"
   ]
  },
  {
   "cell_type": "markdown",
   "id": "91d51fec",
   "metadata": {},
   "source": [
    "선형 방정식 : 다변수 일차방정식, 각각의 x에 개별 가중치를 곱한다.  \n",
    "선형 방정식을 활용해 원하는 값을 예측하는 모델을 설계하고 학습시키는 것을 선형 회귀라고 한다.  \n",
    "회귀는 연속된 실수갑을 예측하는 문제를 뜻한다."
   ]
  },
  {
   "cell_type": "markdown",
   "id": "ee4eb94e",
   "metadata": {},
   "source": [
    ">다변수 데이터의 선형 회귀를 위한 손실함수 정의"
   ]
  },
  {
   "cell_type": "code",
   "execution_count": 5,
   "id": "b1874998",
   "metadata": {},
   "outputs": [
    {
     "name": "stdout",
     "output_type": "stream",
     "text": [
      "(195, 12) (195,)\n",
      "(49, 12) (49,)\n"
     ]
    }
   ],
   "source": [
    "X = tips[['total_bill', 'size', 'sex_Male', 'sex_Female', 'smoker_Yes', 'smoker_No',\n",
    "          'day_Thur', 'day_Fri', 'day_Sat', 'day_Sun', 'time_Lunch', 'time_Dinner']].values\n",
    "y = tips['tip'].values\n",
    "\n",
    "# train 데이터 test 데이터 분리\n",
    "from sklearn.model_selection import train_test_split\n",
    "\n",
    "X_train, X_test, y_train, y_test = train_test_split(X, y, test_size=0.2, random_state=42)\n",
    "\n",
    "print(X_train.shape, y_train.shape)\n",
    "print(X_test.shape, y_test.shape)"
   ]
  },
  {
   "cell_type": "code",
   "execution_count": 6,
   "id": "535308c6",
   "metadata": {},
   "outputs": [],
   "source": [
    "import numpy as np\n",
    "W = np.random.rand(12)\n",
    "b = np.random.rand()"
   ]
  },
  {
   "cell_type": "code",
   "execution_count": 7,
   "id": "bbb3815c",
   "metadata": {},
   "outputs": [],
   "source": [
    "def model(X, W, b):\n",
    "    predictions = 0\n",
    "    for i in range(12):\n",
    "        predictions += X[:, i] * W[i]\n",
    "    predictions += b\n",
    "    return predictions"
   ]
  },
  {
   "cell_type": "code",
   "execution_count": 8,
   "id": "2ed123e9",
   "metadata": {},
   "outputs": [],
   "source": [
    "def MSE(a, b):\n",
    "    mse = ((a - b) ** 2).mean() # 두 갑의 차이의 제곱의 평균\n",
    "    return mse"
   ]
  },
  {
   "cell_type": "code",
   "execution_count": 9,
   "id": "7e31a7cd",
   "metadata": {},
   "outputs": [],
   "source": [
    "def loss(X, W, b, y):\n",
    "    predictions = model(X, W, b)\n",
    "    L = MSE(predictions, y)\n",
    "    return L"
   ]
  },
  {
   "cell_type": "markdown",
   "id": "d95741fe",
   "metadata": {},
   "source": [
    ">MSE Loss에 대해 그래디언트 수식을 구하고 함수 구현"
   ]
  },
  {
   "cell_type": "code",
   "execution_count": 10,
   "id": "7bbb23a7",
   "metadata": {},
   "outputs": [],
   "source": [
    "def gradient(X, W, b, y):\n",
    "    N = len(W)\n",
    "    y_pred = model(X, W, b)\n",
    "    \n",
    "    dW = 1/N * 2 * X.T.dot(y_pred - y) # gradient\n",
    "    db = 2 * (y_pred - y).mean()\n",
    "    \n",
    "    return dW, db"
   ]
  },
  {
   "cell_type": "code",
   "execution_count": 11,
   "id": "82e3221c",
   "metadata": {},
   "outputs": [
    {
     "name": "stdout",
     "output_type": "stream",
     "text": [
      "dW:  [15671.89286631  1895.68781349   450.05618753   222.71977409\n",
      "   266.18725756   406.58870406   153.54198047    46.38108796\n",
      "   244.39735855   228.45553465   164.69424341   508.08171821]\n",
      "db:  33.08734237487518\n"
     ]
    }
   ],
   "source": [
    "dW, db = gradient(X, W, b, y)\n",
    "print('dW: ', dW)\n",
    "print('db: ', db)"
   ]
  },
  {
   "cell_type": "markdown",
   "id": "2a35de5e",
   "metadata": {},
   "source": [
    ">손실함수, 기울기 함수로 경사하강법으로 모델 학습"
   ]
  },
  {
   "cell_type": "code",
   "execution_count": 12,
   "id": "2e3e4043",
   "metadata": {},
   "outputs": [],
   "source": [
    "LEARNING_RATE = 0.0001"
   ]
  },
  {
   "cell_type": "code",
   "execution_count": 13,
   "id": "88955ac9",
   "metadata": {},
   "outputs": [
    {
     "name": "stdout",
     "output_type": "stream",
     "text": [
      "Iteration 10 : loss 1.8223\n",
      "Iteration 20 : loss 1.7699\n",
      "Iteration 30 : loss 1.7336\n",
      "Iteration 40 : loss 1.6996\n",
      "Iteration 50 : loss 1.6677\n",
      "Iteration 60 : loss 1.6379\n",
      "Iteration 70 : loss 1.6098\n",
      "Iteration 80 : loss 1.5836\n",
      "Iteration 90 : loss 1.5589\n",
      "Iteration 100 : loss 1.5358\n",
      "Iteration 110 : loss 1.5140\n",
      "Iteration 120 : loss 1.4936\n",
      "Iteration 130 : loss 1.4745\n",
      "Iteration 140 : loss 1.4565\n",
      "Iteration 150 : loss 1.4396\n",
      "Iteration 160 : loss 1.4237\n",
      "Iteration 170 : loss 1.4088\n",
      "Iteration 180 : loss 1.3947\n",
      "Iteration 190 : loss 1.3815\n",
      "Iteration 200 : loss 1.3690\n",
      "Iteration 210 : loss 1.3573\n",
      "Iteration 220 : loss 1.3463\n",
      "Iteration 230 : loss 1.3359\n",
      "Iteration 240 : loss 1.3261\n",
      "Iteration 250 : loss 1.3168\n",
      "Iteration 260 : loss 1.3081\n",
      "Iteration 270 : loss 1.2999\n",
      "Iteration 280 : loss 1.2921\n",
      "Iteration 290 : loss 1.2848\n",
      "Iteration 300 : loss 1.2778\n",
      "Iteration 310 : loss 1.2713\n",
      "Iteration 320 : loss 1.2651\n",
      "Iteration 330 : loss 1.2592\n",
      "Iteration 340 : loss 1.2536\n",
      "Iteration 350 : loss 1.2484\n",
      "Iteration 360 : loss 1.2434\n",
      "Iteration 370 : loss 1.2387\n",
      "Iteration 380 : loss 1.2342\n",
      "Iteration 390 : loss 1.2299\n",
      "Iteration 400 : loss 1.2259\n",
      "Iteration 410 : loss 1.2220\n",
      "Iteration 420 : loss 1.2183\n",
      "Iteration 430 : loss 1.2149\n",
      "Iteration 440 : loss 1.2115\n",
      "Iteration 450 : loss 1.2084\n",
      "Iteration 460 : loss 1.2054\n",
      "Iteration 470 : loss 1.2025\n",
      "Iteration 480 : loss 1.1998\n",
      "Iteration 490 : loss 1.1972\n",
      "Iteration 500 : loss 1.1947\n",
      "Iteration 510 : loss 1.1923\n",
      "Iteration 520 : loss 1.1900\n",
      "Iteration 530 : loss 1.1878\n",
      "Iteration 540 : loss 1.1857\n",
      "Iteration 550 : loss 1.1837\n",
      "Iteration 560 : loss 1.1818\n",
      "Iteration 570 : loss 1.1799\n",
      "Iteration 580 : loss 1.1781\n",
      "Iteration 590 : loss 1.1764\n",
      "Iteration 600 : loss 1.1748\n",
      "Iteration 610 : loss 1.1732\n",
      "Iteration 620 : loss 1.1717\n",
      "Iteration 630 : loss 1.1702\n",
      "Iteration 640 : loss 1.1688\n",
      "Iteration 650 : loss 1.1674\n",
      "Iteration 660 : loss 1.1661\n",
      "Iteration 670 : loss 1.1649\n",
      "Iteration 680 : loss 1.1636\n",
      "Iteration 690 : loss 1.1624\n",
      "Iteration 700 : loss 1.1613\n",
      "Iteration 710 : loss 1.1602\n",
      "Iteration 720 : loss 1.1591\n",
      "Iteration 730 : loss 1.1581\n",
      "Iteration 740 : loss 1.1571\n",
      "Iteration 750 : loss 1.1561\n",
      "Iteration 760 : loss 1.1551\n",
      "Iteration 770 : loss 1.1542\n",
      "Iteration 780 : loss 1.1533\n",
      "Iteration 790 : loss 1.1524\n",
      "Iteration 800 : loss 1.1516\n",
      "Iteration 810 : loss 1.1508\n",
      "Iteration 820 : loss 1.1500\n",
      "Iteration 830 : loss 1.1492\n",
      "Iteration 840 : loss 1.1484\n",
      "Iteration 850 : loss 1.1477\n",
      "Iteration 860 : loss 1.1470\n",
      "Iteration 870 : loss 1.1463\n",
      "Iteration 880 : loss 1.1456\n",
      "Iteration 890 : loss 1.1449\n",
      "Iteration 900 : loss 1.1443\n",
      "Iteration 910 : loss 1.1436\n",
      "Iteration 920 : loss 1.1430\n",
      "Iteration 930 : loss 1.1424\n",
      "Iteration 940 : loss 1.1418\n",
      "Iteration 950 : loss 1.1412\n",
      "Iteration 960 : loss 1.1407\n",
      "Iteration 970 : loss 1.1401\n",
      "Iteration 980 : loss 1.1396\n",
      "Iteration 990 : loss 1.1390\n",
      "Iteration 1000 : loss 1.1385\n"
     ]
    }
   ],
   "source": [
    "losses = []\n",
    "\n",
    "for i in range(1, 1001):\n",
    "    dW, db = gradient(X_train, W, b, y_train)\n",
    "    W -= LEARNING_RATE * dW\n",
    "    b -= LEARNING_RATE * db\n",
    "    L = loss(X_train, W, b, y_train)\n",
    "    losses.append(L)\n",
    "    if i % 10 == 0:\n",
    "        print('Iteration %d : loss %0.4f' % (i, L))"
   ]
  },
  {
   "cell_type": "code",
   "execution_count": 14,
   "id": "66560d9d",
   "metadata": {},
   "outputs": [
    {
     "data": {
      "image/png": "[encoded data removed]",
      "text/plain": [
       "<Figure size 432x288 with 1 Axes>"
      ]
     },
     "metadata": {
      "needs_background": "light"
     },
     "output_type": "display_data"
    }
   ],
   "source": [
    "import matplotlib.pyplot as plt\n",
    "plt.plot(losses)\n",
    "plt.show()"
   ]
  },
  {
   "cell_type": "code",
   "execution_count": 15,
   "id": "9668cf8f",
   "metadata": {},
   "outputs": [
    {
     "data": {
      "text/plain": [
       "(array([ 0.08583282,  0.14139861,  0.22784727,  0.27740432, -0.10745244,\n",
       "        -0.03836569, -0.03169494,  0.50765102,  0.25058182,  0.52906558,\n",
       "         0.64557872,  0.29354899]),\n",
       " 0.18075802002831148)"
      ]
     },
     "execution_count": 15,
     "metadata": {},
     "output_type": "execute_result"
    }
   ],
   "source": [
    "W, b"
   ]
  },
  {
   "cell_type": "code",
   "execution_count": 16,
   "id": "74d74236",
   "metadata": {},
   "outputs": [
    {
     "data": {
      "text/plain": [
       "0.6513446818893718"
      ]
     },
     "execution_count": 16,
     "metadata": {},
     "output_type": "execute_result"
    }
   ],
   "source": [
    "prediction = model(X_test, W, b)\n",
    "mse = loss(X_test, W, b, y_test)\n",
    "mse"
   ]
  },
  {
   "cell_type": "code",
   "execution_count": 17,
   "id": "cf702b4c",
   "metadata": {},
   "outputs": [
    {
     "data": {
      "image/png": "[encoded data removed]",
      "text/plain": [
       "<Figure size 432x288 with 1 Axes>"
      ]
     },
     "metadata": {
      "needs_background": "light"
     },
     "output_type": "display_data"
    }
   ],
   "source": [
    "# prediction과 y_test 비교\n",
    "plt.scatter(X_test[:, 0], y_test)\n",
    "plt.scatter(X_test[:, 0], prediction)\n",
    "plt.show()"
   ]
  }
 ],
 "metadata": {
  "kernelspec": {
   "display_name": "Python 3 (ipykernel)",
   "language": "python",
   "name": "python3"
  },
  "language_info": {
   "codemirror_mode": {
    "name": "ipython",
    "version": 3
   },
   "file_extension": ".py",
   "mimetype": "text/x-python",
   "name": "python",
   "nbconvert_exporter": "python",
   "pygments_lexer": "ipython3",
   "version": "3.9.7"
  }
 },
 "nbformat": 4,
 "nbformat_minor": 5
}

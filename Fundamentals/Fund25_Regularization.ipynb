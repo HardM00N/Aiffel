{
 "cells": [
  {
   "cell_type": "markdown",
   "id": "d535ad46",
   "metadata": {},
   "source": [
    "# Fund25. Regularization\n",
    "**Regularization** : 정칙화라고 불리며, 오버피팅을 해결하기 위한 방법 중 하나다. L1, L2 Regularization, Dropout, Batch normalization 등이 있다. \n",
    "- Regularization 기법들은 모델이 train set의 정답을 잘 맞히지 못하도록 오버피팅을 방해(train loss 증가)하는 역할을 한다.  \n",
    "\n",
    "**Normalization** : 정규화라고 불리며, 데이터의 형태를 좀 더 의미있게, 혹은 트레이닝에 적합하게 전처리하는 과정이다. \n",
    "- 데이터를 z-score로 바꾸거나 minmax scaler를 사용해 0과 1사이의 값으로 분포를 조정하는 것들이 해당된다. \n",
    "- Normalization은 모든 피처의 분포 범위를 동일하게 해 모델이 풀어야하는 문제를 좀 더 간단하게 바꿔주는 전처리 과정이다.  \n",
    "\n",
    ">Regularization은 오버피팅을 막고자 하는 방법, Normalization은 train 시 서로 범위가 다른 데이터들을 같은 범위로 바꿔주는 전처리 과정이다. "
   ]
  },
  {
   "cell_type": "code",
   "execution_count": 1,
   "id": "d2fa4abf",
   "metadata": {},
   "outputs": [
    {
     "data": {
      "text/html": [
       "<div>\n",
       "<style scoped>\n",
       "    .dataframe tbody tr th:only-of-type {\n",
       "        vertical-align: middle;\n",
       "    }\n",
       "\n",
       "    .dataframe tbody tr th {\n",
       "        vertical-align: top;\n",
       "    }\n",
       "\n",
       "    .dataframe thead th {\n",
       "        text-align: right;\n",
       "    }\n",
       "</style>\n",
       "<table border=\"1\" class=\"dataframe\">\n",
       "  <thead>\n",
       "    <tr style=\"text-align: right;\">\n",
       "      <th></th>\n",
       "      <th>sepal length (cm)</th>\n",
       "      <th>sepal width (cm)</th>\n",
       "      <th>petal length (cm)</th>\n",
       "      <th>petal width (cm)</th>\n",
       "      <th>species</th>\n",
       "    </tr>\n",
       "  </thead>\n",
       "  <tbody>\n",
       "    <tr>\n",
       "      <th>0</th>\n",
       "      <td>5.1</td>\n",
       "      <td>3.5</td>\n",
       "      <td>1.4</td>\n",
       "      <td>0.2</td>\n",
       "      <td>setosa</td>\n",
       "    </tr>\n",
       "    <tr>\n",
       "      <th>1</th>\n",
       "      <td>4.9</td>\n",
       "      <td>3.0</td>\n",
       "      <td>1.4</td>\n",
       "      <td>0.2</td>\n",
       "      <td>setosa</td>\n",
       "    </tr>\n",
       "    <tr>\n",
       "      <th>2</th>\n",
       "      <td>4.7</td>\n",
       "      <td>3.2</td>\n",
       "      <td>1.3</td>\n",
       "      <td>0.2</td>\n",
       "      <td>setosa</td>\n",
       "    </tr>\n",
       "    <tr>\n",
       "      <th>3</th>\n",
       "      <td>4.6</td>\n",
       "      <td>3.1</td>\n",
       "      <td>1.5</td>\n",
       "      <td>0.2</td>\n",
       "      <td>setosa</td>\n",
       "    </tr>\n",
       "    <tr>\n",
       "      <th>4</th>\n",
       "      <td>5.0</td>\n",
       "      <td>3.6</td>\n",
       "      <td>1.4</td>\n",
       "      <td>0.2</td>\n",
       "      <td>setosa</td>\n",
       "    </tr>\n",
       "  </tbody>\n",
       "</table>\n",
       "</div>"
      ],
      "text/plain": [
       "   sepal length (cm)  sepal width (cm)  petal length (cm)  petal width (cm)  \\\n",
       "0                5.1               3.5                1.4               0.2   \n",
       "1                4.9               3.0                1.4               0.2   \n",
       "2                4.7               3.2                1.3               0.2   \n",
       "3                4.6               3.1                1.5               0.2   \n",
       "4                5.0               3.6                1.4               0.2   \n",
       "\n",
       "  species  \n",
       "0  setosa  \n",
       "1  setosa  \n",
       "2  setosa  \n",
       "3  setosa  \n",
       "4  setosa  "
      ]
     },
     "execution_count": 1,
     "metadata": {},
     "output_type": "execute_result"
    }
   ],
   "source": [
    "from sklearn.datasets import load_iris\n",
    "import pandas as pd\n",
    "import matplotlib.pyplot as plt\n",
    "\n",
    "iris = load_iris()\n",
    "iris_df = pd.DataFrame(data=iris.data, columns=iris.feature_names)\n",
    "target_df = pd.DataFrame(data=iris.target, columns=['species'])\n",
    "\n",
    "# 0, 1, 2로 되어 있는 target 데이터를 알아보기 쉽게 'setosa', 'versicolor', 'virginica'로 바꾼다. \n",
    "def converter(species):\n",
    "    if species == 0:\n",
    "        return 'setosa'\n",
    "    elif species == 1:\n",
    "        return 'versicolor'\n",
    "    else:\n",
    "        return 'virginica'\n",
    "    \n",
    "target_df['species'] = target_df['species'].apply(converter)\n",
    "\n",
    "iris_df = pd.concat([iris_df, target_df], axis=1)\n",
    "iris_df.head()"
   ]
  },
  {
   "cell_type": "code",
   "execution_count": 2,
   "id": "f5c68f01",
   "metadata": {},
   "outputs": [
    {
     "name": "stdout",
     "output_type": "stream",
     "text": [
      "[6.0, 5.1, 5.9, 5.6, 5.8, 6.6, 4.5, 6.3, 5.8, 6.1, 5.1, 5.3, 5.5, 5.0, 5.1, 5.3, 5.5, 6.7, 6.9, 5.0, 5.7, 4.9, 6.7, 4.9, 5.7, 6.0, 4.8, 4.9, 5.6, 5.8, 6.1, 6.4, 5.6, 5.1, 5.6, 6.1, 5.6, 5.5, 4.8, 5.4, 5.6, 5.1, 5.1, 5.9, 5.7, 5.2, 5.0, 5.2, 5.4, 5.1]\n",
      "[6.3, 5.8, 7.1, 6.3, 6.5, 7.6, 4.9, 7.3, 6.7, 7.2, 6.5, 6.4, 6.8, 5.7, 5.8, 6.4, 6.5, 7.7, 7.7, 6.0, 6.9, 5.6, 7.7, 6.3, 6.7, 7.2, 6.2, 6.1, 6.4, 7.2, 7.4, 7.9, 6.4, 6.3, 6.1, 7.7, 6.3, 6.4, 6.0, 6.9, 6.7, 6.9, 5.8, 6.8, 6.7, 6.7, 6.3, 6.5, 6.2, 5.9]\n"
     ]
    }
   ],
   "source": [
    "# virginica라는 종의 petal length(꽃잎 길이)를 X, sepal length(꽃받침 길이)를 Y로 두고 print\n",
    "X = [iris_df['petal length (cm)'][a] for a in iris_df.index if iris_df['species'][a] == 'virginica']\n",
    "Y = [iris_df['sepal length (cm)'][a] for a in iris_df.index if iris_df['species'][a] == 'virginica']\n",
    "\n",
    "print(X)\n",
    "print(Y)"
   ]
  },
  {
   "cell_type": "code",
   "execution_count": 3,
   "id": "56cd6379",
   "metadata": {},
   "outputs": [
    {
     "data": {
      "image/png": "[encoded data removed]",
      "text/plain": [
       "<Figure size 360x360 with 1 Axes>"
      ]
     },
     "metadata": {
      "needs_background": "light"
     },
     "output_type": "display_data"
    }
   ],
   "source": [
    "# 산점도로 시각화. 아직 Normalization을 하지 않았기에 x축과 y축은 각각의 최소값과 최대값의 범위로 그려진다. \n",
    "plt.figure(figsize=(5, 5))\n",
    "plt.scatter(X, Y)\n",
    "plt.title('petal-sepal scatter before normalization')\n",
    "plt.xlabel('petal length (cm)')\n",
    "plt.ylabel('sepal length (cm)')\n",
    "plt.grid()\n",
    "plt.show()"
   ]
  },
  {
   "cell_type": "code",
   "execution_count": 4,
   "id": "ae837dcd",
   "metadata": {},
   "outputs": [
    {
     "data": {
      "image/png": "[encoded data removed]",
      "text/plain": [
       "<Figure size 360x360 with 1 Axes>"
      ]
     },
     "metadata": {
      "needs_background": "light"
     },
     "output_type": "display_data"
    }
   ],
   "source": [
    "# 0~1로 normalization 해주는 minmax_scale을 이용해 산점도 시각화\n",
    "from sklearn.preprocessing import minmax_scale\n",
    "\n",
    "X_scale = minmax_scale(X)\n",
    "Y_scale = minmax_scale(Y)\n",
    "\n",
    "plt.figure(figsize=(5, 5))\n",
    "plt.scatter(X_scale, Y_scale)\n",
    "plt.title('petal-sepal scatter after normalization')\n",
    "plt.xlabel('petal length (cm)')\n",
    "plt.ylabel('sepal length (cm)')\n",
    "plt.grid()\n",
    "plt.show()"
   ]
  },
  {
   "cell_type": "markdown",
   "id": "a65e554a",
   "metadata": {},
   "source": [
    "- 결과를 비교해보면, 0\\~1로 축 범위가 바뀜을 확인할 수 있다.\n",
    "- 데이터의 상대적인 분포는 그대로지만, 피처의 스케일이 변환되었기에 X, Y의 관계를 다루기 용이해졌다. "
   ]
  },
  {
   "cell_type": "code",
   "execution_count": 5,
   "id": "b6d57cb8",
   "metadata": {},
   "outputs": [
    {
     "name": "stdout",
     "output_type": "stream",
     "text": [
      "기울기 : 1.00, 절편 : 1.06\n"
     ]
    }
   ],
   "source": [
    "from sklearn.linear_model import LinearRegression\n",
    "import numpy as np\n",
    "\n",
    "X = np.array(X)\n",
    "Y = np.array(Y)\n",
    "\n",
    "# Iris Dataset을 Linear Regression으로 학습\n",
    "linear = LinearRegression()\n",
    "linear.fit(X.reshape(-1, 1), Y)\n",
    "\n",
    "# Linear Regression의 기울기와 절편을 확인\n",
    "a, b = linear.coef_, linear.intercept_\n",
    "print(\"기울기 : %0.2f, 절편 : %0.2f\" % (a, b))"
   ]
  },
  {
   "cell_type": "code",
   "execution_count": 6,
   "id": "9561cd31",
   "metadata": {},
   "outputs": [
    {
     "data": {
      "image/png": "[encoded data removed]",
      "text/plain": [
       "<Figure size 360x360 with 1 Axes>"
      ]
     },
     "metadata": {
      "needs_background": "light"
     },
     "output_type": "display_data"
    }
   ],
   "source": [
    "# Linear Regression으로 구한 기울기와 절편으로 일차함수를 만들어 산점도와 함께 시각화\n",
    "plt.figure(figsize=(5, 5))\n",
    "plt.scatter(X, Y)\n",
    "plt.plot(X, linear.predict(X.reshape(-1, 1)), '-b')\n",
    "plt.title('petal-sepal scatter with linear regression')\n",
    "plt.xlabel('petal length (cm)')\n",
    "plt.ylabel('sepal length (cm)')\n",
    "plt.grid()\n",
    "plt.show()"
   ]
  },
  {
   "cell_type": "code",
   "execution_count": 7,
   "id": "ca2fabfd",
   "metadata": {},
   "outputs": [
    {
     "name": "stdout",
     "output_type": "stream",
     "text": [
      "기울기 : 0.00, 절편 : 6.59\n"
     ]
    },
    {
     "data": {
      "image/png": "[encoded data removed]",
      "text/plain": [
       "<Figure size 360x360 with 1 Axes>"
      ]
     },
     "metadata": {
      "needs_background": "light"
     },
     "output_type": "display_data"
    }
   ],
   "source": [
    "# L1 regularization인 Lasso로 Regression\n",
    "from sklearn.linear_model import Lasso\n",
    "\n",
    "L1 = Lasso()\n",
    "L1.fit(X.reshape(-1, 1), Y)\n",
    "a, b = L1.coef_, L1.intercept_\n",
    "print(\"기울기 : %0.2f, 절편 : %0.2f\" %(a,b))\n",
    "\n",
    "plt.figure(figsize=(5, 5))\n",
    "plt.scatter(X, Y)\n",
    "plt.plot(X, L1.predict(X.reshape(-1, 1)), '-b')\n",
    "plt.title('petal-sepal scatter with L1 regularization(Lasso)') \n",
    "plt.xlabel('petal length (cm)')\n",
    "plt.ylabel('sepal length (cm)')\n",
    "plt.grid()\n",
    "plt.show()"
   ]
  },
  {
   "cell_type": "markdown",
   "id": "24359f7c",
   "metadata": {},
   "source": [
    "- 기울기가 0으로 나왔다. `Lasso` 방법은 문제를 잘 풀어내지 못하는 것 같다. "
   ]
  },
  {
   "cell_type": "code",
   "execution_count": 8,
   "id": "36adf6b4",
   "metadata": {},
   "outputs": [
    {
     "name": "stdout",
     "output_type": "stream",
     "text": [
      "기울기 : 0.93, 절편 : 1.41\n"
     ]
    },
    {
     "data": {
      "image/png": "[encoded data removed]",
      "text/plain": [
       "<Figure size 360x360 with 1 Axes>"
      ]
     },
     "metadata": {
      "needs_background": "light"
     },
     "output_type": "display_data"
    }
   ],
   "source": [
    "# L2 regularization인 Ridge로 Regression\n",
    "from sklearn.linear_model import Ridge\n",
    "\n",
    "L2 = Ridge()\n",
    "L2.fit(X.reshape(-1, 1), Y)\n",
    "a, b = L2.coef_, L2.intercept_\n",
    "print(\"기울기 : %0.2f, 절편 : %0.2f\" %(a,b))\n",
    "\n",
    "plt.figure(figsize=(5,5))\n",
    "plt.scatter(X,Y)\n",
    "plt.plot(X,L2.predict(X.reshape(-1,1)),'-b')\n",
    "plt.title('petal-sepal scatter with L2 regularization(Ridge)') \n",
    "plt.xlabel('petal length (cm)')\n",
    "plt.ylabel('sepal length (cm)')\n",
    "plt.grid()\n",
    "plt.show()"
   ]
  },
  {
   "cell_type": "markdown",
   "id": "91d1c6e4",
   "metadata": {},
   "source": [
    "- Linear Regression이 L2 Norm과 관련이 있다. 따라서 L2 Regularization을 쓰는 `Ridge` 방법으로는 Linear Regression과 큰 차이가 없다. \n",
    "- 그렇다면 L1 Regularization을 쓰는 `Lasso`에서는 왜 답이 나오지 않았을까?"
   ]
  },
  {
   "cell_type": "markdown",
   "id": "6f078968",
   "metadata": {},
   "source": [
    "## L1 Regularization\n",
    ">Lp norm : norm은 벡터나 행렬, 함수 등의 거리를 나타내는 것으로 여기서는 벡터값만 다룰 예정이다.  \n",
    "\n",
    "$p = 1$이기 때문에 L1 Regularization이라고 부른다. 하지만 사이킷런이나 케라스, 텐서플로우 등의 패키지에서는 `Lasso`라는 이름을 더 자주 사용한다. \n",
    "- $p = 1$인 경우 X가 1차원 값인 선형회귀분석 같은 경우에는 L1 Regularization이 의미가 없다는 것을 말한다. \n",
    "- 따라서, **L1 Regularization을 사용할 때는 X가 2차원 이상인 여러 컬럼 값이 있는 데이터일 때 실제 효과를 볼 수 있다.**  "
   ]
  },
  {
   "cell_type": "code",
   "execution_count": 9,
   "id": "96c223fe",
   "metadata": {},
   "outputs": [],
   "source": [
    "# 컬럼 수가 많은 데이터에서의 L1 Regularization 비교\n",
    "from sklearn.datasets import load_wine\n",
    "\n",
    "wine = load_wine()\n",
    "wine_df = pd.DataFrame(data=wine.data, columns=wine.feature_names)\n",
    "target_df = pd.DataFrame(data=wine.target, columns=['Y'])"
   ]
  },
  {
   "cell_type": "code",
   "execution_count": 10,
   "id": "8bb87c3f",
   "metadata": {},
   "outputs": [
    {
     "name": "stdout",
     "output_type": "stream",
     "text": [
      "result of linear regression\n",
      "Mean Absolute Error: 0.25128973939722626\n",
      "Mean Squared Error: 0.1062458740952556\n",
      "Mean Root Squared Error: 0.32595379134971814\n",
      "\n",
      "\n",
      " coefficient linear regression\n",
      "[[-8.09017190e-02  4.34817880e-02 -1.18857931e-01  3.65705449e-02\n",
      "  -4.68014203e-04  1.41423581e-01 -4.54107854e-01 -5.13172664e-01\n",
      "   9.69318443e-02  5.34311136e-02 -1.27626604e-01 -2.91381844e-01\n",
      "  -5.72238959e-04]]\n"
     ]
    }
   ],
   "source": [
    "# 먼저 Linear Regerssion으로 문제를 풀고 그 계수와 절대 오차, 제곱 오차, 평균 제곱값 오차를 출력\n",
    "from sklearn.model_selection import train_test_split\n",
    "from sklearn.linear_model import LinearRegression\n",
    "from sklearn.metrics import mean_absolute_error, mean_squared_error\n",
    "\n",
    "X_train, X_test, y_train, y_test = train_test_split(wine_df, target_df, test_size=0.3, random_state=101)\n",
    "\n",
    "model = LinearRegression()\n",
    "model.fit(X_train, y_train)\n",
    "\n",
    "model.predict(X_test)\n",
    "pred = model.predict(X_test)\n",
    "\n",
    "print(\"result of linear regression\")\n",
    "print('Mean Absolute Error:', mean_absolute_error(y_test, pred))\n",
    "print('Mean Squared Error:', mean_squared_error(y_test, pred))\n",
    "print('Mean Root Squared Error:', np.sqrt(mean_squared_error(y_test, pred)))\n",
    "\n",
    "print(\"\\n\\n coefficient linear regression\")\n",
    "print(model.coef_)"
   ]
  },
  {
   "cell_type": "code",
   "execution_count": 11,
   "id": "2e1a755a",
   "metadata": {},
   "outputs": [
    {
     "name": "stdout",
     "output_type": "stream",
     "text": [
      "result of Lasso\n",
      "Mean Absolute Error: 0.24233731936122138\n",
      "Mean Squared Error: 0.0955956894578189\n",
      "Mean Root Squared Error: 0.3091855259513597\n",
      "\n",
      "\n",
      " coefficient of Lasso\n",
      "[-0.          0.01373795 -0.          0.03065716  0.00154719 -0.\n",
      " -0.34143614 -0.          0.          0.06755943 -0.         -0.14558153\n",
      " -0.00089635]\n"
     ]
    }
   ],
   "source": [
    "# L1 Regularization으로 문제 해결\n",
    "from sklearn.linear_model import Lasso\n",
    "from sklearn.metrics import mean_absolute_error, mean_squared_error\n",
    "\n",
    "L1 = Lasso(alpha = 0.05)\n",
    "L1.fit(X_train, y_train)\n",
    "\n",
    "pred = L1.predict(X_test)\n",
    "\n",
    "print(\"result of Lasso\")\n",
    "print('Mean Absolute Error:', mean_absolute_error(y_test, pred))\n",
    "print('Mean Squared Error:', mean_squared_error(y_test, pred))\n",
    "print('Mean Root Squared Error:', np.sqrt(mean_squared_error(y_test, pred)))\n",
    "\n",
    "print(\"\\n\\n coefficient of Lasso\")\n",
    "print(L1.coef_)"
   ]
  },
  {
   "cell_type": "markdown",
   "id": "7a0f2812",
   "metadata": {},
   "source": [
    "- coefficient 부분을 보면 Linear Regression과 L1 Regularization의 차이가 좀 더 두드러진다. \n",
    "- Linear Regression에서는 모든 컬럼의 가중치를 탐색하여 구하지만, L1 Regularization에서는 총 13개 중 7개를 제외한 나머지 값이 모두 0이다. \n",
    "- Error부분에서는 큰 차이가 없었지만, 어떤 컬럼이 결과에 영향을 더 크게 미치는지 확실히 확인할 수 있다. 이러한 경우 다른 문제에서도 error의 차이가 크게 나지 않는다면, 차원 축소와 비슷한 개념으로 변수의 값을 7개만 남겨도 충분히 결과를 예측할 수 있다. \n",
    "- 다만 Linear Regression과 L1, L2 Regularization의 차이 중 하나는 alpha라는 하이퍼파라미터가 하나 더 들어가고, 그 값에 따라 error에 영향을 미친다. "
   ]
  },
  {
   "attachments": {
    "F-46-1.max-800x600.png": {
     "image/png": "[encoded data removed]"
    }
   },
   "cell_type": "markdown",
   "id": "047ef5a7",
   "metadata": {},
   "source": [
    "## L2 Regularization\n",
    "![F-46-1.max-800x600.png](attachment:F-46-1.max-800x600.png)  \n",
    "[https://en.wikipedia.org/wiki/Lasso_(statistics)]"
   ]
  },
  {
   "cell_type": "markdown",
   "id": "4a1672ca",
   "metadata": {},
   "source": [
    "- Lasso는 마름모 형태의 제약조건이 생긴다. Lasso에서는 몇 개의 축에서 beta값을 0으로 보낸다. 앞에서 coefficient를 비교하면서 확인해보았다. \n",
    "- Ridge는 beta 제곱이므로 원의 형태로 나타난다. 그러므로 0에 가지는 않고 0에 가갑게 감을 확인할 수 있다. 또한 제곱이 있기 때문에 절댓값으로 L1 Norm을 쓰는 Lasso보다는 수렴이 빠르다는 장점이 있다. 이전의 같은 문제에서 iteration을 제약조건으로 주고 실험해보자. "
   ]
  },
  {
   "cell_type": "code",
   "execution_count": 12,
   "id": "75eaa667",
   "metadata": {},
   "outputs": [],
   "source": [
    "from sklearn.datasets import load_wine\n",
    "import pandas as pd\n",
    "import numpy as np\n",
    "from sklearn.model_selection import train_test_split\n",
    "from sklearn.metrics import mean_absolute_error, mean_squared_error\n",
    "\n",
    "wine = load_wine()\n",
    "wine_df = pd.DataFrame(data=wine.data, columns=wine.feature_names)\n",
    "target_df = pd.DataFrame(data=wine.target, columns=['Y'])\n",
    "X_train, X_test, y_train, y_test = train_test_split(wine_df, target_df, test_size= 0.3, random_state=101)"
   ]
  },
  {
   "cell_type": "code",
   "execution_count": 13,
   "id": "9e4b73eb",
   "metadata": {},
   "outputs": [
    {
     "name": "stdout",
     "output_type": "stream",
     "text": [
      "result of Lasso\n",
      "Mean Absolute Error: 0.24845768841769436\n",
      "Mean Squared Error: 0.10262989110341268\n",
      "Mean Root Squared Error: 0.32035900346862844\n",
      "\n",
      "\n",
      " coefficient of Lasso\n",
      "[-0.          0.         -0.          0.03295564  0.00109495  0.\n",
      " -0.4027847   0.          0.          0.06023131 -0.         -0.12001119\n",
      " -0.00078971]\n"
     ]
    },
    {
     "name": "stderr",
     "output_type": "stream",
     "text": [
      "/opt/conda/lib/python3.9/site-packages/sklearn/linear_model/_coordinate_descent.py:645: ConvergenceWarning: Objective did not converge. You might want to increase the number of iterations, check the scale of the features or consider increasing regularisation. Duality gap: 3.924e+00, tolerance: 7.480e-03\n",
      "  model = cd_fast.enet_coordinate_descent(\n"
     ]
    }
   ],
   "source": [
    "from sklearn.linear_model import Lasso\n",
    "\n",
    "L1 = Lasso(alpha=0.05, max_iter=5)\n",
    "L1.fit(X_train, y_train)\n",
    "pred = L1.predict(X_test)\n",
    "\n",
    "print(\"result of Lasso\")\n",
    "print('Mean Absolute Error:', mean_absolute_error(y_test, pred))\n",
    "print('Mean Squared Error:', mean_squared_error(y_test, pred))\n",
    "print('Mean Root Squared Error:', np.sqrt(mean_squared_error(y_test, pred)))\n",
    "\n",
    "print(\"\\n\\n coefficient of Lasso\")\n",
    "print(L1.coef_)"
   ]
  },
  {
   "cell_type": "code",
   "execution_count": 14,
   "id": "f85d0244",
   "metadata": {},
   "outputs": [
    {
     "name": "stdout",
     "output_type": "stream",
     "text": [
      "result of Ridge\n",
      "Mean Absolute Error: 0.251146695993643\n",
      "Mean Squared Error: 0.10568076460795564\n",
      "Mean Root Squared Error: 0.3250857803841251\n",
      "\n",
      "\n",
      " coefficient of Ridge\n",
      "[[-8.12456257e-02  4.35541496e-02 -1.21661565e-01  3.65979773e-02\n",
      "  -3.94014013e-04  1.39168707e-01 -4.50691113e-01 -4.87216747e-01\n",
      "   9.54111059e-02  5.37077039e-02 -1.28602933e-01 -2.89832790e-01\n",
      "  -5.73136185e-04]]\n"
     ]
    }
   ],
   "source": [
    "from sklearn.linear_model import Ridge\n",
    "\n",
    "L2 = Ridge(alpha=0.05,max_iter=5)\n",
    "L2.fit(X_train, y_train)\n",
    "pred = L2.predict(X_test)\n",
    "\n",
    "print(\"result of Ridge\")\n",
    "print('Mean Absolute Error:', mean_absolute_error(y_test, pred))\n",
    "print('Mean Squared Error:', mean_squared_error(y_test, pred))\n",
    "print('Mean Root Squared Error:', np.sqrt(mean_squared_error(y_test, pred)))\n",
    "\n",
    "print(\"\\n\\n coefficient of Ridge\")\n",
    "print(L2.coef_)"
   ]
  },
  {
   "cell_type": "markdown",
   "id": "bab2c6e5",
   "metadata": {},
   "source": [
    "- iteration 값이 5일 때, L2 Regularization의 문제는 Linear Regression과 같은 값이 나오지만, L1 Regularization에서는 앞 step과 같은 값을 확인할 수 없다. 심지어 아직 수렴하지 않았다는 경고도 나온다. \n",
    "- L1 Regularization은 가중치가 적은 벡터에 해당하는 계수를 0으로 보내면서 차원 축소와 비슷한 역할을 하는 것이 특징이고, L2 Regularization은 0이 아닌 0에 가깝게 보내지만 제곱 텀이 있어 수렴 속도가 빠르다는 장점이 있다. \n",
    "- 따라서 데이터에 따라 적절한 Regularization 방법을 활용하는 것이 좋다. "
   ]
  },
  {
   "cell_type": "markdown",
   "id": "823195b8",
   "metadata": {},
   "source": [
    "## Lp norm\n",
    "### vector norm"
   ]
  },
  {
   "cell_type": "code",
   "execution_count": 15,
   "id": "14c5e1a0",
   "metadata": {},
   "outputs": [
    {
     "name": "stdout",
     "output_type": "stream",
     "text": [
      "result of numpy package norm function : 10.00008 \n",
      "result of making norm : 10.00008 \n"
     ]
    }
   ],
   "source": [
    "x = np.array([1, 10, 1, 1, 1])\n",
    "p = 5\n",
    "norm_x = np.linalg.norm(x, ord=p)\n",
    "making_norm = (sum(x**p))**(1/p)\n",
    "print(\"result of numpy package norm function : %0.5f \" % norm_x)\n",
    "print(\"result of making norm : %0.5f \" % making_norm)"
   ]
  },
  {
   "cell_type": "code",
   "execution_count": 16,
   "id": "2c7af424",
   "metadata": {},
   "outputs": [
    {
     "name": "stdout",
     "output_type": "stream",
     "text": [
      "result of infinite norm : 10.00000 \n"
     ]
    }
   ],
   "source": [
    "# p가 무한대인 infinity norm의 경우 가장 큰 숫자를 출력\n",
    "norm_x = np.linalg.norm(x, ord=np.inf)\n",
    "print(\"result of infinite norm : %0.5f \" % norm_x)"
   ]
  },
  {
   "cell_type": "markdown",
   "id": "e4d0314b",
   "metadata": {},
   "source": [
    "### matrix norm\n",
    "- 행렬의 norm의 경우는 벡터와 조금 다르며, 주로 p = 1이거나 무한대인 경우만 알면 된다. \n",
    "- p = 1인 경우에는 컬럼의 합이 가장 큰 값이 출력되고, p가 무한대인 경우 로우의 합이 가장 큰 값이 출력된다. "
   ]
  },
  {
   "cell_type": "code",
   "execution_count": 17,
   "id": "ee37cb63",
   "metadata": {},
   "outputs": [
    {
     "name": "stdout",
     "output_type": "stream",
     "text": [
      "result inf norm of A :  18.0\n",
      "result one norm of A :  14.0\n"
     ]
    }
   ],
   "source": [
    "A = np.array([[1, 2, 3], [1, 2, 3], [4, 6, 8]])\n",
    "inf_norm_A = np.linalg.norm(A, ord=np.inf)\n",
    "print(\"result inf norm of A : \", inf_norm_A)\n",
    "one_norm_A = np.linalg.norm(A, ord=1)\n",
    "print(\"result one norm of A : \", one_norm_A)"
   ]
  },
  {
   "cell_type": "markdown",
   "id": "e19a83ce",
   "metadata": {},
   "source": [
    "## Dropout\n",
    "- 드롭아웃 기법이 나오기 전의 신경망은 fully connected architecture로 모든 뉴런들이 연결되어 있었다. \n",
    "- 그러나 드롭아웃이 나오면서 확률적으로 랜덤하게 몇 가지의 뉴럴만 선택하여 정보를 전달하는 과정이다. \n",
    "- 드롭아웃은 오버피팅을 막는 Regularization layer 중 하나다. 확률을 너무 높이면, 제대로 전달되지 않으므로 학습이 잘 되지 않고, 확률을 너무 낮추는 경우에는 fully connected layer와 같다. "
   ]
  },
  {
   "cell_type": "code",
   "execution_count": 18,
   "id": "7000c293",
   "metadata": {},
   "outputs": [],
   "source": [
    "import tensorflow as tf\n",
    "from tensorflow import keras\n",
    "import numpy as np\n",
    "import matplotlib.pyplot as plt\n",
    "from sklearn.model_selection import train_test_split\n",
    "\n",
    "fashion_mnist = keras.datasets.fashion_mnist"
   ]
  },
  {
   "cell_type": "code",
   "execution_count": 19,
   "id": "dcaf8754",
   "metadata": {},
   "outputs": [],
   "source": [
    "(train_images, train_labels), (test_images, test_labels) = fashion_mnist.load_data()\n",
    "class_names = ['T-shirt/top', 'Trouser', 'Pullover', 'Dress', 'Coat', 'Sandal', 'Shirt', 'Sneaker', 'Bag', 'Ankle boot']\n",
    "\n",
    "train_images = train_images / 255.0\n",
    "test_images = test_images / 255.0"
   ]
  },
  {
   "cell_type": "code",
   "execution_count": 20,
   "id": "7555d9ae",
   "metadata": {},
   "outputs": [
    {
     "name": "stdout",
     "output_type": "stream",
     "text": [
      "Epoch 1/5\n",
      "1875/1875 [==============================] - 4s 2ms/step - loss: 1.3644 - accuracy: 0.4701\n",
      "Epoch 2/5\n",
      "1875/1875 [==============================] - 3s 2ms/step - loss: 1.1367 - accuracy: 0.5444\n",
      "Epoch 3/5\n",
      "1875/1875 [==============================] - 3s 2ms/step - loss: 1.0792 - accuracy: 0.5681\n",
      "Epoch 4/5\n",
      "1875/1875 [==============================] - 3s 2ms/step - loss: 1.0549 - accuracy: 0.5738\n",
      "Epoch 5/5\n",
      "1875/1875 [==============================] - 3s 2ms/step - loss: 1.0318 - accuracy: 0.5875\n"
     ]
    }
   ],
   "source": [
    "# dropout의 확률을 0.9로 설정\n",
    "model = keras.Sequential([\n",
    "    keras.layers.Flatten(input_shape=(28, 28)),\n",
    "    keras.layers.Dense(128, activation='relu'),\n",
    "    keras.layers.Dropout(0.9),\n",
    "    keras.layers.Dense(10, activation='softmax')\n",
    "])\n",
    "\n",
    "model.compile(optimizer='adam', loss='sparse_categorical_crossentropy',\n",
    "             metrics=['accuracy'])\n",
    "\n",
    "history = model.fit(train_images, train_labels, epochs=5)"
   ]
  },
  {
   "cell_type": "code",
   "execution_count": 21,
   "id": "a6405e8e",
   "metadata": {},
   "outputs": [
    {
     "name": "stdout",
     "output_type": "stream",
     "text": [
      "Epoch 1/5\n",
      "1875/1875 [==============================] - 3s 2ms/step - loss: 0.4943 - accuracy: 0.8270\n",
      "Epoch 2/5\n",
      "1875/1875 [==============================] - 3s 2ms/step - loss: 0.3740 - accuracy: 0.8637\n",
      "Epoch 3/5\n",
      "1875/1875 [==============================] - 3s 2ms/step - loss: 0.3377 - accuracy: 0.8776\n",
      "Epoch 4/5\n",
      "1875/1875 [==============================] - 3s 2ms/step - loss: 0.3148 - accuracy: 0.8842\n",
      "Epoch 5/5\n",
      "1875/1875 [==============================] - 3s 2ms/step - loss: 0.2965 - accuracy: 0.8902\n"
     ]
    }
   ],
   "source": [
    "# dropout이 없을 때 실습을 하면, 5 epoch만으로도 충분히 높은 정확도를 볼 수 있다. \n",
    "model = keras.Sequential([\n",
    "    keras.layers.Flatten(input_shape=(28, 28)),\n",
    "    # 이번에는 dropout layer가 없습니다. \n",
    "    keras.layers.Dense(128, activation='relu'),\n",
    "    keras.layers.Dense(10, activation='softmax')\n",
    "])\n",
    "\n",
    "model.compile(optimizer='adam',loss='sparse_categorical_crossentropy',\n",
    "              metrics=['accuracy'])\n",
    "\n",
    "history = model.fit(train_images, train_labels, epochs=5)"
   ]
  },
  {
   "cell_type": "code",
   "execution_count": 22,
   "id": "84fe5e38",
   "metadata": {},
   "outputs": [
    {
     "name": "stdout",
     "output_type": "stream",
     "text": [
      "Epoch 1/200\n",
      "117/117 [==============================] - 1s 4ms/step - loss: 2.0526 - accuracy: 0.5089 - val_loss: 1.6534 - val_accuracy: 0.6117\n",
      "Epoch 2/200\n",
      "117/117 [==============================] - 0s 3ms/step - loss: 1.4139 - accuracy: 0.6219 - val_loss: 1.1929 - val_accuracy: 0.6633\n",
      "Epoch 3/200\n",
      "117/117 [==============================] - 0s 3ms/step - loss: 1.0889 - accuracy: 0.6747 - val_loss: 0.9687 - val_accuracy: 0.7267\n",
      "Epoch 4/200\n",
      "117/117 [==============================] - 0s 3ms/step - loss: 0.9072 - accuracy: 0.7147 - val_loss: 0.8248 - val_accuracy: 0.7633\n",
      "Epoch 5/200\n",
      "117/117 [==============================] - 0s 3ms/step - loss: 0.7978 - accuracy: 0.7342 - val_loss: 0.7452 - val_accuracy: 0.7700\n",
      "Epoch 6/200\n",
      "117/117 [==============================] - 0s 3ms/step - loss: 0.7299 - accuracy: 0.7463 - val_loss: 0.6928 - val_accuracy: 0.7833\n",
      "Epoch 7/200\n",
      "117/117 [==============================] - 0s 3ms/step - loss: 0.6846 - accuracy: 0.7571 - val_loss: 0.6563 - val_accuracy: 0.7800\n",
      "Epoch 8/200\n",
      "117/117 [==============================] - 0s 3ms/step - loss: 0.6523 - accuracy: 0.7658 - val_loss: 0.6306 - val_accuracy: 0.7833\n",
      "Epoch 9/200\n",
      "117/117 [==============================] - 0s 3ms/step - loss: 0.6266 - accuracy: 0.7747 - val_loss: 0.6046 - val_accuracy: 0.7850\n",
      "Epoch 10/200\n",
      "117/117 [==============================] - 0s 3ms/step - loss: 0.6039 - accuracy: 0.7835 - val_loss: 0.5868 - val_accuracy: 0.7900\n",
      "Epoch 11/200\n",
      "117/117 [==============================] - 0s 3ms/step - loss: 0.5855 - accuracy: 0.7908 - val_loss: 0.5723 - val_accuracy: 0.7900\n",
      "Epoch 12/200\n",
      "117/117 [==============================] - 0s 3ms/step - loss: 0.5701 - accuracy: 0.7967 - val_loss: 0.5580 - val_accuracy: 0.7950\n",
      "Epoch 13/200\n",
      "117/117 [==============================] - 0s 3ms/step - loss: 0.5558 - accuracy: 0.8030 - val_loss: 0.5483 - val_accuracy: 0.7983\n",
      "Epoch 14/200\n",
      "117/117 [==============================] - 0s 2ms/step - loss: 0.5429 - accuracy: 0.8093 - val_loss: 0.5383 - val_accuracy: 0.8000\n",
      "Epoch 15/200\n",
      "117/117 [==============================] - 0s 3ms/step - loss: 0.5322 - accuracy: 0.8130 - val_loss: 0.5297 - val_accuracy: 0.8033\n",
      "Epoch 16/200\n",
      "117/117 [==============================] - 0s 3ms/step - loss: 0.5222 - accuracy: 0.8167 - val_loss: 0.5185 - val_accuracy: 0.8067\n",
      "Epoch 17/200\n",
      "117/117 [==============================] - 0s 3ms/step - loss: 0.5135 - accuracy: 0.8201 - val_loss: 0.5116 - val_accuracy: 0.8100\n",
      "Epoch 18/200\n",
      "117/117 [==============================] - 0s 3ms/step - loss: 0.5057 - accuracy: 0.8220 - val_loss: 0.5057 - val_accuracy: 0.8133\n",
      "Epoch 19/200\n",
      "117/117 [==============================] - 0s 3ms/step - loss: 0.4987 - accuracy: 0.8243 - val_loss: 0.5028 - val_accuracy: 0.8083\n",
      "Epoch 20/200\n",
      "117/117 [==============================] - 0s 3ms/step - loss: 0.4930 - accuracy: 0.8272 - val_loss: 0.4941 - val_accuracy: 0.8167\n",
      "Epoch 21/200\n",
      "117/117 [==============================] - 0s 2ms/step - loss: 0.4859 - accuracy: 0.8303 - val_loss: 0.4857 - val_accuracy: 0.8200\n",
      "Epoch 22/200\n",
      "117/117 [==============================] - 0s 3ms/step - loss: 0.4805 - accuracy: 0.8321 - val_loss: 0.4824 - val_accuracy: 0.8267\n",
      "Epoch 23/200\n",
      "117/117 [==============================] - 0s 3ms/step - loss: 0.4753 - accuracy: 0.8336 - val_loss: 0.4787 - val_accuracy: 0.8217\n",
      "Epoch 24/200\n",
      "117/117 [==============================] - 0s 3ms/step - loss: 0.4718 - accuracy: 0.8339 - val_loss: 0.4730 - val_accuracy: 0.8267\n",
      "Epoch 25/200\n",
      "117/117 [==============================] - 0s 3ms/step - loss: 0.4675 - accuracy: 0.8355 - val_loss: 0.4676 - val_accuracy: 0.8267\n",
      "Epoch 26/200\n",
      "117/117 [==============================] - 0s 2ms/step - loss: 0.4625 - accuracy: 0.8385 - val_loss: 0.4643 - val_accuracy: 0.8267\n",
      "Epoch 27/200\n",
      "117/117 [==============================] - 0s 3ms/step - loss: 0.4604 - accuracy: 0.8384 - val_loss: 0.4611 - val_accuracy: 0.8300\n",
      "Epoch 28/200\n",
      "117/117 [==============================] - 0s 2ms/step - loss: 0.4553 - accuracy: 0.8399 - val_loss: 0.4587 - val_accuracy: 0.8283\n",
      "Epoch 29/200\n",
      "117/117 [==============================] - 0s 2ms/step - loss: 0.4521 - accuracy: 0.8427 - val_loss: 0.4551 - val_accuracy: 0.8317\n",
      "Epoch 30/200\n",
      "117/117 [==============================] - 0s 3ms/step - loss: 0.4491 - accuracy: 0.8430 - val_loss: 0.4516 - val_accuracy: 0.8350\n",
      "Epoch 31/200\n",
      "117/117 [==============================] - 0s 3ms/step - loss: 0.4453 - accuracy: 0.8437 - val_loss: 0.4498 - val_accuracy: 0.8317\n",
      "Epoch 32/200\n",
      "117/117 [==============================] - 0s 2ms/step - loss: 0.4442 - accuracy: 0.8439 - val_loss: 0.4488 - val_accuracy: 0.8317\n",
      "Epoch 33/200\n",
      "117/117 [==============================] - 0s 2ms/step - loss: 0.4407 - accuracy: 0.8450 - val_loss: 0.4484 - val_accuracy: 0.8350\n",
      "Epoch 34/200\n",
      "117/117 [==============================] - 0s 3ms/step - loss: 0.4387 - accuracy: 0.8463 - val_loss: 0.4441 - val_accuracy: 0.8317\n",
      "Epoch 35/200\n",
      "117/117 [==============================] - 0s 3ms/step - loss: 0.4352 - accuracy: 0.8472 - val_loss: 0.4400 - val_accuracy: 0.8317\n",
      "Epoch 36/200\n",
      "117/117 [==============================] - 0s 3ms/step - loss: 0.4328 - accuracy: 0.8477 - val_loss: 0.4368 - val_accuracy: 0.8367\n",
      "Epoch 37/200\n",
      "117/117 [==============================] - 0s 3ms/step - loss: 0.4309 - accuracy: 0.8487 - val_loss: 0.4333 - val_accuracy: 0.8367\n",
      "Epoch 38/200\n",
      "117/117 [==============================] - 0s 3ms/step - loss: 0.4285 - accuracy: 0.8499 - val_loss: 0.4309 - val_accuracy: 0.8367\n",
      "Epoch 39/200\n",
      "117/117 [==============================] - 0s 3ms/step - loss: 0.4268 - accuracy: 0.8508 - val_loss: 0.4303 - val_accuracy: 0.8400\n",
      "Epoch 40/200\n",
      "117/117 [==============================] - 0s 2ms/step - loss: 0.4241 - accuracy: 0.8515 - val_loss: 0.4271 - val_accuracy: 0.8383\n",
      "Epoch 41/200\n",
      "117/117 [==============================] - 0s 3ms/step - loss: 0.4218 - accuracy: 0.8525 - val_loss: 0.4264 - val_accuracy: 0.8350\n",
      "Epoch 42/200\n",
      "117/117 [==============================] - 0s 3ms/step - loss: 0.4204 - accuracy: 0.8519 - val_loss: 0.4231 - val_accuracy: 0.8400\n",
      "Epoch 43/200\n",
      "117/117 [==============================] - 0s 3ms/step - loss: 0.4190 - accuracy: 0.8534 - val_loss: 0.4232 - val_accuracy: 0.8367\n",
      "Epoch 44/200\n",
      "117/117 [==============================] - 0s 2ms/step - loss: 0.4161 - accuracy: 0.8549 - val_loss: 0.4270 - val_accuracy: 0.8433\n",
      "Epoch 45/200\n",
      "117/117 [==============================] - 0s 3ms/step - loss: 0.4171 - accuracy: 0.8535 - val_loss: 0.4207 - val_accuracy: 0.8317\n",
      "Epoch 46/200\n",
      "117/117 [==============================] - 0s 3ms/step - loss: 0.4134 - accuracy: 0.8549 - val_loss: 0.4191 - val_accuracy: 0.8367\n",
      "Epoch 47/200\n",
      "117/117 [==============================] - 0s 3ms/step - loss: 0.4113 - accuracy: 0.8552 - val_loss: 0.4151 - val_accuracy: 0.8367\n",
      "Epoch 48/200\n",
      "117/117 [==============================] - 0s 3ms/step - loss: 0.4107 - accuracy: 0.8560 - val_loss: 0.4120 - val_accuracy: 0.8400\n",
      "Epoch 49/200\n",
      "117/117 [==============================] - 0s 3ms/step - loss: 0.4082 - accuracy: 0.8575 - val_loss: 0.4106 - val_accuracy: 0.8383\n",
      "Epoch 50/200\n",
      "117/117 [==============================] - 0s 3ms/step - loss: 0.4072 - accuracy: 0.8564 - val_loss: 0.4141 - val_accuracy: 0.8317\n",
      "Epoch 51/200\n",
      "117/117 [==============================] - 0s 3ms/step - loss: 0.4068 - accuracy: 0.8568 - val_loss: 0.4071 - val_accuracy: 0.8400\n",
      "Epoch 52/200\n",
      "117/117 [==============================] - 0s 3ms/step - loss: 0.4038 - accuracy: 0.8588 - val_loss: 0.4102 - val_accuracy: 0.8367\n",
      "Epoch 53/200\n",
      "117/117 [==============================] - 0s 3ms/step - loss: 0.4021 - accuracy: 0.8590 - val_loss: 0.4059 - val_accuracy: 0.8383\n",
      "Epoch 54/200\n",
      "117/117 [==============================] - 0s 2ms/step - loss: 0.4009 - accuracy: 0.8603 - val_loss: 0.4038 - val_accuracy: 0.8367\n",
      "Epoch 55/200\n",
      "117/117 [==============================] - 0s 2ms/step - loss: 0.3991 - accuracy: 0.8598 - val_loss: 0.4048 - val_accuracy: 0.8400\n",
      "Epoch 56/200\n",
      "117/117 [==============================] - 0s 2ms/step - loss: 0.3984 - accuracy: 0.8597 - val_loss: 0.4003 - val_accuracy: 0.8417\n",
      "Epoch 57/200\n",
      "117/117 [==============================] - 0s 2ms/step - loss: 0.3971 - accuracy: 0.8611 - val_loss: 0.4029 - val_accuracy: 0.8317\n",
      "Epoch 58/200\n",
      "117/117 [==============================] - 0s 2ms/step - loss: 0.3955 - accuracy: 0.8609 - val_loss: 0.4005 - val_accuracy: 0.8383\n",
      "Epoch 59/200\n",
      "117/117 [==============================] - 0s 3ms/step - loss: 0.3940 - accuracy: 0.8618 - val_loss: 0.4016 - val_accuracy: 0.8383\n",
      "Epoch 60/200\n",
      "117/117 [==============================] - 0s 3ms/step - loss: 0.3943 - accuracy: 0.8616 - val_loss: 0.3970 - val_accuracy: 0.8367\n",
      "Epoch 61/200\n",
      "117/117 [==============================] - 0s 3ms/step - loss: 0.3915 - accuracy: 0.8628 - val_loss: 0.3965 - val_accuracy: 0.8383\n",
      "Epoch 62/200\n",
      "117/117 [==============================] - 0s 3ms/step - loss: 0.3910 - accuracy: 0.8628 - val_loss: 0.3974 - val_accuracy: 0.8400\n",
      "Epoch 63/200\n",
      "117/117 [==============================] - 0s 3ms/step - loss: 0.3891 - accuracy: 0.8637 - val_loss: 0.3986 - val_accuracy: 0.8383\n",
      "Epoch 64/200\n",
      "117/117 [==============================] - 0s 3ms/step - loss: 0.3885 - accuracy: 0.8633 - val_loss: 0.3967 - val_accuracy: 0.8383\n",
      "Epoch 65/200\n",
      "117/117 [==============================] - 0s 3ms/step - loss: 0.3873 - accuracy: 0.8640 - val_loss: 0.3971 - val_accuracy: 0.8433\n",
      "Epoch 66/200\n",
      "117/117 [==============================] - 0s 3ms/step - loss: 0.3860 - accuracy: 0.8652 - val_loss: 0.3925 - val_accuracy: 0.8383\n",
      "Epoch 67/200\n",
      "117/117 [==============================] - 0s 3ms/step - loss: 0.3842 - accuracy: 0.8654 - val_loss: 0.3924 - val_accuracy: 0.8417\n",
      "Epoch 68/200\n",
      "117/117 [==============================] - 0s 3ms/step - loss: 0.3835 - accuracy: 0.8659 - val_loss: 0.3913 - val_accuracy: 0.8467\n",
      "Epoch 69/200\n",
      "117/117 [==============================] - 0s 3ms/step - loss: 0.3823 - accuracy: 0.8659 - val_loss: 0.3919 - val_accuracy: 0.8367\n",
      "Epoch 70/200\n",
      "117/117 [==============================] - 0s 2ms/step - loss: 0.3812 - accuracy: 0.8659 - val_loss: 0.3942 - val_accuracy: 0.8383\n",
      "Epoch 71/200\n",
      "117/117 [==============================] - 0s 3ms/step - loss: 0.3803 - accuracy: 0.8657 - val_loss: 0.3879 - val_accuracy: 0.8400\n",
      "Epoch 72/200\n",
      "117/117 [==============================] - 0s 3ms/step - loss: 0.3798 - accuracy: 0.8666 - val_loss: 0.3862 - val_accuracy: 0.8350\n",
      "Epoch 73/200\n",
      "117/117 [==============================] - 0s 3ms/step - loss: 0.3777 - accuracy: 0.8675 - val_loss: 0.3850 - val_accuracy: 0.8433\n",
      "Epoch 74/200\n",
      "117/117 [==============================] - 0s 2ms/step - loss: 0.3772 - accuracy: 0.8670 - val_loss: 0.3875 - val_accuracy: 0.8400\n",
      "Epoch 75/200\n",
      "117/117 [==============================] - 0s 3ms/step - loss: 0.3766 - accuracy: 0.8680 - val_loss: 0.3854 - val_accuracy: 0.8433\n",
      "Epoch 76/200\n",
      "117/117 [==============================] - 0s 3ms/step - loss: 0.3762 - accuracy: 0.8683 - val_loss: 0.3763 - val_accuracy: 0.8533\n",
      "Epoch 77/200\n",
      "117/117 [==============================] - 0s 3ms/step - loss: 0.3746 - accuracy: 0.8690 - val_loss: 0.3806 - val_accuracy: 0.8433\n",
      "Epoch 78/200\n",
      "117/117 [==============================] - 0s 3ms/step - loss: 0.3731 - accuracy: 0.8692 - val_loss: 0.3770 - val_accuracy: 0.8400\n",
      "Epoch 79/200\n",
      "117/117 [==============================] - 0s 3ms/step - loss: 0.3728 - accuracy: 0.8694 - val_loss: 0.3841 - val_accuracy: 0.8467\n",
      "Epoch 80/200\n",
      "117/117 [==============================] - 0s 3ms/step - loss: 0.3719 - accuracy: 0.8691 - val_loss: 0.3840 - val_accuracy: 0.8483\n",
      "Epoch 81/200\n",
      "117/117 [==============================] - 0s 3ms/step - loss: 0.3708 - accuracy: 0.8704 - val_loss: 0.3801 - val_accuracy: 0.8400\n",
      "Epoch 82/200\n",
      "117/117 [==============================] - 0s 3ms/step - loss: 0.3695 - accuracy: 0.8702 - val_loss: 0.3794 - val_accuracy: 0.8450\n",
      "Epoch 83/200\n",
      "117/117 [==============================] - 0s 2ms/step - loss: 0.3683 - accuracy: 0.8712 - val_loss: 0.3769 - val_accuracy: 0.8433\n",
      "Epoch 84/200\n",
      "117/117 [==============================] - 0s 3ms/step - loss: 0.3674 - accuracy: 0.8715 - val_loss: 0.3738 - val_accuracy: 0.8433\n",
      "Epoch 85/200\n",
      "117/117 [==============================] - 0s 3ms/step - loss: 0.3670 - accuracy: 0.8710 - val_loss: 0.3770 - val_accuracy: 0.8467\n",
      "Epoch 86/200\n",
      "117/117 [==============================] - 0s 3ms/step - loss: 0.3654 - accuracy: 0.8720 - val_loss: 0.3739 - val_accuracy: 0.8500\n",
      "Epoch 87/200\n",
      "117/117 [==============================] - 0s 3ms/step - loss: 0.3648 - accuracy: 0.8714 - val_loss: 0.3744 - val_accuracy: 0.8500\n",
      "Epoch 88/200\n",
      "117/117 [==============================] - 0s 3ms/step - loss: 0.3641 - accuracy: 0.8725 - val_loss: 0.3733 - val_accuracy: 0.8500\n",
      "Epoch 89/200\n",
      "117/117 [==============================] - 0s 3ms/step - loss: 0.3633 - accuracy: 0.8729 - val_loss: 0.3734 - val_accuracy: 0.8517\n",
      "Epoch 90/200\n",
      "117/117 [==============================] - 0s 3ms/step - loss: 0.3630 - accuracy: 0.8731 - val_loss: 0.3739 - val_accuracy: 0.8550\n",
      "Epoch 91/200\n",
      "117/117 [==============================] - 0s 2ms/step - loss: 0.3611 - accuracy: 0.8732 - val_loss: 0.3719 - val_accuracy: 0.8500\n",
      "Epoch 92/200\n",
      "117/117 [==============================] - 0s 3ms/step - loss: 0.3608 - accuracy: 0.8730 - val_loss: 0.3738 - val_accuracy: 0.8483\n",
      "Epoch 93/200\n",
      "117/117 [==============================] - 0s 3ms/step - loss: 0.3605 - accuracy: 0.8736 - val_loss: 0.3671 - val_accuracy: 0.8500\n",
      "Epoch 94/200\n",
      "117/117 [==============================] - 0s 2ms/step - loss: 0.3590 - accuracy: 0.8739 - val_loss: 0.3750 - val_accuracy: 0.8433\n",
      "Epoch 95/200\n",
      "117/117 [==============================] - 0s 3ms/step - loss: 0.3582 - accuracy: 0.8739 - val_loss: 0.3689 - val_accuracy: 0.8583\n",
      "Epoch 96/200\n",
      "117/117 [==============================] - 0s 3ms/step - loss: 0.3580 - accuracy: 0.8735 - val_loss: 0.3721 - val_accuracy: 0.8550\n",
      "Epoch 97/200\n",
      "117/117 [==============================] - 0s 3ms/step - loss: 0.3565 - accuracy: 0.8751 - val_loss: 0.3638 - val_accuracy: 0.8483\n",
      "Epoch 98/200\n",
      "117/117 [==============================] - 0s 3ms/step - loss: 0.3554 - accuracy: 0.8752 - val_loss: 0.3698 - val_accuracy: 0.8550\n",
      "Epoch 99/200\n",
      "117/117 [==============================] - 0s 3ms/step - loss: 0.3553 - accuracy: 0.8754 - val_loss: 0.3666 - val_accuracy: 0.8533\n",
      "Epoch 100/200\n",
      "117/117 [==============================] - 0s 3ms/step - loss: 0.3544 - accuracy: 0.8754 - val_loss: 0.3682 - val_accuracy: 0.8500\n",
      "Epoch 101/200\n",
      "117/117 [==============================] - 0s 3ms/step - loss: 0.3541 - accuracy: 0.8762 - val_loss: 0.3657 - val_accuracy: 0.8483\n",
      "Epoch 102/200\n",
      "117/117 [==============================] - 0s 3ms/step - loss: 0.3526 - accuracy: 0.8764 - val_loss: 0.3635 - val_accuracy: 0.8550\n",
      "Epoch 103/200\n",
      "117/117 [==============================] - 0s 3ms/step - loss: 0.3518 - accuracy: 0.8764 - val_loss: 0.3656 - val_accuracy: 0.8550\n",
      "Epoch 104/200\n",
      "117/117 [==============================] - 0s 2ms/step - loss: 0.3514 - accuracy: 0.8766 - val_loss: 0.3622 - val_accuracy: 0.8517\n",
      "Epoch 105/200\n",
      "117/117 [==============================] - 0s 3ms/step - loss: 0.3510 - accuracy: 0.8766 - val_loss: 0.3674 - val_accuracy: 0.8517\n",
      "Epoch 106/200\n",
      "117/117 [==============================] - 0s 3ms/step - loss: 0.3505 - accuracy: 0.8770 - val_loss: 0.3630 - val_accuracy: 0.8633\n",
      "Epoch 107/200\n",
      "117/117 [==============================] - 0s 3ms/step - loss: 0.3492 - accuracy: 0.8776 - val_loss: 0.3670 - val_accuracy: 0.8517\n",
      "Epoch 108/200\n",
      "117/117 [==============================] - 0s 3ms/step - loss: 0.3484 - accuracy: 0.8769 - val_loss: 0.3650 - val_accuracy: 0.8533\n",
      "Epoch 109/200\n",
      "117/117 [==============================] - 0s 3ms/step - loss: 0.3472 - accuracy: 0.8784 - val_loss: 0.3590 - val_accuracy: 0.8550\n",
      "Epoch 110/200\n",
      "117/117 [==============================] - 0s 3ms/step - loss: 0.3470 - accuracy: 0.8785 - val_loss: 0.3589 - val_accuracy: 0.8567\n",
      "Epoch 111/200\n",
      "117/117 [==============================] - 0s 3ms/step - loss: 0.3465 - accuracy: 0.8779 - val_loss: 0.3631 - val_accuracy: 0.8583\n",
      "Epoch 112/200\n",
      "117/117 [==============================] - 0s 3ms/step - loss: 0.3451 - accuracy: 0.8794 - val_loss: 0.3547 - val_accuracy: 0.8550\n",
      "Epoch 113/200\n",
      "117/117 [==============================] - 0s 3ms/step - loss: 0.3446 - accuracy: 0.8787 - val_loss: 0.3553 - val_accuracy: 0.8567\n",
      "Epoch 114/200\n",
      "117/117 [==============================] - 0s 3ms/step - loss: 0.3434 - accuracy: 0.8797 - val_loss: 0.3586 - val_accuracy: 0.8517\n",
      "Epoch 115/200\n",
      "117/117 [==============================] - 0s 3ms/step - loss: 0.3432 - accuracy: 0.8797 - val_loss: 0.3537 - val_accuracy: 0.8567\n",
      "Epoch 116/200\n",
      "117/117 [==============================] - 0s 3ms/step - loss: 0.3423 - accuracy: 0.8799 - val_loss: 0.3552 - val_accuracy: 0.8583\n",
      "Epoch 117/200\n",
      "117/117 [==============================] - 0s 3ms/step - loss: 0.3422 - accuracy: 0.8799 - val_loss: 0.3536 - val_accuracy: 0.8550\n",
      "Epoch 118/200\n",
      "117/117 [==============================] - 0s 3ms/step - loss: 0.3416 - accuracy: 0.8805 - val_loss: 0.3542 - val_accuracy: 0.8517\n",
      "Epoch 119/200\n",
      "117/117 [==============================] - 0s 3ms/step - loss: 0.3415 - accuracy: 0.8798 - val_loss: 0.3542 - val_accuracy: 0.8583\n",
      "Epoch 120/200\n",
      "117/117 [==============================] - 0s 3ms/step - loss: 0.3396 - accuracy: 0.8815 - val_loss: 0.3526 - val_accuracy: 0.8650\n",
      "Epoch 121/200\n",
      "117/117 [==============================] - 0s 2ms/step - loss: 0.3393 - accuracy: 0.8806 - val_loss: 0.3544 - val_accuracy: 0.8583\n",
      "Epoch 122/200\n",
      "117/117 [==============================] - 0s 2ms/step - loss: 0.3389 - accuracy: 0.8811 - val_loss: 0.3565 - val_accuracy: 0.8600\n",
      "Epoch 123/200\n",
      "117/117 [==============================] - 0s 2ms/step - loss: 0.3374 - accuracy: 0.8815 - val_loss: 0.3546 - val_accuracy: 0.8583\n",
      "Epoch 124/200\n",
      "117/117 [==============================] - 0s 3ms/step - loss: 0.3371 - accuracy: 0.8820 - val_loss: 0.3530 - val_accuracy: 0.8617\n",
      "Epoch 125/200\n",
      "117/117 [==============================] - 0s 3ms/step - loss: 0.3366 - accuracy: 0.8819 - val_loss: 0.3525 - val_accuracy: 0.8517\n",
      "Epoch 126/200\n",
      "117/117 [==============================] - 0s 3ms/step - loss: 0.3354 - accuracy: 0.8825 - val_loss: 0.3507 - val_accuracy: 0.8550\n",
      "Epoch 127/200\n",
      "117/117 [==============================] - 0s 2ms/step - loss: 0.3349 - accuracy: 0.8822 - val_loss: 0.3487 - val_accuracy: 0.8617\n",
      "Epoch 128/200\n",
      "117/117 [==============================] - 0s 3ms/step - loss: 0.3361 - accuracy: 0.8815 - val_loss: 0.3535 - val_accuracy: 0.8633\n",
      "Epoch 129/200\n",
      "117/117 [==============================] - 0s 3ms/step - loss: 0.3334 - accuracy: 0.8832 - val_loss: 0.3494 - val_accuracy: 0.8633\n",
      "Epoch 130/200\n",
      "117/117 [==============================] - 0s 3ms/step - loss: 0.3340 - accuracy: 0.8829 - val_loss: 0.3505 - val_accuracy: 0.8617\n",
      "Epoch 131/200\n",
      "117/117 [==============================] - 0s 3ms/step - loss: 0.3325 - accuracy: 0.8834 - val_loss: 0.3498 - val_accuracy: 0.8633\n",
      "Epoch 132/200\n",
      "117/117 [==============================] - 0s 3ms/step - loss: 0.3329 - accuracy: 0.8828 - val_loss: 0.3509 - val_accuracy: 0.8667\n",
      "Epoch 133/200\n",
      "117/117 [==============================] - 0s 3ms/step - loss: 0.3312 - accuracy: 0.8830 - val_loss: 0.3490 - val_accuracy: 0.8633\n",
      "Epoch 134/200\n",
      "117/117 [==============================] - 0s 2ms/step - loss: 0.3310 - accuracy: 0.8836 - val_loss: 0.3441 - val_accuracy: 0.8683\n",
      "Epoch 135/200\n",
      "117/117 [==============================] - 0s 3ms/step - loss: 0.3297 - accuracy: 0.8841 - val_loss: 0.3496 - val_accuracy: 0.8567\n",
      "Epoch 136/200\n",
      "117/117 [==============================] - 0s 3ms/step - loss: 0.3304 - accuracy: 0.8837 - val_loss: 0.3468 - val_accuracy: 0.8583\n",
      "Epoch 137/200\n",
      "117/117 [==============================] - 0s 3ms/step - loss: 0.3294 - accuracy: 0.8845 - val_loss: 0.3464 - val_accuracy: 0.8667\n",
      "Epoch 138/200\n",
      "117/117 [==============================] - 0s 3ms/step - loss: 0.3281 - accuracy: 0.8853 - val_loss: 0.3454 - val_accuracy: 0.8617\n",
      "Epoch 139/200\n",
      "117/117 [==============================] - 0s 3ms/step - loss: 0.3299 - accuracy: 0.8840 - val_loss: 0.3468 - val_accuracy: 0.8600\n",
      "Epoch 140/200\n",
      "117/117 [==============================] - 0s 3ms/step - loss: 0.3271 - accuracy: 0.8846 - val_loss: 0.3467 - val_accuracy: 0.8700\n",
      "Epoch 141/200\n",
      "117/117 [==============================] - 0s 3ms/step - loss: 0.3291 - accuracy: 0.8841 - val_loss: 0.3500 - val_accuracy: 0.8683\n",
      "Epoch 142/200\n",
      "117/117 [==============================] - 0s 3ms/step - loss: 0.3270 - accuracy: 0.8844 - val_loss: 0.3459 - val_accuracy: 0.8583\n",
      "Epoch 143/200\n",
      "117/117 [==============================] - 0s 3ms/step - loss: 0.3253 - accuracy: 0.8861 - val_loss: 0.3430 - val_accuracy: 0.8700\n",
      "Epoch 144/200\n",
      "117/117 [==============================] - 0s 2ms/step - loss: 0.3247 - accuracy: 0.8862 - val_loss: 0.3453 - val_accuracy: 0.8617\n",
      "Epoch 145/200\n",
      "117/117 [==============================] - 0s 3ms/step - loss: 0.3253 - accuracy: 0.8857 - val_loss: 0.3460 - val_accuracy: 0.8617\n",
      "Epoch 146/200\n",
      "117/117 [==============================] - 0s 3ms/step - loss: 0.3238 - accuracy: 0.8863 - val_loss: 0.3400 - val_accuracy: 0.8683\n",
      "Epoch 147/200\n",
      "117/117 [==============================] - 0s 2ms/step - loss: 0.3244 - accuracy: 0.8859 - val_loss: 0.3427 - val_accuracy: 0.8650\n",
      "Epoch 148/200\n",
      "117/117 [==============================] - 0s 3ms/step - loss: 0.3224 - accuracy: 0.8869 - val_loss: 0.3476 - val_accuracy: 0.8633\n",
      "Epoch 149/200\n",
      "117/117 [==============================] - 0s 3ms/step - loss: 0.3220 - accuracy: 0.8868 - val_loss: 0.3438 - val_accuracy: 0.8683\n",
      "Epoch 150/200\n",
      "117/117 [==============================] - 0s 3ms/step - loss: 0.3216 - accuracy: 0.8867 - val_loss: 0.3438 - val_accuracy: 0.8683\n",
      "Epoch 151/200\n",
      "117/117 [==============================] - 0s 3ms/step - loss: 0.3212 - accuracy: 0.8868 - val_loss: 0.3400 - val_accuracy: 0.8700\n",
      "Epoch 152/200\n",
      "117/117 [==============================] - 0s 3ms/step - loss: 0.3208 - accuracy: 0.8868 - val_loss: 0.3464 - val_accuracy: 0.8533\n",
      "Epoch 153/200\n",
      "117/117 [==============================] - 0s 2ms/step - loss: 0.3221 - accuracy: 0.8865 - val_loss: 0.3443 - val_accuracy: 0.8683\n",
      "Epoch 154/200\n",
      "117/117 [==============================] - 0s 3ms/step - loss: 0.3191 - accuracy: 0.8875 - val_loss: 0.3417 - val_accuracy: 0.8650\n",
      "Epoch 155/200\n",
      "117/117 [==============================] - 0s 3ms/step - loss: 0.3185 - accuracy: 0.8884 - val_loss: 0.3404 - val_accuracy: 0.8700\n",
      "Epoch 156/200\n",
      "117/117 [==============================] - 0s 3ms/step - loss: 0.3185 - accuracy: 0.8879 - val_loss: 0.3398 - val_accuracy: 0.8650\n",
      "Epoch 157/200\n",
      "117/117 [==============================] - 0s 3ms/step - loss: 0.3179 - accuracy: 0.8879 - val_loss: 0.3384 - val_accuracy: 0.8717\n",
      "Epoch 158/200\n",
      "117/117 [==============================] - 0s 3ms/step - loss: 0.3173 - accuracy: 0.8882 - val_loss: 0.3377 - val_accuracy: 0.8717\n",
      "Epoch 159/200\n",
      "117/117 [==============================] - 0s 3ms/step - loss: 0.3169 - accuracy: 0.8887 - val_loss: 0.3415 - val_accuracy: 0.8717\n",
      "Epoch 160/200\n",
      "117/117 [==============================] - 0s 3ms/step - loss: 0.3167 - accuracy: 0.8874 - val_loss: 0.3413 - val_accuracy: 0.8750\n",
      "Epoch 161/200\n",
      "117/117 [==============================] - 0s 3ms/step - loss: 0.3162 - accuracy: 0.8880 - val_loss: 0.3376 - val_accuracy: 0.8650\n",
      "Epoch 162/200\n",
      "117/117 [==============================] - 0s 3ms/step - loss: 0.3157 - accuracy: 0.8889 - val_loss: 0.3454 - val_accuracy: 0.8617\n",
      "Epoch 163/200\n",
      "117/117 [==============================] - 0s 3ms/step - loss: 0.3162 - accuracy: 0.8880 - val_loss: 0.3398 - val_accuracy: 0.8683\n",
      "Epoch 164/200\n",
      "117/117 [==============================] - 0s 3ms/step - loss: 0.3139 - accuracy: 0.8894 - val_loss: 0.3381 - val_accuracy: 0.8700\n",
      "Epoch 165/200\n",
      "117/117 [==============================] - 0s 3ms/step - loss: 0.3138 - accuracy: 0.8888 - val_loss: 0.3377 - val_accuracy: 0.8767\n",
      "Epoch 166/200\n",
      "117/117 [==============================] - 0s 3ms/step - loss: 0.3133 - accuracy: 0.8892 - val_loss: 0.3372 - val_accuracy: 0.8667\n",
      "Epoch 167/200\n",
      "117/117 [==============================] - 0s 3ms/step - loss: 0.3134 - accuracy: 0.8891 - val_loss: 0.3364 - val_accuracy: 0.8783\n",
      "Epoch 168/200\n",
      "117/117 [==============================] - 0s 3ms/step - loss: 0.3116 - accuracy: 0.8903 - val_loss: 0.3390 - val_accuracy: 0.8700\n",
      "Epoch 169/200\n",
      "117/117 [==============================] - 0s 3ms/step - loss: 0.3117 - accuracy: 0.8903 - val_loss: 0.3364 - val_accuracy: 0.8700\n",
      "Epoch 170/200\n",
      "117/117 [==============================] - 0s 3ms/step - loss: 0.3107 - accuracy: 0.8898 - val_loss: 0.3349 - val_accuracy: 0.8717\n",
      "Epoch 171/200\n",
      "117/117 [==============================] - 0s 3ms/step - loss: 0.3109 - accuracy: 0.8904 - val_loss: 0.3343 - val_accuracy: 0.8750\n",
      "Epoch 172/200\n",
      "117/117 [==============================] - 0s 3ms/step - loss: 0.3103 - accuracy: 0.8908 - val_loss: 0.3360 - val_accuracy: 0.8733\n",
      "Epoch 173/200\n",
      "117/117 [==============================] - 0s 3ms/step - loss: 0.3092 - accuracy: 0.8906 - val_loss: 0.3441 - val_accuracy: 0.8800\n",
      "Epoch 174/200\n",
      "117/117 [==============================] - 0s 2ms/step - loss: 0.3097 - accuracy: 0.8904 - val_loss: 0.3351 - val_accuracy: 0.8750\n",
      "Epoch 175/200\n",
      "117/117 [==============================] - 0s 3ms/step - loss: 0.3096 - accuracy: 0.8905 - val_loss: 0.3354 - val_accuracy: 0.8667\n",
      "Epoch 176/200\n",
      "117/117 [==============================] - 0s 3ms/step - loss: 0.3075 - accuracy: 0.8913 - val_loss: 0.3343 - val_accuracy: 0.8750\n",
      "Epoch 177/200\n",
      "117/117 [==============================] - 0s 3ms/step - loss: 0.3073 - accuracy: 0.8907 - val_loss: 0.3304 - val_accuracy: 0.8700\n",
      "Epoch 178/200\n",
      "117/117 [==============================] - 0s 2ms/step - loss: 0.3068 - accuracy: 0.8918 - val_loss: 0.3338 - val_accuracy: 0.8767\n",
      "Epoch 179/200\n",
      "117/117 [==============================] - 0s 2ms/step - loss: 0.3061 - accuracy: 0.8922 - val_loss: 0.3350 - val_accuracy: 0.8700\n",
      "Epoch 180/200\n",
      "117/117 [==============================] - 0s 3ms/step - loss: 0.3074 - accuracy: 0.8914 - val_loss: 0.3338 - val_accuracy: 0.8750\n",
      "Epoch 181/200\n",
      "117/117 [==============================] - 0s 3ms/step - loss: 0.3057 - accuracy: 0.8919 - val_loss: 0.3361 - val_accuracy: 0.8750\n",
      "Epoch 182/200\n",
      "117/117 [==============================] - 0s 3ms/step - loss: 0.3064 - accuracy: 0.8918 - val_loss: 0.3303 - val_accuracy: 0.8767\n",
      "Epoch 183/200\n",
      "117/117 [==============================] - 0s 3ms/step - loss: 0.3045 - accuracy: 0.8924 - val_loss: 0.3325 - val_accuracy: 0.8700\n",
      "Epoch 184/200\n",
      "117/117 [==============================] - 0s 2ms/step - loss: 0.3033 - accuracy: 0.8926 - val_loss: 0.3322 - val_accuracy: 0.8750\n",
      "Epoch 185/200\n",
      "117/117 [==============================] - 0s 3ms/step - loss: 0.3034 - accuracy: 0.8925 - val_loss: 0.3302 - val_accuracy: 0.8667\n",
      "Epoch 186/200\n",
      "117/117 [==============================] - 0s 2ms/step - loss: 0.3030 - accuracy: 0.8928 - val_loss: 0.3360 - val_accuracy: 0.8633\n",
      "Epoch 187/200\n",
      "117/117 [==============================] - 0s 3ms/step - loss: 0.3031 - accuracy: 0.8935 - val_loss: 0.3347 - val_accuracy: 0.8733\n",
      "Epoch 188/200\n",
      "117/117 [==============================] - 0s 2ms/step - loss: 0.3031 - accuracy: 0.8924 - val_loss: 0.3328 - val_accuracy: 0.8633\n",
      "Epoch 189/200\n",
      "117/117 [==============================] - 0s 3ms/step - loss: 0.3029 - accuracy: 0.8928 - val_loss: 0.3340 - val_accuracy: 0.8683\n",
      "Epoch 190/200\n",
      "117/117 [==============================] - 0s 3ms/step - loss: 0.3012 - accuracy: 0.8934 - val_loss: 0.3301 - val_accuracy: 0.8767\n",
      "Epoch 191/200\n",
      "117/117 [==============================] - 0s 2ms/step - loss: 0.3004 - accuracy: 0.8932 - val_loss: 0.3325 - val_accuracy: 0.8717\n",
      "Epoch 192/200\n",
      "117/117 [==============================] - 0s 3ms/step - loss: 0.3000 - accuracy: 0.8940 - val_loss: 0.3262 - val_accuracy: 0.8750\n",
      "Epoch 193/200\n",
      "117/117 [==============================] - 0s 3ms/step - loss: 0.3005 - accuracy: 0.8941 - val_loss: 0.3324 - val_accuracy: 0.8700\n",
      "Epoch 194/200\n",
      "117/117 [==============================] - 0s 2ms/step - loss: 0.2992 - accuracy: 0.8945 - val_loss: 0.3328 - val_accuracy: 0.8650\n",
      "Epoch 195/200\n",
      "117/117 [==============================] - 0s 3ms/step - loss: 0.2985 - accuracy: 0.8941 - val_loss: 0.3303 - val_accuracy: 0.8700\n",
      "Epoch 196/200\n",
      "117/117 [==============================] - 0s 3ms/step - loss: 0.2978 - accuracy: 0.8955 - val_loss: 0.3318 - val_accuracy: 0.8700\n",
      "Epoch 197/200\n",
      "117/117 [==============================] - 0s 3ms/step - loss: 0.2973 - accuracy: 0.8951 - val_loss: 0.3302 - val_accuracy: 0.8750\n",
      "Epoch 198/200\n",
      "117/117 [==============================] - 0s 2ms/step - loss: 0.2975 - accuracy: 0.8950 - val_loss: 0.3276 - val_accuracy: 0.8733\n",
      "Epoch 199/200\n",
      "117/117 [==============================] - 0s 3ms/step - loss: 0.2966 - accuracy: 0.8944 - val_loss: 0.3263 - val_accuracy: 0.8667\n",
      "Epoch 200/200\n",
      "117/117 [==============================] - 0s 3ms/step - loss: 0.2972 - accuracy: 0.8949 - val_loss: 0.3288 - val_accuracy: 0.8750\n"
     ]
    }
   ],
   "source": [
    "# overfitting을 유발하기 위해 train:valid = 99:1로 split 후 loss function의 값을 그려보고, fully connected layer를 만들어보자. \n",
    "X_train, X_valid, y_train, y_valid = train_test_split(train_images, train_labels, test_size=0.01, random_state=101)\n",
    "X_train = X_train / 255.0\n",
    "X_valid = X_valid / 255.0\n",
    "\n",
    "model = keras.Sequential([\n",
    "    keras.layers.Flatten(input_shape=(28, 28)),\n",
    "    keras.layers.Dense(256, activation='relu'),\n",
    "    keras.layers.Dense(10, activation='softmax')\n",
    "])\n",
    "\n",
    "model.compile(optimizer='adam', loss='sparse_categorical_crossentropy',\n",
    "             metrics=['accuracy'])\n",
    "\n",
    "history = model.fit(X_train, y_train, epochs=200, batch_size=512, validation_data=(X_valid, y_valid))"
   ]
  },
  {
   "cell_type": "code",
   "execution_count": 23,
   "id": "ea4ed7ac",
   "metadata": {},
   "outputs": [
    {
     "data": {
      "image/png": "[encoded data removed]",
      "text/plain": [
       "<Figure size 432x288 with 1 Axes>"
      ]
     },
     "metadata": {
      "needs_background": "light"
     },
     "output_type": "display_data"
    }
   ],
   "source": [
    "# loss 값 시각화\n",
    "y_vloss = history.history['val_loss']\n",
    "y_loss = history.history['loss']\n",
    "x_len = np.arange(len(y_loss))\n",
    "\n",
    "plt.plot(x_len, y_vloss, marker='.', c='red', label='Validation-set Loss')\n",
    "plt.plot(x_len, y_loss, marker='.', c='blue', label='Train-set Loss')\n",
    "plt.legend(loc='upper right')\n",
    "plt.grid()\n",
    "plt.title('Loss graph without dropout layer')\n",
    "plt.ylim(0, 1)\n",
    "plt.xlabel('epoch')\n",
    "plt.ylabel('loss')\n",
    "plt.show()"
   ]
  },
  {
   "cell_type": "code",
   "execution_count": 24,
   "id": "fba41bce",
   "metadata": {},
   "outputs": [
    {
     "data": {
      "image/png": "[encoded data removed]",
      "text/plain": [
       "<Figure size 432x288 with 1 Axes>"
      ]
     },
     "metadata": {
      "needs_background": "light"
     },
     "output_type": "display_data"
    }
   ],
   "source": [
    "# accuracy 값 시각화\n",
    "y_vacc = history.history['val_accuracy']\n",
    "y_acc = history.history['accuracy']\n",
    "x_len = np.arange(len(y_acc))\n",
    "\n",
    "plt.plot(x_len, y_vacc, marker='.', c='red', label=\"Validation-set accuracy\")\n",
    "plt.plot(x_len, y_acc, marker='.', c='blue', label=\"Train-set accuracy\")\n",
    "plt.legend(loc='lower right')\n",
    "plt.grid()\n",
    "plt.ylim(0.5,1) \n",
    "plt.title('Accuracy graph without dropout layer') \n",
    "plt.xlabel('epoch')\n",
    "plt.ylabel('accuracy')\n",
    "plt.show()"
   ]
  },
  {
   "cell_type": "markdown",
   "id": "d463d333",
   "metadata": {},
   "source": [
    "- dropout layer가 없는 fully connected layer에서 200번 학습하니 train set의 accuracy는 올라가고, loss는 점점 떨어졌다. \n",
    "- 그러나 validation set의 accuracy와 loss는 어느 정도 값에서 수렴함을 볼 수 있다. \n",
    "- 이렇게 임의적으로 오버피팅을 만든 환경에서 dropout layer를 추가한 뒤 실험해보자. "
   ]
  },
  {
   "cell_type": "code",
   "execution_count": 25,
   "id": "02dcf7ef",
   "metadata": {},
   "outputs": [
    {
     "name": "stdout",
     "output_type": "stream",
     "text": [
      "Epoch 1/200\n",
      "117/117 [==============================] - 1s 3ms/step - loss: 2.0801 - accuracy: 0.4769 - val_loss: 1.7023 - val_accuracy: 0.5500\n",
      "Epoch 2/200\n",
      "117/117 [==============================] - 0s 3ms/step - loss: 1.4783 - accuracy: 0.5494 - val_loss: 1.2377 - val_accuracy: 0.6550\n",
      "Epoch 3/200\n",
      "117/117 [==============================] - 0s 3ms/step - loss: 1.1758 - accuracy: 0.6152 - val_loss: 1.0275 - val_accuracy: 0.7017\n",
      "Epoch 4/200\n",
      "117/117 [==============================] - 0s 3ms/step - loss: 1.0124 - accuracy: 0.6607 - val_loss: 0.8967 - val_accuracy: 0.7433\n",
      "Epoch 5/200\n",
      "117/117 [==============================] - 0s 3ms/step - loss: 0.9051 - accuracy: 0.6932 - val_loss: 0.8061 - val_accuracy: 0.7633\n",
      "Epoch 6/200\n",
      "117/117 [==============================] - 0s 3ms/step - loss: 0.8353 - accuracy: 0.7107 - val_loss: 0.7428 - val_accuracy: 0.7667\n",
      "Epoch 7/200\n",
      "117/117 [==============================] - 0s 3ms/step - loss: 0.7848 - accuracy: 0.7232 - val_loss: 0.7020 - val_accuracy: 0.7717\n",
      "Epoch 8/200\n",
      "117/117 [==============================] - 0s 3ms/step - loss: 0.7453 - accuracy: 0.7343 - val_loss: 0.6705 - val_accuracy: 0.7817\n",
      "Epoch 9/200\n",
      "117/117 [==============================] - 0s 3ms/step - loss: 0.7173 - accuracy: 0.7436 - val_loss: 0.6464 - val_accuracy: 0.7900\n",
      "Epoch 10/200\n",
      "117/117 [==============================] - 0s 3ms/step - loss: 0.6926 - accuracy: 0.7505 - val_loss: 0.6275 - val_accuracy: 0.7933\n",
      "Epoch 11/200\n",
      "117/117 [==============================] - 0s 3ms/step - loss: 0.6745 - accuracy: 0.7571 - val_loss: 0.6150 - val_accuracy: 0.7850\n",
      "Epoch 12/200\n",
      "117/117 [==============================] - 0s 3ms/step - loss: 0.6549 - accuracy: 0.7635 - val_loss: 0.5986 - val_accuracy: 0.7933\n",
      "Epoch 13/200\n",
      "117/117 [==============================] - 0s 3ms/step - loss: 0.6381 - accuracy: 0.7704 - val_loss: 0.5853 - val_accuracy: 0.7933\n",
      "Epoch 14/200\n",
      "117/117 [==============================] - 0s 3ms/step - loss: 0.6263 - accuracy: 0.7760 - val_loss: 0.5730 - val_accuracy: 0.7983\n",
      "Epoch 15/200\n",
      "117/117 [==============================] - 0s 3ms/step - loss: 0.6116 - accuracy: 0.7800 - val_loss: 0.5621 - val_accuracy: 0.8000\n",
      "Epoch 16/200\n",
      "117/117 [==============================] - 0s 3ms/step - loss: 0.6006 - accuracy: 0.7846 - val_loss: 0.5505 - val_accuracy: 0.8017\n",
      "Epoch 17/200\n",
      "117/117 [==============================] - 0s 3ms/step - loss: 0.5912 - accuracy: 0.7880 - val_loss: 0.5413 - val_accuracy: 0.8033\n",
      "Epoch 18/200\n",
      "117/117 [==============================] - 0s 3ms/step - loss: 0.5805 - accuracy: 0.7930 - val_loss: 0.5340 - val_accuracy: 0.8033\n",
      "Epoch 19/200\n",
      "117/117 [==============================] - 0s 3ms/step - loss: 0.5722 - accuracy: 0.7970 - val_loss: 0.5269 - val_accuracy: 0.8067\n",
      "Epoch 20/200\n",
      "117/117 [==============================] - 0s 3ms/step - loss: 0.5626 - accuracy: 0.8007 - val_loss: 0.5178 - val_accuracy: 0.8050\n",
      "Epoch 21/200\n",
      "117/117 [==============================] - 0s 3ms/step - loss: 0.5539 - accuracy: 0.8033 - val_loss: 0.5091 - val_accuracy: 0.8100\n",
      "Epoch 22/200\n",
      "117/117 [==============================] - 0s 3ms/step - loss: 0.5462 - accuracy: 0.8066 - val_loss: 0.5040 - val_accuracy: 0.8133\n",
      "Epoch 23/200\n",
      "117/117 [==============================] - 0s 3ms/step - loss: 0.5410 - accuracy: 0.8083 - val_loss: 0.4974 - val_accuracy: 0.8200\n",
      "Epoch 24/200\n",
      "117/117 [==============================] - 0s 3ms/step - loss: 0.5354 - accuracy: 0.8091 - val_loss: 0.4966 - val_accuracy: 0.8183\n",
      "Epoch 25/200\n",
      "117/117 [==============================] - 0s 3ms/step - loss: 0.5272 - accuracy: 0.8124 - val_loss: 0.4885 - val_accuracy: 0.8217\n",
      "Epoch 26/200\n",
      "117/117 [==============================] - 0s 3ms/step - loss: 0.5222 - accuracy: 0.8156 - val_loss: 0.4842 - val_accuracy: 0.8183\n",
      "Epoch 27/200\n",
      "117/117 [==============================] - 0s 3ms/step - loss: 0.5178 - accuracy: 0.8181 - val_loss: 0.4810 - val_accuracy: 0.8167\n",
      "Epoch 28/200\n",
      "117/117 [==============================] - 0s 3ms/step - loss: 0.5118 - accuracy: 0.8192 - val_loss: 0.4756 - val_accuracy: 0.8183\n",
      "Epoch 29/200\n",
      "117/117 [==============================] - 0s 3ms/step - loss: 0.5079 - accuracy: 0.8200 - val_loss: 0.4674 - val_accuracy: 0.8167\n",
      "Epoch 30/200\n",
      "117/117 [==============================] - 0s 3ms/step - loss: 0.5013 - accuracy: 0.8222 - val_loss: 0.4632 - val_accuracy: 0.8200\n",
      "Epoch 31/200\n",
      "117/117 [==============================] - 0s 3ms/step - loss: 0.4972 - accuracy: 0.8233 - val_loss: 0.4609 - val_accuracy: 0.8200\n",
      "Epoch 32/200\n",
      "117/117 [==============================] - 0s 3ms/step - loss: 0.4940 - accuracy: 0.8252 - val_loss: 0.4566 - val_accuracy: 0.8200\n",
      "Epoch 33/200\n",
      "117/117 [==============================] - 0s 3ms/step - loss: 0.4911 - accuracy: 0.8257 - val_loss: 0.4551 - val_accuracy: 0.8200\n",
      "Epoch 34/200\n",
      "117/117 [==============================] - 0s 3ms/step - loss: 0.4880 - accuracy: 0.8274 - val_loss: 0.4530 - val_accuracy: 0.8233\n",
      "Epoch 35/200\n",
      "117/117 [==============================] - 0s 3ms/step - loss: 0.4832 - accuracy: 0.8288 - val_loss: 0.4480 - val_accuracy: 0.8200\n",
      "Epoch 36/200\n",
      "117/117 [==============================] - 0s 3ms/step - loss: 0.4804 - accuracy: 0.8290 - val_loss: 0.4474 - val_accuracy: 0.8233\n",
      "Epoch 37/200\n",
      "117/117 [==============================] - 0s 3ms/step - loss: 0.4758 - accuracy: 0.8330 - val_loss: 0.4453 - val_accuracy: 0.8267\n",
      "Epoch 38/200\n",
      "117/117 [==============================] - 0s 3ms/step - loss: 0.4763 - accuracy: 0.8318 - val_loss: 0.4403 - val_accuracy: 0.8183\n",
      "Epoch 39/200\n",
      "117/117 [==============================] - 0s 3ms/step - loss: 0.4700 - accuracy: 0.8333 - val_loss: 0.4374 - val_accuracy: 0.8200\n",
      "Epoch 40/200\n",
      "117/117 [==============================] - 0s 3ms/step - loss: 0.4677 - accuracy: 0.8341 - val_loss: 0.4360 - val_accuracy: 0.8233\n",
      "Epoch 41/200\n",
      "117/117 [==============================] - 0s 3ms/step - loss: 0.4647 - accuracy: 0.8356 - val_loss: 0.4334 - val_accuracy: 0.8267\n",
      "Epoch 42/200\n",
      "117/117 [==============================] - 0s 3ms/step - loss: 0.4644 - accuracy: 0.8359 - val_loss: 0.4304 - val_accuracy: 0.8300\n",
      "Epoch 43/200\n",
      "117/117 [==============================] - 0s 3ms/step - loss: 0.4595 - accuracy: 0.8370 - val_loss: 0.4288 - val_accuracy: 0.8300\n",
      "Epoch 44/200\n",
      "117/117 [==============================] - 0s 3ms/step - loss: 0.4580 - accuracy: 0.8375 - val_loss: 0.4277 - val_accuracy: 0.8350\n",
      "Epoch 45/200\n",
      "117/117 [==============================] - 0s 3ms/step - loss: 0.4549 - accuracy: 0.8392 - val_loss: 0.4249 - val_accuracy: 0.8333\n",
      "Epoch 46/200\n",
      "117/117 [==============================] - 0s 3ms/step - loss: 0.4512 - accuracy: 0.8391 - val_loss: 0.4247 - val_accuracy: 0.8300\n",
      "Epoch 47/200\n",
      "117/117 [==============================] - 0s 3ms/step - loss: 0.4499 - accuracy: 0.8413 - val_loss: 0.4190 - val_accuracy: 0.8333\n",
      "Epoch 48/200\n",
      "117/117 [==============================] - 0s 3ms/step - loss: 0.4472 - accuracy: 0.8421 - val_loss: 0.4185 - val_accuracy: 0.8383\n",
      "Epoch 49/200\n",
      "117/117 [==============================] - 0s 3ms/step - loss: 0.4462 - accuracy: 0.8430 - val_loss: 0.4159 - val_accuracy: 0.8367\n",
      "Epoch 50/200\n",
      "117/117 [==============================] - 0s 3ms/step - loss: 0.4428 - accuracy: 0.8442 - val_loss: 0.4155 - val_accuracy: 0.8333\n",
      "Epoch 51/200\n",
      "117/117 [==============================] - 0s 3ms/step - loss: 0.4419 - accuracy: 0.8438 - val_loss: 0.4150 - val_accuracy: 0.8367\n",
      "Epoch 52/200\n",
      "117/117 [==============================] - 0s 3ms/step - loss: 0.4393 - accuracy: 0.8449 - val_loss: 0.4155 - val_accuracy: 0.8367\n",
      "Epoch 53/200\n",
      "117/117 [==============================] - 0s 3ms/step - loss: 0.4384 - accuracy: 0.8457 - val_loss: 0.4080 - val_accuracy: 0.8400\n",
      "Epoch 54/200\n",
      "117/117 [==============================] - 0s 3ms/step - loss: 0.4344 - accuracy: 0.8461 - val_loss: 0.4064 - val_accuracy: 0.8350\n",
      "Epoch 55/200\n",
      "117/117 [==============================] - 0s 3ms/step - loss: 0.4327 - accuracy: 0.8471 - val_loss: 0.4076 - val_accuracy: 0.8317\n",
      "Epoch 56/200\n",
      "117/117 [==============================] - 0s 3ms/step - loss: 0.4322 - accuracy: 0.8470 - val_loss: 0.4066 - val_accuracy: 0.8350\n",
      "Epoch 57/200\n",
      "117/117 [==============================] - 0s 3ms/step - loss: 0.4301 - accuracy: 0.8469 - val_loss: 0.4030 - val_accuracy: 0.8333\n",
      "Epoch 58/200\n",
      "117/117 [==============================] - 0s 3ms/step - loss: 0.4285 - accuracy: 0.8482 - val_loss: 0.4034 - val_accuracy: 0.8350\n",
      "Epoch 59/200\n",
      "117/117 [==============================] - 0s 3ms/step - loss: 0.4255 - accuracy: 0.8494 - val_loss: 0.3985 - val_accuracy: 0.8417\n",
      "Epoch 60/200\n",
      "117/117 [==============================] - 0s 3ms/step - loss: 0.4244 - accuracy: 0.8493 - val_loss: 0.4007 - val_accuracy: 0.8350\n",
      "Epoch 61/200\n",
      "117/117 [==============================] - 0s 3ms/step - loss: 0.4236 - accuracy: 0.8500 - val_loss: 0.3992 - val_accuracy: 0.8400\n",
      "Epoch 62/200\n",
      "117/117 [==============================] - 0s 3ms/step - loss: 0.4223 - accuracy: 0.8507 - val_loss: 0.3984 - val_accuracy: 0.8383\n",
      "Epoch 63/200\n",
      "117/117 [==============================] - 0s 3ms/step - loss: 0.4185 - accuracy: 0.8513 - val_loss: 0.3966 - val_accuracy: 0.8467\n",
      "Epoch 64/200\n",
      "117/117 [==============================] - 0s 3ms/step - loss: 0.4174 - accuracy: 0.8532 - val_loss: 0.3931 - val_accuracy: 0.8417\n",
      "Epoch 65/200\n",
      "117/117 [==============================] - 0s 3ms/step - loss: 0.4176 - accuracy: 0.8520 - val_loss: 0.3934 - val_accuracy: 0.8450\n",
      "Epoch 66/200\n",
      "117/117 [==============================] - 0s 3ms/step - loss: 0.4140 - accuracy: 0.8522 - val_loss: 0.3919 - val_accuracy: 0.8450\n",
      "Epoch 67/200\n",
      "117/117 [==============================] - 0s 3ms/step - loss: 0.4143 - accuracy: 0.8544 - val_loss: 0.3909 - val_accuracy: 0.8433\n",
      "Epoch 68/200\n",
      "117/117 [==============================] - 0s 3ms/step - loss: 0.4130 - accuracy: 0.8535 - val_loss: 0.3900 - val_accuracy: 0.8450\n",
      "Epoch 69/200\n",
      "117/117 [==============================] - 0s 3ms/step - loss: 0.4119 - accuracy: 0.8543 - val_loss: 0.3892 - val_accuracy: 0.8433\n",
      "Epoch 70/200\n",
      "117/117 [==============================] - 0s 3ms/step - loss: 0.4105 - accuracy: 0.8543 - val_loss: 0.3889 - val_accuracy: 0.8467\n",
      "Epoch 71/200\n",
      "117/117 [==============================] - 0s 3ms/step - loss: 0.4094 - accuracy: 0.8550 - val_loss: 0.3855 - val_accuracy: 0.8433\n",
      "Epoch 72/200\n",
      "117/117 [==============================] - 0s 3ms/step - loss: 0.4070 - accuracy: 0.8567 - val_loss: 0.3854 - val_accuracy: 0.8433\n",
      "Epoch 73/200\n",
      "117/117 [==============================] - 0s 3ms/step - loss: 0.4045 - accuracy: 0.8560 - val_loss: 0.3830 - val_accuracy: 0.8467\n",
      "Epoch 74/200\n",
      "117/117 [==============================] - 0s 3ms/step - loss: 0.4029 - accuracy: 0.8573 - val_loss: 0.3822 - val_accuracy: 0.8467\n",
      "Epoch 75/200\n",
      "117/117 [==============================] - 0s 3ms/step - loss: 0.4029 - accuracy: 0.8571 - val_loss: 0.3821 - val_accuracy: 0.8483\n",
      "Epoch 76/200\n",
      "117/117 [==============================] - 0s 3ms/step - loss: 0.4027 - accuracy: 0.8575 - val_loss: 0.3799 - val_accuracy: 0.8417\n",
      "Epoch 77/200\n",
      "117/117 [==============================] - 0s 3ms/step - loss: 0.4017 - accuracy: 0.8584 - val_loss: 0.3805 - val_accuracy: 0.8417\n",
      "Epoch 78/200\n",
      "117/117 [==============================] - 0s 3ms/step - loss: 0.4003 - accuracy: 0.8570 - val_loss: 0.3797 - val_accuracy: 0.8467\n",
      "Epoch 79/200\n",
      "117/117 [==============================] - 0s 3ms/step - loss: 0.3993 - accuracy: 0.8582 - val_loss: 0.3739 - val_accuracy: 0.8517\n",
      "Epoch 80/200\n",
      "117/117 [==============================] - 0s 3ms/step - loss: 0.3988 - accuracy: 0.8579 - val_loss: 0.3751 - val_accuracy: 0.8483\n",
      "Epoch 81/200\n",
      "117/117 [==============================] - 0s 3ms/step - loss: 0.3963 - accuracy: 0.8605 - val_loss: 0.3731 - val_accuracy: 0.8467\n",
      "Epoch 82/200\n",
      "117/117 [==============================] - 0s 3ms/step - loss: 0.3969 - accuracy: 0.8597 - val_loss: 0.3776 - val_accuracy: 0.8417\n",
      "Epoch 83/200\n",
      "117/117 [==============================] - 0s 3ms/step - loss: 0.3961 - accuracy: 0.8604 - val_loss: 0.3738 - val_accuracy: 0.8500\n",
      "Epoch 84/200\n",
      "117/117 [==============================] - 0s 3ms/step - loss: 0.3941 - accuracy: 0.8598 - val_loss: 0.3738 - val_accuracy: 0.8467\n",
      "Epoch 85/200\n",
      "117/117 [==============================] - 0s 3ms/step - loss: 0.3915 - accuracy: 0.8612 - val_loss: 0.3707 - val_accuracy: 0.8517\n",
      "Epoch 86/200\n",
      "117/117 [==============================] - 0s 3ms/step - loss: 0.3925 - accuracy: 0.8611 - val_loss: 0.3716 - val_accuracy: 0.8483\n",
      "Epoch 87/200\n",
      "117/117 [==============================] - 0s 3ms/step - loss: 0.3902 - accuracy: 0.8625 - val_loss: 0.3678 - val_accuracy: 0.8483\n",
      "Epoch 88/200\n",
      "117/117 [==============================] - 0s 3ms/step - loss: 0.3903 - accuracy: 0.8622 - val_loss: 0.3689 - val_accuracy: 0.8483\n",
      "Epoch 89/200\n",
      "117/117 [==============================] - 0s 3ms/step - loss: 0.3906 - accuracy: 0.8614 - val_loss: 0.3688 - val_accuracy: 0.8467\n",
      "Epoch 90/200\n",
      "117/117 [==============================] - 0s 3ms/step - loss: 0.3872 - accuracy: 0.8626 - val_loss: 0.3673 - val_accuracy: 0.8483\n",
      "Epoch 91/200\n",
      "117/117 [==============================] - 0s 3ms/step - loss: 0.3863 - accuracy: 0.8633 - val_loss: 0.3673 - val_accuracy: 0.8467\n",
      "Epoch 92/200\n",
      "117/117 [==============================] - 0s 3ms/step - loss: 0.3855 - accuracy: 0.8627 - val_loss: 0.3662 - val_accuracy: 0.8500\n",
      "Epoch 93/200\n",
      "117/117 [==============================] - 0s 3ms/step - loss: 0.3858 - accuracy: 0.8627 - val_loss: 0.3641 - val_accuracy: 0.8467\n",
      "Epoch 94/200\n",
      "117/117 [==============================] - 0s 3ms/step - loss: 0.3844 - accuracy: 0.8650 - val_loss: 0.3623 - val_accuracy: 0.8500\n",
      "Epoch 95/200\n",
      "117/117 [==============================] - 0s 3ms/step - loss: 0.3834 - accuracy: 0.8635 - val_loss: 0.3669 - val_accuracy: 0.8483\n",
      "Epoch 96/200\n",
      "117/117 [==============================] - 0s 3ms/step - loss: 0.3813 - accuracy: 0.8642 - val_loss: 0.3642 - val_accuracy: 0.8467\n",
      "Epoch 97/200\n",
      "117/117 [==============================] - 0s 3ms/step - loss: 0.3820 - accuracy: 0.8644 - val_loss: 0.3614 - val_accuracy: 0.8517\n",
      "Epoch 98/200\n",
      "117/117 [==============================] - 0s 3ms/step - loss: 0.3804 - accuracy: 0.8651 - val_loss: 0.3603 - val_accuracy: 0.8467\n",
      "Epoch 99/200\n",
      "117/117 [==============================] - 0s 3ms/step - loss: 0.3778 - accuracy: 0.8669 - val_loss: 0.3605 - val_accuracy: 0.8533\n",
      "Epoch 100/200\n",
      "117/117 [==============================] - 0s 3ms/step - loss: 0.3785 - accuracy: 0.8675 - val_loss: 0.3580 - val_accuracy: 0.8500\n",
      "Epoch 101/200\n",
      "117/117 [==============================] - 0s 3ms/step - loss: 0.3763 - accuracy: 0.8662 - val_loss: 0.3580 - val_accuracy: 0.8517\n",
      "Epoch 102/200\n",
      "117/117 [==============================] - 0s 3ms/step - loss: 0.3786 - accuracy: 0.8663 - val_loss: 0.3580 - val_accuracy: 0.8483\n",
      "Epoch 103/200\n",
      "117/117 [==============================] - 0s 3ms/step - loss: 0.3754 - accuracy: 0.8674 - val_loss: 0.3573 - val_accuracy: 0.8483\n",
      "Epoch 104/200\n",
      "117/117 [==============================] - 0s 3ms/step - loss: 0.3761 - accuracy: 0.8669 - val_loss: 0.3575 - val_accuracy: 0.8500\n",
      "Epoch 105/200\n",
      "117/117 [==============================] - 0s 3ms/step - loss: 0.3749 - accuracy: 0.8679 - val_loss: 0.3532 - val_accuracy: 0.8517\n",
      "Epoch 106/200\n",
      "117/117 [==============================] - 0s 3ms/step - loss: 0.3719 - accuracy: 0.8685 - val_loss: 0.3591 - val_accuracy: 0.8533\n",
      "Epoch 107/200\n",
      "117/117 [==============================] - 0s 3ms/step - loss: 0.3722 - accuracy: 0.8672 - val_loss: 0.3546 - val_accuracy: 0.8500\n",
      "Epoch 108/200\n",
      "117/117 [==============================] - 0s 3ms/step - loss: 0.3729 - accuracy: 0.8672 - val_loss: 0.3536 - val_accuracy: 0.8500\n",
      "Epoch 109/200\n",
      "117/117 [==============================] - 0s 3ms/step - loss: 0.3701 - accuracy: 0.8688 - val_loss: 0.3530 - val_accuracy: 0.8517\n",
      "Epoch 110/200\n",
      "117/117 [==============================] - 0s 3ms/step - loss: 0.3716 - accuracy: 0.8688 - val_loss: 0.3531 - val_accuracy: 0.8500\n",
      "Epoch 111/200\n",
      "117/117 [==============================] - 0s 3ms/step - loss: 0.3702 - accuracy: 0.8689 - val_loss: 0.3568 - val_accuracy: 0.8533\n",
      "Epoch 112/200\n",
      "117/117 [==============================] - 0s 3ms/step - loss: 0.3699 - accuracy: 0.8693 - val_loss: 0.3549 - val_accuracy: 0.8483\n",
      "Epoch 113/200\n",
      "117/117 [==============================] - 0s 3ms/step - loss: 0.3696 - accuracy: 0.8691 - val_loss: 0.3510 - val_accuracy: 0.8583\n",
      "Epoch 114/200\n",
      "117/117 [==============================] - 0s 3ms/step - loss: 0.3669 - accuracy: 0.8690 - val_loss: 0.3510 - val_accuracy: 0.8583\n",
      "Epoch 115/200\n",
      "117/117 [==============================] - 0s 3ms/step - loss: 0.3667 - accuracy: 0.8701 - val_loss: 0.3510 - val_accuracy: 0.8483\n",
      "Epoch 116/200\n",
      "117/117 [==============================] - 0s 3ms/step - loss: 0.3673 - accuracy: 0.8711 - val_loss: 0.3492 - val_accuracy: 0.8533\n",
      "Epoch 117/200\n",
      "117/117 [==============================] - 0s 3ms/step - loss: 0.3660 - accuracy: 0.8710 - val_loss: 0.3508 - val_accuracy: 0.8500\n",
      "Epoch 118/200\n",
      "117/117 [==============================] - 0s 3ms/step - loss: 0.3653 - accuracy: 0.8699 - val_loss: 0.3487 - val_accuracy: 0.8500\n",
      "Epoch 119/200\n",
      "117/117 [==============================] - 0s 3ms/step - loss: 0.3642 - accuracy: 0.8706 - val_loss: 0.3481 - val_accuracy: 0.8567\n",
      "Epoch 120/200\n",
      "117/117 [==============================] - 0s 3ms/step - loss: 0.3616 - accuracy: 0.8712 - val_loss: 0.3471 - val_accuracy: 0.8550\n",
      "Epoch 121/200\n",
      "117/117 [==============================] - 0s 3ms/step - loss: 0.3626 - accuracy: 0.8723 - val_loss: 0.3500 - val_accuracy: 0.8500\n",
      "Epoch 122/200\n",
      "117/117 [==============================] - 0s 3ms/step - loss: 0.3599 - accuracy: 0.8726 - val_loss: 0.3463 - val_accuracy: 0.8500\n",
      "Epoch 123/200\n",
      "117/117 [==============================] - 0s 3ms/step - loss: 0.3616 - accuracy: 0.8723 - val_loss: 0.3482 - val_accuracy: 0.8533\n",
      "Epoch 124/200\n",
      "117/117 [==============================] - 0s 3ms/step - loss: 0.3601 - accuracy: 0.8724 - val_loss: 0.3449 - val_accuracy: 0.8567\n",
      "Epoch 125/200\n",
      "117/117 [==============================] - 0s 3ms/step - loss: 0.3595 - accuracy: 0.8718 - val_loss: 0.3433 - val_accuracy: 0.8517\n",
      "Epoch 126/200\n",
      "117/117 [==============================] - 0s 3ms/step - loss: 0.3564 - accuracy: 0.8724 - val_loss: 0.3467 - val_accuracy: 0.8617\n",
      "Epoch 127/200\n",
      "117/117 [==============================] - 0s 3ms/step - loss: 0.3568 - accuracy: 0.8734 - val_loss: 0.3425 - val_accuracy: 0.8583\n",
      "Epoch 128/200\n",
      "117/117 [==============================] - 0s 3ms/step - loss: 0.3576 - accuracy: 0.8725 - val_loss: 0.3419 - val_accuracy: 0.8600\n",
      "Epoch 129/200\n",
      "117/117 [==============================] - 0s 3ms/step - loss: 0.3565 - accuracy: 0.8735 - val_loss: 0.3415 - val_accuracy: 0.8600\n",
      "Epoch 130/200\n",
      "117/117 [==============================] - 0s 3ms/step - loss: 0.3559 - accuracy: 0.8746 - val_loss: 0.3427 - val_accuracy: 0.8500\n",
      "Epoch 131/200\n",
      "117/117 [==============================] - 0s 3ms/step - loss: 0.3551 - accuracy: 0.8739 - val_loss: 0.3431 - val_accuracy: 0.8517\n",
      "Epoch 132/200\n",
      "117/117 [==============================] - 0s 3ms/step - loss: 0.3556 - accuracy: 0.8728 - val_loss: 0.3430 - val_accuracy: 0.8600\n",
      "Epoch 133/200\n",
      "117/117 [==============================] - 0s 3ms/step - loss: 0.3524 - accuracy: 0.8748 - val_loss: 0.3415 - val_accuracy: 0.8567\n",
      "Epoch 134/200\n",
      "117/117 [==============================] - 0s 3ms/step - loss: 0.3536 - accuracy: 0.8752 - val_loss: 0.3393 - val_accuracy: 0.8517\n",
      "Epoch 135/200\n",
      "117/117 [==============================] - 0s 3ms/step - loss: 0.3529 - accuracy: 0.8751 - val_loss: 0.3390 - val_accuracy: 0.8500\n",
      "Epoch 136/200\n",
      "117/117 [==============================] - 0s 3ms/step - loss: 0.3519 - accuracy: 0.8752 - val_loss: 0.3391 - val_accuracy: 0.8583\n",
      "Epoch 137/200\n",
      "117/117 [==============================] - 0s 3ms/step - loss: 0.3508 - accuracy: 0.8756 - val_loss: 0.3378 - val_accuracy: 0.8567\n",
      "Epoch 138/200\n",
      "117/117 [==============================] - 0s 3ms/step - loss: 0.3533 - accuracy: 0.8743 - val_loss: 0.3391 - val_accuracy: 0.8550\n",
      "Epoch 139/200\n",
      "117/117 [==============================] - 0s 3ms/step - loss: 0.3505 - accuracy: 0.8767 - val_loss: 0.3385 - val_accuracy: 0.8583\n",
      "Epoch 140/200\n",
      "117/117 [==============================] - 0s 3ms/step - loss: 0.3497 - accuracy: 0.8755 - val_loss: 0.3415 - val_accuracy: 0.8550\n",
      "Epoch 141/200\n",
      "117/117 [==============================] - 0s 3ms/step - loss: 0.3490 - accuracy: 0.8761 - val_loss: 0.3379 - val_accuracy: 0.8583\n",
      "Epoch 142/200\n",
      "117/117 [==============================] - 0s 3ms/step - loss: 0.3494 - accuracy: 0.8763 - val_loss: 0.3372 - val_accuracy: 0.8583\n",
      "Epoch 143/200\n",
      "117/117 [==============================] - 0s 3ms/step - loss: 0.3478 - accuracy: 0.8774 - val_loss: 0.3375 - val_accuracy: 0.8550\n",
      "Epoch 144/200\n",
      "117/117 [==============================] - 0s 3ms/step - loss: 0.3480 - accuracy: 0.8768 - val_loss: 0.3365 - val_accuracy: 0.8517\n",
      "Epoch 145/200\n",
      "117/117 [==============================] - 0s 3ms/step - loss: 0.3472 - accuracy: 0.8770 - val_loss: 0.3387 - val_accuracy: 0.8567\n",
      "Epoch 146/200\n",
      "117/117 [==============================] - 0s 3ms/step - loss: 0.3460 - accuracy: 0.8778 - val_loss: 0.3327 - val_accuracy: 0.8600\n",
      "Epoch 147/200\n",
      "117/117 [==============================] - 0s 3ms/step - loss: 0.3468 - accuracy: 0.8768 - val_loss: 0.3341 - val_accuracy: 0.8600\n",
      "Epoch 148/200\n",
      "117/117 [==============================] - 0s 3ms/step - loss: 0.3447 - accuracy: 0.8771 - val_loss: 0.3342 - val_accuracy: 0.8600\n",
      "Epoch 149/200\n",
      "117/117 [==============================] - 0s 3ms/step - loss: 0.3469 - accuracy: 0.8765 - val_loss: 0.3327 - val_accuracy: 0.8567\n",
      "Epoch 150/200\n",
      "117/117 [==============================] - 0s 3ms/step - loss: 0.3433 - accuracy: 0.8780 - val_loss: 0.3339 - val_accuracy: 0.8533\n",
      "Epoch 151/200\n",
      "117/117 [==============================] - 0s 3ms/step - loss: 0.3454 - accuracy: 0.8776 - val_loss: 0.3314 - val_accuracy: 0.8600\n",
      "Epoch 152/200\n",
      "117/117 [==============================] - 0s 3ms/step - loss: 0.3422 - accuracy: 0.8788 - val_loss: 0.3325 - val_accuracy: 0.8583\n",
      "Epoch 153/200\n",
      "117/117 [==============================] - 0s 3ms/step - loss: 0.3413 - accuracy: 0.8791 - val_loss: 0.3339 - val_accuracy: 0.8583\n",
      "Epoch 154/200\n",
      "117/117 [==============================] - 0s 3ms/step - loss: 0.3416 - accuracy: 0.8792 - val_loss: 0.3338 - val_accuracy: 0.8567\n",
      "Epoch 155/200\n",
      "117/117 [==============================] - 0s 3ms/step - loss: 0.3425 - accuracy: 0.8774 - val_loss: 0.3275 - val_accuracy: 0.8583\n",
      "Epoch 156/200\n",
      "117/117 [==============================] - 0s 3ms/step - loss: 0.3408 - accuracy: 0.8792 - val_loss: 0.3310 - val_accuracy: 0.8600\n",
      "Epoch 157/200\n",
      "117/117 [==============================] - 0s 3ms/step - loss: 0.3401 - accuracy: 0.8785 - val_loss: 0.3295 - val_accuracy: 0.8617\n",
      "Epoch 158/200\n",
      "117/117 [==============================] - 0s 3ms/step - loss: 0.3396 - accuracy: 0.8783 - val_loss: 0.3302 - val_accuracy: 0.8600\n",
      "Epoch 159/200\n",
      "117/117 [==============================] - 0s 3ms/step - loss: 0.3406 - accuracy: 0.8783 - val_loss: 0.3309 - val_accuracy: 0.8567\n",
      "Epoch 160/200\n",
      "117/117 [==============================] - 0s 3ms/step - loss: 0.3397 - accuracy: 0.8788 - val_loss: 0.3279 - val_accuracy: 0.8567\n",
      "Epoch 161/200\n",
      "117/117 [==============================] - 0s 3ms/step - loss: 0.3371 - accuracy: 0.8802 - val_loss: 0.3304 - val_accuracy: 0.8567\n",
      "Epoch 162/200\n",
      "117/117 [==============================] - 0s 3ms/step - loss: 0.3385 - accuracy: 0.8801 - val_loss: 0.3298 - val_accuracy: 0.8633\n",
      "Epoch 163/200\n",
      "117/117 [==============================] - 0s 3ms/step - loss: 0.3353 - accuracy: 0.8803 - val_loss: 0.3289 - val_accuracy: 0.8617\n",
      "Epoch 164/200\n",
      "117/117 [==============================] - 0s 3ms/step - loss: 0.3360 - accuracy: 0.8807 - val_loss: 0.3267 - val_accuracy: 0.8600\n",
      "Epoch 165/200\n",
      "117/117 [==============================] - 0s 3ms/step - loss: 0.3365 - accuracy: 0.8815 - val_loss: 0.3306 - val_accuracy: 0.8617\n",
      "Epoch 166/200\n",
      "117/117 [==============================] - 0s 3ms/step - loss: 0.3377 - accuracy: 0.8805 - val_loss: 0.3265 - val_accuracy: 0.8600\n",
      "Epoch 167/200\n",
      "117/117 [==============================] - 0s 3ms/step - loss: 0.3371 - accuracy: 0.8819 - val_loss: 0.3239 - val_accuracy: 0.8667\n",
      "Epoch 168/200\n",
      "117/117 [==============================] - 0s 3ms/step - loss: 0.3341 - accuracy: 0.8815 - val_loss: 0.3255 - val_accuracy: 0.8617\n",
      "Epoch 169/200\n",
      "117/117 [==============================] - 0s 3ms/step - loss: 0.3357 - accuracy: 0.8806 - val_loss: 0.3256 - val_accuracy: 0.8650\n",
      "Epoch 170/200\n",
      "117/117 [==============================] - 0s 3ms/step - loss: 0.3346 - accuracy: 0.8815 - val_loss: 0.3254 - val_accuracy: 0.8633\n",
      "Epoch 171/200\n",
      "117/117 [==============================] - 0s 3ms/step - loss: 0.3345 - accuracy: 0.8806 - val_loss: 0.3246 - val_accuracy: 0.8617\n",
      "Epoch 172/200\n",
      "117/117 [==============================] - 0s 3ms/step - loss: 0.3323 - accuracy: 0.8824 - val_loss: 0.3215 - val_accuracy: 0.8650\n",
      "Epoch 173/200\n",
      "117/117 [==============================] - 0s 3ms/step - loss: 0.3338 - accuracy: 0.8822 - val_loss: 0.3225 - val_accuracy: 0.8633\n",
      "Epoch 174/200\n",
      "117/117 [==============================] - 0s 3ms/step - loss: 0.3298 - accuracy: 0.8835 - val_loss: 0.3226 - val_accuracy: 0.8633\n",
      "Epoch 175/200\n",
      "117/117 [==============================] - 0s 3ms/step - loss: 0.3316 - accuracy: 0.8816 - val_loss: 0.3221 - val_accuracy: 0.8633\n",
      "Epoch 176/200\n",
      "117/117 [==============================] - 0s 3ms/step - loss: 0.3308 - accuracy: 0.8829 - val_loss: 0.3223 - val_accuracy: 0.8650\n",
      "Epoch 177/200\n",
      "117/117 [==============================] - 0s 3ms/step - loss: 0.3322 - accuracy: 0.8823 - val_loss: 0.3233 - val_accuracy: 0.8633\n",
      "Epoch 178/200\n",
      "117/117 [==============================] - 0s 3ms/step - loss: 0.3316 - accuracy: 0.8815 - val_loss: 0.3224 - val_accuracy: 0.8667\n",
      "Epoch 179/200\n",
      "117/117 [==============================] - 0s 3ms/step - loss: 0.3315 - accuracy: 0.8827 - val_loss: 0.3225 - val_accuracy: 0.8633\n",
      "Epoch 180/200\n",
      "117/117 [==============================] - 0s 3ms/step - loss: 0.3272 - accuracy: 0.8828 - val_loss: 0.3235 - val_accuracy: 0.8650\n",
      "Epoch 181/200\n",
      "117/117 [==============================] - 0s 3ms/step - loss: 0.3275 - accuracy: 0.8837 - val_loss: 0.3258 - val_accuracy: 0.8567\n",
      "Epoch 182/200\n",
      "117/117 [==============================] - 0s 3ms/step - loss: 0.3293 - accuracy: 0.8823 - val_loss: 0.3199 - val_accuracy: 0.8650\n",
      "Epoch 183/200\n",
      "117/117 [==============================] - 0s 3ms/step - loss: 0.3294 - accuracy: 0.8819 - val_loss: 0.3229 - val_accuracy: 0.8650\n",
      "Epoch 184/200\n",
      "117/117 [==============================] - 0s 3ms/step - loss: 0.3279 - accuracy: 0.8825 - val_loss: 0.3208 - val_accuracy: 0.8700\n",
      "Epoch 185/200\n",
      "117/117 [==============================] - 0s 3ms/step - loss: 0.3286 - accuracy: 0.8826 - val_loss: 0.3193 - val_accuracy: 0.8717\n",
      "Epoch 186/200\n",
      "117/117 [==============================] - 0s 3ms/step - loss: 0.3260 - accuracy: 0.8829 - val_loss: 0.3201 - val_accuracy: 0.8667\n",
      "Epoch 187/200\n",
      "117/117 [==============================] - 0s 3ms/step - loss: 0.3255 - accuracy: 0.8847 - val_loss: 0.3215 - val_accuracy: 0.8650\n",
      "Epoch 188/200\n",
      "117/117 [==============================] - 0s 3ms/step - loss: 0.3260 - accuracy: 0.8847 - val_loss: 0.3180 - val_accuracy: 0.8667\n",
      "Epoch 189/200\n",
      "117/117 [==============================] - 0s 3ms/step - loss: 0.3258 - accuracy: 0.8842 - val_loss: 0.3214 - val_accuracy: 0.8650\n",
      "Epoch 190/200\n",
      "117/117 [==============================] - 0s 3ms/step - loss: 0.3244 - accuracy: 0.8840 - val_loss: 0.3215 - val_accuracy: 0.8650\n",
      "Epoch 191/200\n",
      "117/117 [==============================] - 0s 3ms/step - loss: 0.3272 - accuracy: 0.8828 - val_loss: 0.3181 - val_accuracy: 0.8667\n",
      "Epoch 192/200\n",
      "117/117 [==============================] - 0s 3ms/step - loss: 0.3227 - accuracy: 0.8845 - val_loss: 0.3183 - val_accuracy: 0.8700\n",
      "Epoch 193/200\n",
      "117/117 [==============================] - 0s 3ms/step - loss: 0.3250 - accuracy: 0.8840 - val_loss: 0.3183 - val_accuracy: 0.8717\n",
      "Epoch 194/200\n",
      "117/117 [==============================] - 0s 3ms/step - loss: 0.3230 - accuracy: 0.8850 - val_loss: 0.3199 - val_accuracy: 0.8700\n",
      "Epoch 195/200\n",
      "117/117 [==============================] - 0s 3ms/step - loss: 0.3223 - accuracy: 0.8844 - val_loss: 0.3167 - val_accuracy: 0.8667\n",
      "Epoch 196/200\n",
      "117/117 [==============================] - 0s 3ms/step - loss: 0.3235 - accuracy: 0.8850 - val_loss: 0.3186 - val_accuracy: 0.8700\n",
      "Epoch 197/200\n",
      "117/117 [==============================] - 0s 2ms/step - loss: 0.3215 - accuracy: 0.8860 - val_loss: 0.3185 - val_accuracy: 0.8667\n",
      "Epoch 198/200\n",
      "117/117 [==============================] - 0s 3ms/step - loss: 0.3237 - accuracy: 0.8851 - val_loss: 0.3169 - val_accuracy: 0.8700\n",
      "Epoch 199/200\n",
      "117/117 [==============================] - 0s 3ms/step - loss: 0.3229 - accuracy: 0.8851 - val_loss: 0.3174 - val_accuracy: 0.8617\n",
      "Epoch 200/200\n",
      "117/117 [==============================] - 0s 3ms/step - loss: 0.3197 - accuracy: 0.8859 - val_loss: 0.3146 - val_accuracy: 0.8633\n"
     ]
    }
   ],
   "source": [
    "model = keras.Sequential([\n",
    "    keras.layers.Flatten(input_shape=(28, 28)),\n",
    "    keras.layers.Dense(256, activation='relu'),\n",
    "    keras.layers.Dropout(0.5),\n",
    "    keras.layers.Dense(10, activation='softmax')\n",
    "])\n",
    "\n",
    "model.compile(optimizer='adam',loss='sparse_categorical_crossentropy',\n",
    "              metrics=['accuracy'])\n",
    "\n",
    "history= model.fit(X_train, y_train, epochs=200, batch_size=512, validation_data=(X_valid, y_valid))"
   ]
  },
  {
   "cell_type": "code",
   "execution_count": 26,
   "id": "2b357cef",
   "metadata": {},
   "outputs": [
    {
     "data": {
      "image/png": "[encoded data removed]",
      "text/plain": [
       "<Figure size 432x288 with 1 Axes>"
      ]
     },
     "metadata": {
      "needs_background": "light"
     },
     "output_type": "display_data"
    }
   ],
   "source": [
    "y_vloss = history.history['val_loss']\n",
    "y_loss = history.history['loss']\n",
    "x_len = np.arange(len(y_loss))\n",
    "\n",
    "plt.plot(x_len, y_vloss, marker='.', c='red', label=\"Validation-set Loss\")\n",
    "plt.plot(x_len, y_loss, marker='.', c='blue', label=\"Train-set Loss\")\n",
    "plt.legend(loc='upper right')\n",
    "plt.grid()\n",
    "plt.ylim(0,1)\n",
    "plt.title('Loss graph with dropout layer') \n",
    "plt.xlabel('epoch')\n",
    "plt.ylabel('loss')\n",
    "plt.show()"
   ]
  },
  {
   "cell_type": "code",
   "execution_count": 27,
   "id": "69738914",
   "metadata": {},
   "outputs": [
    {
     "data": {
      "image/png": "[encoded data removed]",
      "text/plain": [
       "<Figure size 432x288 with 1 Axes>"
      ]
     },
     "metadata": {
      "needs_background": "light"
     },
     "output_type": "display_data"
    }
   ],
   "source": [
    "y_vacc = history.history['val_accuracy']\n",
    "y_acc = history.history['accuracy']\n",
    "x_len = np.arange(len(y_acc))\n",
    "\n",
    "plt.plot(x_len, y_vacc, marker='.', c='red', label=\"Validation-set accuracy\")\n",
    "plt.plot(x_len, y_acc, marker='.', c='blue', label=\"Train-set accuracy\")\n",
    "plt.legend(loc='lower right')\n",
    "plt.grid()\n",
    "plt.ylim(0.5,1) \n",
    "plt.title('Accuracy graph with dropout layer') \n",
    "plt.xlabel('epoch')\n",
    "plt.ylabel('accuracy')\n",
    "plt.show()"
   ]
  },
  {
   "cell_type": "markdown",
   "id": "8b68d676",
   "metadata": {},
   "source": [
    "- 좋은 데이터로 임의로 오버피팅을 유도한 것이 좀 억지스럽지만, Dropout layer 하나만으로 오버피팅을 막고, 두 데이터셋이 정확도도 비슷하게 나옴을 확인했다. \n",
    "- 더 복잡한 네트워크나, 더 어려운 데이터의 경우 오버피팅이 자주 있는 일이기 때문에, dropout layer를 추가하는 경우가 많다. \n",
    "- 이 또한 확률 값이 파라미터로 들어가기에, 어떤 값을 선택하는지는 데이터와 네트워크에 따라 다르다. "
   ]
  },
  {
   "cell_type": "markdown",
   "id": "8a4d9190",
   "metadata": {},
   "source": [
    "## Batch Normalization\n",
    "- Batch Normalization은 gradient vanishing, explode 문제를 해결하는 방법이다.\n",
    "- 논문 알고리즘의 수식에서 normalize 분모에 ϵ가 추가되었다는 점이 중요한데, 이로 인해 normalize 과정에서 gradient가 사라지거나 폭등하는 것을 막을 수 있다. \n",
    "- 기존의 z-score로 normalize하는 과정과 같지만, 이 부분을 추가하는 것만으로도 오버피팅이나 학습이 잘 되지 않는 것을 막을 수 있게 된다.  \n",
    "\n",
    "단순 fully connected layer와 Batch Normalization layer를 추가한 실험을 비교해보자. 정확도 비교와 속도의 차이에 중점을 두자. "
   ]
  },
  {
   "cell_type": "code",
   "execution_count": 28,
   "id": "3180f2cb",
   "metadata": {},
   "outputs": [],
   "source": [
    "import tensorflow as tf\n",
    "from tensorflow import keras\n",
    "import numpy as np\n",
    "import matplotlib.pyplot as plt\n",
    "\n",
    "fashion_mnist = keras.datasets.fashion_mnist"
   ]
  },
  {
   "cell_type": "code",
   "execution_count": 29,
   "id": "8fca1baa",
   "metadata": {},
   "outputs": [],
   "source": [
    "(train_images, train_labels), (test_images, test_labels) = fashion_mnist.load_data()\n",
    "class_names = ['T-shirt/top', 'Trouser', 'Pullover', 'Dress', 'Coat',\n",
    "               'Sandal', 'Shirt', 'Sneaker', 'Bag', 'Ankle boot']\n",
    "\n",
    "train_images = train_images / 255.0\n",
    "test_images = test_images / 255.0"
   ]
  },
  {
   "cell_type": "code",
   "execution_count": 30,
   "id": "d84d60b0",
   "metadata": {},
   "outputs": [
    {
     "name": "stdout",
     "output_type": "stream",
     "text": [
      "Epoch 1/20\n",
      "21/21 [==============================] - 1s 26ms/step - loss: 1.2077 - accuracy: 0.6165 - val_loss: 0.7428 - val_accuracy: 0.7436\n",
      "Epoch 2/20\n",
      "21/21 [==============================] - 0s 7ms/step - loss: 0.6468 - accuracy: 0.7816 - val_loss: 0.5878 - val_accuracy: 0.8043\n",
      "Epoch 3/20\n",
      "21/21 [==============================] - 0s 6ms/step - loss: 0.5484 - accuracy: 0.8168 - val_loss: 0.5267 - val_accuracy: 0.8218\n",
      "Epoch 4/20\n",
      "21/21 [==============================] - 0s 6ms/step - loss: 0.5027 - accuracy: 0.8315 - val_loss: 0.4980 - val_accuracy: 0.8314\n",
      "Epoch 5/20\n",
      "21/21 [==============================] - 0s 6ms/step - loss: 0.4748 - accuracy: 0.8400 - val_loss: 0.4791 - val_accuracy: 0.8371\n",
      "Epoch 6/20\n",
      "21/21 [==============================] - 0s 6ms/step - loss: 0.4558 - accuracy: 0.8438 - val_loss: 0.4596 - val_accuracy: 0.8429\n",
      "Epoch 7/20\n",
      "21/21 [==============================] - 0s 6ms/step - loss: 0.4400 - accuracy: 0.8505 - val_loss: 0.4463 - val_accuracy: 0.8473\n",
      "Epoch 8/20\n",
      "21/21 [==============================] - 0s 6ms/step - loss: 0.4253 - accuracy: 0.8547 - val_loss: 0.4362 - val_accuracy: 0.8499\n",
      "Epoch 9/20\n",
      "21/21 [==============================] - 0s 6ms/step - loss: 0.4129 - accuracy: 0.8594 - val_loss: 0.4289 - val_accuracy: 0.8537\n",
      "Epoch 10/20\n",
      "21/21 [==============================] - 0s 6ms/step - loss: 0.4021 - accuracy: 0.8629 - val_loss: 0.4184 - val_accuracy: 0.8556\n",
      "Epoch 11/20\n",
      "21/21 [==============================] - 0s 6ms/step - loss: 0.3953 - accuracy: 0.8654 - val_loss: 0.4112 - val_accuracy: 0.8596\n",
      "Epoch 12/20\n",
      "21/21 [==============================] - 0s 6ms/step - loss: 0.3844 - accuracy: 0.8691 - val_loss: 0.4075 - val_accuracy: 0.8588\n",
      "Epoch 13/20\n",
      "21/21 [==============================] - 0s 6ms/step - loss: 0.3800 - accuracy: 0.8696 - val_loss: 0.4056 - val_accuracy: 0.8582\n",
      "Epoch 14/20\n",
      "21/21 [==============================] - 0s 6ms/step - loss: 0.3743 - accuracy: 0.8717 - val_loss: 0.3988 - val_accuracy: 0.8626\n",
      "Epoch 15/20\n",
      "21/21 [==============================] - 0s 6ms/step - loss: 0.3645 - accuracy: 0.8759 - val_loss: 0.3934 - val_accuracy: 0.8636\n",
      "Epoch 16/20\n",
      "21/21 [==============================] - 0s 6ms/step - loss: 0.3604 - accuracy: 0.8767 - val_loss: 0.3948 - val_accuracy: 0.8626\n",
      "Epoch 17/20\n",
      "21/21 [==============================] - 0s 6ms/step - loss: 0.3564 - accuracy: 0.8777 - val_loss: 0.3841 - val_accuracy: 0.8666\n",
      "Epoch 18/20\n",
      "21/21 [==============================] - 0s 6ms/step - loss: 0.3477 - accuracy: 0.8802 - val_loss: 0.3823 - val_accuracy: 0.8673\n",
      "Epoch 19/20\n",
      "21/21 [==============================] - 0s 6ms/step - loss: 0.3484 - accuracy: 0.8794 - val_loss: 0.3935 - val_accuracy: 0.8613\n",
      "Epoch 20/20\n",
      "21/21 [==============================] - 0s 6ms/step - loss: 0.3431 - accuracy: 0.8818 - val_loss: 0.3806 - val_accuracy: 0.8677\n"
     ]
    }
   ],
   "source": [
    "from sklearn.model_selection import train_test_split\n",
    "\n",
    "X_train, X_valid, y_train, y_valid = train_test_split(train_images, train_labels, test_size=0.3, random_state=101)\n",
    "\n",
    "model = keras.Sequential([\n",
    "    keras.layers.Flatten(input_shape=(28, 28)),\n",
    "    keras.layers.Dense(128, activation='relu'),\n",
    "    keras.layers.Dense(10, activation='softmax')\n",
    "])\n",
    "\n",
    "model.compile(optimizer='adam',loss='sparse_categorical_crossentropy',\n",
    "              metrics=['accuracy'])\n",
    "\n",
    "history= model.fit(X_train, y_train, epochs=20, batch_size=2048, validation_data=(X_valid, y_valid))"
   ]
  },
  {
   "cell_type": "code",
   "execution_count": 31,
   "id": "4ca5ae0f",
   "metadata": {},
   "outputs": [
    {
     "data": {
      "image/png": "[encoded data removed]",
      "text/plain": [
       "<Figure size 432x288 with 1 Axes>"
      ]
     },
     "metadata": {
      "needs_background": "light"
     },
     "output_type": "display_data"
    }
   ],
   "source": [
    "y_vloss = history.history['val_loss']\n",
    "y_loss = history.history['loss']\n",
    "x_len = np.arange(len(y_loss))\n",
    "\n",
    "plt.plot(x_len, y_vloss, marker='.', c='red', label=\"Validation-set Loss\")\n",
    "plt.plot(x_len, y_loss, marker='.', c='blue', label=\"Train-set Loss\")\n",
    "plt.legend(loc='upper right')\n",
    "plt.grid()\n",
    "plt.ylim(0,1)\n",
    "plt.title('Loss graph without batch normalization') \n",
    "plt.xlabel('epoch')\n",
    "plt.ylabel('loss')\n",
    "plt.show()"
   ]
  },
  {
   "cell_type": "code",
   "execution_count": 32,
   "id": "1bbe8681",
   "metadata": {},
   "outputs": [
    {
     "data": {
      "image/png": "[encoded data removed]",
      "text/plain": [
       "<Figure size 432x288 with 1 Axes>"
      ]
     },
     "metadata": {
      "needs_background": "light"
     },
     "output_type": "display_data"
    }
   ],
   "source": [
    "y_vacc = history.history['val_accuracy']\n",
    "y_acc = history.history['accuracy']\n",
    "x_len = np.arange(len(y_acc))\n",
    "\n",
    "plt.plot(x_len, y_vacc, marker='.', c='red', label=\"Validation-set accuracy\")\n",
    "plt.plot(x_len, y_acc, marker='.', c='blue', label=\"Train-set accuracy\")\n",
    "plt.legend(loc='lower right')\n",
    "plt.grid()\n",
    "plt.ylim(0.5,1)\n",
    "plt.title('Accuracy graph without batch normalization') \n",
    "plt.xlabel('epoch')\n",
    "plt.ylabel('accuracy')\n",
    "plt.show()"
   ]
  },
  {
   "cell_type": "markdown",
   "id": "c8cdf585",
   "metadata": {},
   "source": [
    "- 이제 Batch Normalization layer를 추가해보자. "
   ]
  },
  {
   "cell_type": "code",
   "execution_count": 33,
   "id": "568be8b5",
   "metadata": {},
   "outputs": [
    {
     "name": "stdout",
     "output_type": "stream",
     "text": [
      "Epoch 1/20\n",
      "21/21 [==============================] - 1s 18ms/step - loss: 0.9686 - accuracy: 0.6774 - val_loss: 1.1270 - val_accuracy: 0.6317\n",
      "Epoch 2/20\n",
      "21/21 [==============================] - 0s 6ms/step - loss: 0.5287 - accuracy: 0.8210 - val_loss: 0.8752 - val_accuracy: 0.7403\n",
      "Epoch 3/20\n",
      "21/21 [==============================] - 0s 7ms/step - loss: 0.4654 - accuracy: 0.8415 - val_loss: 0.7496 - val_accuracy: 0.7967\n",
      "Epoch 4/20\n",
      "21/21 [==============================] - 0s 6ms/step - loss: 0.4279 - accuracy: 0.8527 - val_loss: 0.6836 - val_accuracy: 0.8148\n",
      "Epoch 5/20\n",
      "21/21 [==============================] - 0s 7ms/step - loss: 0.4007 - accuracy: 0.8612 - val_loss: 0.6178 - val_accuracy: 0.8350\n",
      "Epoch 6/20\n",
      "21/21 [==============================] - 0s 6ms/step - loss: 0.3787 - accuracy: 0.8696 - val_loss: 0.5863 - val_accuracy: 0.8384\n",
      "Epoch 7/20\n",
      "21/21 [==============================] - 0s 6ms/step - loss: 0.3605 - accuracy: 0.8760 - val_loss: 0.5428 - val_accuracy: 0.8515\n",
      "Epoch 8/20\n",
      "21/21 [==============================] - 0s 7ms/step - loss: 0.3459 - accuracy: 0.8810 - val_loss: 0.5143 - val_accuracy: 0.8548\n",
      "Epoch 9/20\n",
      "21/21 [==============================] - 0s 6ms/step - loss: 0.3314 - accuracy: 0.8850 - val_loss: 0.4909 - val_accuracy: 0.8586\n",
      "Epoch 10/20\n",
      "21/21 [==============================] - 0s 7ms/step - loss: 0.3179 - accuracy: 0.8896 - val_loss: 0.4619 - val_accuracy: 0.8617\n",
      "Epoch 11/20\n",
      "21/21 [==============================] - 0s 7ms/step - loss: 0.3063 - accuracy: 0.8925 - val_loss: 0.4489 - val_accuracy: 0.8642\n",
      "Epoch 12/20\n",
      "21/21 [==============================] - 0s 6ms/step - loss: 0.2965 - accuracy: 0.8952 - val_loss: 0.4221 - val_accuracy: 0.8706\n",
      "Epoch 13/20\n",
      "21/21 [==============================] - 0s 6ms/step - loss: 0.2878 - accuracy: 0.8990 - val_loss: 0.4247 - val_accuracy: 0.8658\n",
      "Epoch 14/20\n",
      "21/21 [==============================] - 0s 7ms/step - loss: 0.2810 - accuracy: 0.9011 - val_loss: 0.4020 - val_accuracy: 0.8705\n",
      "Epoch 15/20\n",
      "21/21 [==============================] - 0s 6ms/step - loss: 0.2731 - accuracy: 0.9039 - val_loss: 0.3868 - val_accuracy: 0.8714\n",
      "Epoch 16/20\n",
      "21/21 [==============================] - 0s 6ms/step - loss: 0.2639 - accuracy: 0.9071 - val_loss: 0.3791 - val_accuracy: 0.8758\n",
      "Epoch 17/20\n",
      "21/21 [==============================] - 0s 6ms/step - loss: 0.2544 - accuracy: 0.9102 - val_loss: 0.3655 - val_accuracy: 0.8758\n",
      "Epoch 18/20\n",
      "21/21 [==============================] - 0s 6ms/step - loss: 0.2487 - accuracy: 0.9115 - val_loss: 0.3828 - val_accuracy: 0.8682\n",
      "Epoch 19/20\n",
      "21/21 [==============================] - 0s 7ms/step - loss: 0.2408 - accuracy: 0.9153 - val_loss: 0.3540 - val_accuracy: 0.8779\n",
      "Epoch 20/20\n",
      "21/21 [==============================] - 0s 6ms/step - loss: 0.2349 - accuracy: 0.9183 - val_loss: 0.3488 - val_accuracy: 0.8812\n"
     ]
    }
   ],
   "source": [
    "model = keras.Sequential([\n",
    "    keras.layers.Flatten(input_shape=(28, 28)),\n",
    "    keras.layers.Dense(128, activation='relu'),\n",
    "    keras.layers.BatchNormalization(),\n",
    "    keras.layers.Dense(10, activation='softmax')\n",
    "])\n",
    "\n",
    "model.compile(optimizer='adam',loss='sparse_categorical_crossentropy',\n",
    "              metrics=['accuracy'])\n",
    "\n",
    "history= model.fit(X_train, y_train, epochs=20, batch_size=2048, validation_data=(X_valid, y_valid))"
   ]
  },
  {
   "cell_type": "code",
   "execution_count": 34,
   "id": "6fcee973",
   "metadata": {},
   "outputs": [
    {
     "data": {
      "image/png": "[encoded data removed]",
      "text/plain": [
       "<Figure size 432x288 with 1 Axes>"
      ]
     },
     "metadata": {
      "needs_background": "light"
     },
     "output_type": "display_data"
    }
   ],
   "source": [
    "y_vloss = history.history['val_loss']\n",
    "y_loss = history.history['loss']\n",
    "x_len = np.arange(len(y_loss))\n",
    "\n",
    "plt.plot(x_len, y_vloss, marker='.', c='red', label=\"Validation-set Loss\")\n",
    "plt.plot(x_len, y_loss, marker='.', c='blue', label=\"Train-set Loss\")\n",
    "plt.legend(loc='upper right')\n",
    "plt.grid()\n",
    "plt.ylim(0,1)\n",
    "plt.title('Loss graph with batch normalization') \n",
    "plt.xlabel('epoch')\n",
    "plt.ylabel('loss')\n",
    "plt.show()"
   ]
  },
  {
   "cell_type": "code",
   "execution_count": 35,
   "id": "19def6b1",
   "metadata": {},
   "outputs": [
    {
     "data": {
      "image/png": "[encoded data removed]",
      "text/plain": [
       "<Figure size 432x288 with 1 Axes>"
      ]
     },
     "metadata": {
      "needs_background": "light"
     },
     "output_type": "display_data"
    }
   ],
   "source": [
    "y_vacc = history.history['val_accuracy']\n",
    "y_acc = history.history['accuracy']\n",
    "x_len = np.arange(len(y_acc))\n",
    "\n",
    "plt.plot(x_len, y_vacc, marker='.', c='red', label=\"Validation-set accuracy\")\n",
    "plt.plot(x_len, y_acc, marker='.', c='blue', label=\"Train-set accuracy\")\n",
    "plt.legend(loc='lower right')\n",
    "plt.grid()\n",
    "plt.ylim(0.5,1) \n",
    "plt.title('Accurcy graph with batch normalization') \n",
    "plt.xlabel('epoch')\n",
    "plt.ylabel('accuracy')\n",
    "plt.show()"
   ]
  },
  {
   "cell_type": "markdown",
   "id": "b41aafb8",
   "metadata": {},
   "source": [
    "- 기존의 fully connected layer도 낮지 않은 결과를 보이나, Batch Normalization을 추가하니 좀 더 빠르게 정확도 상승이 있었다. \n",
    "- 또한 loss 함수의 감소도 더 빨라짐을 볼 수 있다. 즉, Batch Normalization을 통해 이미지가 정규화되면서 좀 더 고른 분포를 가지며, ϵ로 인해 안정적인 학습이 가능해진다. "
   ]
  },
  {
   "cell_type": "markdown",
   "id": "aaa1694b",
   "metadata": {},
   "source": [
    "## 회고\n",
    "- Regularization은 CS231n이나 다른 노드를 공부하면서 꽤나 접했던 개념인데, 아직까지 명확하게 머릿속에 정리되어 있지는 않았던 것 같다. \n",
    "- 특히 L1, L2 norm에 대해 이전보다는 조금 더 이해도가 높아진 것 같다. 고등학교 때 잠깐 접했던 택시기하랑 연관이 있었다니...\n",
    "- Batch Normalization 부분은 CS231n 강의 정리를 못해서 아직 어렴풋이 이해한 것 같아 다른 자료도 더 찾아보고 공부해야 할 것 같다. "
   ]
  }
 ],
 "metadata": {
  "kernelspec": {
   "display_name": "Python 3 (ipykernel)",
   "language": "python",
   "name": "python3"
  },
  "language_info": {
   "codemirror_mode": {
    "name": "ipython",
    "version": 3
   },
   "file_extension": ".py",
   "mimetype": "text/x-python",
   "name": "python",
   "nbconvert_exporter": "python",
   "pygments_lexer": "ipython3",
   "version": "3.9.7"
  }
 },
 "nbformat": 4,
 "nbformat_minor": 5
}

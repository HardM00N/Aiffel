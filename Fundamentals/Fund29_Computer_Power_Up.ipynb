{
 "cells": [
  {
   "cell_type": "markdown",
   "id": "a00c5191",
   "metadata": {},
   "source": [
    "# Fund29. 컴퓨터 파워 UP\n",
    "## 멀티태스킹 (1) 멀티태스킹이란?\n",
    "멀티태스킹에는 동시성, 병렬성의 2가지 동작 방식이 있다. \n",
    "- 동시성(Concurrency) : 하나의 processor가 여러 가지 task를 동시에 수행하는 개념을 **동시성**이라고 한다. 실제로는 그 processor는 특정 순간에는 1가지 task만을 수행하겠지만, 다른 task를 수행할 수 있는 시간에는 task를 전환해서 효율적으로 여러 개의 task를 동시에 수행하는 것처럼 보이는 것이다.  \n",
    "- 병렬성(Parallelism) : 유사한 task를 여러 processor가 동시에 수행하는 것을 병렬성이라고 한다. \n",
    "- 병렬성이 효율을 극대화하는 것은 동시성이 요구될 때다. 이 때, 여러 개의 processor가 1개의 task를 여러 개의 subtask르 쪼개 병렬적으로 수행할 수 있기 때문이다.  \n",
    "\n",
    "\n",
    "### 동기 vs 비동기 (Synchronous vs Asynchronous)\n",
    "- 동기와 비동기는 동시성에서 주로 다루는 개념이다. 어떤 일을 바로 하지 못하고 대기해야 할 때 컴퓨터에서는 \"바운드(bound)되엇다\"라는 표현을 많이 쓴다. 어떤 일이 바운드되고 있으면 이걸 계속 기다릴지, 다른 걸 실행하는 것이 좋을지 고민할 수 있다. \n",
    "- 앞 작업이 종료되기를 무조건 기다렸다가 다음 작업을 수행하는 것은 동기(synchronized) 방식이라고 한다. 반대로 바운드되고 있는 작업을 기다리는 동안 다른 일을 처리하는 것을 비동기(asynchronous) 방식이라고 한다. \n",
    "- 동기 : 어떤 일이 순차적으로 실행됨. 요청과 요청에 대한 응답이 연속적으로 실행됨(따라서 요청에 지연이 발생하더라도 계속 대기한다)\n",
    "- 비동기 : 어떤 일이 비순차적으로 실행됨. 요청과 요청에 대한 응답이 연속적으로 실행되지 않음. 특정 코드의 연산이 끝날 때까지 코드의 실행을 멈추지 않고 다음 코드를 먼저 실행하며, 중간에 실행되는 코드는 주로 콜백함수로 연결하기도 한다.  \n",
    "\n",
    "\n",
    "### I/O Bound vs CPU Bound\n",
    "컴퓨터가 일을 수행하면서 뭔가 기다릴 때, 즉 속도에 제한이 걸릴 때는 2가지 상황에 해당하는 경우가 대부분이다. \n",
    "- I/O Bound : 입력과 출력에서의 데이터(파일)처리에 시간이 소요될 때\n",
    "- CPU Bound : 복잡한 수식 계산이나 그래픽 작업과 같은 엄청난 계산이 필요할 때"
   ]
  },
  {
   "cell_type": "markdown",
   "id": "6c827eaf",
   "metadata": {},
   "source": [
    "## 멀티태스킹 (2) 프로세스, 스레드, 프로파일링\n",
    "### 프로세스 (Process)\n",
    "- 하나의 프로그램을 실행할 때, 운영체제는 한 프로세스를 생성한다. 프로세스는 운영체제의 커널에서 시스템 자원 및 자료구조를 이용한다. \n",
    "- 프로세스는 \"프로그램을 구동해 프로그램 자체와 프로그램의 상태가 메모리 상에서 실행되는 작업 단위\"를 지칭한다. \n",
    "- 파이썬에서는 `os`라는 모듈에서 프로세스 관련 정보를 얻을 수 있다. "
   ]
  },
  {
   "cell_type": "code",
   "execution_count": 1,
   "id": "20706821",
   "metadata": {},
   "outputs": [
    {
     "name": "stdout",
     "output_type": "stream",
     "text": [
      "process ID: 306\n",
      "user ID: 0\n",
      "group ID: 0\n",
      "current Directory: /aiffel/aiffel\n"
     ]
    }
   ],
   "source": [
    "import os\n",
    "\n",
    "# process ID\n",
    "print(\"process ID:\", os.getpid())\n",
    "\n",
    "# user ID\n",
    "print(\"user ID:\", os.getuid())\n",
    "\n",
    "# group ID\n",
    "print(\"group ID:\", os.getgid())\n",
    "\n",
    "# 현재 작업 중인 디렉토리\n",
    "print(\"current Directory:\", os.getcwd())"
   ]
  },
  {
   "cell_type": "code",
   "execution_count": 2,
   "id": "20b560d5",
   "metadata": {},
   "outputs": [
    {
     "name": "stdout",
     "output_type": "stream",
     "text": [
      "root         306       7  6 03:01 ?        00:00:00 /opt/conda/bin/python -m ipykernel_launcher -f /aiffel/.local/share/jupyter/runtime/kernel-8e525c6b-315e-47b4-bfda-14cfee61407a.json\r\n",
      "root         322     306  0 03:02 pts/0    00:00:00 /bin/bash -c ps -ef | grep 306\r\n",
      "root         324     322  0 03:02 pts/0    00:00:00 grep 306\r\n"
     ]
    }
   ],
   "source": [
    "!ps -ef | grep 306"
   ]
  },
  {
   "cell_type": "markdown",
   "id": "55b4f72a",
   "metadata": {},
   "source": [
    "- 출력된 pid는 현재 jupyter 커널 프로세스였다.  \n",
    "\n",
    "\n",
    "### 스레드 (Thread)\n",
    "- 스레드는 어떤 프로그램 내, 특히 프로세스 내에서 실행되는 흐름의 단위다. \n",
    "- 프로세스도 자신만의 전용 메모리 공간(Heap)을 가진다. 이 때 해당 프로세스 내의 스레드들은 이 공간을 공유하지만 다른 프로세스와 공유하지는 않는다. \n",
    "- 스레드의 사용은 프로그램마다 다르다. 하나의 프로그램에서 여러 개의 스레드가 병렬적으로 처리되기도 하고, 가벼운 프로그램은 하나의 스레드를 가지기도 한다.  \n",
    "\n",
    "\n",
    "### 프로파일링 (Profiling)\n",
    "- 프로파일링이란 코드에서 시스템의 어느 부분이 느린지 혹은 RAM을 많이 사용하고 있는지를 확인하고 싶을 때 사용하는 기법이다. \n",
    "- 파이썬에서는 다음 명령어로 확인할 수 있다. "
   ]
  },
  {
   "cell_type": "code",
   "execution_count": 3,
   "id": "9083e70f",
   "metadata": {},
   "outputs": [],
   "source": [
    "%timeit"
   ]
  },
  {
   "cell_type": "code",
   "execution_count": 4,
   "id": "01a1fb11",
   "metadata": {},
   "outputs": [
    {
     "data": {
      "text/plain": [
       "1645585334.5762286"
      ]
     },
     "execution_count": 4,
     "metadata": {},
     "output_type": "execute_result"
    }
   ],
   "source": [
    "import time\n",
    "time.time()"
   ]
  },
  {
   "cell_type": "code",
   "execution_count": 5,
   "id": "099803a2",
   "metadata": {},
   "outputs": [
    {
     "data": {
      "text/plain": [
       "<timeit.Timer at 0x7f264c0cb280>"
      ]
     },
     "execution_count": 5,
     "metadata": {},
     "output_type": "execute_result"
    }
   ],
   "source": [
    "import timeit\n",
    "timeit.Timer()"
   ]
  },
  {
   "cell_type": "code",
   "execution_count": 6,
   "id": "a0d1aa02",
   "metadata": {},
   "outputs": [
    {
     "name": "stdout",
     "output_type": "stream",
     "text": [
      "set               : 1.6807625149995147 [ms]\n",
      "list              : 0.8004848170003243 [ms]\n",
      "tuple             : 0.7557866059996741 [ms]\n",
      "string            : 0.42687667999962287 [ms]\n",
      "set_add           : 5.706842617999428 [ms]\n",
      "list_append       : 5.262437666000551 [ms]\n",
      "set_comprehension : 3.4739122789997054 [ms]\n",
      "list_comprehension: 2.9223277880009846 [ms]\n"
     ]
    }
   ],
   "source": [
    "import timeit\n",
    "        \n",
    "def f1():\n",
    "    s = set(range(100))\n",
    "\n",
    "    \n",
    "def f2():\n",
    "    l = list(range(100))\n",
    "\n",
    "    \n",
    "def f3():\n",
    "    t = tuple(range(100))\n",
    "\n",
    "\n",
    "def f4():\n",
    "    s = str(range(100))\n",
    "\n",
    "    \n",
    "def f5():\n",
    "    s = set()\n",
    "    for i in range(100):\n",
    "        s.add(i)\n",
    "\n",
    "def f6():\n",
    "    l = []\n",
    "    for i in range(100):\n",
    "        l.append(i)\n",
    "    \n",
    "def f7():\n",
    "    s_comp = {i for i in range(100)}\n",
    "\n",
    "    \n",
    "def f8():\n",
    "    l_comp = [i for i in range(100)]\n",
    "    \n",
    "\n",
    "if __name__ == \"__main__\":\n",
    "    t1 = timeit.Timer(\"f1()\", \"from __main__ import f1\")\n",
    "    t2 = timeit.Timer(\"f2()\", \"from __main__ import f2\")\n",
    "    t3 = timeit.Timer(\"f3()\", \"from __main__ import f3\")\n",
    "    t4 = timeit.Timer(\"f4()\", \"from __main__ import f4\")\n",
    "    t5 = timeit.Timer(\"f5()\", \"from __main__ import f5\")\n",
    "    t6 = timeit.Timer(\"f6()\", \"from __main__ import f6\")\n",
    "    t7 = timeit.Timer(\"f7()\", \"from __main__ import f7\")\n",
    "    t8 = timeit.Timer(\"f8()\", \"from __main__ import f8\")\n",
    "    print(\"set               :\", t1.timeit(), '[ms]')\n",
    "    print(\"list              :\", t2.timeit(), '[ms]')\n",
    "    print(\"tuple             :\", t3.timeit(), '[ms]')\n",
    "    print(\"string            :\", t4.timeit(), '[ms]')\n",
    "    print(\"set_add           :\", t5.timeit(), '[ms]')\n",
    "    print(\"list_append       :\", t6.timeit(), '[ms]')\n",
    "    print(\"set_comprehension :\", t7.timeit(), '[ms]')\n",
    "    print(\"list_comprehension:\", t8.timeit(), '[ms]')"
   ]
  },
  {
   "cell_type": "markdown",
   "id": "d22faa93",
   "metadata": {},
   "source": [
    "- 이런 식으로 함수의 성능을 측정할 수 있다. 사실 이것은 시간을 측정하는 방법이라 프로파일링이라고 하기에 민망할 수도 있다. \n",
    "- 좀 더 엄밀히 말하면 프로파일링은 애플리케이션에서 가장 자원이 집중되는 지점을 정밀하게 찾아내는 기법이다. \n",
    "- 프로파일러는 애플리케이션을 실행시키고 각각의 함수 실행에 드는 시간을 찾아내는 프로그램이다. 즉, 코드의 병목(bottleneck)을 찾아내고 성능을 측정하는 도구다. \n",
    "- `profile` 모듈, `cProfile` 모듈과 `line_profiler` 패키지를 이용하면 높은 수준의 프로파일링이 가능하다. "
   ]
  },
  {
   "cell_type": "markdown",
   "id": "0d6be858",
   "metadata": {},
   "source": [
    "## 멀티태스킹 (3) Scale Up vs Scale Out\n",
    "- 프로그램과 성능에 대한 전반적인 개념에 대해서 살펴보았다. \n",
    "- 더 포괄적인 용어로 말하면 우리는 컴퓨터 자원을 활용하기 위해 자원을 Up(업그레이드, 최적화)시킬 수도 있고, 자원을 Out(확장)시킬 수도 있다. \n",
    "- Scale-Up은 한 대의 컴퓨터의 성능을 최적화시키는 방법이고, Scale-Out은 여러 대의 컴퓨터를 한 대처럼 사용하는 것이다. "
   ]
  },
  {
   "cell_type": "markdown",
   "id": "55b0c2af",
   "metadata": {},
   "source": [
    "## 파이썬에서 멀티스레드 사용하기 (1) 스레드 생성\n",
    "- 파이썬에서 멀티스레드의 구현은 `threading` 모듈을 이용한다.  \n",
    "\n",
    "\n",
    "### 기본 코드"
   ]
  },
  {
   "cell_type": "code",
   "execution_count": 7,
   "id": "12b60ef8",
   "metadata": {},
   "outputs": [
    {
     "name": "stdout",
     "output_type": "stream",
     "text": [
      "delivery\n",
      "Retriving Dish\n"
     ]
    }
   ],
   "source": [
    "# 음식 배달과 그릇 찾기 2가지 작업을 순차적으로 수행하는 코드\n",
    "class Delivery:\n",
    "    def run(self):\n",
    "        print(\"delivery\")\n",
    "        \n",
    "class RetriveDish:\n",
    "    def run(self):\n",
    "        print(\"Retriving Dish\")\n",
    "        \n",
    "work1 = Delivery()\n",
    "work2 = RetriveDish()\n",
    "\n",
    "def main():\n",
    "    work1.run()\n",
    "    work2.run()\n",
    "    \n",
    "if __name__ == '__main__':\n",
    "    main()"
   ]
  },
  {
   "cell_type": "markdown",
   "id": "73d5f15f",
   "metadata": {},
   "source": [
    "### 멀티 스레드\n",
    "다음과 같이 코드를 고쳐보자. \n",
    "- threading 모듈 import하고 클래스에 Thread 상속받기"
   ]
  },
  {
   "cell_type": "code",
   "execution_count": 8,
   "id": "e89feeba",
   "metadata": {},
   "outputs": [
    {
     "name": "stdout",
     "output_type": "stream",
     "text": [
      "delivery\n",
      "Retriving Dish\n"
     ]
    }
   ],
   "source": [
    "from threading import *\n",
    "\n",
    "class Delivery(Thread):\n",
    "\tdef run(self):\n",
    "\t\tprint(\"delivery\")\n",
    "\n",
    "class RetriveDish(Thread):\n",
    "\tdef run(self):\n",
    "\t\tprint(\"Retriving Dish\")\n",
    "\n",
    "work1 = Delivery()\n",
    "work2 = RetriveDish()\n",
    "\n",
    "def main():\n",
    "\twork1.run()\n",
    "\twork2.run()\n",
    "\n",
    "if __name__ == '__main__':\n",
    "    main()"
   ]
  },
  {
   "cell_type": "markdown",
   "id": "71fc3c26",
   "metadata": {},
   "source": [
    "### 스레드 생성 확인\n",
    "- 함수 이름을 출력하면 함수 객체를 확인할 수 있다. "
   ]
  },
  {
   "cell_type": "code",
   "execution_count": 9,
   "id": "2608a506",
   "metadata": {},
   "outputs": [
    {
     "name": "stdout",
     "output_type": "stream",
     "text": [
      "<bound method Delivery.run of <__main__.Delivery object at 0x7f264c087850>>\n",
      "<bound method Delivery.run of <Delivery(Thread-10, initial)>>\n"
     ]
    }
   ],
   "source": [
    "from threading import *\n",
    "\n",
    "class Delivery:\n",
    "    def run(self):\n",
    "        print(\"delivering\")\n",
    "\n",
    "work1 = Delivery()\n",
    "print(work1.run)\n",
    "\n",
    "class Delivery(Thread):\n",
    "    def run(self):\n",
    "        print(\"delivering\")\n",
    "\n",
    "work2 = Delivery()\n",
    "print(work2.run)"
   ]
  },
  {
   "cell_type": "markdown",
   "id": "37691223",
   "metadata": {},
   "source": [
    "## 파이썬에서 멀티스레드 사용하기 (2) 스레드 생성 및 사용\n",
    "### 스레드 생성\n",
    "- `threading` 모듈의 `Thread` 클래스를 상속받아서 구현할 수도 있지만 그대로 인스턴스화하여 스레드를 생성할 수도 있다. \n",
    "- 인스턴스화하려면 `Thread` 클래스에 인자로 `target`, `args` 값을 넣어준다. `args`에 넣은 파라미터는 스레드 함수의 인자로 넘어간다. \n",
    "- Thread 클래스에는 `start()`, `join()`과 같은 스레드 동작 관련 메서드가 있다. Thread로 실행할 함수를 정의 후 `start()`를 통해 스레드를 실행한다. "
   ]
  },
  {
   "cell_type": "code",
   "execution_count": 10,
   "id": "33d6be0d",
   "metadata": {},
   "outputs": [
    {
     "name": "stdout",
     "output_type": "stream",
     "text": [
      "do  Overwork\n",
      "do  Overwork\n",
      "do  Overwork\n",
      "do  Overwork\n",
      "do  Overwork\n"
     ]
    }
   ],
   "source": [
    "from threading import *\n",
    "from time import sleep\n",
    "\n",
    "Stopped = False\n",
    "\n",
    "def worker(work, sleep_sec):    # 일꾼 스레드\n",
    "    while not Stopped:          # 그만 하라고 할때까지\n",
    "        print('do ', work)      # 시키는 일을 하고\n",
    "        sleep(sleep_sec)        # 잠깐 쉰다.\n",
    "    print('retired..')          # 언젠가 이 굴레를 벗어나면, 은퇴할 때가 올 것이다!\n",
    "        \n",
    "t = Thread(target=worker, args=('Overwork', 3))    # 일꾼 스레드를 하나 생성한다. 열심히 일하고 3초간 쉰다.\n",
    "t.start()    # 일꾼, 이제 일을 해야지? 😈"
   ]
  },
  {
   "cell_type": "code",
   "execution_count": 11,
   "id": "e7c957fc",
   "metadata": {},
   "outputs": [
    {
     "name": "stdout",
     "output_type": "stream",
     "text": [
      "retired..\n",
      "worker is gone.\n"
     ]
    }
   ],
   "source": [
    "# 이 코드 블럭을 실행하기 전까지는 일꾼 스레드는 종료하지 않는다.\n",
    "Stopped = True    # 일꾼 일 그만하라고 세팅한다.\n",
    "t.join()          # 일꾼 스레드가 종료할때까지 기다린다.. \n",
    "print('worker is gone.')"
   ]
  },
  {
   "cell_type": "markdown",
   "id": "3a0c0d8b",
   "metadata": {},
   "source": [
    "## 파이썬에서 멀티프로세스 사용하기\n",
    "- 파이썬에서 멀티프로세스의 구현은 `multiprocessing` 모듈을 이용해서 할 수 있다.  \n",
    "\n",
    "\n",
    "### 프로세스 생성\n",
    "- 프로세스도 스레드와 유사한 방법으로 생성한다. \n",
    "- `Process` 인스턴스를 만든 뒤, `target`, `args` 파라미터에 각각 함수 이름과 함수 인자를 전달한다. "
   ]
  },
  {
   "cell_type": "code",
   "execution_count": 12,
   "id": "26f9b899",
   "metadata": {},
   "outputs": [
    {
     "name": "stdout",
     "output_type": "stream",
     "text": [
      "delivering...\n"
     ]
    }
   ],
   "source": [
    "import multiprocessing as mp\n",
    "\n",
    "def delivery():\n",
    "    print('delivering...')\n",
    "    \n",
    "p = mp.Process(target=delivery, args=())\n",
    "p.start()"
   ]
  },
  {
   "cell_type": "markdown",
   "id": "d754ed79",
   "metadata": {},
   "source": [
    "### 프로세스 사용\n",
    "- `Process` 클래스는 `start()`, `join()`, `terminate()` 같은 프로세스 동작 관련 메서드가 있다. "
   ]
  },
  {
   "cell_type": "code",
   "execution_count": 13,
   "id": "ab4ed107",
   "metadata": {},
   "outputs": [],
   "source": [
    "p.terminate()"
   ]
  },
  {
   "cell_type": "markdown",
   "id": "220b14bf",
   "metadata": {},
   "source": [
    "## 파이썬에서 스레드 / 프로세스 풀 사용하기\n",
    "- 사실 멀티스레드 / 프로세스 작업을 할 때 가장 많은 연산이 필요한 작업은 스레드나 프로세스를 생성하고 종료하는 일이다. 특히, 스레드 / 프로세스를 사용한 뒤에는 제대로 종료해야 컴퓨팅 리소스가 낭비되지 않는다. \n",
    "- 또한 지금까지 본 것처럼 하나씩 하나씩 실행한다고 전체적인 프로그램의 성능이 좋아지지는 않는다. 오히려 더 번거롭다. 실제로 사용할 때는 스레드 / 프로세스 풀을 사용해서 생성한다. 풀(Pool)은 스레드나 프로세스로 가득 찬 풀장이라고 생각하면 된다. 스레드 풀을 만들면 각각의 태스크들에 대해 자동으로 스레드들을 할당하고 종료한다. \n",
    "- 풀을 만드는 방법은 Queue르 사용해 직접 만드는 방법과 concurrent.futures 라이브러리의 `ThreadPoolExecutor`, `ProcessPoolExecuter` 클래스를 이용하는 두 가지 방법이 있다. 여기서는 `concurrent.futures` 모듈을 사용하는 방법을 이용해 구현해보자.  \n",
    "\n",
    "\n",
    "### `concurrent.futures` 모듈 소개\n",
    "- 이 모듈은 파이썬 3.2부터 추가된 모듈이다. 동시성 퓨처라고 번역해서 부르기도 하는데, 기능은 크게 4가지가 있다. \n",
    "- `Executor` 객체\n",
    "- `ThreadPoolExecutor` 객체\n",
    "- `ProcessPoolExecutor` 객체\n",
    "- `Future` 객체  \n",
    "\n",
    "\n",
    "\n",
    "### ThreadPoolExecutor\n",
    "- `Executor` 객체를 이용하면 스레드 생성, 시작, 조인 같은 작업 시 `with` 컨텍스트 관리자와 같은 방법으로 가독성 높은 코드를 구현할 수 있다. "
   ]
  },
  {
   "cell_type": "code",
   "execution_count": 14,
   "id": "f0e5a5bf",
   "metadata": {},
   "outputs": [
    {
     "name": "stdout",
     "output_type": "stream",
     "text": [
      "delivering\n"
     ]
    }
   ],
   "source": [
    "from concurrent.futures import ThreadPoolExecutor\n",
    "\n",
    "class Delivery:\n",
    "    def run(self):\n",
    "        print(\"delivering\")\n",
    "w = Delivery()\n",
    "\n",
    "with ThreadPoolExecutor() as executor:\n",
    "    future = executor.submit(w.run)"
   ]
  },
  {
   "cell_type": "markdown",
   "id": "18293b30",
   "metadata": {},
   "source": [
    "### multiprocessing.Pool\n",
    "- multiprocessing.Pool.map을 통해 여러 개의 프로세스에 특정 함수를 매핑해서 병렬처리하도록 구현하는 방법이 널리 사용된다. "
   ]
  },
  {
   "cell_type": "code",
   "execution_count": 15,
   "id": "b580f907",
   "metadata": {},
   "outputs": [
    {
     "name": "stdout",
     "output_type": "stream",
     "text": [
      "I'm procesesing I'm procesesing I'm procesesing I'm procesesing   332  333334\n",
      "\n",
      "I'm procesesing  332\n",
      "\n",
      "335\n",
      "[2, 4, 6, 8, 10]\n"
     ]
    }
   ],
   "source": [
    "from multiprocessing import Pool\n",
    "from os import getpid\n",
    "\n",
    "def double(i):\n",
    "    print(\"I'm procesesing \", getpid())  # pool 안에서 이 메서드가 실행될 때 pid를 확인해보자.\n",
    "    return i * 2\n",
    "\n",
    "with Pool() as pool:\n",
    "    result = pool.map(double, [1, 2, 3, 4, 5])\n",
    "    print(result)"
   ]
  },
  {
   "cell_type": "markdown",
   "id": "3cec49f4",
   "metadata": {},
   "source": [
    "- `double(i)`라는 메서드가 pool을 통해 각각 다른 pid를 가진 프로세스들 위에서 multiprocess로 실행된 것을 확인할 수 있다. "
   ]
  },
  {
   "cell_type": "markdown",
   "id": "b4725f75",
   "metadata": {},
   "source": [
    "## 실전 예제 (1) futures 모듈\n",
    "- `concurrent.futures` 모듈의 `ProcessPoolExecutor`를 이용해 병렬 프로그래밍을 연습해보자. \n",
    "- `concurrent.futures` 모듈은 `Executor`, `Futures`의 2가지 객체가 있다. \n",
    "- `Executor` 객체에는 `ThreadPoolExecutor`, `ProcessPoolExecutor`의 2개의 서브클래스가 있다. \n",
    "- `Executor` 객체는 `submit()`, `map()`, `shutdown()` 세 가지 메서드를 제공한다. "
   ]
  },
  {
   "cell_type": "markdown",
   "id": "338b72c2",
   "metadata": {},
   "source": [
    "## 실전 예제 (2) 튜토리얼\n",
    "- `Executor` 객체의 `map()` 함수\n",
    "- `ProcessPoolExecutor` 부분\n",
    "- `concurrent.futures` 모듈의 `ProcessPoolExecutor`를 이용해 멀티프로세스 구현을 연습해보자. "
   ]
  },
  {
   "cell_type": "markdown",
   "id": "c4819c6b",
   "metadata": {},
   "source": [
    "### 1) 문제\n",
    "- 소수 판별 문제로 PRIMES 변수에 선언된 숫자들이 소수인지 아닌지를 판별한다. "
   ]
  },
  {
   "cell_type": "code",
   "execution_count": 16,
   "id": "5ca40643",
   "metadata": {},
   "outputs": [],
   "source": [
    "import math\n",
    "import concurrent\n",
    "\n",
    "PRIMES = [\n",
    "    112272535095293,\n",
    "    112582705942171,\n",
    "    112272535095293,\n",
    "    115280095190773,\n",
    "    115797848077099,\n",
    "    1099726899285419]"
   ]
  },
  {
   "cell_type": "markdown",
   "id": "481973ed",
   "metadata": {},
   "source": [
    "### 2) 소수판별 함수 is_prime"
   ]
  },
  {
   "cell_type": "code",
   "execution_count": 17,
   "id": "890ca3a2",
   "metadata": {},
   "outputs": [],
   "source": [
    "def is_prime(n):\n",
    "    if n < 2:\n",
    "        return False\n",
    "    if n == 2:\n",
    "        return True\n",
    "    if n % 2 == 0:\n",
    "        return False\n",
    "    \n",
    "    sqrt_n = int(math.floor(math.sqrt(n)))\n",
    "    for i in range(3, sqrt_n + 1, 2):\n",
    "        if n % i == 0:\n",
    "            return False\n",
    "    return True"
   ]
  },
  {
   "cell_type": "markdown",
   "id": "f162f56e",
   "metadata": {},
   "source": [
    "### 3) 소수판별 함수 호출\n",
    "- `main()` 함수를 따로 작성해 소수판별 함수를 호출\n",
    "- 맵-리듀스 스타일로 코드를 작성하고 `map()` 함수를 `ProcessPoolExecutor()` 인스턴스에서 생성된 `executor`에서 실행시킨다. \n",
    "- `concurrent.futures` 라이브러리의 프로세스 풀에서 동작하게 하기 위해 `with`문을 써서 구현했다. "
   ]
  },
  {
   "cell_type": "code",
   "execution_count": 18,
   "id": "ebf30756",
   "metadata": {},
   "outputs": [],
   "source": [
    "def main():\n",
    "    with concurrent.futures.ProcessPoolExecutor() as executor:\n",
    "        for number, prime in zip(PRIMES, executor.map(is_prime, PRIMES)):\n",
    "            print('%d is prime: %s' % (number, prime))"
   ]
  },
  {
   "cell_type": "markdown",
   "id": "ba102ee1",
   "metadata": {},
   "source": [
    "- 병렬처리와 단일처리의 비교를 위해 코드를 아래와 같이 수정해보자. \n",
    "- 프로파일링을 위한 시간 계산 코드를 추가\n",
    "- 단일처리로 수행했을 때의 코드를 추가, 단일처리 프로파일링을 위한 시간 계산 코드를 추가"
   ]
  },
  {
   "cell_type": "code",
   "execution_count": 19,
   "id": "fe90d4e8",
   "metadata": {},
   "outputs": [],
   "source": [
    "import time\n",
    "\n",
    "def main():\n",
    "    print(\"병렬처리 시작\")\n",
    "    start = time.time()\n",
    "    with concurrent.futures.ProcessPoolExecutor() as executor:\n",
    "        for number, prime in zip(PRIMES, executor.map(is_prime, PRIMES)):\n",
    "            print('%d is prime: %s' % (number, prime))\n",
    "    end = time.time()\n",
    "    print(\"병렬처리 수행 시각\", end-start, 's')\n",
    "    \n",
    "    print(\"단일처리 시작\")\n",
    "    start = time.time()\n",
    "    for number, prime in zip(PRIMES, map(is_prime, PRIMES)):\n",
    "        print('%d is prime: %s' % (number, prime))\n",
    "    end = time.time()\n",
    "    print(\"단일처리 수행 시각\", end-start, 's')"
   ]
  },
  {
   "cell_type": "code",
   "execution_count": 20,
   "id": "667d2d67",
   "metadata": {},
   "outputs": [
    {
     "name": "stdout",
     "output_type": "stream",
     "text": [
      "병렬처리 시작\n",
      "112272535095293 is prime: True\n",
      "112582705942171 is prime: True\n",
      "112272535095293 is prime: True\n",
      "115280095190773 is prime: True\n",
      "115797848077099 is prime: True\n",
      "1099726899285419 is prime: False\n",
      "병렬처리 수행 시각 1.8718743324279785 s\n",
      "단일처리 시작\n",
      "112272535095293 is prime: True\n",
      "112582705942171 is prime: True\n",
      "112272535095293 is prime: True\n",
      "115280095190773 is prime: True\n",
      "115797848077099 is prime: True\n",
      "1099726899285419 is prime: False\n",
      "단일처리 수행 시각 2.7375078201293945 s\n"
     ]
    }
   ],
   "source": [
    "main()"
   ]
  }
 ],
 "metadata": {
  "kernelspec": {
   "display_name": "Python 3 (ipykernel)",
   "language": "python",
   "name": "python3"
  },
  "language_info": {
   "codemirror_mode": {
    "name": "ipython",
    "version": 3
   },
   "file_extension": ".py",
   "mimetype": "text/x-python",
   "name": "python",
   "nbconvert_exporter": "python",
   "pygments_lexer": "ipython3",
   "version": "3.9.7"
  }
 },
 "nbformat": 4,
 "nbformat_minor": 5
}

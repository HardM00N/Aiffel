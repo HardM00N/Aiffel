{
  "nbformat": 4,
  "nbformat_minor": 0,
  "metadata": {
    "colab": {
      "name": "Fund13_OOP_Class.ipynb",
      "provenance": []
    },
    "kernelspec": {
      "name": "python3",
      "display_name": "Python 3"
    },
    "language_info": {
      "name": "python"
    }
  },
  "cells": [
    {
      "cell_type": "markdown",
      "source": [
        "### 객체란?\n",
        ">Everything in Python is an object, and alomost everything has attributes and methods.  \n",
        "파이썬에서 모든 것은 객체다. 그리고 대부분의 객체는 속성과 메서드를 갖는다."
      ],
      "metadata": {
        "id": "NXbhC_LigrzM"
      }
    },
    {
      "cell_type": "code",
      "source": [
        "myvar = 3\n",
        "myvar"
      ],
      "metadata": {
        "colab": {
          "base_uri": "https://localhost:8080/"
        },
        "id": "luoatc3XhTVn",
        "outputId": "11acb42f-05ae-406c-ddc6-0e7a34364c2c"
      },
      "execution_count": 1,
      "outputs": [
        {
          "output_type": "execute_result",
          "data": {
            "text/plain": [
              "3"
            ]
          },
          "metadata": {},
          "execution_count": 1
        }
      ]
    },
    {
      "cell_type": "markdown",
      "source": [
        "변수는 단지 이름일 뿐이다. `=` 연산자를 이용해 값을 할당한다는 의미는 값을 복사하는 것이 아니라 데이터가 담긴 객체에 그냥 이름을 붙이는 것이다. 진짜 객체를 변수명으로 참조할 수 있게 하는 것이다.  \n",
        "아래의 코드는 `'cat'`이 담긴 문자열 타입의 객체를 생성하고 `myword`라는 변수(객체)에 할당, 문자열 객체를 참조하게 한다."
      ],
      "metadata": {
        "id": "Tl3sibxVhhp8"
      }
    },
    {
      "cell_type": "code",
      "source": [
        "myword = 'cat'\n",
        "myword"
      ],
      "metadata": {
        "colab": {
          "base_uri": "https://localhost:8080/",
          "height": 35
        },
        "id": "LoCSvtLCh1gz",
        "outputId": "e4c00268-68ac-482c-a548-33f807738a71"
      },
      "execution_count": 2,
      "outputs": [
        {
          "output_type": "execute_result",
          "data": {
            "application/vnd.google.colaboratory.intrinsic+json": {
              "type": "string"
            },
            "text/plain": [
              "'cat'"
            ]
          },
          "metadata": {},
          "execution_count": 2
        }
      ]
    },
    {
      "cell_type": "markdown",
      "source": [
        "앞서 객체는 속성과 메서드를 포함한다고 했다. 문자열 클래스에는 `upper()`라는 메서드가 있다."
      ],
      "metadata": {
        "id": "yrRfCus-h4F-"
      }
    },
    {
      "cell_type": "code",
      "source": [
        "myword.upper()"
      ],
      "metadata": {
        "colab": {
          "base_uri": "https://localhost:8080/",
          "height": 35
        },
        "id": "K5pyg5UPh-JO",
        "outputId": "cdad0a0f-ed7c-4c40-ae55-b7820a5f5071"
      },
      "execution_count": 3,
      "outputs": [
        {
          "output_type": "execute_result",
          "data": {
            "application/vnd.google.colaboratory.intrinsic+json": {
              "type": "string"
            },
            "text/plain": [
              "'CAT'"
            ]
          },
          "metadata": {},
          "execution_count": 3
        }
      ]
    },
    {
      "cell_type": "code",
      "source": [
        "'cat'.upper()"
      ],
      "metadata": {
        "colab": {
          "base_uri": "https://localhost:8080/",
          "height": 35
        },
        "id": "k2CRtW-viTTw",
        "outputId": "86ddc105-981d-4c85-db99-13a802fca716"
      },
      "execution_count": 4,
      "outputs": [
        {
          "output_type": "execute_result",
          "data": {
            "application/vnd.google.colaboratory.intrinsic+json": {
              "type": "string"
            },
            "text/plain": [
              "'CAT'"
            ]
          },
          "metadata": {},
          "execution_count": 4
        }
      ]
    },
    {
      "cell_type": "markdown",
      "source": [
        "위 두 코드의 출력값이 같다. `myword`가 가리키는 문자열과 `'cat'`의 값이 같기 때문이다. 다른 예제를 보자."
      ],
      "metadata": {
        "id": "uh6v0BrMibge"
      }
    },
    {
      "cell_type": "code",
      "source": [
        "var = 4\n",
        "var"
      ],
      "metadata": {
        "colab": {
          "base_uri": "https://localhost:8080/"
        },
        "id": "CKKnADZJig-0",
        "outputId": "9c36fad5-d6ea-469a-c05f-7e0a0f3c691f"
      },
      "execution_count": 5,
      "outputs": [
        {
          "output_type": "execute_result",
          "data": {
            "text/plain": [
              "4"
            ]
          },
          "metadata": {},
          "execution_count": 5
        }
      ]
    },
    {
      "cell_type": "markdown",
      "source": [
        "변수 `var`에 정수 `4`를 할당한다. `id()` 함수를 사용해 객체의 identity를 확인해보자.  \n",
        "`id()` 함수는 파이썬 내장함수로, 프로그램이 돌아가고 있는 동안 객체의 고유값(identity)을 반환한다. identity는 메모리 주소 또는 그냥 객체마다 부여된 유일한 값이라고 생각하면 된다. 일반적인 파이썬에서는 메모리 주소를 뜻한다.  \n",
        "- [파이썬 공식 문서 : id() 함수](https://docs.python.org/3/library/functions.html#id)"
      ],
      "metadata": {
        "id": "GE66AVZYikC3"
      }
    },
    {
      "cell_type": "code",
      "source": [
        "print(id(var), id(4)) # id 값은 pc마다 다르다."
      ],
      "metadata": {
        "colab": {
          "base_uri": "https://localhost:8080/"
        },
        "id": "oGgZSo8HjJ5G",
        "outputId": "75bffdb0-95d6-439e-f1d8-5f3879e20dbc"
      },
      "execution_count": 6,
      "outputs": [
        {
          "output_type": "stream",
          "name": "stdout",
          "text": [
            "94363246385760 94363246385760\n"
          ]
        }
      ]
    },
    {
      "cell_type": "code",
      "source": [
        "mylist = [1, 2, 3]\n",
        "var = mylist\n",
        "var"
      ],
      "metadata": {
        "colab": {
          "base_uri": "https://localhost:8080/"
        },
        "id": "2LaC_DCbjV72",
        "outputId": "23dd6827-a59c-4ca2-f21e-bc2ac2efbc06"
      },
      "execution_count": 7,
      "outputs": [
        {
          "output_type": "execute_result",
          "data": {
            "text/plain": [
              "[1, 2, 3]"
            ]
          },
          "metadata": {},
          "execution_count": 7
        }
      ]
    },
    {
      "cell_type": "code",
      "source": [
        "mylist.append(4)\n",
        "print(mylist)"
      ],
      "metadata": {
        "colab": {
          "base_uri": "https://localhost:8080/"
        },
        "id": "zBcINIo8jZkH",
        "outputId": "35168977-cc4e-45ce-e103-b9cbfefac8b7"
      },
      "execution_count": 8,
      "outputs": [
        {
          "output_type": "stream",
          "name": "stdout",
          "text": [
            "[1, 2, 3, 4]\n"
          ]
        }
      ]
    },
    {
      "cell_type": "code",
      "source": [
        "print(var)"
      ],
      "metadata": {
        "colab": {
          "base_uri": "https://localhost:8080/"
        },
        "id": "uIMzEAWwjdb_",
        "outputId": "04a5327c-f83d-4cf5-bd2b-fc583809ee25"
      },
      "execution_count": 9,
      "outputs": [
        {
          "output_type": "stream",
          "name": "stdout",
          "text": [
            "[1, 2, 3, 4]\n"
          ]
        }
      ]
    },
    {
      "cell_type": "code",
      "source": [
        "print(id(mylist), id(var))"
      ],
      "metadata": {
        "colab": {
          "base_uri": "https://localhost:8080/"
        },
        "id": "aF-mXULtjgn0",
        "outputId": "88b2aee4-357e-420b-c8e5-7bfb3c4d9311"
      },
      "execution_count": 10,
      "outputs": [
        {
          "output_type": "stream",
          "name": "stdout",
          "text": [
            "140205084261424 140205084261424\n"
          ]
        }
      ]
    },
    {
      "cell_type": "markdown",
      "source": [
        "변수 `var`에 `mylist`를 할당하면 `var`와 `mylist`는 `[1, 2, 3, 4]`라는 같은 데이터를 참조하게 된다. 따라서 `var`와 `mylist`는 id 값이 같으며, `var`도 `mylist`의 연산으로 원소가 추가된 `[1, 2, 3, 4]` 데이터를 참조하게 된다.  \n",
        "\n",
        "이렇게 원본 데이터는 그대로 두고, 참조하는 데이터의 id만을 복사하는 것을 얕은 복사라고 한다.  \n",
        "반면, 동일한 데이터 자체를 복사해오는 것은 깊은 복사라고 한다.  \n",
        "- 얕은 복사 : copy.copy() / 깊은 복사 : copy.deepcopy()\n",
        "- [파이썬 공식 문서 : copy() 모듈](https://docs.python.org/3/library/copy.html)  \n",
        "\n",
        "원칙적으로 얕은 복사는 원본 객체의 주소를 복사하고, 깊은 복사는 원본 객체의 값을 복사한다고 기억하면 된다.  \n",
        ">요약 \n",
        "- 파이썬에서는 모든 것(부울, 정수, 실수, 자료형, 함수, 프로그램, 모듈)이 객체다.\n",
        "- 객체는 상태(state)를 나타내는 속성(attribute)와 동작(behavior)을 나타내는 메서드(method)가 있다.\n",
        "- 객체의 속성은 변수로 구현된다. 객체에서 메서드는 함수로 구현된다."
      ],
      "metadata": {
        "id": "k1fhM8OvjjeK"
      }
    },
    {
      "cell_type": "markdown",
      "source": [
        "### 클래스 기본 문법 (1) 클래스 선언 및 인스턴스화\n",
        "파이썬에서 개발자가 객체를 직접 설계하기 위해서는 `class` 키워드를 이용한다."
      ],
      "metadata": {
        "id": "7F9cSrdxmHNo"
      }
    },
    {
      "cell_type": "code",
      "source": [
        "class Car:\n",
        "  pass\n",
        "\n",
        "class Car():\n",
        "  pass\n",
        "\n",
        "# id(Car)는 여러 번 호출해도 같은 값을 반환한다.\n",
        "print(id(Car))\n",
        "print(id(Car))\n",
        "\n",
        "# id(Car())는 Car()가 호출될 때마다 다른 값을 반환한다.\n",
        "print(id(Car()))\n",
        "print(id(Car()))\n",
        "\n",
        "# 두 객체의 type을 살펴보자.\n",
        "print(type(Car))\n",
        "print(type(Car()))"
      ],
      "metadata": {
        "colab": {
          "base_uri": "https://localhost:8080/"
        },
        "id": "mBsoqLVImPq2",
        "outputId": "fdb9fbd3-df89-4a0d-d0ae-85b5ec655087"
      },
      "execution_count": 11,
      "outputs": [
        {
          "output_type": "stream",
          "name": "stdout",
          "text": [
            "94363314643936\n",
            "94363314643936\n",
            "140205084262544\n",
            "140205084266192\n",
            "<class 'type'>\n",
            "<class '__main__.Car'>\n"
          ]
        }
      ]
    },
    {
      "cell_type": "markdown",
      "source": [
        "클래스를 이용하려면 클래스로 객체를 만들어야 하는데, 이를 인스턴스화라고 한다."
      ],
      "metadata": {
        "id": "4LPdin3-nC90"
      }
    },
    {
      "cell_type": "code",
      "source": [
        "mycar = Car()\n",
        "mycar2 = Car()\n",
        "print(id(mycar))\n",
        "print(id(mycar2))"
      ],
      "metadata": {
        "colab": {
          "base_uri": "https://localhost:8080/"
        },
        "id": "P2iwf7bAnIuq",
        "outputId": "6dccef1c-7312-4d99-b680-fbc86f1d83f2"
      },
      "execution_count": 12,
      "outputs": [
        {
          "output_type": "stream",
          "name": "stdout",
          "text": [
            "140205083660560\n",
            "140205083661648\n"
          ]
        }
      ]
    },
    {
      "cell_type": "markdown",
      "source": [
        "`mycar`, `mycar2` 변수에 `Car` 클래스의 인스턴스를 할당했다. 클래스를 호출(call)했다는 표현을 쓰기도 하는데, 위 코드에서는 인스턴스가 생성될 때마다 객체를 할당받은 변수들에게 다른 id가 부여되는 것을 알 수 있다.\n",
        "\n",
        "#### 클래스명 표기법 : 카멜 케이스\n",
        "- 카멜 케이스 : 각 단어의 앞 글자를 대문자로 쓸 것.\n",
        "- 예시 : mycar -> MyCar\n",
        "#### 함수명 표기법 : 스네이크 케이스\n",
        "- 스네이크 케이스 : 단어는 소문자로 쓰고 각 단어의 연결은 언더바를 사용할 것.\n",
        "- 예시 : mycar -> my_car  \n",
        "\n",
        "추가로 클래스명은 주로 명사로, 함수명은 주로 동사로 명명한다. (이 부분은 파이썬 코드를 깨끗이 작성하는 \"Clean Code\" 규범과 관련된 내용이니 참고만 할 것.)"
      ],
      "metadata": {
        "id": "S2pVtBHvnQJ-"
      }
    },
    {
      "cell_type": "markdown",
      "source": [
        "### 클래스 기본 문법 (2) 클래스 속성과 메서드\n",
        "- 클래스의 속성은 상태(state)를 표현한다. 속성은 변수로 나타낸다.\n",
        "- 클래스의 메서드는 동작(behavior)을 표현한다. 메서드는 `def` 키워드로 나타낸다."
      ],
      "metadata": {
        "id": "DYwlO0BjoG9o"
      }
    },
    {
      "cell_type": "code",
      "source": [
        "class Car:\n",
        "  color = 'red'\n",
        "  category = 'sports car'\n",
        "\n",
        "  def drive(self):\n",
        "    print(\"I'm driving\")\n",
        "\n",
        "  def accel(self, speed_up, current_speed=10):\n",
        "    self.speed_up = speed_up\n",
        "    self.current_speed = current_speed + speed_up\n",
        "    print(\"speed up\", self.speed_up, \"driving at\", self.current_speed)"
      ],
      "metadata": {
        "id": "mSAoNFz6oe8m"
      },
      "execution_count": 20,
      "outputs": []
    },
    {
      "cell_type": "code",
      "source": [
        "mycar = Car()"
      ],
      "metadata": {
        "id": "4HEDxhc0pISd"
      },
      "execution_count": 22,
      "outputs": []
    },
    {
      "cell_type": "code",
      "source": [
        "print(mycar.color)"
      ],
      "metadata": {
        "colab": {
          "base_uri": "https://localhost:8080/"
        },
        "id": "7D4ZClO4pKxI",
        "outputId": "298db0cc-fae1-4477-a275-b1d954fc91d8"
      },
      "execution_count": 16,
      "outputs": [
        {
          "output_type": "stream",
          "name": "stdout",
          "text": [
            "red\n"
          ]
        }
      ]
    },
    {
      "cell_type": "code",
      "source": [
        "print(mycar.price)  # 없는 속성값에 접근하면 에러가 발생한다."
      ],
      "metadata": {
        "colab": {
          "base_uri": "https://localhost:8080/",
          "height": 166
        },
        "id": "ws-h8SQcpNsV",
        "outputId": "5cc047f5-b68d-447d-f499-dfbcb157c453"
      },
      "execution_count": 17,
      "outputs": [
        {
          "output_type": "error",
          "ename": "AttributeError",
          "evalue": "ignored",
          "traceback": [
            "\u001b[0;31m---------------------------------------------------------------------------\u001b[0m",
            "\u001b[0;31mAttributeError\u001b[0m                            Traceback (most recent call last)",
            "\u001b[0;32m<ipython-input-17-acc5ec219dcf>\u001b[0m in \u001b[0;36m<module>\u001b[0;34m()\u001b[0m\n\u001b[0;32m----> 1\u001b[0;31m \u001b[0mprint\u001b[0m\u001b[0;34m(\u001b[0m\u001b[0mmycar\u001b[0m\u001b[0;34m.\u001b[0m\u001b[0mprice\u001b[0m\u001b[0;34m)\u001b[0m\u001b[0;34m\u001b[0m\u001b[0;34m\u001b[0m\u001b[0m\n\u001b[0m",
            "\u001b[0;31mAttributeError\u001b[0m: 'Car' object has no attribute 'price'"
          ]
        }
      ]
    },
    {
      "cell_type": "code",
      "source": [
        "mycar.drive()"
      ],
      "metadata": {
        "colab": {
          "base_uri": "https://localhost:8080/"
        },
        "id": "1RnlFQC1pY-q",
        "outputId": "cb4590ee-6806-46f6-ce22-7977c2d5157c"
      },
      "execution_count": 18,
      "outputs": [
        {
          "output_type": "stream",
          "name": "stdout",
          "text": [
            "I'm driving\n"
          ]
        }
      ]
    },
    {
      "cell_type": "code",
      "source": [
        "mycar.accel(5)"
      ],
      "metadata": {
        "colab": {
          "base_uri": "https://localhost:8080/"
        },
        "id": "6WHbL0-dpaxx",
        "outputId": "2b90236e-0165-4022-8ccd-8105e79d570e"
      },
      "execution_count": 23,
      "outputs": [
        {
          "output_type": "stream",
          "name": "stdout",
          "text": [
            "speed up 5 driving at 15\n"
          ]
        }
      ]
    },
    {
      "cell_type": "markdown",
      "source": [
        "`mycar.drive()` 코드는 인터프리터 내부에서는 `Car.drive(mycar)`로 동작한다. `self`라는 단어는 클래스를 인스턴스화한 인스턴스 객체를 가리킨다.  \n",
        "참고로, 클래스 메서드를 정의할 때 `self` 인자를 사용하지 않으면 에러가 발생한다. 아래의 `run2()` 메서드를 보자."
      ],
      "metadata": {
        "id": "-kXI5FPVpwGe"
      }
    },
    {
      "cell_type": "code",
      "source": [
        "class Test:\n",
        "  def run1(self):\n",
        "    print(\"run1\")\n",
        "  \n",
        "  def run2():\n",
        "    print(\"run2\")\n",
        "\n",
        "t = Test()"
      ],
      "metadata": {
        "id": "HKBm4hFGqLio"
      },
      "execution_count": 24,
      "outputs": []
    },
    {
      "cell_type": "code",
      "source": [
        "t.run1()"
      ],
      "metadata": {
        "colab": {
          "base_uri": "https://localhost:8080/"
        },
        "id": "5GZJw_vwqUHb",
        "outputId": "e3de4f08-bee0-47b8-e89c-e5c22e7c687e"
      },
      "execution_count": 25,
      "outputs": [
        {
          "output_type": "stream",
          "name": "stdout",
          "text": [
            "run1\n"
          ]
        }
      ]
    },
    {
      "cell_type": "code",
      "source": [
        "t.run2()"
      ],
      "metadata": {
        "colab": {
          "base_uri": "https://localhost:8080/",
          "height": 166
        },
        "id": "keqb4yN0qVYi",
        "outputId": "c48de916-ac5e-4284-f274-b553bfee9f4b"
      },
      "execution_count": 26,
      "outputs": [
        {
          "output_type": "error",
          "ename": "TypeError",
          "evalue": "ignored",
          "traceback": [
            "\u001b[0;31m---------------------------------------------------------------------------\u001b[0m",
            "\u001b[0;31mTypeError\u001b[0m                                 Traceback (most recent call last)",
            "\u001b[0;32m<ipython-input-26-3299b0fcd368>\u001b[0m in \u001b[0;36m<module>\u001b[0;34m()\u001b[0m\n\u001b[0;32m----> 1\u001b[0;31m \u001b[0mt\u001b[0m\u001b[0;34m.\u001b[0m\u001b[0mrun2\u001b[0m\u001b[0;34m(\u001b[0m\u001b[0;34m)\u001b[0m\u001b[0;34m\u001b[0m\u001b[0;34m\u001b[0m\u001b[0m\n\u001b[0m",
            "\u001b[0;31mTypeError\u001b[0m: run2() takes 0 positional arguments but 1 was given"
          ]
        }
      ]
    },
    {
      "cell_type": "markdown",
      "source": [
        "#### 접두사 self.\n",
        "같은 이유로 인스턴스의 속성을 사용하고 싶은 변수는 `self.`을 쓴다. `self` 인자를 통해 선언된 객체의 값이라는 뜻이다.  \n",
        "객체 안에서 `self`를 사용하면 인스턴스 객체의 고유한 속성을 나타낼 수 있다. 클래스가 아닌 `self`, 즉 인스턴스화된 객체 자신의 속성이라는 뜻이다.  \n",
        "참고로 클래스의 메서드 내부에서 `self.` 접두사 없이 일반 변수와 같게 선언된 변수는 메서드 내부에서만 사용되므로, `self.`를 사용해 참조할 수 없다.  \n",
        "아래의 두 메서드를 비교해보자."
      ],
      "metadata": {
        "id": "PUqf9llaqa3v"
      }
    },
    {
      "cell_type": "code",
      "source": [
        "class Test2:\n",
        "  def run1(self, a):\n",
        "    self.a = float(a) * 10\n",
        "    print(self.a)\n",
        "\n",
        "  def run2(self, b):\n",
        "    b = float(b) + 10\n",
        "    print(self.b)\n",
        "\n",
        "t = Test2()"
      ],
      "metadata": {
        "id": "dnTLL1n1q04J"
      },
      "execution_count": 27,
      "outputs": []
    },
    {
      "cell_type": "code",
      "source": [
        "t.run1(1)"
      ],
      "metadata": {
        "colab": {
          "base_uri": "https://localhost:8080/"
        },
        "id": "VQSfQNqjrD8m",
        "outputId": "3bba87fc-f424-4363-d741-7ad32269131d"
      },
      "execution_count": 28,
      "outputs": [
        {
          "output_type": "stream",
          "name": "stdout",
          "text": [
            "10.0\n"
          ]
        }
      ]
    },
    {
      "cell_type": "code",
      "source": [
        "t.run(2)"
      ],
      "metadata": {
        "colab": {
          "base_uri": "https://localhost:8080/",
          "height": 166
        },
        "id": "c-t4XZ5QrFoY",
        "outputId": "c15d0b90-9d43-4e30-91a0-665c76ef2d9f"
      },
      "execution_count": 29,
      "outputs": [
        {
          "output_type": "error",
          "ename": "AttributeError",
          "evalue": "ignored",
          "traceback": [
            "\u001b[0;31m---------------------------------------------------------------------------\u001b[0m",
            "\u001b[0;31mAttributeError\u001b[0m                            Traceback (most recent call last)",
            "\u001b[0;32m<ipython-input-29-2f78efd17a10>\u001b[0m in \u001b[0;36m<module>\u001b[0;34m()\u001b[0m\n\u001b[0;32m----> 1\u001b[0;31m \u001b[0mt\u001b[0m\u001b[0;34m.\u001b[0m\u001b[0mrun\u001b[0m\u001b[0;34m(\u001b[0m\u001b[0;36m2\u001b[0m\u001b[0;34m)\u001b[0m\u001b[0;34m\u001b[0m\u001b[0;34m\u001b[0m\u001b[0m\n\u001b[0m",
            "\u001b[0;31mAttributeError\u001b[0m: 'Test2' object has no attribute 'run'"
          ]
        }
      ]
    },
    {
      "cell_type": "markdown",
      "source": [
        ">#### `self` 요약\n",
        "- `self`는 자기 자신이다.\n",
        "- 클래스에 의해 생성된 객체(인스턴스)를 가리킨다.\n",
        "- 클래스의 메서드는 인자로 해당 인스턴스(self)를 받아야 한다.\n",
        "- 메서드를 호출할 때는 `self` 인자를 전달하지 않는다. `self`의 값은 인터프리터가 제공한다.\n",
        "- 인스턴스 변수를 정의할 때는 접두사 `self.`를 붙여준다."
      ],
      "metadata": {
        "id": "--zkbQBdrIet"
      }
    },
    {
      "cell_type": "markdown",
      "source": [
        "### 클래스 기본 문법 (3) 생성자\n",
        "#### 생성자 `__init__`\n",
        "클래스에 의해 만든 인스턴스 객체의 속성값을 사용자는 어떻게 초기화할 수 있을까?  \n",
        "Car 클래스를 만들 때부터 색깔과 카테고리를 지정해주고 싶다면 어떻게 그 값을 전달해 줄 수 있을까? `__init__`을 사용해서 만들 수 있다. "
      ],
      "metadata": {
        "id": "r5pqJu5YrcGA"
      }
    },
    {
      "cell_type": "code",
      "source": [
        "class Car2:\n",
        "  def __init__(self, color, category):\n",
        "    self.color = color\n",
        "    self.category = category\n",
        "\n",
        "  def drive(self):\n",
        "    print(\"I'm driving\")\n",
        "\n",
        "  def accel(self, speed_up, current_speed=10):\n",
        "    self.speed_up = speed_up\n",
        "    self.current_speed = current_speed + self.speed_up\n",
        "    print(\"speed up\", self.speed_up, \"driving at\", self.current_speed)"
      ],
      "metadata": {
        "id": "6jvKzKworz8s"
      },
      "execution_count": 31,
      "outputs": []
    },
    {
      "cell_type": "markdown",
      "source": [
        "- `__init__` 메서드 안에 인자를 전달함으로써 인스턴스 객체의 속성을 초기화할 수 있다. \n",
        "- 즉, `__init__` 메서드 안에 정의된 속성(변수) `color`, `category`는 클래스를 인스턴스화할 때 값을 설정할 수 있다.\n",
        "- 이를 인스턴스 객체의 초기화(initializing instance)라고 하고, `__init__` 함수는 생성자(constructor)라고 한다.\n",
        "- `__init__` 역시 `def` 키워드로 정의한다. 즉, 클래스 안의 메서드이므로 `self` 문법을 잊지 말자."
      ],
      "metadata": {
        "id": "vW_Y4FrSscxP"
      }
    },
    {
      "cell_type": "code",
      "source": [
        "# 인스턴스 객체 선언\n",
        "car1 = Car()\n",
        "car2 = Car2('yellow', 'sedan')"
      ],
      "metadata": {
        "id": "UpBVVgxzs5JU"
      },
      "execution_count": 33,
      "outputs": []
    },
    {
      "cell_type": "code",
      "source": [
        "print(car1.color, car2.color)\n",
        "print(car1.category, car2.category)"
      ],
      "metadata": {
        "colab": {
          "base_uri": "https://localhost:8080/"
        },
        "id": "8CwcrPUswXnZ",
        "outputId": "d7059281-2e3a-4971-d59f-b903213a26c8"
      },
      "execution_count": 34,
      "outputs": [
        {
          "output_type": "stream",
          "name": "stdout",
          "text": [
            "red yellow\n",
            "sports car sedan\n"
          ]
        }
      ]
    },
    {
      "cell_type": "code",
      "source": [
        "class Car2:\n",
        "  def __init__(self, color='red', category='sports car'):\n",
        "    self.color = color\n",
        "    self.category = category"
      ],
      "metadata": {
        "id": "56mi1fcmwg21"
      },
      "execution_count": 35,
      "outputs": []
    },
    {
      "cell_type": "markdown",
      "source": [
        "위와 같이 키워드 인자를 지정할 수도 있다.  \n",
        "\n",
        ">#### 생성자 요약\n",
        "- `__init__`이라고 쓰고, \"던더(Double Under) 이닛\"이라고 발음한다.\n",
        "- 다른 객체 지향 언어를 알고 있는 사람이라면 생성자라는 말을 들으면 객체 인스턴스화와 초기화 2가지 작업을 생각할 수도 있다.\n",
        "- 그러나 파이썬의 생성자는 초기화만 수행하고, 객체의 인스턴스화는 클래스 사용 시 변수 할당을 통해 이루어진다.\n",
        "- `__init__`처럼 앞뒤에 언더바가 두 개씩 있는 메서드를 매직 메서드라고 한다."
      ],
      "metadata": {
        "id": "c-qRFVwLw4R7"
      }
    },
    {
      "cell_type": "markdown",
      "source": [
        "### 클래스 기본 문법 (4) 클래스 변수와 인스턴스 변수\n",
        "클래스에서 변수를 선언하는 방법은 2가지가 있었다.  \n",
        "하나는 보통 변수와 동일하게 변수명을 쓰고 값을 할당하는 방법, 두 번째는 `__init__` 메서드 안에 `self.`와 함께 설정하는 방법이다.  \n",
        "아래 코드를 예로 들면 `Manufacture` 같은 변수가 있을 수 있고, `self.color`와 같은 변수가 있을 수 있다."
      ],
      "metadata": {
        "id": "qScrtzgNxYzO"
      }
    },
    {
      "cell_type": "code",
      "source": [
        "class Car:\n",
        "  Manufacture = \"India\" # 클래스 변수\n",
        "\n",
        "  def __init__(self, color, category='sedan'):\n",
        "    self.color = color  # 인스턴스 변수\n",
        "    self.category = category"
      ],
      "metadata": {
        "id": "XKvsS1ITxue5"
      },
      "execution_count": 36,
      "outputs": []
    },
    {
      "cell_type": "code",
      "source": [
        "car1 = Car('red', 'sports car')\n",
        "car2 = Car('white')\n",
        "print(car1.Manufacture, car1.color, car1.category)\n",
        "print(car2.Manufacture, car2.color, car2.category)"
      ],
      "metadata": {
        "colab": {
          "base_uri": "https://localhost:8080/"
        },
        "id": "c9LC_KY2x-8Z",
        "outputId": "2772596c-564d-42db-ea7c-ea441d8d7d61"
      },
      "execution_count": 37,
      "outputs": [
        {
          "output_type": "stream",
          "name": "stdout",
          "text": [
            "India red sports car\n",
            "India white sedan\n"
          ]
        }
      ]
    },
    {
      "cell_type": "markdown",
      "source": [
        "#### 클래스 변수\n",
        "- 클래스에 바로 선언된 속성을 클래스 변수라고 하며 클래스에 의해 생성된 모든 객체에서 같은 값을 조회할 때 가능하다. \n",
        "- `Manufacture`는 클래스 변수다.\n",
        "- `Manufacture` 속성은 `car1`과 `car2`가 공유한다.  \n",
        "\n",
        "#### 인스턴스 변수\n",
        "- `__init__()` 안에서 `self`를 사용해 선언된 변수를 인스턴스 변수라고 한다. 객체가 인스턴스화될 때마다 새로운 값이 할당되며 서로 다른 객체 간에는 공유할 수가 없다.\n",
        "- `color`와 `category`는 인스턴스 변수다.\n",
        "- `color`와 `category` 속성은 `car1`과 `car2`가 공유하지 않는다."
      ],
      "metadata": {
        "id": "2cpovb8WyK1I"
      }
    },
    {
      "cell_type": "markdown",
      "source": [
        "### 클래스, 조금 더 알아보기 - 상속\n",
        "기존의 클래스와 거의 같은 클래스인데, 메서드 몇 개만 추가하고 싶으면 어떻게 해야 할까?"
      ],
      "metadata": {
        "id": "xl_A3bWBytv3"
      }
    },
    {
      "cell_type": "code",
      "source": [
        "class Car:\n",
        "    Manufacture = \"India\"\n",
        "\n",
        "    def __init__(self, color='red', category='sedan'):\n",
        "        self.color = color\n",
        "        self.category = category\n",
        "\n",
        "    def drive(self):\n",
        "        print(\"I'm driving\")\n",
        "\n",
        "    def accel(self, speed_up, current_speed=10):\n",
        "        self.speed_up = speed_up\n",
        "        self.current_speed = current_speed + self.speed_up\n",
        "        print(\"speed up\", self.speed_up, \"driving at\", self.current_speed)"
      ],
      "metadata": {
        "id": "eoPP182zy2v3"
      },
      "execution_count": 39,
      "outputs": []
    },
    {
      "cell_type": "markdown",
      "source": [
        "여기에 `Car` 클래스의 기능은 유지한 채 `maker` 속성만 추가된 새로운 클래스 `NewCar`를 선언하고 싶다면, 클래스의 상속 기능을 이용하면 된다."
      ],
      "metadata": {
        "id": "QPOpJ9WYy5LK"
      }
    },
    {
      "cell_type": "code",
      "source": [
        "class NewCar(Car):\n",
        "  maker = 'Porsche'\n",
        "\n",
        "car = NewCar()\n",
        "car.drive()\n",
        "car.accel(10)\n",
        "car.maker"
      ],
      "metadata": {
        "colab": {
          "base_uri": "https://localhost:8080/",
          "height": 70
        },
        "id": "deHkBjgFzDQM",
        "outputId": "771e8590-e2fe-472d-91a6-6e16428b4d1e"
      },
      "execution_count": 41,
      "outputs": [
        {
          "output_type": "stream",
          "name": "stdout",
          "text": [
            "I'm driving\n",
            "speed up 10 driving at 20\n"
          ]
        },
        {
          "output_type": "execute_result",
          "data": {
            "application/vnd.google.colaboratory.intrinsic+json": {
              "type": "string"
            },
            "text/plain": [
              "'Porsche'"
            ]
          },
          "metadata": {},
          "execution_count": 41
        }
      ]
    },
    {
      "cell_type": "markdown",
      "source": [
        ">#### 자식 클래스, 부모 클래스\n",
        "- 상속받은 클래스를 자식 클래스, 서브 클래스, 파생된 클래스라고 한다.\n",
        "- 기존 클래스를 부모 클래스, 슈퍼 클래스, 베이스 클래스라고 한다."
      ],
      "metadata": {
        "id": "pZiPVUvozS3q"
      }
    },
    {
      "cell_type": "markdown",
      "source": [
        "#### 상속 사용하기\n",
        "클래스를 잘 상속하기 위해 필요한 3가지 사용법을 살펴보자.\n",
        "- 메서드 추가하기(add)\n",
        "- 메서드 재정의하기(override)\n",
        "- 부모 메서드 호출하기(`super()`). \n",
        "\n",
        "#### 메서드 추가하기\n",
        "자식 클래스에 새로운 메서드를 추가할 수 있다. 아래와 같이 정의하면 기존 `Car` 클래스의 메서드들과 함께 새로운 메서드 `fly()`도 사용할 수 있다."
      ],
      "metadata": {
        "id": "4mk61BZvzooI"
      }
    },
    {
      "cell_type": "code",
      "source": [
        "class NewCar(Car):\n",
        "  def fly(self):\n",
        "    print(\"I'm flying! This is the new car!!\")"
      ],
      "metadata": {
        "id": "m-2nRVwTz7VP"
      },
      "execution_count": 43,
      "outputs": []
    },
    {
      "cell_type": "markdown",
      "source": [
        "#### 메서드 오버라이드\n",
        "자식 클래스에서 기존에 있는 메서들르 변경하는 것을 메서드 오버라이드(재정의)라고 한다."
      ],
      "metadata": {
        "id": "_LeeyUL60FyB"
      }
    },
    {
      "cell_type": "code",
      "source": [
        "class NewCar(Car):\n",
        "    def fly(self):\n",
        "        print(\"I'm flying!! This is the new car!!\")\n",
        "\n",
        "    def drive(self):\n",
        "        print(\"I'm driving and can fly\")"
      ],
      "metadata": {
        "id": "GHOAKSil0ZDS"
      },
      "execution_count": 44,
      "outputs": []
    },
    {
      "cell_type": "markdown",
      "source": [
        "#### 부모 메서드 호출하기 `super()`\n",
        "부모 메서드 호출은 `super()`라는 함수를 이용한다. 이는 파이썬 내장함수로, 자식 클래스에스 부모 클래스의 메서드를 호출하고 싶을 때 사용한다."
      ],
      "metadata": {
        "id": "L5yEnPL10nMp"
      }
    },
    {
      "cell_type": "code",
      "source": [
        "class Car:\n",
        "  Manufacture = \"India\"\n",
        "\n",
        "  def __init__(self, color='red', category='sedan'):\n",
        "    self.color = color\n",
        "    self.category = '2020Y ' + category\n",
        "\n",
        "class NewCar(Car):\n",
        "  def __init__(self, color, category, maker):\n",
        "    super().__init__(color, category)\n",
        "    self.maker = maker\n",
        "\n",
        "newcar = NewCar('red', 'sports car', 'Kia')\n",
        "print(newcar.category)"
      ],
      "metadata": {
        "colab": {
          "base_uri": "https://localhost:8080/"
        },
        "id": "8cpN7GXy1Izo",
        "outputId": "d44994d9-6892-4598-a6d7-acae18e37adb"
      },
      "execution_count": 46,
      "outputs": [
        {
          "output_type": "stream",
          "name": "stdout",
          "text": [
            "2020Y sports car\n"
          ]
        }
      ]
    }
  ]
}
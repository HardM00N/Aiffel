{
 "cells": [
  {
   "cell_type": "markdown",
   "id": "b56857fe",
   "metadata": {},
   "source": [
    "# Exp6. Sentimental Analysis - RNN"
   ]
  },
  {
   "cell_type": "markdown",
   "id": "55221f33",
   "metadata": {},
   "source": [
    "### 텍스트를 숫자로 표현하기\n",
    "텍스트는 그 자체로는 기호일 뿐이고, 텍스트가 내포하는 의미를 기호가 직접 내포하지 않는다.  \n",
    "그렇기에 우리는 단어 사전을 만들어 단어와 단어의 의미를 나타내는 벡터를 짝지어 볼 수 있다. \n",
    ">i feel hungry  \n",
    "i eat lunch  \n",
    "now i feel happy"
   ]
  },
  {
   "cell_type": "code",
   "execution_count": 1,
   "id": "01f46584",
   "metadata": {},
   "outputs": [
    {
     "name": "stdout",
     "output_type": "stream",
     "text": [
      "['i', 'feel', 'hungry']\n"
     ]
    }
   ],
   "source": [
    "sentences = ['i feel hungry', 'i eat lunch', 'now i feel happy']\n",
    "\n",
    "# split() 메서드로 단어 단위로 쪼개 보자.\n",
    "word_list = 'i feel hungry'.split()\n",
    "print(word_list)"
   ]
  },
  {
   "cell_type": "code",
   "execution_count": 2,
   "id": "50eaca71",
   "metadata": {},
   "outputs": [
    {
     "name": "stdout",
     "output_type": "stream",
     "text": [
      "{0: '<PAD>', 1: '<BOS>', 2: '<UNK>', 3: 'i', 4: 'feel', 5: 'hungry', 6: 'eat', 7: 'lunch', 8: 'now', 9: 'happy'}\n"
     ]
    }
   ],
   "source": [
    "# 빈 딕셔너리 생성\n",
    "index_to_word = {}\n",
    "\n",
    "# <BOS>, <PAD>, <UNK>는 관례적으로 딕셔너리 맨 앞에 넣는다.\n",
    "index_to_word[0] = '<PAD>'  # 패딩용 단어\n",
    "index_to_word[1] = '<BOS>'  # 문장의 시작지점\n",
    "index_to_word[2] = '<UNK>'  # 사전에 없는(Unknown) 단어\n",
    "index_to_word[3] = 'i'\n",
    "index_to_word[3] = 'i'\n",
    "index_to_word[4] = 'feel'\n",
    "index_to_word[5] = 'hungry'\n",
    "index_to_word[6] = 'eat'\n",
    "index_to_word[7] = 'lunch'\n",
    "index_to_word[8] = 'now'\n",
    "index_to_word[9] = 'happy'\n",
    "\n",
    "print(index_to_word)"
   ]
  },
  {
   "cell_type": "code",
   "execution_count": 3,
   "id": "3e5fec40",
   "metadata": {},
   "outputs": [
    {
     "name": "stdout",
     "output_type": "stream",
     "text": [
      "{'<PAD>': 0, '<BOS>': 1, '<UNK>': 2, 'i': 3, 'feel': 4, 'hungry': 5, 'eat': 6, 'lunch': 7, 'now': 8, 'happy': 9}\n"
     ]
    }
   ],
   "source": [
    "word_to_index = {word:index for index, word in index_to_word.items()}\n",
    "print(word_to_index)"
   ]
  },
  {
   "cell_type": "code",
   "execution_count": 4,
   "id": "11fcef3d",
   "metadata": {},
   "outputs": [
    {
     "name": "stdout",
     "output_type": "stream",
     "text": [
      "4\n"
     ]
    }
   ],
   "source": [
    "# 이제 이 딕셔너리는 단어를 주면 그 단어의 인덱스를 반환한다.\n",
    "print(word_to_index['feel'])"
   ]
  },
  {
   "cell_type": "code",
   "execution_count": 5,
   "id": "bf79eaf1",
   "metadata": {},
   "outputs": [
    {
     "name": "stdout",
     "output_type": "stream",
     "text": [
      "[1, 3, 6, 7]\n"
     ]
    }
   ],
   "source": [
    "# 문장 1개를 활용할 딕셔너리와 주면, 단어 인덱스 리스트로 변환\n",
    "def get_encoded_sentence(sentence, word_to_index):\n",
    "    return [word_to_index['<BOS>']] + [word_to_index[word] if word in word_to_index else word_to_index['<UNK>'] for word in sentence.split()]\n",
    "\n",
    "print(get_encoded_sentence('i eat lunch', word_to_index))"
   ]
  },
  {
   "cell_type": "code",
   "execution_count": 6,
   "id": "ee897635",
   "metadata": {},
   "outputs": [
    {
     "name": "stdout",
     "output_type": "stream",
     "text": [
      "[[1, 3, 4, 5], [1, 3, 6, 7], [1, 8, 3, 4, 9]]\n"
     ]
    }
   ],
   "source": [
    "# 여러 개의 문장 리스트를 한꺼번에 숫자 텐서로 encode\n",
    "def get_encoded_sentences(sentences, word_to_index):\n",
    "    return [get_encoded_sentence(sentence, word_to_index) for sentence in sentences]\n",
    "\n",
    "encoded_sentences = get_encoded_sentences(sentences, word_to_index)\n",
    "print(encoded_sentences)"
   ]
  },
  {
   "cell_type": "code",
   "execution_count": 7,
   "id": "36f0f102",
   "metadata": {},
   "outputs": [
    {
     "name": "stdout",
     "output_type": "stream",
     "text": [
      "i feel hungry\n"
     ]
    }
   ],
   "source": [
    "# 숫자 벡터로 encode된 문장을 원래대로 decode\n",
    "def get_decoded_sentence(encoded_sentence, index_to_word):\n",
    "    return ' '.join(index_to_word[index] if index in index_to_word else '<UNK>' for index in encoded_sentence[1:])\n",
    "\n",
    "print(get_decoded_sentence([1, 3, 4, 5], index_to_word))"
   ]
  },
  {
   "cell_type": "code",
   "execution_count": 8,
   "id": "2e4167db",
   "metadata": {},
   "outputs": [
    {
     "name": "stdout",
     "output_type": "stream",
     "text": [
      "['i feel hungry', 'i eat lunch', 'now i feel happy']\n"
     ]
    }
   ],
   "source": [
    "# 여러 개의 숫자 벡터로 encode된 문장을 한꺼번에 decode\n",
    "def get_decoded_sentences(encoded_sentences, index_to_word):\n",
    "    return [get_decoded_sentence(encoded_sentence, index_to_word) for encoded_sentence in encoded_sentences]\n",
    "\n",
    "print(get_decoded_sentences(encoded_sentences, index_to_word))"
   ]
  },
  {
   "cell_type": "markdown",
   "id": "3deb1feb",
   "metadata": {},
   "source": [
    "### Embedding 레이어\n",
    "위에서 만든 벡터는 텍스트에 담긴 언어의 의미와 대응되는 벡터가 아닌, 임의로 부여된 단어의 순서에 불과하다.  \n",
    "단어와 그 단어의 의미를 나타내는 벡터를 짝지어 훈련 가능한 파라미터로 놓고 이를 딥러닝을 통해 학습해 최적화해야 한다.  \n",
    "Tensorfow, Pytorch 등의 딥러닝 프레임워크들은 이러한 의미 벡터 파라미터를 구현한 **Embedding 레이어**를 제공한다. "
   ]
  },
  {
   "cell_type": "code",
   "execution_count": 9,
   "id": "bb24ce65",
   "metadata": {},
   "outputs": [
    {
     "name": "stdout",
     "output_type": "stream",
     "text": [
      "tf.Tensor(\n",
      "[[[-0.04614459 -0.01872499 -0.0093254  -0.03130987]\n",
      "  [-0.00157475  0.01702125  0.03673667  0.020668  ]\n",
      "  [-0.01727836 -0.0365799  -0.00639813  0.00749482]\n",
      "  [-0.03550913 -0.02033593 -0.00361381 -0.012744  ]\n",
      "  [ 0.00682653  0.04289414  0.04266309  0.00174015]]\n",
      "\n",
      " [[-0.04614459 -0.01872499 -0.0093254  -0.03130987]\n",
      "  [-0.00157475  0.01702125  0.03673667  0.020668  ]\n",
      "  [-0.04226501  0.02292699 -0.0214425  -0.01398691]\n",
      "  [-0.04074789 -0.02181323  0.01800436 -0.00130145]\n",
      "  [ 0.00682653  0.04289414  0.04266309  0.00174015]]\n",
      "\n",
      " [[-0.04614459 -0.01872499 -0.0093254  -0.03130987]\n",
      "  [-0.01611158 -0.04577921  0.0384709  -0.04793768]\n",
      "  [-0.00157475  0.01702125  0.03673667  0.020668  ]\n",
      "  [-0.01727836 -0.0365799  -0.00639813  0.00749482]\n",
      "  [-0.01464113  0.03252186  0.02412741  0.00850205]]], shape=(3, 5, 4), dtype=float32)\n"
     ]
    }
   ],
   "source": [
    "import numpy as np\n",
    "import tensorflow as tf\n",
    "import os\n",
    "\n",
    "vocab_size = len(word_to_index)\n",
    "word_vector_dim = 4  # 4차원의 워드 벡터를 가정\n",
    "\n",
    "embedding = tf.keras.layers.Embedding(input_dim=vocab_size, output_dim=word_vector_dim, mask_zero=True)\n",
    "\n",
    "raw_inputs = np.array(get_encoded_sentences(sentences, word_to_index), dtype='object')\n",
    "# 주의! Embedding 레이어의 input이 되는 문장 벡터는 그 길이가 일정해야 한다!\n",
    "# 아래 코드를 통해 문장 벡터 뒤에 <pad>를 추가해 길이를 일정하게 맞춘다!\n",
    "raw_inputs = tf.keras.preprocessing.sequence.pad_sequences(raw_inputs, value=word_to_index['<PAD>'], padding='post', maxlen=5)\n",
    "output = embedding(raw_inputs)\n",
    "print(output)"
   ]
  },
  {
   "cell_type": "markdown",
   "id": "a5f67b39",
   "metadata": {},
   "source": [
    "output의 `shape=(3, 5, 4)`는 순서대로 입력문장의 개수, 입력문장의 최대 길이, 워드 벡터의 차원 수를 의미한다."
   ]
  },
  {
   "cell_type": "markdown",
   "id": "f16a63f4",
   "metadata": {},
   "source": [
    "### 시퀀스 데이터를 다루는 RNN\n",
    "텍스트 데이터를 다루는 데 주로 사용되는 딥러닝 모델은 `RNN(Recurrent Neural Network)`이다. 이는 시퀀스 형태의 데이터를 처리하기에 죄적의 모델로 알려져있다.  \n",
    "RNN은 시간의 흐름에 따라 새롭게 들어오는 입력에 따라 변하는 현재 상태를 묘사하는 state machine으로 설계되었다."
   ]
  },
  {
   "cell_type": "code",
   "execution_count": 10,
   "id": "5c8f043e",
   "metadata": {},
   "outputs": [
    {
     "name": "stdout",
     "output_type": "stream",
     "text": [
      "Model: \"sequential\"\n",
      "_________________________________________________________________\n",
      "Layer (type)                 Output Shape              Param #   \n",
      "=================================================================\n",
      "embedding_1 (Embedding)      (None, None, 4)           40        \n",
      "_________________________________________________________________\n",
      "lstm (LSTM)                  (None, 8)                 416       \n",
      "_________________________________________________________________\n",
      "dense (Dense)                (None, 8)                 72        \n",
      "_________________________________________________________________\n",
      "dense_1 (Dense)              (None, 1)                 9         \n",
      "=================================================================\n",
      "Total params: 537\n",
      "Trainable params: 537\n",
      "Non-trainable params: 0\n",
      "_________________________________________________________________\n"
     ]
    }
   ],
   "source": [
    "# RNN 모델을 사용해 이전 스텝의 텍스트 데이터를 처리하는 예제\n",
    "vocab_size = 10\n",
    "word_vector_dim = 4\n",
    "\n",
    "model = tf.keras.Sequential()\n",
    "model.add(tf.keras.layers.Embedding(vocab_size, word_vector_dim, input_shape=(None,)))\n",
    "model.add(tf.keras.layers.LSTM(8)) # 널리 쓰이는 RNN인 LSTM 레이어 사용, LSTM state 벡터의 차원 수는 8로 설정\n",
    "model.add(tf.keras.layers.Dense(8, activation='relu'))\n",
    "model.add(tf.keras.layers.Dense(1, activation='sigmoid'))  # 최종 출력은 긍정/부정을 나타내는 1dim\n",
    "\n",
    "model.summary()"
   ]
  },
  {
   "cell_type": "markdown",
   "id": "824fe8c8",
   "metadata": {},
   "source": [
    "### 1-D CNN(Convolution Neural Network) vs RNN\n",
    "텍스트를 처리하기 위해 RNN이 아니라 `1-D CNN`을 사용할 수도 있다.  \n",
    "`1-D CNN`은 문장 전체를 한꺼번에 한 방향으로 길이 7짜리 필터로 스캔하면서 7단어 이내에서 발견되는 특징을 추출해 그것으로 문장을 분류한다.  \n",
    "이 방식도 텍스트를 처리하는데 RNN 못지않은 효율을 보여주는데, RNN 계열보다 병렬처리가 효율적이기 대문에 학습 속도도 훨씬 빠르다는 장점이 있다. "
   ]
  },
  {
   "cell_type": "code",
   "execution_count": 11,
   "id": "333a2152",
   "metadata": {},
   "outputs": [
    {
     "name": "stdout",
     "output_type": "stream",
     "text": [
      "Model: \"sequential_1\"\n",
      "_________________________________________________________________\n",
      "Layer (type)                 Output Shape              Param #   \n",
      "=================================================================\n",
      "embedding_2 (Embedding)      (None, None, 4)           40        \n",
      "_________________________________________________________________\n",
      "conv1d (Conv1D)              (None, None, 16)          464       \n",
      "_________________________________________________________________\n",
      "max_pooling1d (MaxPooling1D) (None, None, 16)          0         \n",
      "_________________________________________________________________\n",
      "conv1d_1 (Conv1D)            (None, None, 16)          1808      \n",
      "_________________________________________________________________\n",
      "global_max_pooling1d (Global (None, 16)                0         \n",
      "_________________________________________________________________\n",
      "dense_2 (Dense)              (None, 8)                 136       \n",
      "_________________________________________________________________\n",
      "dense_3 (Dense)              (None, 1)                 9         \n",
      "=================================================================\n",
      "Total params: 2,457\n",
      "Trainable params: 2,457\n",
      "Non-trainable params: 0\n",
      "_________________________________________________________________\n"
     ]
    }
   ],
   "source": [
    "vocab_size = 10\n",
    "word_vector_dim = 4\n",
    "\n",
    "model = tf.keras.Sequential()\n",
    "model.add(tf.keras.layers.Embedding(vocab_size, word_vector_dim, input_shape=(None, )))\n",
    "model.add(tf.keras.layers.Conv1D(16, 7, activation='relu'))\n",
    "model.add(tf.keras.layers.MaxPooling1D(5))\n",
    "model.add(tf.keras.layers.Conv1D(16, 7, activation='relu'))\n",
    "model.add(tf.keras.layers.GlobalMaxPooling1D())\n",
    "model.add(tf.keras.layers.Dense(8, activation='relu'))\n",
    "model.add(tf.keras.layers.Dense(1, activation='sigmoid'))\n",
    "\n",
    "model.summary()"
   ]
  },
  {
   "cell_type": "markdown",
   "id": "1bd324fb",
   "metadata": {},
   "source": [
    "아주 간단히는 `GlobalMaxPooling1D()` 레이어 하나만 사용하는 방법도 생각해 볼 수 있다.  \n",
    "이 방식은 전체 문장 중 가장 중요한 단어만 피처로 추추래 그것으로 문장의 긍정 / 부정을 평가하는 방식인데, 의외로 성능이 잘 나올 수도 있다고 한다."
   ]
  },
  {
   "cell_type": "code",
   "execution_count": 12,
   "id": "576553c7",
   "metadata": {},
   "outputs": [
    {
     "name": "stdout",
     "output_type": "stream",
     "text": [
      "Model: \"sequential_2\"\n",
      "_________________________________________________________________\n",
      "Layer (type)                 Output Shape              Param #   \n",
      "=================================================================\n",
      "embedding_3 (Embedding)      (None, None, 4)           40        \n",
      "_________________________________________________________________\n",
      "global_max_pooling1d_1 (Glob (None, 4)                 0         \n",
      "_________________________________________________________________\n",
      "dense_4 (Dense)              (None, 8)                 40        \n",
      "_________________________________________________________________\n",
      "dense_5 (Dense)              (None, 1)                 9         \n",
      "=================================================================\n",
      "Total params: 89\n",
      "Trainable params: 89\n",
      "Non-trainable params: 0\n",
      "_________________________________________________________________\n"
     ]
    }
   ],
   "source": [
    "vocab_size = 10\n",
    "word_vector_dim = 4\n",
    "\n",
    "model = tf.keras.Sequential()\n",
    "model.add(tf.keras.layers.Embedding(vocab_size, word_vector_dim, input_shape=(None,)))\n",
    "model.add(tf.keras.layers.GlobalMaxPooling1D())\n",
    "model.add(tf.keras.layers.Dense(8, activation='relu'))\n",
    "model.add(tf.keras.layers.Dense(1, activation='sigmoid'))\n",
    "\n",
    "model.summary()"
   ]
  },
  {
   "cell_type": "markdown",
   "id": "507cec01",
   "metadata": {},
   "source": [
    "1-D CNN과 RNN 레이어를 섞는다던가, FFN(FeedFoward Network) 레이어만으로 구성하거나, 최근 주목받는 Trnsformer 레이어를 사용하는 등 다양한 시도가 가능하다. "
   ]
  },
  {
   "cell_type": "markdown",
   "id": "b3225e21",
   "metadata": {},
   "source": [
    "## IMDB 영화 리뷰 감성분석\n",
    "### (1) IMDB 데이터셋 분석\n",
    "IMDB Large Movie Dataset은 50000개의 영어로 작성된 영화 리뷰 텍스트로, 긍정은 1, 부정은 0의 라벨이 달려있다.  \n",
    "절반인 25000개가 훈련용 데이터, 나머지를 테스트용 데이터로 사용하도록 지정되어 있다. "
   ]
  },
  {
   "cell_type": "code",
   "execution_count": 13,
   "id": "a7958864",
   "metadata": {},
   "outputs": [
    {
     "name": "stdout",
     "output_type": "stream",
     "text": [
      "훈련 샘플 개수: 25000, 테스트 개수: 25000\n"
     ]
    }
   ],
   "source": [
    "imdb = tf.keras.datasets.imdb\n",
    "\n",
    "# 단어사전에 등재할 단어의 개수를 10000으로 지정하면, 그 개수만큼의 word_to_index 딕셔너리까지 생성된 상태로 데이터셋 생성\n",
    "(x_train, y_train), (x_test, y_test) = imdb.load_data(num_words=10000)\n",
    "print(\"훈련 샘플 개수: {}, 테스트 개수: {}\".format(len(x_train), len(x_test)))"
   ]
  },
  {
   "cell_type": "code",
   "execution_count": 14,
   "id": "4cd2a3f3",
   "metadata": {},
   "outputs": [
    {
     "name": "stdout",
     "output_type": "stream",
     "text": [
      "[1, 14, 22, 16, 43, 530, 973, 1622, 1385, 65, 458, 4468, 66, 3941, 4, 173, 36, 256, 5, 25, 100, 43, 838, 112, 50, 670, 2, 9, 35, 480, 284, 5, 150, 4, 172, 112, 167, 2, 336, 385, 39, 4, 172, 4536, 1111, 17, 546, 38, 13, 447, 4, 192, 50, 16, 6, 147, 2025, 19, 14, 22, 4, 1920, 4613, 469, 4, 22, 71, 87, 12, 16, 43, 530, 38, 76, 15, 13, 1247, 4, 22, 17, 515, 17, 12, 16, 626, 18, 2, 5, 62, 386, 12, 8, 316, 8, 106, 5, 4, 2223, 5244, 16, 480, 66, 3785, 33, 4, 130, 12, 16, 38, 619, 5, 25, 124, 51, 36, 135, 48, 25, 1415, 33, 6, 22, 12, 215, 28, 77, 52, 5, 14, 407, 16, 82, 2, 8, 4, 107, 117, 5952, 15, 256, 4, 2, 7, 3766, 5, 723, 36, 71, 43, 530, 476, 26, 400, 317, 46, 7, 4, 2, 1029, 13, 104, 88, 4, 381, 15, 297, 98, 32, 2071, 56, 26, 141, 6, 194, 7486, 18, 4, 226, 22, 21, 134, 476, 26, 480, 5, 144, 30, 5535, 18, 51, 36, 28, 224, 92, 25, 104, 4, 226, 65, 16, 38, 1334, 88, 12, 16, 283, 5, 16, 4472, 113, 103, 32, 15, 16, 5345, 19, 178, 32]\n",
      "라벨:  1\n",
      "1번째 리뷰 문장 길이:  218\n",
      "2번째 리뷰 문장 길이:  189\n"
     ]
    }
   ],
   "source": [
    "print(x_train[0])\n",
    "print('라벨: ', y_train[0])\n",
    "print('1번째 리뷰 문장 길이: ', len(x_train[0]))\n",
    "print('2번째 리뷰 문장 길이: ', len(x_train[1]))"
   ]
  },
  {
   "cell_type": "markdown",
   "id": "0495c1ea",
   "metadata": {},
   "source": [
    "텍스트 데이터가 아니라 이미 숫자로 encode된 텍스트 데이터를 다운로드했음을 알 수 있다. "
   ]
  },
  {
   "cell_type": "code",
   "execution_count": 15,
   "id": "83f478ad",
   "metadata": {},
   "outputs": [
    {
     "name": "stdout",
     "output_type": "stream",
     "text": [
      "the\n",
      "1\n"
     ]
    }
   ],
   "source": [
    "word_to_index = imdb.get_word_index()\n",
    "index_to_word = {index:word for word, index in word_to_index.items()}\n",
    "print(index_to_word[1])\n",
    "print(word_to_index['the'])"
   ]
  },
  {
   "cell_type": "markdown",
   "id": "d701c1b3",
   "metadata": {},
   "source": [
    "`word_to_index`, `index_to_word`는 다음과 같이 보정되어야 한다. (Tensorflow 튜토리얼의 가이드를 참고했다)  \n",
    "`word_to_index`는 IMDB 텍스트 데이터셋의 단어 출현 빈도 기준 내림차순 정렬되어 있다. "
   ]
  },
  {
   "cell_type": "code",
   "execution_count": 16,
   "id": "4e55c242",
   "metadata": {},
   "outputs": [
    {
     "name": "stdout",
     "output_type": "stream",
     "text": [
      "<BOS>\n",
      "4\n",
      "the\n"
     ]
    }
   ],
   "source": [
    "# 실제 인코딩 인덱스는 제공된 word_to_index에서 index 기준으로 3씩 뒤로 밀려 있다.\n",
    "word_to_index = {k:(v+3) for k, v in word_to_index.items()}\n",
    "\n",
    "# 처음 몇 개의 인덱스는 사전에 정의되어 있다.\n",
    "word_to_index[\"<PAD>\"] = 0\n",
    "word_to_index[\"<BOS>\"] = 1\n",
    "word_to_index[\"<UNK>\"] = 2\n",
    "word_to_index[\"<UNUSED>\"] = 3\n",
    "\n",
    "index_to_word = {index:word for word, index in word_to_index.items()}\n",
    "\n",
    "print(index_to_word[1])\n",
    "print(word_to_index['the'])\n",
    "print(index_to_word[4])"
   ]
  },
  {
   "cell_type": "code",
   "execution_count": 17,
   "id": "492eb88a",
   "metadata": {},
   "outputs": [
    {
     "name": "stdout",
     "output_type": "stream",
     "text": [
      "this film was just brilliant casting location scenery story direction everyone's really suited the part they played and you could just imagine being there robert <UNK> is an amazing actor and now the same being director <UNK> father came from the same scottish island as myself so i loved the fact there was a real connection with this film the witty remarks throughout the film were great it was just brilliant so much that i bought the film as soon as it was released for <UNK> and would recommend it to everyone to watch and the fly fishing was amazing really cried at the end it was so sad and you know what they say if you cry at a film it must have been good and this definitely was also <UNK> to the two little boy's that played the <UNK> of norman and paul they were just brilliant children are often left out of the <UNK> list i think because the stars that play them all grown up are such a big profile for the whole film but these children are amazing and should be praised for what they have done don't you think the whole story was so lovely because it was true and was someone's life after all that was shared with us all\n",
      "라벨:  1\n"
     ]
    }
   ],
   "source": [
    "print(get_decoded_sentence(x_train[0], index_to_word))\n",
    "print('라벨: ', y_train[0])"
   ]
  },
  {
   "cell_type": "markdown",
   "id": "b5a1dce4",
   "metadata": {},
   "source": [
    "`pad_sequences`를 통해 데이터셋 상의 문장의 길이를 통일하는 것을 잊어서는 안 된다.  \n",
    "문장의 최대 길이 `maxlen`의 값 설정도 전체 모델 성능에 영향을 미친다. 적절한 값을 찾기 위해서는 전체 데이터셋의 분포를 확인해보는 것이 좋다."
   ]
  },
  {
   "cell_type": "code",
   "execution_count": 18,
   "id": "c7a7b61d",
   "metadata": {},
   "outputs": [
    {
     "name": "stdout",
     "output_type": "stream",
     "text": [
      "문장 길이 평균:  234.75892\n",
      "문장 길이 최대:  2494\n",
      "문장 길이 표준편차:  172.91149458735703\n",
      "pad_sequences maxlen:  580\n",
      "전체 문장의 0.94536%가 maxlen 설정값 이내에 포함된다.\n"
     ]
    }
   ],
   "source": [
    "total_data_text = list(x_train) + list(x_test)\n",
    "\n",
    "num_tokens = [len(tokens) for tokens in total_data_text]\n",
    "num_tokens = np.array(num_tokens)\n",
    "\n",
    "# 문장 길이의 평균, 최대값, 표준편차 계산\n",
    "print('문장 길이 평균: ', np.mean(num_tokens))\n",
    "print('문장 길이 최대: ', np.max(num_tokens))\n",
    "print('문장 길이 표준편차: ', np.std(num_tokens))\n",
    "\n",
    "# 예시로, 최대 길이를 *(평균 + 2 * 표준편차)로 설정할 경우\n",
    "max_tokens = np.mean(num_tokens) + 2 * np.std(num_tokens)\n",
    "maxlen = int(max_tokens)\n",
    "print('pad_sequences maxlen: ', maxlen)\n",
    "print('전체 문장의 {}%가 maxlen 설정값 이내에 포함된다.'.format(np.sum(num_tokens < max_tokens) / len(num_tokens)))"
   ]
  },
  {
   "cell_type": "markdown",
   "id": "6d730ef0",
   "metadata": {},
   "source": [
    "또 한 가지 유의해야 할 점은 padding 방식을 post와 pre 중 어느 쪽으로 정하느냐에 따라 RNN을 이용한 딥러닝 적용 시 성능 차이가 발생한다.  \n",
    "두 가지 방식을 한 번씩 다 적용해서 그 결과를 비교해보자. "
   ]
  },
  {
   "cell_type": "code",
   "execution_count": 19,
   "id": "6aabcb67",
   "metadata": {},
   "outputs": [
    {
     "name": "stdout",
     "output_type": "stream",
     "text": [
      "(25000, 580)\n"
     ]
    }
   ],
   "source": [
    "x_train = tf.keras.preprocessing.sequence.pad_sequences(x_train, value=word_to_index[\"<PAD>\"],\n",
    "                                                       padding='post',\n",
    "                                                       maxlen=maxlen)\n",
    "\n",
    "x_test = tf.keras.preprocessing.sequence.pad_sequences(x_test, value=word_to_index[\"<PAD>\"],\n",
    "                                                      padding='post',\n",
    "                                                      maxlen=maxlen)\n",
    "\n",
    "print(x_train.shape)"
   ]
  },
  {
   "cell_type": "markdown",
   "id": "74bda2d7",
   "metadata": {},
   "source": [
    ">RNN은 입력데이터가 순차적으로 처리되어, 가장 마지막 입력이 최종 state 값에 가장 영향을 많이 미치게 된다.  \n",
    "따라서 마지막 입력이 무의미한 padding으로 채워지는 것은 비효율적이다. 따라서 'pre'가 훨씬 유리하며, 10% 이상의 테스트 성능 차이를 보이게 된다. "
   ]
  },
  {
   "cell_type": "markdown",
   "id": "7152ef74",
   "metadata": {},
   "source": [
    "### (2) 딥러닝 모델 설계와 훈련"
   ]
  },
  {
   "cell_type": "code",
   "execution_count": 20,
   "id": "de19549f",
   "metadata": {},
   "outputs": [
    {
     "name": "stdout",
     "output_type": "stream",
     "text": [
      "Model: \"sequential_3\"\n",
      "_________________________________________________________________\n",
      "Layer (type)                 Output Shape              Param #   \n",
      "=================================================================\n",
      "embedding_4 (Embedding)      (None, None, 16)          160000    \n",
      "_________________________________________________________________\n",
      "conv1d_2 (Conv1D)            (None, None, 16)          1808      \n",
      "_________________________________________________________________\n",
      "max_pooling1d_1 (MaxPooling1 (None, None, 16)          0         \n",
      "_________________________________________________________________\n",
      "conv1d_3 (Conv1D)            (None, None, 16)          1808      \n",
      "_________________________________________________________________\n",
      "global_max_pooling1d_2 (Glob (None, 16)                0         \n",
      "_________________________________________________________________\n",
      "dense_6 (Dense)              (None, 8)                 136       \n",
      "_________________________________________________________________\n",
      "dense_7 (Dense)              (None, 1)                 9         \n",
      "=================================================================\n",
      "Total params: 163,761\n",
      "Trainable params: 163,761\n",
      "Non-trainable params: 0\n",
      "_________________________________________________________________\n"
     ]
    }
   ],
   "source": [
    "# 모델 설계\n",
    "vocab_size = 10000\n",
    "word_vector_dim = 16  # 워드 벡터의 차원 수 (변경 가능한 하이퍼 파라미터)\n",
    "\n",
    "model = tf.keras.Sequential()\n",
    "model.add(tf.keras.layers.Embedding(vocab_size, word_vector_dim, input_shape=(None, )))\n",
    "model.add(tf.keras.layers.Conv1D(16, 7, activation='relu'))\n",
    "model.add(tf.keras.layers.MaxPooling1D(5))\n",
    "model.add(tf.keras.layers.Conv1D(16, 7, activation='relu'))\n",
    "model.add(tf.keras.layers.GlobalMaxPooling1D())\n",
    "model.add(tf.keras.layers.Dense(8, activation='relu'))\n",
    "model.add(tf.keras.layers.Dense(1, activation='sigmoid'))\n",
    "\n",
    "model.summary()"
   ]
  },
  {
   "cell_type": "markdown",
   "id": "d3497dd7",
   "metadata": {},
   "source": [
    "model 훈련 전에, 훈련용 데이터셋 25000건 중 10000건을 분리해 validation set으로 사용하자. "
   ]
  },
  {
   "cell_type": "code",
   "execution_count": 21,
   "id": "2ee9d90a",
   "metadata": {},
   "outputs": [
    {
     "name": "stdout",
     "output_type": "stream",
     "text": [
      "(15000, 580)\n",
      "(15000,)\n"
     ]
    }
   ],
   "source": [
    "# validation set 분리\n",
    "x_val = x_train[:10000]\n",
    "y_val = y_train[:10000]\n",
    "\n",
    "partial_x_train = x_train[10000:]\n",
    "partial_y_train = y_train[10000:]\n",
    "\n",
    "print(partial_x_train.shape)\n",
    "print(partial_y_train.shape)"
   ]
  },
  {
   "cell_type": "code",
   "execution_count": 22,
   "id": "568ffcbe",
   "metadata": {},
   "outputs": [
    {
     "name": "stdout",
     "output_type": "stream",
     "text": [
      "Epoch 1/20\n",
      "30/30 [==============================] - 4s 31ms/step - loss: 0.6924 - accuracy: 0.5074 - val_loss: 0.6910 - val_accuracy: 0.5588\n",
      "Epoch 2/20\n",
      "30/30 [==============================] - 1s 19ms/step - loss: 0.6808 - accuracy: 0.5402 - val_loss: 0.6741 - val_accuracy: 0.6983\n",
      "Epoch 3/20\n",
      "30/30 [==============================] - 1s 19ms/step - loss: 0.6242 - accuracy: 0.6744 - val_loss: 0.5698 - val_accuracy: 0.7601\n",
      "Epoch 4/20\n",
      "30/30 [==============================] - 1s 19ms/step - loss: 0.4907 - accuracy: 0.8399 - val_loss: 0.4646 - val_accuracy: 0.8426\n",
      "Epoch 5/20\n",
      "30/30 [==============================] - 1s 19ms/step - loss: 0.3620 - accuracy: 0.9102 - val_loss: 0.3759 - val_accuracy: 0.8695\n",
      "Epoch 6/20\n",
      "30/30 [==============================] - 1s 19ms/step - loss: 0.2326 - accuracy: 0.9447 - val_loss: 0.3306 - val_accuracy: 0.8701\n",
      "Epoch 7/20\n",
      "30/30 [==============================] - 1s 19ms/step - loss: 0.1454 - accuracy: 0.9643 - val_loss: 0.3688 - val_accuracy: 0.8635\n",
      "Epoch 8/20\n",
      "30/30 [==============================] - 1s 19ms/step - loss: 0.1003 - accuracy: 0.9780 - val_loss: 0.3647 - val_accuracy: 0.8651\n",
      "Epoch 9/20\n",
      "30/30 [==============================] - 1s 19ms/step - loss: 0.0718 - accuracy: 0.9857 - val_loss: 0.4160 - val_accuracy: 0.8623\n",
      "Epoch 10/20\n",
      "30/30 [==============================] - 1s 19ms/step - loss: 0.0514 - accuracy: 0.9914 - val_loss: 0.4311 - val_accuracy: 0.8624\n",
      "Epoch 11/20\n",
      "30/30 [==============================] - 1s 19ms/step - loss: 0.0399 - accuracy: 0.9941 - val_loss: 0.4566 - val_accuracy: 0.8592\n",
      "Epoch 12/20\n",
      "30/30 [==============================] - 1s 19ms/step - loss: 0.0334 - accuracy: 0.9950 - val_loss: 0.4937 - val_accuracy: 0.8588\n",
      "Epoch 13/20\n",
      "30/30 [==============================] - 1s 19ms/step - loss: 0.0288 - accuracy: 0.9954 - val_loss: 0.5135 - val_accuracy: 0.8578\n",
      "Epoch 14/20\n",
      "30/30 [==============================] - 1s 19ms/step - loss: 0.0259 - accuracy: 0.9959 - val_loss: 0.5408 - val_accuracy: 0.8582\n",
      "Epoch 15/20\n",
      "30/30 [==============================] - 1s 19ms/step - loss: 0.0230 - accuracy: 0.9963 - val_loss: 0.5637 - val_accuracy: 0.8588\n",
      "Epoch 16/20\n",
      "30/30 [==============================] - 1s 19ms/step - loss: 0.0211 - accuracy: 0.9966 - val_loss: 0.5754 - val_accuracy: 0.8561\n",
      "Epoch 17/20\n",
      "30/30 [==============================] - 1s 19ms/step - loss: 0.0187 - accuracy: 0.9970 - val_loss: 0.5836 - val_accuracy: 0.8571\n",
      "Epoch 18/20\n",
      "30/30 [==============================] - 1s 19ms/step - loss: 0.0173 - accuracy: 0.9971 - val_loss: 0.6129 - val_accuracy: 0.8570\n",
      "Epoch 19/20\n",
      "30/30 [==============================] - 1s 19ms/step - loss: 0.0164 - accuracy: 0.9973 - val_loss: 0.6143 - val_accuracy: 0.8566\n",
      "Epoch 20/20\n",
      "30/30 [==============================] - 1s 19ms/step - loss: 0.0154 - accuracy: 0.9973 - val_loss: 0.6184 - val_accuracy: 0.8565\n"
     ]
    }
   ],
   "source": [
    "# model 학습\n",
    "model.compile(optimizer='adam',\n",
    "             loss='binary_crossentropy',\n",
    "             metrics=['accuracy'])\n",
    "\n",
    "epochs = 20\n",
    "\n",
    "history = model.fit(partial_x_train,\n",
    "                   partial_y_train,\n",
    "                   epochs=epochs,\n",
    "                   batch_size=512,\n",
    "                   validation_data=(x_val, y_val),\n",
    "                   verbose=1)"
   ]
  },
  {
   "cell_type": "code",
   "execution_count": 23,
   "id": "c786efdf",
   "metadata": {},
   "outputs": [
    {
     "name": "stdout",
     "output_type": "stream",
     "text": [
      "782/782 - 1s - loss: 0.6947 - accuracy: 0.8382\n",
      "[0.6947020888328552, 0.83815997838974]\n"
     ]
    }
   ],
   "source": [
    "# test set으로 모델 평가\n",
    "results = model.evaluate(x_test, y_test, verbose=2)\n",
    "\n",
    "print(results)"
   ]
  },
  {
   "cell_type": "markdown",
   "id": "504c9c0e",
   "metadata": {},
   "source": [
    "`model.fit()` 과정 중 train / validation loss, accuracy 등이 epoch마다 history 변수에 저장되어 있다.   \n",
    "이 데이터를 시각화하면, 딥러닝 학습일 잘 진행되었는지, 오버피팅 혹은 언더피팅하지 않았는지, 성능을 개선할 수 있는 아이디어를 얻을 수 있는 자료가 된다."
   ]
  },
  {
   "cell_type": "code",
   "execution_count": 24,
   "id": "19deb3a3",
   "metadata": {},
   "outputs": [
    {
     "name": "stdout",
     "output_type": "stream",
     "text": [
      "dict_keys(['loss', 'accuracy', 'val_loss', 'val_accuracy'])\n"
     ]
    }
   ],
   "source": [
    "history_dict = history.history\n",
    "print(history_dict.keys())"
   ]
  },
  {
   "cell_type": "code",
   "execution_count": 25,
   "id": "1f3e8859",
   "metadata": {},
   "outputs": [
    {
     "data": {
      "image/png": "[encoded data removed]",
      "text/plain": [
       "<Figure size 432x288 with 1 Axes>"
      ]
     },
     "metadata": {
      "needs_background": "light"
     },
     "output_type": "display_data"
    }
   ],
   "source": [
    "# 모델 학습 시각화\n",
    "import matplotlib.pyplot as plt\n",
    "\n",
    "acc = history_dict['accuracy']\n",
    "val_acc = history_dict['val_accuracy']\n",
    "loss = history_dict['loss']\n",
    "val_loss = history_dict['val_loss']\n",
    "\n",
    "epochs = range(1, len(acc) + 1)\n",
    "\n",
    "# bo는 파란색 점, b는 파란 실선\n",
    "plt.plot(epochs, loss, 'bo', label='Training loss')\n",
    "plt.plot(epochs, val_loss, 'b', label='Validation loss')\n",
    "plt.title('Training and validation loss')\n",
    "plt.xlabel('Epochs')\n",
    "plt.ylabel('Loss')\n",
    "plt.legend()\n",
    "\n",
    "plt.show()"
   ]
  },
  {
   "cell_type": "markdown",
   "id": "a4b45457",
   "metadata": {},
   "source": [
    "위 그래프를 보면 몇 epoch까지의 학습이 적절한지 최적점을 추정할 수 있다. validation loss의 그래프가 train loss와의 이격이 발생하게 되면 더 이상의 학습은 무의미해진다. "
   ]
  },
  {
   "cell_type": "code",
   "execution_count": 26,
   "id": "1a327933",
   "metadata": {},
   "outputs": [
    {
     "data": {
      "image/png": "[encoded data removed]",
      "text/plain": [
       "<Figure size 432x288 with 1 Axes>"
      ]
     },
     "metadata": {
      "needs_background": "light"
     },
     "output_type": "display_data"
    }
   ],
   "source": [
    "plt.clf()  # 그림 초기화\n",
    "\n",
    "plt.plot(epochs, acc, 'bo', label='Training acc')\n",
    "plt.plot(epochs, val_acc, 'b', label='Validation acc')\n",
    "plt.title('Training and validation accuracy')\n",
    "plt.xlabel('Epochs')\n",
    "plt.ylabel('Accuracy')\n",
    "plt.legend()\n",
    "\n",
    "plt.show()"
   ]
  },
  {
   "cell_type": "markdown",
   "id": "45cf6c3a",
   "metadata": {},
   "source": [
    "마찬가지로 Training and validation accuracy를 그려봐도 유사한 인사이트를 얻을 수 있다. "
   ]
  },
  {
   "cell_type": "markdown",
   "id": "e30b332d",
   "metadata": {},
   "source": [
    "### (3) Word2Vec 적용\n",
    "라벨링 비용이 많이 드는 감성분석의 비용을 줄이면서, 정확도를 크게 높일 수 있는 자연어처리 기법으로  \n",
    "단어의 특성을 저차원 벡터값으로 표현할 수 있는 `워드 임베딩(word embedding)` 기법이 있다.  \n",
    "앞서 사용했던 model의 첫 번재 레이어가 Embedding 레이어였는데, 이 레이어는 사전의 단어 개수 * 워드 벡터 사이즈만큼의 크기를 가진 학습 파라미터였다.  \n",
    "만약 앞의 모델이 학습이 잘 되었다면, Embedding 레이어에 학습된 워드 벡터들도 의미 공간 상에 유의미한 형태로 학습되었을 것이다. 확인해보자."
   ]
  },
  {
   "cell_type": "code",
   "execution_count": 27,
   "id": "65251ed0",
   "metadata": {},
   "outputs": [
    {
     "name": "stdout",
     "output_type": "stream",
     "text": [
      "(10000, 16)\n"
     ]
    }
   ],
   "source": [
    "embedding_layer = model.layers[0]\n",
    "weights = embedding_layer.get_weights()[0]\n",
    "print(weights.shape)  # vocab_size, embedding_dim"
   ]
  },
  {
   "cell_type": "code",
   "execution_count": 28,
   "id": "7bd093d7",
   "metadata": {},
   "outputs": [],
   "source": [
    "# 학습한 embedding 파라미터를 파일로 저장\n",
    "word2vec_file_path = os.getenv('HOME') + '/aiffel/sentiment_classification/data/word2vec.txt'\n",
    "f = open(word2vec_file_path, 'w')\n",
    "f.write('{} {}\\n'.format(vocab_size-4, word_vector_dim))  # 몇 개의 벡터를 어떤 사이즈로 기재할지의 타이틀.\n",
    "\n",
    "# 단어 개수(특수문자 4개 제외)만큼의 워드 벡터를 파일에 기록\n",
    "vectors = model.get_weights()[0]\n",
    "for i in range(4, vocab_size):\n",
    "    f.write('{} {}\\n'.format(index_to_word[i], ' '.join(map(str, list(vectors[i, :])))))\n",
    "f.close()"
   ]
  },
  {
   "cell_type": "code",
   "execution_count": 29,
   "id": "05ef5c35",
   "metadata": {},
   "outputs": [
    {
     "data": {
      "text/plain": [
       "array([ 0.0115478 , -0.00109054,  0.09078266,  0.04226822, -0.03513872,\n",
       "       -0.04965927, -0.07862715, -0.07379095,  0.05347811, -0.00402092,\n",
       "        0.01751629, -0.02840046,  0.02481056,  0.07604838, -0.01475856,\n",
       "       -0.00540159], dtype=float32)"
      ]
     },
     "execution_count": 29,
     "metadata": {},
     "output_type": "execute_result"
    }
   ],
   "source": [
    "# gensim에서 제공하는 패키지로, 위에서 만든 임베딩 파라미터를 익어서 word vector로 활용\n",
    "from gensim.models.keyedvectors import Word2VecKeyedVectors\n",
    "\n",
    "word_vectors = Word2VecKeyedVectors.load_word2vec_format(word2vec_file_path, binary=False)\n",
    "vector = word_vectors['computer']\n",
    "vector"
   ]
  },
  {
   "cell_type": "markdown",
   "id": "bbf2aa01",
   "metadata": {},
   "source": [
    "워드 벡터가 의미 벡터 공간 상에 유의미하게 학습되었는지 확인하기 위해, 단어를 하나 주고 가장 유사한 단어와 그 유사도를 확인해 볼 수 있다."
   ]
  },
  {
   "cell_type": "code",
   "execution_count": 30,
   "id": "651b648d",
   "metadata": {},
   "outputs": [
    {
     "data": {
      "text/plain": [
       "[('larger', 0.8839967846870422),\n",
       " ('believable', 0.8710741400718689),\n",
       " ('fiction', 0.861591637134552),\n",
       " ('crooks', 0.8607564568519592),\n",
       " ('athletic', 0.8585770726203918),\n",
       " ('inspector', 0.8447098135948181),\n",
       " ('discovers', 0.8367086052894592),\n",
       " ('ace', 0.8348056674003601),\n",
       " ('delirious', 0.8339557647705078),\n",
       " ('psychologically', 0.8322232365608215)]"
      ]
     },
     "execution_count": 30,
     "metadata": {},
     "output_type": "execute_result"
    }
   ],
   "source": [
    "word_vectors.similar_by_word(\"love\")"
   ]
  },
  {
   "cell_type": "markdown",
   "id": "d8047ac5",
   "metadata": {},
   "source": [
    "감성 분류 태스크를 잠깐 학습한 것으로는 워드 벡터가 유의미하게 학습되기 어려운 것 같다.  \n",
    "이제 구글에서 제공하는 `Word2Vec`이라는 사전학습된 워드 임베딩 모델을 활용해보자.  \n",
    ">Word2Vec은 1억 개로 구성된 Google News dataset을 바탕으로 학습되었다. 총 300만 개의 단어를 각각 300차원의 벡터로 표현했다. "
   ]
  },
  {
   "cell_type": "code",
   "execution_count": 31,
   "id": "ee78181f",
   "metadata": {},
   "outputs": [
    {
     "data": {
      "text/plain": [
       "array([ 1.07421875e-01, -2.01171875e-01,  1.23046875e-01,  2.11914062e-01,\n",
       "       -9.13085938e-02,  2.16796875e-01, -1.31835938e-01,  8.30078125e-02,\n",
       "        2.02148438e-01,  4.78515625e-02,  3.66210938e-02, -2.45361328e-02,\n",
       "        2.39257812e-02, -1.60156250e-01, -2.61230469e-02,  9.71679688e-02,\n",
       "       -6.34765625e-02,  1.84570312e-01,  1.70898438e-01, -1.63085938e-01,\n",
       "       -1.09375000e-01,  1.49414062e-01, -4.65393066e-04,  9.61914062e-02,\n",
       "        1.68945312e-01,  2.60925293e-03,  8.93554688e-02,  6.49414062e-02,\n",
       "        3.56445312e-02, -6.93359375e-02, -1.46484375e-01, -1.21093750e-01,\n",
       "       -2.27539062e-01,  2.45361328e-02, -1.24511719e-01, -3.18359375e-01,\n",
       "       -2.20703125e-01,  1.30859375e-01,  3.66210938e-02, -3.63769531e-02,\n",
       "       -1.13281250e-01,  1.95312500e-01,  9.76562500e-02,  1.26953125e-01,\n",
       "        6.59179688e-02,  6.93359375e-02,  1.02539062e-02,  1.75781250e-01,\n",
       "       -1.68945312e-01,  1.21307373e-03, -2.98828125e-01, -1.15234375e-01,\n",
       "        5.66406250e-02, -1.77734375e-01, -2.08984375e-01,  1.76757812e-01,\n",
       "        2.38037109e-02, -2.57812500e-01, -4.46777344e-02,  1.88476562e-01,\n",
       "        5.51757812e-02,  5.02929688e-02, -1.06933594e-01,  1.89453125e-01,\n",
       "       -1.16210938e-01,  8.49609375e-02, -1.71875000e-01,  2.45117188e-01,\n",
       "       -1.73828125e-01, -8.30078125e-03,  4.56542969e-02, -1.61132812e-02,\n",
       "        1.86523438e-01, -6.05468750e-02, -4.17480469e-02,  1.82617188e-01,\n",
       "        2.20703125e-01, -1.22558594e-01, -2.55126953e-02, -3.08593750e-01,\n",
       "        9.13085938e-02,  1.60156250e-01,  1.70898438e-01,  1.19628906e-01,\n",
       "        7.08007812e-02, -2.64892578e-02, -3.08837891e-02,  4.06250000e-01,\n",
       "       -1.01562500e-01,  5.71289062e-02, -7.26318359e-03, -9.17968750e-02,\n",
       "       -1.50390625e-01, -2.55859375e-01,  2.16796875e-01, -3.63769531e-02,\n",
       "        2.24609375e-01,  8.00781250e-02,  1.56250000e-01,  5.27343750e-02,\n",
       "        1.50390625e-01, -1.14746094e-01, -8.64257812e-02,  1.19140625e-01,\n",
       "       -7.17773438e-02,  2.73437500e-01, -1.64062500e-01,  7.29370117e-03,\n",
       "        4.21875000e-01, -1.12792969e-01, -1.35742188e-01, -1.31835938e-01,\n",
       "       -1.37695312e-01, -7.66601562e-02,  6.25000000e-02,  4.98046875e-02,\n",
       "       -1.91406250e-01, -6.03027344e-02,  2.27539062e-01,  5.88378906e-02,\n",
       "       -3.24218750e-01,  5.41992188e-02, -1.35742188e-01,  8.17871094e-03,\n",
       "       -5.24902344e-02, -1.74713135e-03, -9.81445312e-02, -2.86865234e-02,\n",
       "        3.61328125e-02,  2.15820312e-01,  5.98144531e-02, -3.08593750e-01,\n",
       "       -2.27539062e-01,  2.61718750e-01,  9.86328125e-02, -5.07812500e-02,\n",
       "        1.78222656e-02,  1.31835938e-01, -5.35156250e-01, -1.81640625e-01,\n",
       "        1.38671875e-01, -3.10546875e-01, -9.71679688e-02,  1.31835938e-01,\n",
       "       -1.16210938e-01,  7.03125000e-02,  2.85156250e-01,  3.51562500e-02,\n",
       "       -1.01562500e-01, -3.75976562e-02,  1.41601562e-01,  1.42578125e-01,\n",
       "       -5.68847656e-02,  2.65625000e-01, -2.09960938e-01,  9.64355469e-03,\n",
       "       -6.68945312e-02, -4.83398438e-02, -6.10351562e-02,  2.45117188e-01,\n",
       "       -9.66796875e-02,  1.78222656e-02, -1.27929688e-01, -4.78515625e-02,\n",
       "       -7.26318359e-03,  1.79687500e-01,  2.78320312e-02, -2.10937500e-01,\n",
       "       -1.43554688e-01, -1.27929688e-01,  1.73339844e-02, -3.60107422e-03,\n",
       "       -2.04101562e-01,  3.63159180e-03, -1.19628906e-01, -6.15234375e-02,\n",
       "        5.93261719e-02, -3.23486328e-03, -1.70898438e-01, -3.14941406e-02,\n",
       "       -8.88671875e-02, -2.89062500e-01,  3.44238281e-02, -1.87500000e-01,\n",
       "        2.94921875e-01,  1.58203125e-01, -1.19628906e-01,  7.61718750e-02,\n",
       "        6.39648438e-02, -4.68750000e-02, -6.83593750e-02,  1.21459961e-02,\n",
       "       -1.44531250e-01,  4.54101562e-02,  3.68652344e-02,  3.88671875e-01,\n",
       "        1.45507812e-01, -2.55859375e-01, -4.46777344e-02, -1.33789062e-01,\n",
       "       -1.38671875e-01,  6.59179688e-02,  1.37695312e-01,  1.14746094e-01,\n",
       "        2.03125000e-01, -4.78515625e-02,  1.80664062e-02, -8.54492188e-02,\n",
       "       -2.48046875e-01, -3.39843750e-01, -2.83203125e-02,  1.05468750e-01,\n",
       "       -2.14843750e-01, -8.74023438e-02,  7.12890625e-02,  1.87500000e-01,\n",
       "       -1.12304688e-01,  2.73437500e-01, -3.26171875e-01, -1.77734375e-01,\n",
       "       -4.24804688e-02, -2.69531250e-01,  6.64062500e-02, -6.88476562e-02,\n",
       "       -1.99218750e-01, -7.03125000e-02, -2.43164062e-01, -3.66210938e-02,\n",
       "       -7.37304688e-02, -1.77734375e-01,  9.17968750e-02, -1.25000000e-01,\n",
       "       -1.65039062e-01, -3.57421875e-01, -2.85156250e-01, -1.66992188e-01,\n",
       "        1.97265625e-01, -1.53320312e-01,  2.31933594e-02,  2.06054688e-01,\n",
       "        1.80664062e-01, -2.74658203e-02, -1.92382812e-01, -9.61914062e-02,\n",
       "       -1.06811523e-02, -4.73632812e-02,  6.54296875e-02, -1.25732422e-02,\n",
       "        1.78222656e-02, -8.00781250e-02, -2.59765625e-01,  9.37500000e-02,\n",
       "       -7.81250000e-02,  4.68750000e-02, -2.22167969e-02,  1.86767578e-02,\n",
       "        3.11279297e-02,  1.04980469e-02, -1.69921875e-01,  2.58789062e-02,\n",
       "       -3.41796875e-02, -1.44042969e-02, -5.46875000e-02, -8.78906250e-02,\n",
       "        1.96838379e-03,  2.23632812e-01, -1.36718750e-01,  1.75781250e-01,\n",
       "       -1.63085938e-01,  1.87500000e-01,  3.44238281e-02, -5.63964844e-02,\n",
       "       -2.27689743e-05,  4.27246094e-02,  5.81054688e-02, -1.07910156e-01,\n",
       "       -3.88183594e-02, -2.69531250e-01,  3.34472656e-02,  9.81445312e-02,\n",
       "        5.63964844e-02,  2.23632812e-01, -5.49316406e-02,  1.46484375e-01,\n",
       "        5.93261719e-02, -2.19726562e-01,  6.39648438e-02,  1.66015625e-02,\n",
       "        4.56542969e-02,  3.26171875e-01, -3.80859375e-01,  1.70898438e-01,\n",
       "        5.66406250e-02, -1.04492188e-01,  1.38671875e-01, -1.57226562e-01,\n",
       "        3.23486328e-03, -4.80957031e-02, -2.48046875e-01, -6.20117188e-02],\n",
       "      dtype=float32)"
      ]
     },
     "execution_count": 31,
     "metadata": {},
     "output_type": "execute_result"
    }
   ],
   "source": [
    "from gensim.models import KeyedVectors\n",
    "\n",
    "word2vec_path = os.getenv('HOME') + '/aiffel/sentiment_classification/data/GoogleNews-vectors-negative300.bin.gz'\n",
    "# 300dim의 벡터로 이루어진 300만 개의 단어를 모두 메모리에 로딩하면 실습환경에 따라 메모리 에러가 날 수 있다. \n",
    "# KeyedVector.load_word2vec_format 메서드로 가장 많이 사용되는 상위 100만개만 limit으로 설정해 로드\n",
    "word2vec = KeyedVectors.load_word2vec_format(word2vec_path, binary=True, limit=1000000)\n",
    "vector = word2vec['computer']\n",
    "vector"
   ]
  },
  {
   "cell_type": "code",
   "execution_count": 32,
   "id": "688fe076",
   "metadata": {},
   "outputs": [
    {
     "data": {
      "text/plain": [
       "[('loved', 0.6907791495323181),\n",
       " ('adore', 0.6816873550415039),\n",
       " ('loves', 0.661863386631012),\n",
       " ('passion', 0.6100708842277527),\n",
       " ('hate', 0.600395679473877),\n",
       " ('loving', 0.5886635780334473),\n",
       " ('affection', 0.5664337873458862),\n",
       " ('undying_love', 0.5547304749488831),\n",
       " ('absolutely_adore', 0.5536840558052063),\n",
       " ('adores', 0.5440906882286072)]"
      ]
     },
     "execution_count": 32,
     "metadata": {},
     "output_type": "execute_result"
    }
   ],
   "source": [
    "word2vec.similar_by_word(\"love\")"
   ]
  },
  {
   "cell_type": "markdown",
   "id": "bf2452bc",
   "metadata": {},
   "source": [
    "앞에서 학습했던 모델의 임베딩 레이어를 Word2Vec의 것으로 교체해 다시 학습시켜보자. "
   ]
  },
  {
   "cell_type": "code",
   "execution_count": 33,
   "id": "6079b65c",
   "metadata": {},
   "outputs": [],
   "source": [
    "vocab_size = 10000\n",
    "word_vector_dim = 300\n",
    "embedding_matrix = np.random.rand(vocab_size, word_vector_dim)\n",
    "\n",
    "# embedding_matrix에 Word2Vec 워드 벡터를 단어 하나씩 차례로 카피\n",
    "for i in range(4, vocab_size):\n",
    "    if index_to_word[i] in word2vec:\n",
    "        embedding_matrix[i] = word2vec[index_to_word[i]]"
   ]
  },
  {
   "cell_type": "code",
   "execution_count": 37,
   "id": "7712e4ca",
   "metadata": {},
   "outputs": [
    {
     "name": "stdout",
     "output_type": "stream",
     "text": [
      "Model: \"sequential_6\"\n",
      "_________________________________________________________________\n",
      "Layer (type)                 Output Shape              Param #   \n",
      "=================================================================\n",
      "embedding_5 (Embedding)      (None, 580, 300)          3000000   \n",
      "_________________________________________________________________\n",
      "conv1d_4 (Conv1D)            (None, 574, 16)           33616     \n",
      "_________________________________________________________________\n",
      "max_pooling1d_2 (MaxPooling1 (None, 114, 16)           0         \n",
      "_________________________________________________________________\n",
      "conv1d_5 (Conv1D)            (None, 108, 16)           1808      \n",
      "_________________________________________________________________\n",
      "global_max_pooling1d_3 (Glob (None, 16)                0         \n",
      "_________________________________________________________________\n",
      "dense_8 (Dense)              (None, 8)                 136       \n",
      "_________________________________________________________________\n",
      "dense_9 (Dense)              (None, 1)                 9         \n",
      "=================================================================\n",
      "Total params: 3,035,569\n",
      "Trainable params: 3,035,569\n",
      "Non-trainable params: 0\n",
      "_________________________________________________________________\n"
     ]
    }
   ],
   "source": [
    "from tensorflow.keras.initializers import Constant\n",
    "\n",
    "vocab_size = 10000\n",
    "word_vector_dim = 300\n",
    "\n",
    "# 모델 설계\n",
    "model = tf.keras.Sequential()\n",
    "model.add(tf.keras.layers.Embedding(vocab_size,\n",
    "                                   word_vector_dim,\n",
    "                                   embeddings_initializer=Constant(embedding_matrix),\n",
    "                                   input_length=maxlen,\n",
    "                                   trainable=True))  # trainable=True면 Fine-tuning\n",
    "model.add(tf.keras.layers.Conv1D(16, 7, activation='relu'))\n",
    "model.add(tf.keras.layers.MaxPooling1D(5))\n",
    "model.add(tf.keras.layers.Conv1D(16, 7, activation='relu'))\n",
    "model.add(tf.keras.layers.GlobalMaxPooling1D())\n",
    "model.add(tf.keras.layers.Dense(8, activation='relu'))\n",
    "model.add(tf.keras.layers.Dense(1, activation='sigmoid')) \n",
    "\n",
    "model.summary()"
   ]
  },
  {
   "cell_type": "code",
   "execution_count": 38,
   "id": "7f5d3362",
   "metadata": {},
   "outputs": [
    {
     "name": "stdout",
     "output_type": "stream",
     "text": [
      "Epoch 1/20\n",
      "30/30 [==============================] - 4s 82ms/step - loss: 0.6982 - accuracy: 0.5075 - val_loss: 0.6857 - val_accuracy: 0.5364\n",
      "Epoch 2/20\n",
      "30/30 [==============================] - 2s 69ms/step - loss: 0.6647 - accuracy: 0.6067 - val_loss: 0.6517 - val_accuracy: 0.6296\n",
      "Epoch 3/20\n",
      "30/30 [==============================] - 2s 69ms/step - loss: 0.5829 - accuracy: 0.7221 - val_loss: 0.5269 - val_accuracy: 0.7691\n",
      "Epoch 4/20\n",
      "30/30 [==============================] - 2s 69ms/step - loss: 0.4179 - accuracy: 0.8307 - val_loss: 0.3794 - val_accuracy: 0.8409\n",
      "Epoch 5/20\n",
      "30/30 [==============================] - 2s 70ms/step - loss: 0.2819 - accuracy: 0.8919 - val_loss: 0.3162 - val_accuracy: 0.8661\n",
      "Epoch 6/20\n",
      "30/30 [==============================] - 2s 70ms/step - loss: 0.2006 - accuracy: 0.9293 - val_loss: 0.3165 - val_accuracy: 0.8621\n",
      "Epoch 7/20\n",
      "30/30 [==============================] - 2s 71ms/step - loss: 0.1456 - accuracy: 0.9551 - val_loss: 0.3003 - val_accuracy: 0.8759\n",
      "Epoch 8/20\n",
      "30/30 [==============================] - 2s 71ms/step - loss: 0.1027 - accuracy: 0.9735 - val_loss: 0.3270 - val_accuracy: 0.8672\n",
      "Epoch 9/20\n",
      "30/30 [==============================] - 2s 71ms/step - loss: 0.0707 - accuracy: 0.9859 - val_loss: 0.3311 - val_accuracy: 0.8720\n",
      "Epoch 10/20\n",
      "30/30 [==============================] - 2s 71ms/step - loss: 0.0473 - accuracy: 0.9938 - val_loss: 0.3481 - val_accuracy: 0.8712\n",
      "Epoch 11/20\n",
      "30/30 [==============================] - 2s 72ms/step - loss: 0.0317 - accuracy: 0.9973 - val_loss: 0.3769 - val_accuracy: 0.8675\n",
      "Epoch 12/20\n",
      "30/30 [==============================] - 2s 72ms/step - loss: 0.0212 - accuracy: 0.9991 - val_loss: 0.3804 - val_accuracy: 0.8745\n",
      "Epoch 13/20\n",
      "30/30 [==============================] - 2s 72ms/step - loss: 0.0145 - accuracy: 0.9996 - val_loss: 0.3999 - val_accuracy: 0.8733\n",
      "Epoch 14/20\n",
      "30/30 [==============================] - 2s 72ms/step - loss: 0.0099 - accuracy: 0.9998 - val_loss: 0.4158 - val_accuracy: 0.8726\n",
      "Epoch 15/20\n",
      "30/30 [==============================] - 2s 72ms/step - loss: 0.0073 - accuracy: 0.9999 - val_loss: 0.4326 - val_accuracy: 0.8722\n",
      "Epoch 16/20\n",
      "30/30 [==============================] - 2s 72ms/step - loss: 0.0057 - accuracy: 0.9999 - val_loss: 0.4475 - val_accuracy: 0.8720\n",
      "Epoch 17/20\n",
      "30/30 [==============================] - 2s 72ms/step - loss: 0.0046 - accuracy: 0.9999 - val_loss: 0.4604 - val_accuracy: 0.8713\n",
      "Epoch 18/20\n",
      "30/30 [==============================] - 2s 72ms/step - loss: 0.0037 - accuracy: 0.9999 - val_loss: 0.4724 - val_accuracy: 0.8714\n",
      "Epoch 19/20\n",
      "30/30 [==============================] - 2s 72ms/step - loss: 0.0030 - accuracy: 0.9999 - val_loss: 0.4827 - val_accuracy: 0.8716\n",
      "Epoch 20/20\n",
      "30/30 [==============================] - 2s 72ms/step - loss: 0.0026 - accuracy: 1.0000 - val_loss: 0.4926 - val_accuracy: 0.8718\n"
     ]
    }
   ],
   "source": [
    "# 모델 학습\n",
    "model.compile(optimizer='adam',\n",
    "              loss='binary_crossentropy',\n",
    "              metrics=['accuracy'])\n",
    "              \n",
    "epochs = 20\n",
    "\n",
    "history = model.fit(partial_x_train,\n",
    "                    partial_y_train,\n",
    "                    epochs=epochs,\n",
    "                    batch_size=512,\n",
    "                    validation_data=(x_val, y_val),\n",
    "                    verbose=1)"
   ]
  },
  {
   "cell_type": "code",
   "execution_count": 39,
   "id": "e2911775",
   "metadata": {},
   "outputs": [
    {
     "name": "stdout",
     "output_type": "stream",
     "text": [
      "782/782 - 2s - loss: 0.5264 - accuracy: 0.8638\n",
      "[0.5264298915863037, 0.8637999892234802]\n"
     ]
    }
   ],
   "source": [
    "# 모델 평가\n",
    "results = model.evaluate(x_test,  y_test, verbose=2)\n",
    "\n",
    "print(results)"
   ]
  }
 ],
 "metadata": {
  "kernelspec": {
   "display_name": "Python 3 (ipykernel)",
   "language": "python",
   "name": "python3"
  },
  "language_info": {
   "codemirror_mode": {
    "name": "ipython",
    "version": 3
   },
   "file_extension": ".py",
   "mimetype": "text/x-python",
   "name": "python",
   "nbconvert_exporter": "python",
   "pygments_lexer": "ipython3",
   "version": "3.9.7"
  }
 },
 "nbformat": 4,
 "nbformat_minor": 5
}

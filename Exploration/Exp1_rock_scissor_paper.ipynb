{
  "nbformat": 4,
  "nbformat_minor": 0,
  "metadata": {
    "colab": {
      "name": "EXP1 인공지능과 가위바위보.ipynb",
      "provenance": [],
      "collapsed_sections": []
    },
    "kernelspec": {
      "name": "python3",
      "display_name": "Python 3"
    },
    "language_info": {
      "name": "python"
    },
    "accelerator": "GPU"
  },
  "cells": [
    {
      "cell_type": "code",
      "execution_count": 1,
      "metadata": {
        "colab": {
          "base_uri": "https://localhost:8080/"
        },
        "id": "TzYPqM0N8PIT",
        "outputId": "022e54d6-7533-4fa4-d92e-28719af881a1"
      },
      "outputs": [
        {
          "output_type": "stream",
          "name": "stdout",
          "text": [
            "300  images to be resized.\n",
            "300  images resized.\n",
            "가위 이미지 resize 완료!\n",
            "300  images to be resized.\n",
            "300  images resized.\n",
            "바위 이미지 resize 완료!\n",
            "300  images to be resized.\n",
            "300  images resized.\n",
            "보 이미지 resize 완료!\n",
            "100  images to be resized.\n",
            "100  images resized.\n",
            "가위 이미지 resize 완료!\n",
            "100  images to be resized.\n",
            "100  images resized.\n",
            "바위 이미지 resize 완료!\n",
            "100  images to be resized.\n",
            "100  images resized.\n",
            "보 이미지 resize 완료!\n"
          ]
        }
      ],
      "source": [
        "from PIL import Image\n",
        "import glob\n",
        "import matplotlib.pyplot as plt\n",
        "\n",
        "def resize_images(img_path):\n",
        "  images = glob.glob(img_path + \"/*.jpg\")\n",
        "\n",
        "  print(len(images), \" images to be resized.\")\n",
        "\n",
        "  # 파일마다 28x28 사이즈로 바꿔 저장한다.\n",
        "  target_size = (28, 28)\n",
        "  for img in images:\n",
        "    old_img = Image.open(img)\n",
        "    new_img = old_img.resize(target_size, Image.ANTIALIAS)\n",
        "    new_img.save(img, \"JPEG\")\n",
        "\n",
        "  print(len(images), \" images resized.\")\n",
        "\n",
        "# 학습 데이터 로드 및 rsize\n",
        "image_dir_path = \"/content/rock_scissor_paper/scissor\"\n",
        "resize_images(image_dir_path)\n",
        "print(\"가위 이미지 resize 완료!\")\n",
        "image_dir_path = \"/content/rock_scissor_paper/rock\"\n",
        "resize_images(image_dir_path)\n",
        "print(\"바위 이미지 resize 완료!\")\n",
        "image_dir_path = \"/content/rock_scissor_paper/paper\"\n",
        "resize_images(image_dir_path)\n",
        "print(\"보 이미지 resize 완료!\")\n",
        "\n",
        "# test 데이터 로드 및 resize\n",
        "image_dir_path = \"/content/rock_scissor_paper/test/scissor\"\n",
        "resize_images(image_dir_path)\n",
        "print(\"가위 이미지 resize 완료!\")\n",
        "image_dir_path = \"/content/rock_scissor_paper/test/rock\"\n",
        "resize_images(image_dir_path)\n",
        "print(\"바위 이미지 resize 완료!\")\n",
        "image_dir_path = \"/content/rock_scissor_paper/test/paper\"\n",
        "resize_images(image_dir_path)\n",
        "print(\"보 이미지 resize 완료!\")"
      ]
    },
    {
      "cell_type": "code",
      "source": [
        "import numpy as np\n",
        "\n",
        "def load_data(img_path, number_of_data=900):  # 가위바위보 이미지 개수 총합에 주의하세요.\n",
        "    # 가위 : 0, 바위 : 1, 보 : 2\n",
        "    img_size=28\n",
        "    color=3\n",
        "    #이미지 데이터와 라벨(가위 : 0, 바위 : 1, 보 : 2) 데이터를 담을 행렬(matrix) 영역을 생성합니다.\n",
        "    imgs=np.zeros(number_of_data*img_size*img_size*color,dtype=np.int32).reshape(number_of_data,img_size,img_size,color)\n",
        "    labels=np.zeros(number_of_data,dtype=np.int32)\n",
        "\n",
        "    idx=0\n",
        "    for file in glob.iglob(img_path+'/scissor/*.jpg'):\n",
        "        img = np.array(Image.open(file),dtype=np.int32)\n",
        "        imgs[idx,:,:,:]=img    # 데이터 영역에 이미지 행렬을 복사\n",
        "        labels[idx]=0   # 가위 : 0\n",
        "        idx=idx+1\n",
        "\n",
        "    for file in glob.iglob(img_path+'/rock/*.jpg'):\n",
        "        img = np.array(Image.open(file),dtype=np.int32)\n",
        "        imgs[idx,:,:,:]=img    # 데이터 영역에 이미지 행렬을 복사\n",
        "        labels[idx]=1   # 바위 : 1\n",
        "        idx=idx+1  \n",
        "    \n",
        "    for file in glob.iglob(img_path+'/paper/*.jpg'):\n",
        "        img = np.array(Image.open(file),dtype=np.int32)\n",
        "        imgs[idx,:,:,:]=img    # 데이터 영역에 이미지 행렬을 복사\n",
        "        labels[idx]=2   # 보 : 2\n",
        "        idx=idx+1\n",
        "        \n",
        "    print(\"학습데이터(x_train)의 이미지 개수는\", idx,\"입니다.\")\n",
        "    return imgs, labels\n",
        "\n",
        "image_dir_path = \"/content/rock_scissor_paper\"\n",
        "(x_train, y_train)=load_data(image_dir_path)\n",
        "x_train_norm = x_train/255.0   # 입력은 0~1 사이의 값으로 정규화\n",
        "\n",
        "image_dir_path = \"/content/rock_scissor_paper/test\"\n",
        "(x_test, y_test)=load_data(image_dir_path)\n",
        "x_test_norm = x_test/255.0\n",
        "\n",
        "print(\"x_train shape: {}\".format(x_train.shape))\n",
        "print(\"y_train shape: {}\".format(y_train.shape))"
      ],
      "metadata": {
        "colab": {
          "base_uri": "https://localhost:8080/"
        },
        "id": "PdOZjhlH8_MD",
        "outputId": "e3684898-cb87-416c-eeae-cd1a59e0d149"
      },
      "execution_count": 2,
      "outputs": [
        {
          "output_type": "stream",
          "name": "stdout",
          "text": [
            "학습데이터(x_train)의 이미지 개수는 900 입니다.\n",
            "학습데이터(x_train)의 이미지 개수는 300 입니다.\n",
            "x_train shape: (900, 28, 28, 3)\n",
            "y_train shape: (900,)\n"
          ]
        }
      ]
    },
    {
      "cell_type": "code",
      "source": [
        "import tensorflow as tf\n",
        "from tensorflow import keras\n",
        "\n",
        "model=keras.models.Sequential()\n",
        "model.add(keras.layers.Conv2D(128, (3,3), activation='relu', input_shape=(28,28,3)))\n",
        "model.add(keras.layers.MaxPool2D(2,2))\n",
        "model.add(keras.layers.Conv2D(256, (3,3), activation='relu'))\n",
        "model.add(keras.layers.MaxPooling2D((2,2)))\n",
        "model.add(keras.layers.Conv2D(256, (3,3), activation='relu'))\n",
        "model.add(keras.layers.MaxPooling2D((2,2)))\n",
        "model.add(keras.layers.Flatten())\n",
        "model.add(keras.layers.Dense(256, activation='relu'))\n",
        "model.add(keras.layers.Dense(3, activation='softmax'))\n",
        "\n",
        "print('Model에 추가된 Layer 개수: ', len(model.layers))\n",
        "\n",
        "model.summary()"
      ],
      "metadata": {
        "colab": {
          "base_uri": "https://localhost:8080/"
        },
        "id": "oZZxfMMsB0gf",
        "outputId": "673bc59c-40f6-4b18-bd80-4fd9893b87bc"
      },
      "execution_count": 3,
      "outputs": [
        {
          "output_type": "stream",
          "name": "stdout",
          "text": [
            "Model에 추가된 Layer 개수:  9\n",
            "Model: \"sequential\"\n",
            "_________________________________________________________________\n",
            " Layer (type)                Output Shape              Param #   \n",
            "=================================================================\n",
            " conv2d (Conv2D)             (None, 26, 26, 128)       3584      \n",
            "                                                                 \n",
            " max_pooling2d (MaxPooling2D  (None, 13, 13, 128)      0         \n",
            " )                                                               \n",
            "                                                                 \n",
            " conv2d_1 (Conv2D)           (None, 11, 11, 256)       295168    \n",
            "                                                                 \n",
            " max_pooling2d_1 (MaxPooling  (None, 5, 5, 256)        0         \n",
            " 2D)                                                             \n",
            "                                                                 \n",
            " conv2d_2 (Conv2D)           (None, 3, 3, 256)         590080    \n",
            "                                                                 \n",
            " max_pooling2d_2 (MaxPooling  (None, 1, 1, 256)        0         \n",
            " 2D)                                                             \n",
            "                                                                 \n",
            " flatten (Flatten)           (None, 256)               0         \n",
            "                                                                 \n",
            " dense (Dense)               (None, 256)               65792     \n",
            "                                                                 \n",
            " dense_1 (Dense)             (None, 3)                 771       \n",
            "                                                                 \n",
            "=================================================================\n",
            "Total params: 955,395\n",
            "Trainable params: 955,395\n",
            "Non-trainable params: 0\n",
            "_________________________________________________________________\n"
          ]
        }
      ]
    },
    {
      "cell_type": "code",
      "source": [
        "model.compile(optimizer='adam',\n",
        "             loss='sparse_categorical_crossentropy',\n",
        "             metrics=['accuracy'])\n",
        "\n",
        "model.fit(x_train_norm, y_train, epochs=15)"
      ],
      "metadata": {
        "colab": {
          "base_uri": "https://localhost:8080/"
        },
        "id": "_ZMj-jDdB7Q0",
        "outputId": "5e582cfa-ce03-48a1-aac0-1f986cde5630"
      },
      "execution_count": 4,
      "outputs": [
        {
          "output_type": "stream",
          "name": "stdout",
          "text": [
            "Epoch 1/15\n",
            "29/29 [==============================] - 11s 19ms/step - loss: 0.9256 - accuracy: 0.5556\n",
            "Epoch 2/15\n",
            "29/29 [==============================] - 0s 12ms/step - loss: 0.5109 - accuracy: 0.7533\n",
            "Epoch 3/15\n",
            "29/29 [==============================] - 0s 13ms/step - loss: 0.3818 - accuracy: 0.8100\n",
            "Epoch 4/15\n",
            "29/29 [==============================] - 0s 12ms/step - loss: 0.3103 - accuracy: 0.8722\n",
            "Epoch 5/15\n",
            "29/29 [==============================] - 0s 12ms/step - loss: 0.3301 - accuracy: 0.8544\n",
            "Epoch 6/15\n",
            "29/29 [==============================] - 0s 12ms/step - loss: 0.2636 - accuracy: 0.8978\n",
            "Epoch 7/15\n",
            "29/29 [==============================] - 0s 13ms/step - loss: 0.1831 - accuracy: 0.9322\n",
            "Epoch 8/15\n",
            "29/29 [==============================] - 0s 12ms/step - loss: 0.1567 - accuracy: 0.9500\n",
            "Epoch 9/15\n",
            "29/29 [==============================] - 0s 12ms/step - loss: 0.1279 - accuracy: 0.9544\n",
            "Epoch 10/15\n",
            "29/29 [==============================] - 0s 12ms/step - loss: 0.1335 - accuracy: 0.9422\n",
            "Epoch 11/15\n",
            "29/29 [==============================] - 0s 11ms/step - loss: 0.0941 - accuracy: 0.9722\n",
            "Epoch 12/15\n",
            "29/29 [==============================] - 0s 11ms/step - loss: 0.0725 - accuracy: 0.9767\n",
            "Epoch 13/15\n",
            "29/29 [==============================] - 0s 12ms/step - loss: 0.0340 - accuracy: 0.9944\n",
            "Epoch 14/15\n",
            "29/29 [==============================] - 0s 12ms/step - loss: 0.0296 - accuracy: 0.9911\n",
            "Epoch 15/15\n",
            "29/29 [==============================] - 0s 12ms/step - loss: 0.0264 - accuracy: 0.9922\n"
          ]
        },
        {
          "output_type": "execute_result",
          "data": {
            "text/plain": [
              "<keras.callbacks.History at 0x7f6110321cd0>"
            ]
          },
          "metadata": {},
          "execution_count": 4
        }
      ]
    },
    {
      "cell_type": "code",
      "source": [
        "test_loss, test_accuracy = model.evaluate(x_test_norm,y_test, verbose=2)\n",
        "print(\"test_loss: {} \".format(test_loss))\n",
        "print(\"test_accuracy: {}\".format(test_accuracy))"
      ],
      "metadata": {
        "colab": {
          "base_uri": "https://localhost:8080/"
        },
        "id": "hVknYxmLB8xC",
        "outputId": "716723c5-7e39-49db-e49e-c9454f2800d2"
      },
      "execution_count": 5,
      "outputs": [
        {
          "output_type": "stream",
          "name": "stdout",
          "text": [
            "29/29 - 0s - loss: 3.0710 - accuracy: 0.8156 - 337ms/epoch - 12ms/step\n",
            "test_loss: 3.0709657669067383 \n",
            "test_accuracy: 0.8155555725097656\n"
          ]
        }
      ]
    }
  ]
}

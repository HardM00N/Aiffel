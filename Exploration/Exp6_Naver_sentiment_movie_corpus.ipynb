{
 "cells": [
  {
   "cell_type": "markdown",
   "id": "e32585dd",
   "metadata": {},
   "source": [
    "# 네이버 영화리뷰 감성분석\n",
    "한국어 텍스트의 감정 분석 진행 - 네이버 영화의 댓글을 모아 구성된 Naver sentiment movie corpus 데이터셋 활용\n",
    "## (1) 데이터 준비와 확인"
   ]
  },
  {
   "cell_type": "code",
   "execution_count": 1,
   "id": "d53286f9",
   "metadata": {},
   "outputs": [
    {
     "data": {
      "text/html": [
       "<div>\n",
       "<style scoped>\n",
       "    .dataframe tbody tr th:only-of-type {\n",
       "        vertical-align: middle;\n",
       "    }\n",
       "\n",
       "    .dataframe tbody tr th {\n",
       "        vertical-align: top;\n",
       "    }\n",
       "\n",
       "    .dataframe thead th {\n",
       "        text-align: right;\n",
       "    }\n",
       "</style>\n",
       "<table border=\"1\" class=\"dataframe\">\n",
       "  <thead>\n",
       "    <tr style=\"text-align: right;\">\n",
       "      <th></th>\n",
       "      <th>id</th>\n",
       "      <th>document</th>\n",
       "      <th>label</th>\n",
       "    </tr>\n",
       "  </thead>\n",
       "  <tbody>\n",
       "    <tr>\n",
       "      <th>0</th>\n",
       "      <td>9976970</td>\n",
       "      <td>아 더빙.. 진짜 짜증나네요 목소리</td>\n",
       "      <td>0</td>\n",
       "    </tr>\n",
       "    <tr>\n",
       "      <th>1</th>\n",
       "      <td>3819312</td>\n",
       "      <td>흠...포스터보고 초딩영화줄....오버연기조차 가볍지 않구나</td>\n",
       "      <td>1</td>\n",
       "    </tr>\n",
       "    <tr>\n",
       "      <th>2</th>\n",
       "      <td>10265843</td>\n",
       "      <td>너무재밓었다그래서보는것을추천한다</td>\n",
       "      <td>0</td>\n",
       "    </tr>\n",
       "    <tr>\n",
       "      <th>3</th>\n",
       "      <td>9045019</td>\n",
       "      <td>교도소 이야기구먼 ..솔직히 재미는 없다..평점 조정</td>\n",
       "      <td>0</td>\n",
       "    </tr>\n",
       "    <tr>\n",
       "      <th>4</th>\n",
       "      <td>6483659</td>\n",
       "      <td>사이몬페그의 익살스런 연기가 돋보였던 영화!스파이더맨에서 늙어보이기만 했던 커스틴 ...</td>\n",
       "      <td>1</td>\n",
       "    </tr>\n",
       "  </tbody>\n",
       "</table>\n",
       "</div>"
      ],
      "text/plain": [
       "         id                                           document  label\n",
       "0   9976970                                아 더빙.. 진짜 짜증나네요 목소리      0\n",
       "1   3819312                  흠...포스터보고 초딩영화줄....오버연기조차 가볍지 않구나      1\n",
       "2  10265843                                  너무재밓었다그래서보는것을추천한다      0\n",
       "3   9045019                      교도소 이야기구먼 ..솔직히 재미는 없다..평점 조정      0\n",
       "4   6483659  사이몬페그의 익살스런 연기가 돋보였던 영화!스파이더맨에서 늙어보이기만 했던 커스틴 ...      1"
      ]
     },
     "execution_count": 1,
     "metadata": {},
     "output_type": "execute_result"
    }
   ],
   "source": [
    "import pandas as pd\n",
    "import os\n",
    "import tensorflow as tf\n",
    "import matplotlib.pyplot as plt\n",
    "\n",
    "train_data = pd.read_table('~/aiffel/sentiment_classification/data/ratings_train.txt')\n",
    "test_data = pd.read_table('~/aiffel/sentiment_classification/data/ratings_test.txt')\n",
    "\n",
    "train_data.head()"
   ]
  },
  {
   "cell_type": "markdown",
   "id": "777408c4",
   "metadata": {},
   "source": [
    "## (2) 데이터 로더 구성\n",
    "IMDB 데이터셋과는 달리 nsmc 데이터셋은 전혀 가공되지 않은 텍스트 파일이다. 데이터 로더는 다음을 수행해야 한다.\n",
    "- 데이터의 중복 제거\n",
    "- NaN 결측치 제거\n",
    "- 한국어 토크나이저로 토큰화\n",
    "- 불용어(Stopwords) 제거\n",
    "- 사전 `word_to_index` 구성\n",
    "- 텍스트 스트링을 사전 인덱스 스트링으로 변환\n",
    "- `X_train`, `y_train`, `X_test`, `y_test`, `word_to_index` 리턴"
   ]
  },
  {
   "cell_type": "code",
   "execution_count": 2,
   "id": "f776e7ca",
   "metadata": {},
   "outputs": [],
   "source": [
    "from konlpy.tag import Mecab\n",
    "import numpy as np\n",
    "from collections import Counter\n",
    "\n",
    "tokenizer = Mecab()\n",
    "stopwords = ['의','가','이','은','들','는','좀','잘','걍','과','도','를','으로','자','에','와','한','하다']\n",
    "\n",
    "def load_data(train_data, test_data, num_words=10000):\n",
    "    # train_data, test_data 중복 및 결측치 제거\n",
    "    train_data.drop_duplicates(subset=['document'], inplace=True)\n",
    "    train_data = train_data.dropna(how = 'any') \n",
    "    test_data.drop_duplicates(subset=['document'], inplace=True)\n",
    "    test_data = test_data.dropna(how = 'any') \n",
    "    \n",
    "    X_train = []\n",
    "    for sentence in train_data['document']:\n",
    "        temp_X = tokenizer.morphs(sentence) # 토큰화\n",
    "        temp_X = [word for word in temp_X if not word in stopwords] # 불용어 제거\n",
    "        X_train.append(temp_X)\n",
    "\n",
    "    X_test = []\n",
    "    for sentence in test_data['document']:\n",
    "        temp_X = tokenizer.morphs(sentence) # 토큰화\n",
    "        temp_X = [word for word in temp_X if not word in stopwords] # 불용어 제거\n",
    "        X_test.append(temp_X)\n",
    "    \n",
    "    words = np.concatenate(X_train).tolist()\n",
    "    counter = Counter(words)\n",
    "    counter = counter.most_common(10000-4)\n",
    "    vocab = ['<PAD>', '<BOS>', '<UNK>', '<UNUSED>'] + [key for key, _ in counter]\n",
    "    word_to_index = {word:index for index, word in enumerate(vocab)}\n",
    "        \n",
    "    def wordlist_to_indexlist(wordlist):\n",
    "        return [word_to_index[word] if word in word_to_index else word_to_index['<UNK>'] for word in wordlist]\n",
    "        \n",
    "    X_train = list(map(wordlist_to_indexlist, X_train))\n",
    "    X_test = list(map(wordlist_to_indexlist, X_test))\n",
    "        \n",
    "    return X_train, np.array(list(train_data['label'])), X_test, np.array(list(test_data['label'])), word_to_index\n",
    "\n",
    "X_train, y_train, X_test, y_test, word_to_index = load_data(train_data, test_data)"
   ]
  },
  {
   "cell_type": "code",
   "execution_count": 3,
   "id": "a4d42476",
   "metadata": {},
   "outputs": [],
   "source": [
    "index_to_word = {index:word for word, index in word_to_index.items()}"
   ]
  },
  {
   "cell_type": "code",
   "execution_count": 4,
   "id": "b8129327",
   "metadata": {},
   "outputs": [],
   "source": [
    "# 문장 1개를 활용할 딕셔너리와 함께 주면, 단어 인덱스 리스트 벡터로 변환해 주는 함수입니다. \n",
    "# 단, 모든 문장은 <BOS>로 시작하는 것으로 합니다. \n",
    "def get_encoded_sentence(sentence, word_to_index):\n",
    "    return [word_to_index['<BOS>']]+[word_to_index[word] if word in word_to_index else word_to_index['<UNK>'] for word in sentence.split()]\n",
    "\n",
    "# 여러 개의 문장 리스트를 한꺼번에 단어 인덱스 리스트 벡터로 encode해 주는 함수입니다. \n",
    "def get_encoded_sentences(sentences, word_to_index):\n",
    "    return [get_encoded_sentence(sentence, word_to_index) for sentence in sentences]\n",
    "\n",
    "# 숫자 벡터로 encode된 문장을 원래대로 decode하는 함수입니다. \n",
    "def get_decoded_sentence(encoded_sentence, index_to_word):\n",
    "    return ' '.join(index_to_word[index] if index in index_to_word else '<UNK>' for index in encoded_sentence[1:])  #[1:]를 통해 <BOS>를 제외\n",
    "\n",
    "# 여러 개의 숫자 벡터로 encode된 문장을 한꺼번에 원래대로 decode하는 함수입니다. \n",
    "def get_decoded_sentences(encoded_sentences, index_to_word):\n",
    "    return [get_decoded_sentence(encoded_sentence, index_to_word) for encoded_sentence in encoded_sentences]"
   ]
  },
  {
   "cell_type": "markdown",
   "id": "f055eccb",
   "metadata": {},
   "source": [
    "## (3) 모델 구성을 위한 데이터 분석 및 가공\n",
    "- 데이터셋 내 문장 길이 분포\n",
    "- 적절한 최대 문장 길이 지정\n",
    "- keras.preprocessing.sequence.pad_sequences를 활용한 패딩 추가"
   ]
  },
  {
   "cell_type": "code",
   "execution_count": 5,
   "id": "401701e0",
   "metadata": {},
   "outputs": [
    {
     "name": "stdout",
     "output_type": "stream",
     "text": [
      "문장 길이 평균:  15.96940191154864\n",
      "문장 길이 최대:  116\n",
      "문장 길이 표준편차:  12.843571191092\n",
      "pad_sequences maxlen:  41\n",
      "전체 문장의 0.9342988343341575%가 maxlen 설정값 이내에 포함된다.\n"
     ]
    }
   ],
   "source": [
    "total_data_text = list(X_train) + list(X_test)\n",
    "\n",
    "num_tokens = [len(tokens) for tokens in total_data_text]\n",
    "num_tokens = np.array(num_tokens)\n",
    "\n",
    "# 문장 길이의 평균, 최대값, 표준편차 계산\n",
    "print('문장 길이 평균: ', np.mean(num_tokens))\n",
    "print('문장 길이 최대: ', np.max(num_tokens))\n",
    "print('문장 길이 표준편차: ', np.std(num_tokens))\n",
    "\n",
    "# 예시로, 최대 길이를 *(평균 + 2 * 표준편차)로 설정할 경우\n",
    "max_tokens = np.mean(num_tokens) + 2 * np.std(num_tokens)\n",
    "maxlen = int(max_tokens)\n",
    "print('pad_sequences maxlen: ', maxlen)\n",
    "print('전체 문장의 {}%가 maxlen 설정값 이내에 포함된다.'.format(np.sum(num_tokens < max_tokens) / len(num_tokens)))"
   ]
  },
  {
   "cell_type": "code",
   "execution_count": 6,
   "id": "ba3b17f6",
   "metadata": {},
   "outputs": [
    {
     "name": "stdout",
     "output_type": "stream",
     "text": [
      "(146182, 41)\n"
     ]
    }
   ],
   "source": [
    "X_train = tf.keras.preprocessing.sequence.pad_sequences(X_train, value=word_to_index[\"<PAD>\"],\n",
    "                                                       padding='pre',\n",
    "                                                       maxlen=maxlen)\n",
    "\n",
    "X_test = tf.keras.preprocessing.sequence.pad_sequences(X_test, value=word_to_index[\"<PAD>\"],\n",
    "                                                      padding='pre',\n",
    "                                                      maxlen=maxlen)\n",
    "\n",
    "print(X_train.shape)"
   ]
  },
  {
   "cell_type": "markdown",
   "id": "30f7cc28",
   "metadata": {},
   "source": [
    "## (4) 모델 구성 및 validation set 구성"
   ]
  },
  {
   "cell_type": "code",
   "execution_count": 7,
   "id": "b4d114a0",
   "metadata": {},
   "outputs": [
    {
     "name": "stdout",
     "output_type": "stream",
     "text": [
      "(46000, 41)\n",
      "(46000,)\n",
      "(100182, 41)\n",
      "(100182,)\n"
     ]
    }
   ],
   "source": [
    "# validation set 분리\n",
    "x_val = X_train[:46000]\n",
    "y_val = y_train[:46000]\n",
    "\n",
    "partial_X_train = X_train[46000:]\n",
    "partial_y_train = y_train[46000:]\n",
    "\n",
    "print(x_val.shape)\n",
    "print(y_val.shape)\n",
    "print(partial_X_train.shape)\n",
    "print(partial_y_train.shape)"
   ]
  },
  {
   "cell_type": "markdown",
   "id": "6e9680c9",
   "metadata": {},
   "source": [
    "### LSTM Model"
   ]
  },
  {
   "cell_type": "code",
   "execution_count": 8,
   "id": "43fa3a01",
   "metadata": {},
   "outputs": [
    {
     "name": "stdout",
     "output_type": "stream",
     "text": [
      "Model: \"sequential\"\n",
      "_________________________________________________________________\n",
      "Layer (type)                 Output Shape              Param #   \n",
      "=================================================================\n",
      "embedding (Embedding)        (None, None, 300)         3000000   \n",
      "_________________________________________________________________\n",
      "lstm (LSTM)                  (None, 8)                 9888      \n",
      "_________________________________________________________________\n",
      "dense (Dense)                (None, 8)                 72        \n",
      "_________________________________________________________________\n",
      "dense_1 (Dense)              (None, 1)                 9         \n",
      "=================================================================\n",
      "Total params: 3,009,969\n",
      "Trainable params: 3,009,969\n",
      "Non-trainable params: 0\n",
      "_________________________________________________________________\n"
     ]
    }
   ],
   "source": [
    "# 모델 설계\n",
    "vocab_size = len(index_to_word)\n",
    "word_vector_dim = 300  # 워드 벡터의 차원 수 (변경 가능한 하이퍼 파라미터)\n",
    "\n",
    "LSTM_model = tf.keras.Sequential()\n",
    "LSTM_model.add(tf.keras.layers.Embedding(vocab_size, word_vector_dim, input_shape=(None,)))\n",
    "LSTM_model.add(tf.keras.layers.LSTM(8)) # 널리 쓰이는 RNN인 LSTM 레이어 사용, LSTM state 벡터의 차원 수는 8로 설정\n",
    "LSTM_model.add(tf.keras.layers.Dense(8, activation='relu'))\n",
    "LSTM_model.add(tf.keras.layers.Dense(1, activation='sigmoid'))  # 최종 출력은 긍정/부정을 나타내는 1dim\n",
    "\n",
    "LSTM_model.summary()"
   ]
  },
  {
   "cell_type": "markdown",
   "id": "3d908621",
   "metadata": {},
   "source": [
    "### 1-D CNN Model"
   ]
  },
  {
   "cell_type": "code",
   "execution_count": 9,
   "id": "cc7e048d",
   "metadata": {},
   "outputs": [
    {
     "name": "stdout",
     "output_type": "stream",
     "text": [
      "Model: \"sequential_1\"\n",
      "_________________________________________________________________\n",
      "Layer (type)                 Output Shape              Param #   \n",
      "=================================================================\n",
      "embedding_1 (Embedding)      (None, None, 300)         3000000   \n",
      "_________________________________________________________________\n",
      "conv1d (Conv1D)              (None, None, 16)          33616     \n",
      "_________________________________________________________________\n",
      "max_pooling1d (MaxPooling1D) (None, None, 16)          0         \n",
      "_________________________________________________________________\n",
      "conv1d_1 (Conv1D)            (None, None, 16)          1808      \n",
      "_________________________________________________________________\n",
      "global_max_pooling1d (Global (None, 16)                0         \n",
      "_________________________________________________________________\n",
      "dense_2 (Dense)              (None, 8)                 136       \n",
      "_________________________________________________________________\n",
      "dense_3 (Dense)              (None, 1)                 9         \n",
      "=================================================================\n",
      "Total params: 3,035,569\n",
      "Trainable params: 3,035,569\n",
      "Non-trainable params: 0\n",
      "_________________________________________________________________\n"
     ]
    }
   ],
   "source": [
    "CNN_1D_model = tf.keras.Sequential()\n",
    "CNN_1D_model.add(tf.keras.layers.Embedding(vocab_size, word_vector_dim, input_shape=(None, )))\n",
    "CNN_1D_model.add(tf.keras.layers.Conv1D(16, 7, activation='relu'))\n",
    "CNN_1D_model.add(tf.keras.layers.MaxPooling1D(5))\n",
    "CNN_1D_model.add(tf.keras.layers.Conv1D(16, 7, activation='relu'))\n",
    "CNN_1D_model.add(tf.keras.layers.GlobalMaxPooling1D())\n",
    "CNN_1D_model.add(tf.keras.layers.Dense(8, activation='relu'))\n",
    "CNN_1D_model.add(tf.keras.layers.Dense(1, activation='sigmoid'))\n",
    "\n",
    "CNN_1D_model.summary()"
   ]
  },
  {
   "cell_type": "markdown",
   "id": "03af3c41",
   "metadata": {},
   "source": [
    "### GRU Model\n",
    "GRU는 LSTM과 비슷한 역할을 하지만, 더 간단한 구조로 이루어져 있어서 계산상 효율적이라고 한다.  \n",
    "특정 문제에서는 LSTM보다 더 적합한 레이어라고 한다. 3번째 모델을 뭘로 할까 검색해보다가 알게되어 사용하게 되었다. "
   ]
  },
  {
   "cell_type": "code",
   "execution_count": 10,
   "id": "af6155de",
   "metadata": {},
   "outputs": [
    {
     "name": "stdout",
     "output_type": "stream",
     "text": [
      "Model: \"sequential_2\"\n",
      "_________________________________________________________________\n",
      "Layer (type)                 Output Shape              Param #   \n",
      "=================================================================\n",
      "embedding_2 (Embedding)      (None, None, 300)         3000000   \n",
      "_________________________________________________________________\n",
      "gru (GRU)                    (None, 8)                 7440      \n",
      "_________________________________________________________________\n",
      "dense_4 (Dense)              (None, 8)                 72        \n",
      "_________________________________________________________________\n",
      "dense_5 (Dense)              (None, 1)                 9         \n",
      "=================================================================\n",
      "Total params: 3,007,521\n",
      "Trainable params: 3,007,521\n",
      "Non-trainable params: 0\n",
      "_________________________________________________________________\n"
     ]
    }
   ],
   "source": [
    "GRU_model = tf.keras.Sequential()\n",
    "GRU_model.add(tf.keras.layers.Embedding(vocab_size, word_vector_dim, input_shape=(None, )))\n",
    "GRU_model.add(tf.keras.layers.GRU(8))\n",
    "GRU_model.add(tf.keras.layers.Dense(8, activation='relu'))\n",
    "GRU_model.add(tf.keras.layers.Dense(1, activation='sigmoid'))\n",
    "\n",
    "GRU_model.summary()"
   ]
  },
  {
   "cell_type": "markdown",
   "id": "d9d803af",
   "metadata": {},
   "source": [
    "## (5) 모델 훈련 개시"
   ]
  },
  {
   "cell_type": "code",
   "execution_count": 11,
   "id": "ef855e00",
   "metadata": {},
   "outputs": [
    {
     "name": "stdout",
     "output_type": "stream",
     "text": [
      "Epoch 1/20\n",
      "196/196 [==============================] - 5s 10ms/step - loss: 0.5542 - accuracy: 0.7667 - val_loss: 0.4687 - val_accuracy: 0.8365\n",
      "Epoch 2/20\n",
      "196/196 [==============================] - 2s 8ms/step - loss: 0.3770 - accuracy: 0.8547 - val_loss: 0.3538 - val_accuracy: 0.8515\n",
      "Epoch 3/20\n",
      "196/196 [==============================] - 2s 8ms/step - loss: 0.2984 - accuracy: 0.8793 - val_loss: 0.3480 - val_accuracy: 0.8524\n",
      "Epoch 4/20\n",
      "196/196 [==============================] - 2s 8ms/step - loss: 0.2591 - accuracy: 0.8954 - val_loss: 0.3535 - val_accuracy: 0.8524\n",
      "Epoch 5/20\n",
      "196/196 [==============================] - 2s 8ms/step - loss: 0.2263 - accuracy: 0.9098 - val_loss: 0.3721 - val_accuracy: 0.8508\n",
      "Epoch 6/20\n",
      "196/196 [==============================] - 2s 8ms/step - loss: 0.1999 - accuracy: 0.9219 - val_loss: 0.4069 - val_accuracy: 0.8503\n",
      "Epoch 7/20\n",
      "196/196 [==============================] - 2s 8ms/step - loss: 0.1810 - accuracy: 0.9299 - val_loss: 0.4203 - val_accuracy: 0.8472\n",
      "Epoch 8/20\n",
      "196/196 [==============================] - 2s 8ms/step - loss: 0.1639 - accuracy: 0.9380 - val_loss: 0.4516 - val_accuracy: 0.8474\n",
      "Epoch 9/20\n",
      "196/196 [==============================] - 2s 8ms/step - loss: 0.1492 - accuracy: 0.9445 - val_loss: 0.4735 - val_accuracy: 0.8439\n",
      "Epoch 10/20\n",
      "196/196 [==============================] - 2s 8ms/step - loss: 0.1346 - accuracy: 0.9515 - val_loss: 0.5070 - val_accuracy: 0.8423\n",
      "Epoch 11/20\n",
      "196/196 [==============================] - 2s 8ms/step - loss: 0.1241 - accuracy: 0.9557 - val_loss: 0.5388 - val_accuracy: 0.8416\n",
      "Epoch 12/20\n",
      "196/196 [==============================] - 2s 8ms/step - loss: 0.1132 - accuracy: 0.9610 - val_loss: 0.5695 - val_accuracy: 0.8371\n",
      "Epoch 13/20\n",
      "196/196 [==============================] - 2s 8ms/step - loss: 0.1082 - accuracy: 0.9627 - val_loss: 0.5993 - val_accuracy: 0.8382\n",
      "Epoch 14/20\n",
      "196/196 [==============================] - 2s 8ms/step - loss: 0.1017 - accuracy: 0.9658 - val_loss: 0.6347 - val_accuracy: 0.8378\n",
      "Epoch 15/20\n",
      "196/196 [==============================] - 2s 8ms/step - loss: 0.0925 - accuracy: 0.9698 - val_loss: 0.6725 - val_accuracy: 0.8373\n",
      "Epoch 16/20\n",
      "196/196 [==============================] - 2s 8ms/step - loss: 0.0861 - accuracy: 0.9724 - val_loss: 0.6778 - val_accuracy: 0.8335\n",
      "Epoch 17/20\n",
      "196/196 [==============================] - 2s 8ms/step - loss: 0.0844 - accuracy: 0.9727 - val_loss: 0.7046 - val_accuracy: 0.8331\n",
      "Epoch 18/20\n",
      "196/196 [==============================] - 2s 8ms/step - loss: 0.0826 - accuracy: 0.9731 - val_loss: 0.7450 - val_accuracy: 0.8337\n",
      "Epoch 19/20\n",
      "196/196 [==============================] - 2s 8ms/step - loss: 0.0790 - accuracy: 0.9747 - val_loss: 0.7686 - val_accuracy: 0.8326\n",
      "Epoch 20/20\n",
      "196/196 [==============================] - 2s 8ms/step - loss: 0.0703 - accuracy: 0.9779 - val_loss: 0.8543 - val_accuracy: 0.8326\n"
     ]
    }
   ],
   "source": [
    "model = LSTM_model\n",
    "model.compile(optimizer='adam',\n",
    "              loss='binary_crossentropy',\n",
    "              metrics=['accuracy'])\n",
    "\n",
    "epochs = 20\n",
    "\n",
    "LSTM_history = model.fit(partial_X_train,\n",
    "                           partial_y_train,\n",
    "                           epochs=epochs,\n",
    "                           batch_size=512,\n",
    "                           validation_data=(x_val, y_val),\n",
    "                           verbose=1)"
   ]
  },
  {
   "cell_type": "code",
   "execution_count": 12,
   "id": "c9833752",
   "metadata": {},
   "outputs": [
    {
     "name": "stdout",
     "output_type": "stream",
     "text": [
      "1537/1537 - 3s - loss: 0.8789 - accuracy: 0.8275\n",
      "[0.878863513469696, 0.8275118470191956]\n"
     ]
    }
   ],
   "source": [
    "# test set으로 모델 평가\n",
    "LSTM_results = model.evaluate(X_test, y_test, verbose=2)\n",
    "\n",
    "print(LSTM_results)"
   ]
  },
  {
   "cell_type": "code",
   "execution_count": 13,
   "id": "7ca364fe",
   "metadata": {},
   "outputs": [
    {
     "name": "stdout",
     "output_type": "stream",
     "text": [
      "Epoch 1/20\n",
      "196/196 [==============================] - 4s 13ms/step - loss: 0.4614 - accuracy: 0.7722 - val_loss: 0.3422 - val_accuracy: 0.8507\n",
      "Epoch 2/20\n",
      "196/196 [==============================] - 2s 9ms/step - loss: 0.2967 - accuracy: 0.8755 - val_loss: 0.3287 - val_accuracy: 0.8570\n",
      "Epoch 3/20\n",
      "196/196 [==============================] - 2s 9ms/step - loss: 0.2221 - accuracy: 0.9138 - val_loss: 0.3529 - val_accuracy: 0.8543\n",
      "Epoch 4/20\n",
      "196/196 [==============================] - 2s 9ms/step - loss: 0.1412 - accuracy: 0.9503 - val_loss: 0.4176 - val_accuracy: 0.8486\n",
      "Epoch 5/20\n",
      "196/196 [==============================] - 2s 9ms/step - loss: 0.0836 - accuracy: 0.9734 - val_loss: 0.4969 - val_accuracy: 0.8432\n",
      "Epoch 6/20\n",
      "196/196 [==============================] - 2s 9ms/step - loss: 0.0544 - accuracy: 0.9832 - val_loss: 0.5707 - val_accuracy: 0.8406\n",
      "Epoch 7/20\n",
      "196/196 [==============================] - 2s 9ms/step - loss: 0.0371 - accuracy: 0.9887 - val_loss: 0.6386 - val_accuracy: 0.8385\n",
      "Epoch 8/20\n",
      "196/196 [==============================] - 2s 9ms/step - loss: 0.0274 - accuracy: 0.9916 - val_loss: 0.6916 - val_accuracy: 0.8348\n",
      "Epoch 9/20\n",
      "196/196 [==============================] - 2s 9ms/step - loss: 0.0219 - accuracy: 0.9933 - val_loss: 0.7511 - val_accuracy: 0.8339\n",
      "Epoch 10/20\n",
      "196/196 [==============================] - 2s 9ms/step - loss: 0.0182 - accuracy: 0.9943 - val_loss: 0.8005 - val_accuracy: 0.8313\n",
      "Epoch 11/20\n",
      "196/196 [==============================] - 2s 9ms/step - loss: 0.0184 - accuracy: 0.9939 - val_loss: 0.8698 - val_accuracy: 0.8330\n",
      "Epoch 12/20\n",
      "196/196 [==============================] - 2s 9ms/step - loss: 0.0226 - accuracy: 0.9922 - val_loss: 0.8944 - val_accuracy: 0.8319\n",
      "Epoch 13/20\n",
      "196/196 [==============================] - 2s 9ms/step - loss: 0.0320 - accuracy: 0.9884 - val_loss: 0.8420 - val_accuracy: 0.8303\n",
      "Epoch 14/20\n",
      "196/196 [==============================] - 2s 9ms/step - loss: 0.0278 - accuracy: 0.9905 - val_loss: 0.9027 - val_accuracy: 0.8324\n",
      "Epoch 15/20\n",
      "196/196 [==============================] - 2s 9ms/step - loss: 0.0180 - accuracy: 0.9934 - val_loss: 1.0040 - val_accuracy: 0.8316\n",
      "Epoch 16/20\n",
      "196/196 [==============================] - 2s 9ms/step - loss: 0.0137 - accuracy: 0.9953 - val_loss: 0.9927 - val_accuracy: 0.8326\n",
      "Epoch 17/20\n",
      "196/196 [==============================] - 2s 9ms/step - loss: 0.0108 - accuracy: 0.9961 - val_loss: 1.0313 - val_accuracy: 0.8316\n",
      "Epoch 18/20\n",
      "196/196 [==============================] - 2s 9ms/step - loss: 0.0098 - accuracy: 0.9966 - val_loss: 1.0554 - val_accuracy: 0.8344\n",
      "Epoch 19/20\n",
      "196/196 [==============================] - 2s 9ms/step - loss: 0.0090 - accuracy: 0.9968 - val_loss: 1.1196 - val_accuracy: 0.8306\n",
      "Epoch 20/20\n",
      "196/196 [==============================] - 2s 9ms/step - loss: 0.0086 - accuracy: 0.9968 - val_loss: 1.1477 - val_accuracy: 0.8283\n"
     ]
    }
   ],
   "source": [
    "model = CNN_1D_model\n",
    "model.compile(optimizer='adam',\n",
    "              loss='binary_crossentropy',\n",
    "              metrics=['accuracy'])\n",
    "\n",
    "epochs = 20\n",
    "\n",
    "CNN_1D_history = model.fit(partial_X_train,\n",
    "                           partial_y_train,\n",
    "                           epochs=epochs,\n",
    "                           batch_size=512,\n",
    "                           validation_data=(x_val, y_val),\n",
    "                           verbose=1)"
   ]
  },
  {
   "cell_type": "code",
   "execution_count": 14,
   "id": "7fe5eaeb",
   "metadata": {},
   "outputs": [
    {
     "name": "stdout",
     "output_type": "stream",
     "text": [
      "1537/1537 - 3s - loss: 1.2012 - accuracy: 0.8235\n",
      "[1.2011798620224, 0.8234636187553406]\n"
     ]
    }
   ],
   "source": [
    "# test set으로 모델 평가\n",
    "CNN_1D_results = model.evaluate(X_test, y_test, verbose=2)\n",
    "\n",
    "print(CNN_1D_results)"
   ]
  },
  {
   "cell_type": "code",
   "execution_count": 15,
   "id": "b1fe815f",
   "metadata": {},
   "outputs": [
    {
     "name": "stdout",
     "output_type": "stream",
     "text": [
      "Epoch 1/20\n",
      "196/196 [==============================] - 3s 10ms/step - loss: 0.4894 - accuracy: 0.7708 - val_loss: 0.3625 - val_accuracy: 0.8435\n",
      "Epoch 2/20\n",
      "196/196 [==============================] - 2s 8ms/step - loss: 0.3268 - accuracy: 0.8629 - val_loss: 0.3387 - val_accuracy: 0.8548\n",
      "Epoch 3/20\n",
      "196/196 [==============================] - 2s 8ms/step - loss: 0.2886 - accuracy: 0.8831 - val_loss: 0.3365 - val_accuracy: 0.8563\n",
      "Epoch 4/20\n",
      "196/196 [==============================] - 2s 8ms/step - loss: 0.2613 - accuracy: 0.8956 - val_loss: 0.3442 - val_accuracy: 0.8546\n",
      "Epoch 5/20\n",
      "196/196 [==============================] - 2s 8ms/step - loss: 0.2357 - accuracy: 0.9082 - val_loss: 0.3574 - val_accuracy: 0.8529\n",
      "Epoch 6/20\n",
      "196/196 [==============================] - 2s 8ms/step - loss: 0.2112 - accuracy: 0.9198 - val_loss: 0.3691 - val_accuracy: 0.8529\n",
      "Epoch 7/20\n",
      "196/196 [==============================] - 2s 8ms/step - loss: 0.1883 - accuracy: 0.9299 - val_loss: 0.3912 - val_accuracy: 0.8501\n",
      "Epoch 8/20\n",
      "196/196 [==============================] - 2s 8ms/step - loss: 0.1673 - accuracy: 0.9390 - val_loss: 0.4203 - val_accuracy: 0.8475\n",
      "Epoch 9/20\n",
      "196/196 [==============================] - 2s 8ms/step - loss: 0.1483 - accuracy: 0.9476 - val_loss: 0.4559 - val_accuracy: 0.8436\n",
      "Epoch 10/20\n",
      "196/196 [==============================] - 2s 8ms/step - loss: 0.1316 - accuracy: 0.9539 - val_loss: 0.4932 - val_accuracy: 0.8422\n",
      "Epoch 11/20\n",
      "196/196 [==============================] - 2s 8ms/step - loss: 0.1176 - accuracy: 0.9595 - val_loss: 0.5316 - val_accuracy: 0.8385\n",
      "Epoch 12/20\n",
      "196/196 [==============================] - 2s 8ms/step - loss: 0.1067 - accuracy: 0.9635 - val_loss: 0.5643 - val_accuracy: 0.8375\n",
      "Epoch 13/20\n",
      "196/196 [==============================] - 2s 8ms/step - loss: 0.0953 - accuracy: 0.9674 - val_loss: 0.6194 - val_accuracy: 0.8356\n",
      "Epoch 14/20\n",
      "196/196 [==============================] - 2s 8ms/step - loss: 0.0868 - accuracy: 0.9711 - val_loss: 0.6314 - val_accuracy: 0.8325\n",
      "Epoch 15/20\n",
      "196/196 [==============================] - 2s 8ms/step - loss: 0.0803 - accuracy: 0.9728 - val_loss: 0.6661 - val_accuracy: 0.8316\n",
      "Epoch 16/20\n",
      "196/196 [==============================] - 2s 8ms/step - loss: 0.0741 - accuracy: 0.9755 - val_loss: 0.6954 - val_accuracy: 0.8306\n",
      "Epoch 17/20\n",
      "196/196 [==============================] - 2s 8ms/step - loss: 0.0698 - accuracy: 0.9768 - val_loss: 0.7409 - val_accuracy: 0.8285\n",
      "Epoch 18/20\n",
      "196/196 [==============================] - 2s 8ms/step - loss: 0.0663 - accuracy: 0.9776 - val_loss: 0.7636 - val_accuracy: 0.8293\n",
      "Epoch 19/20\n",
      "196/196 [==============================] - 2s 8ms/step - loss: 0.0615 - accuracy: 0.9792 - val_loss: 0.7814 - val_accuracy: 0.8282\n",
      "Epoch 20/20\n",
      "196/196 [==============================] - 2s 8ms/step - loss: 0.0567 - accuracy: 0.9811 - val_loss: 0.8241 - val_accuracy: 0.8285\n"
     ]
    }
   ],
   "source": [
    "model = GRU_model\n",
    "model.compile(optimizer='adam',\n",
    "              loss='binary_crossentropy',\n",
    "              metrics=['accuracy'])\n",
    "\n",
    "epochs = 20\n",
    "\n",
    "GRU_history = model.fit(partial_X_train,\n",
    "                           partial_y_train,\n",
    "                           epochs=epochs,\n",
    "                           batch_size=512,\n",
    "                           validation_data=(x_val, y_val),\n",
    "                           verbose=1)"
   ]
  },
  {
   "cell_type": "code",
   "execution_count": 16,
   "id": "c64ee021",
   "metadata": {},
   "outputs": [
    {
     "name": "stdout",
     "output_type": "stream",
     "text": [
      "1537/1537 - 3s - loss: 0.8422 - accuracy: 0.8237\n",
      "[0.842228353023529, 0.8237076997756958]\n"
     ]
    }
   ],
   "source": [
    "# test set으로 모델 평가\n",
    "GRU_results = model.evaluate(X_test, y_test, verbose=2)\n",
    "\n",
    "print(GRU_results)"
   ]
  },
  {
   "cell_type": "markdown",
   "id": "09b026de",
   "metadata": {},
   "source": [
    "## (6) Loss, Accuracy 그래프 시각화"
   ]
  },
  {
   "cell_type": "markdown",
   "id": "20e22c90",
   "metadata": {},
   "source": [
    "### LSTM Model"
   ]
  },
  {
   "cell_type": "code",
   "execution_count": 17,
   "id": "9ab88bf7",
   "metadata": {},
   "outputs": [
    {
     "data": {
      "image/png": "[encoded data removed]",
      "text/plain": [
       "<Figure size 432x288 with 1 Axes>"
      ]
     },
     "metadata": {
      "needs_background": "light"
     },
     "output_type": "display_data"
    }
   ],
   "source": [
    "history_dict = LSTM_history.history\n",
    "\n",
    "# 모델 학습 시각화\n",
    "acc = history_dict['accuracy']\n",
    "val_acc = history_dict['val_accuracy']\n",
    "loss = history_dict['loss']\n",
    "val_loss = history_dict['val_loss']\n",
    "\n",
    "epochs = range(1, len(acc) + 1)\n",
    "\n",
    "# bo는 파란색 점, b는 파란 실선\n",
    "plt.plot(epochs, loss, 'bo', label='Training loss')\n",
    "plt.plot(epochs, val_loss, 'b', label='Validation loss')\n",
    "plt.title('Training and validation loss')\n",
    "plt.xlabel('Epochs')\n",
    "plt.ylabel('Loss')\n",
    "plt.legend()\n",
    "\n",
    "plt.show()"
   ]
  },
  {
   "cell_type": "code",
   "execution_count": 18,
   "id": "93afdb54",
   "metadata": {},
   "outputs": [
    {
     "data": {
      "image/png": "[encoded data removed]",
      "text/plain": [
       "<Figure size 432x288 with 1 Axes>"
      ]
     },
     "metadata": {
      "needs_background": "light"
     },
     "output_type": "display_data"
    }
   ],
   "source": [
    "plt.clf()  # 그림 초기화\n",
    "\n",
    "plt.plot(epochs, acc, 'bo', label='Training acc')\n",
    "plt.plot(epochs, val_acc, 'b', label='Validation acc')\n",
    "plt.title('Training and validation accuracy')\n",
    "plt.xlabel('Epochs')\n",
    "plt.ylabel('Accuracy')\n",
    "plt.legend()\n",
    "\n",
    "plt.show()"
   ]
  },
  {
   "cell_type": "markdown",
   "id": "fc5bf8bb",
   "metadata": {},
   "source": [
    "### 1-D CNN Model"
   ]
  },
  {
   "cell_type": "code",
   "execution_count": 19,
   "id": "21f0a6b8",
   "metadata": {},
   "outputs": [
    {
     "data": {
      "image/png": "[encoded data removed]",
      "text/plain": [
       "<Figure size 432x288 with 1 Axes>"
      ]
     },
     "metadata": {
      "needs_background": "light"
     },
     "output_type": "display_data"
    }
   ],
   "source": [
    "history_dict = CNN_1D_history.history\n",
    "\n",
    "# 모델 학습 시각화\n",
    "acc = history_dict['accuracy']\n",
    "val_acc = history_dict['val_accuracy']\n",
    "loss = history_dict['loss']\n",
    "val_loss = history_dict['val_loss']\n",
    "\n",
    "epochs = range(1, len(acc) + 1)\n",
    "\n",
    "# bo는 파란색 점, b는 파란 실선\n",
    "plt.plot(epochs, loss, 'bo', label='Training loss')\n",
    "plt.plot(epochs, val_loss, 'b', label='Validation loss')\n",
    "plt.title('Training and validation loss')\n",
    "plt.xlabel('Epochs')\n",
    "plt.ylabel('Loss')\n",
    "plt.legend()\n",
    "\n",
    "plt.show()"
   ]
  },
  {
   "cell_type": "code",
   "execution_count": 20,
   "id": "2243eae5",
   "metadata": {},
   "outputs": [
    {
     "data": {
      "image/png": "[encoded data removed]",
      "text/plain": [
       "<Figure size 432x288 with 1 Axes>"
      ]
     },
     "metadata": {
      "needs_background": "light"
     },
     "output_type": "display_data"
    }
   ],
   "source": [
    "plt.clf()  # 그림 초기화\n",
    "\n",
    "plt.plot(epochs, acc, 'bo', label='Training acc')\n",
    "plt.plot(epochs, val_acc, 'b', label='Validation acc')\n",
    "plt.title('Training and validation accuracy')\n",
    "plt.xlabel('Epochs')\n",
    "plt.ylabel('Accuracy')\n",
    "plt.legend()\n",
    "\n",
    "plt.show()"
   ]
  },
  {
   "cell_type": "markdown",
   "id": "e6bb259e",
   "metadata": {},
   "source": [
    "### GRU Model"
   ]
  },
  {
   "cell_type": "code",
   "execution_count": 21,
   "id": "70cf541c",
   "metadata": {},
   "outputs": [
    {
     "data": {
      "image/png": "[encoded data removed]",
      "text/plain": [
       "<Figure size 432x288 with 1 Axes>"
      ]
     },
     "metadata": {
      "needs_background": "light"
     },
     "output_type": "display_data"
    }
   ],
   "source": [
    "history_dict = GRU_history.history\n",
    "\n",
    "# 모델 학습 시각화\n",
    "acc = history_dict['accuracy']\n",
    "val_acc = history_dict['val_accuracy']\n",
    "loss = history_dict['loss']\n",
    "val_loss = history_dict['val_loss']\n",
    "\n",
    "epochs = range(1, len(acc) + 1)\n",
    "\n",
    "# bo는 파란색 점, b는 파란 실선\n",
    "plt.plot(epochs, loss, 'bo', label='Training loss')\n",
    "plt.plot(epochs, val_loss, 'b', label='Validation loss')\n",
    "plt.title('Training and validation loss')\n",
    "plt.xlabel('Epochs')\n",
    "plt.ylabel('Loss')\n",
    "plt.legend()\n",
    "\n",
    "plt.show()"
   ]
  },
  {
   "cell_type": "code",
   "execution_count": 22,
   "id": "e9898a8b",
   "metadata": {},
   "outputs": [
    {
     "data": {
      "image/png": "[encoded data removed]",
      "text/plain": [
       "<Figure size 432x288 with 1 Axes>"
      ]
     },
     "metadata": {
      "needs_background": "light"
     },
     "output_type": "display_data"
    }
   ],
   "source": [
    "plt.clf()  # 그림 초기화\n",
    "\n",
    "plt.plot(epochs, acc, 'bo', label='Training acc')\n",
    "plt.plot(epochs, val_acc, 'b', label='Validation acc')\n",
    "plt.title('Training and validation accuracy')\n",
    "plt.xlabel('Epochs')\n",
    "plt.ylabel('Accuracy')\n",
    "plt.legend()\n",
    "\n",
    "plt.show()"
   ]
  },
  {
   "cell_type": "markdown",
   "id": "8d9c214c",
   "metadata": {},
   "source": [
    "## (7) 학습된 Embedding 레이어 분석"
   ]
  },
  {
   "cell_type": "code",
   "execution_count": 23,
   "id": "727c8457",
   "metadata": {},
   "outputs": [
    {
     "name": "stdout",
     "output_type": "stream",
     "text": [
      "(10000, 300)\n"
     ]
    }
   ],
   "source": [
    "embedding_layer = model.layers[0]\n",
    "weights = embedding_layer.get_weights()[0]\n",
    "print(weights.shape)  # vocab_size, embedding_dim"
   ]
  },
  {
   "cell_type": "code",
   "execution_count": 24,
   "id": "d11af6ac",
   "metadata": {},
   "outputs": [],
   "source": [
    "# 학습한 embedding 파라미터를 파일로 저장\n",
    "word2vec_file_path = os.getenv('HOME') + '/aiffel/sentiment_classification/data/word2vec_project.txt'\n",
    "f = open(word2vec_file_path, 'w')\n",
    "f.write('{} {}\\n'.format(vocab_size-4, word_vector_dim))  # 몇 개의 벡터를 어떤 사이즈로 기재할지의 타이틀.\n",
    "\n",
    "# 단어 개수(특수문자 4개 제외)만큼의 워드 벡터를 파일에 기록\n",
    "vectors = model.get_weights()[0]\n",
    "for i in range(4, vocab_size):\n",
    "    f.write('{} {}\\n'.format(index_to_word[i], ' '.join(map(str, list(vectors[i, :])))))\n",
    "f.close()"
   ]
  },
  {
   "cell_type": "code",
   "execution_count": 25,
   "id": "fe163597",
   "metadata": {},
   "outputs": [
    {
     "data": {
      "text/plain": [
       "array([-0.05512848, -0.04809355, -0.00646178, -0.08521131,  0.02675703,\n",
       "       -0.10543051, -0.06635085, -0.1428208 ,  0.1540037 ,  0.02270366,\n",
       "       -0.072281  , -0.08266415, -0.07271736,  0.03082131, -0.02884695,\n",
       "       -0.00427706,  0.1091035 ,  0.01851515,  0.12162277, -0.09639622,\n",
       "        0.02388581,  0.11753675,  0.02086418, -0.01782572,  0.04531582,\n",
       "        0.02114516, -0.05309874,  0.00283752,  0.14238302, -0.03383391,\n",
       "       -0.08021746,  0.00821234, -0.02571228,  0.02055516,  0.05831509,\n",
       "       -0.02185476, -0.07217657,  0.05119485, -0.12836975, -0.03519372,\n",
       "       -0.05258074,  0.03975747,  0.07412063, -0.01686333,  0.03944597,\n",
       "        0.15701512,  0.026435  , -0.0339375 , -0.00219466, -0.02419754,\n",
       "       -0.12389371,  0.01803025,  0.01791334,  0.07704403,  0.0312174 ,\n",
       "        0.05538494, -0.10415702, -0.09547707, -0.02392065, -0.10603312,\n",
       "       -0.07147384,  0.04245614,  0.00170948,  0.122642  ,  0.09905072,\n",
       "        0.10555063, -0.09623487,  0.06929443, -0.06594176,  0.04964643,\n",
       "       -0.03765149,  0.04102538,  0.09237903, -0.05465176,  0.15060928,\n",
       "       -0.06349557, -0.05748827, -0.04557297,  0.01038726, -0.10726516,\n",
       "        0.01818374, -0.01320693, -0.06920443, -0.05843207, -0.1467488 ,\n",
       "        0.00375707, -0.018628  , -0.1744094 ,  0.00224975,  0.05068456,\n",
       "        0.17495893, -0.00691711,  0.03197597, -0.13861358, -0.07994737,\n",
       "        0.09421394, -0.03659354, -0.14418642, -0.06809729, -0.05783867,\n",
       "       -0.07047392, -0.01744145, -0.08214752,  0.04568247,  0.03961447,\n",
       "       -0.11985209, -0.01101101, -0.00526888,  0.11147477,  0.00710916,\n",
       "       -0.07597958, -0.05854933, -0.02609362,  0.07485599,  0.10637472,\n",
       "        0.00217061, -0.00633055,  0.00565355,  0.00035988,  0.12819059,\n",
       "       -0.04040778,  0.03089295,  0.0149993 , -0.07220186, -0.2013253 ,\n",
       "        0.08753111, -0.12374353, -0.0540996 ,  0.07349887, -0.01206196,\n",
       "        0.07001164,  0.06435379,  0.03232049,  0.06806205,  0.02315767,\n",
       "       -0.12801605,  0.05988346,  0.02366072, -0.22443728, -0.01362476,\n",
       "        0.00407717,  0.08599307,  0.08156733,  0.1334716 , -0.01908721,\n",
       "        0.06787985, -0.00401055,  0.01723926, -0.06434881,  0.02923189,\n",
       "        0.00471463, -0.13475396, -0.01145791,  0.00698472, -0.10129573,\n",
       "       -0.10033251,  0.0580496 ,  0.06809017,  0.15829416,  0.00243663,\n",
       "        0.1128873 ,  0.15709487, -0.02525752, -0.23235232,  0.00100681,\n",
       "       -0.10140295, -0.10051117, -0.06343293, -0.03142339,  0.05467428,\n",
       "       -0.00200236, -0.03217942, -0.11333326,  0.02660236,  0.11954894,\n",
       "       -0.03611128, -0.01493825,  0.10189474, -0.02912356,  0.06978261,\n",
       "       -0.08914869, -0.14004564,  0.04120667, -0.04794436,  0.04584498,\n",
       "        0.07985412,  0.14137965,  0.09171025,  0.18058711,  0.00778181,\n",
       "       -0.23162957,  0.15169586,  0.00138252,  0.05289973,  0.1055935 ,\n",
       "       -0.1086358 , -0.0319882 ,  0.17980692,  0.04301535, -0.01616384,\n",
       "       -0.01283905,  0.12441315,  0.16527382, -0.0455806 , -0.01131456,\n",
       "       -0.03290076, -0.06320285,  0.08748788, -0.02424623,  0.03689627,\n",
       "       -0.06689212,  0.14503995,  0.03683617, -0.11118264,  0.12960239,\n",
       "       -0.00730707,  0.0476541 , -0.08855303,  0.03925618, -0.01650412,\n",
       "        0.02592228, -0.00167491,  0.09636534,  0.03013341, -0.02658817,\n",
       "       -0.13531849, -0.01856954, -0.04181946,  0.15914087, -0.11923987,\n",
       "        0.04418405,  0.08243584, -0.05181802, -0.27708465, -0.10577577,\n",
       "        0.04381782,  0.16809498, -0.01012261, -0.02223747,  0.03442672,\n",
       "        0.00039148, -0.03133862,  0.07143563,  0.07767437,  0.02552974,\n",
       "        0.03522851, -0.00880939, -0.11347609,  0.0443988 , -0.02468006,\n",
       "        0.12443081,  0.14449258,  0.09345026,  0.04089922, -0.00325514,\n",
       "       -0.05168552,  0.01951246,  0.02022489,  0.0405098 , -0.02652326,\n",
       "       -0.00605872, -0.08942428,  0.06535406, -0.00785611, -0.00420302,\n",
       "        0.14187446, -0.14965639,  0.03096785, -0.08730259,  0.21881735,\n",
       "        0.15140359,  0.00454445,  0.09947779,  0.1226741 , -0.04856624,\n",
       "       -0.05394412, -0.04808319,  0.16417027,  0.05859791,  0.03726833,\n",
       "       -0.09385866,  0.1550886 ,  0.02847107,  0.02836472, -0.03975162,\n",
       "        0.0389611 , -0.10315342, -0.05074228,  0.0113434 , -0.00654602,\n",
       "        0.03474338, -0.14786553, -0.06096308,  0.01375186,  0.02248762,\n",
       "        0.06417543, -0.05176575, -0.00667465, -0.10860143, -0.14622223],\n",
       "      dtype=float32)"
      ]
     },
     "execution_count": 25,
     "metadata": {},
     "output_type": "execute_result"
    }
   ],
   "source": [
    "# gensim에서 제공하는 패키지로, 위에서 만든 임베딩 파라미터를 익어서 word vector로 활용\n",
    "from gensim.models.keyedvectors import Word2VecKeyedVectors\n",
    "\n",
    "word_vectors = Word2VecKeyedVectors.load_word2vec_format(word2vec_file_path, binary=False)\n",
    "vector = word_vectors['연기']\n",
    "vector"
   ]
  },
  {
   "cell_type": "code",
   "execution_count": 26,
   "id": "fedef49e",
   "metadata": {},
   "outputs": [
    {
     "data": {
      "text/plain": [
       "[('며', 0.7572504878044128),\n",
       " ('사랑', 0.7423205971717834),\n",
       " ('역시', 0.7352275252342224),\n",
       " ('씬', 0.7059164643287659),\n",
       " ('그리고', 0.6945496797561646),\n",
       " ('면서', 0.6938525438308716),\n",
       " ('웃겨', 0.6902435421943665),\n",
       " ('엄청나', 0.6887118220329285),\n",
       " ('구원', 0.6777993440628052),\n",
       " ('중', 0.6715244054794312)]"
      ]
     },
     "execution_count": 26,
     "metadata": {},
     "output_type": "execute_result"
    }
   ],
   "source": [
    "word_vectors.similar_by_word(\"연기\")"
   ]
  },
  {
   "cell_type": "markdown",
   "id": "7003dd4f",
   "metadata": {},
   "source": [
    "## (8) 한국어 Word2Vec 임베딩 활용해 성능 개선"
   ]
  },
  {
   "cell_type": "code",
   "execution_count": 27,
   "id": "77843ecd",
   "metadata": {},
   "outputs": [
    {
     "name": "stderr",
     "output_type": "stream",
     "text": [
      "/tmp/ipykernel_2558/3041951138.py:7: DeprecationWarning: Call to deprecated `__getitem__` (Method will be removed in 4.0.0, use self.wv.__getitem__() instead).\n",
      "  vector = word2vec['연기']\n"
     ]
    },
    {
     "data": {
      "text/plain": [
       "array([-5.3693395e-02, -7.8077865e-01,  9.6723193e-01, -7.4758315e-01,\n",
       "       -8.9660138e-01, -1.3199822e+00,  6.2043767e-04, -6.7502671e-01,\n",
       "        1.3555537e-01, -6.8331599e-01,  1.9583182e-01,  1.0852404e+00,\n",
       "        2.1468368e-01,  2.8309336e-01, -4.0457886e-01, -3.6459949e-02,\n",
       "        5.6666532e-03, -5.4509687e-01,  2.2584310e+00, -5.6259340e-01,\n",
       "        6.5086263e-01, -1.8419718e+00, -2.1760310e-01, -1.0132394e+00,\n",
       "        1.5185098e-01, -1.8222044e+00, -1.3982623e+00,  1.7238414e+00,\n",
       "       -1.3829633e+00,  6.1575718e-02,  7.3994440e-01,  1.0549146e+00,\n",
       "       -5.4366481e-01,  6.0019165e-02,  4.3806583e-01, -7.5868535e-01,\n",
       "        1.2300022e+00, -7.9196030e-01, -1.6581323e+00, -3.9155692e-01,\n",
       "       -1.3105632e+00,  8.5336879e-02, -2.7811906e-01, -1.2887888e-01,\n",
       "        1.5672020e+00, -1.0730708e-01,  3.4074798e-01, -5.3951442e-01,\n",
       "        5.1790684e-01,  1.5970176e+00,  1.5166098e+00, -1.9613689e-02,\n",
       "       -1.0175781e+00,  1.0776117e-02, -4.1133726e-01, -4.0709490e-01,\n",
       "       -1.8630189e-01,  1.1953371e+00, -2.0529389e+00,  5.4851735e-01,\n",
       "       -1.2525855e+00,  2.4897890e-01, -1.0798528e+00,  2.5326777e+00,\n",
       "        1.2076815e+00,  1.3111408e+00,  9.2739034e-01,  2.2980000e-01,\n",
       "        1.2924665e+00, -1.0678917e+00,  9.2687571e-01, -2.5648434e+00,\n",
       "        3.0993211e-01, -8.7689507e-01,  1.3491232e+00,  1.9081953e-01,\n",
       "       -1.1953725e+00,  8.9538324e-01,  2.2271841e+00,  6.2327409e-01,\n",
       "       -7.0153445e-01, -6.4361483e-01,  2.5620547e-01, -2.2041206e-01,\n",
       "       -1.2699916e+00, -1.2062807e+00,  1.1993917e+00, -3.6276078e-01,\n",
       "       -1.6243054e+00,  1.7003458e+00,  1.4959526e+00, -1.8603187e+00,\n",
       "        5.2999359e-01, -6.1834775e-02,  8.7550598e-01, -1.6906222e+00,\n",
       "       -3.3206320e-01, -1.0427604e+00,  1.1143509e+00, -1.4776740e-03,\n",
       "        1.6258161e-01,  9.2897147e-01,  8.0306071e-01, -9.4893181e-01,\n",
       "        5.2217561e-01,  1.5127454e+00, -9.2305340e-02, -1.3814297e+00,\n",
       "        8.1032105e-03, -1.4238347e+00,  8.6581951e-01, -2.8441444e-01,\n",
       "        1.7184410e+00,  2.7891383e-01,  3.2887360e-01,  5.2675688e-01,\n",
       "       -5.0155729e-01, -4.6955928e-01, -4.6886384e-01, -5.0018543e-01,\n",
       "        7.2872120e-01, -2.4435456e-01,  6.8066573e-01,  1.0688007e+00,\n",
       "       -1.3603760e+00,  1.2265990e+00,  4.4154307e-01, -4.2376515e-01,\n",
       "       -1.4495663e-01,  1.7640816e-01, -1.0069877e+00,  9.9518770e-01,\n",
       "        1.7741896e+00,  1.3261127e+00, -8.9179093e-01,  4.0089786e-01,\n",
       "        1.1123713e+00, -2.4952080e+00,  3.8792338e-02,  2.5231284e-01,\n",
       "       -2.6123375e-01,  7.9666299e-01, -1.0498821e+00,  6.7247719e-01,\n",
       "       -4.0273014e-01, -1.9973752e+00,  1.2353318e+00, -9.2051022e-02,\n",
       "        4.6527013e-01,  9.1308273e-02,  7.2386682e-01, -1.7560725e+00,\n",
       "        2.9675165e-01, -6.2843734e-01,  7.3666257e-01, -6.0286307e-01,\n",
       "       -4.3852404e-01,  1.3893689e+00, -2.9179676e-02, -1.5794673e+00,\n",
       "       -3.0718952e-01, -7.4424219e-01,  4.4600743e-01,  7.3182416e-01,\n",
       "       -9.4003874e-01, -6.2616962e-01,  1.2459950e+00,  4.5996156e-01,\n",
       "       -1.4326286e-01,  2.4688268e+00, -8.6987829e-01,  1.0419875e+00,\n",
       "        1.4267242e-01, -6.4436954e-01,  8.0997247e-01, -5.4725808e-01,\n",
       "        1.1380754e+00, -7.9422414e-01,  3.2377338e-01,  7.0351678e-01,\n",
       "        5.9708101e-01,  1.5177093e+00, -5.7365251e-01,  3.2487640e-01,\n",
       "        5.3628244e-02,  2.3018733e-01,  1.8385845e-01,  1.2438664e+00,\n",
       "       -9.2979896e-01,  6.7672467e-01,  2.2998383e+00,  8.9625323e-01,\n",
       "       -8.2618266e-01,  9.6896768e-01,  8.3589756e-01,  4.0959930e-01,\n",
       "        4.6731594e-01, -1.8502548e-02,  2.1297789e+00, -8.1134021e-01],\n",
       "      dtype=float32)"
      ]
     },
     "execution_count": 27,
     "metadata": {},
     "output_type": "execute_result"
    }
   ],
   "source": [
    "from gensim.models import Word2Vec\n",
    "\n",
    "word2vec_path = os.getenv('HOME') + '/aiffel/sentiment_classification/data/ko.bin'\n",
    "# 300dim의 벡터로 이루어진 300만 개의 단어를 모두 메모리에 로딩하면 실습환경에 따라 메모리 에러가 날 수 있다. \n",
    "# KeyedVector.load_word2vec_format 메서드로 가장 많이 사용되는 상위 100만개만 limit으로 설정해 로드\n",
    "word2vec = Word2Vec.load(word2vec_path)\n",
    "vector = word2vec['연기']\n",
    "vector"
   ]
  },
  {
   "cell_type": "code",
   "execution_count": 28,
   "id": "45fc810c",
   "metadata": {},
   "outputs": [
    {
     "name": "stderr",
     "output_type": "stream",
     "text": [
      "/tmp/ipykernel_2558/1731032598.py:1: DeprecationWarning: Call to deprecated `similar_by_word` (Method will be removed in 4.0.0, use self.wv.similar_by_word() instead).\n",
      "  word2vec.similar_by_word(\"연기\")\n"
     ]
    },
    {
     "data": {
      "text/plain": [
       "[('연출', 0.5039602518081665),\n",
       " ('뮤직비디오', 0.468474805355072),\n",
       " ('주연', 0.45783281326293945),\n",
       " ('출연', 0.4573212265968323),\n",
       " ('안무', 0.4553908705711365),\n",
       " ('캐스팅', 0.43967583775520325),\n",
       " ('조연', 0.4288240671157837),\n",
       " ('단역', 0.4258745610713959),\n",
       " ('영화화', 0.4199691116809845),\n",
       " ('냄새', 0.4133602976799011)]"
      ]
     },
     "execution_count": 28,
     "metadata": {},
     "output_type": "execute_result"
    }
   ],
   "source": [
    "word2vec.similar_by_word(\"연기\")"
   ]
  },
  {
   "cell_type": "code",
   "execution_count": 29,
   "id": "ce00ccbb",
   "metadata": {},
   "outputs": [
    {
     "name": "stderr",
     "output_type": "stream",
     "text": [
      "/tmp/ipykernel_2558/2221020419.py:7: DeprecationWarning: Call to deprecated `__contains__` (Method will be removed in 4.0.0, use self.wv.__contains__() instead).\n",
      "  if index_to_word[i] in word2vec:\n",
      "/tmp/ipykernel_2558/2221020419.py:8: DeprecationWarning: Call to deprecated `__getitem__` (Method will be removed in 4.0.0, use self.wv.__getitem__() instead).\n",
      "  embedding_matrix[i] = word2vec[index_to_word[i]]\n"
     ]
    }
   ],
   "source": [
    "vocab_size = 10000\n",
    "word_vector_dim = 200\n",
    "embedding_matrix = np.random.rand(vocab_size, word_vector_dim)\n",
    "\n",
    "# embedding_matrix에 Word2Vec 워드 벡터를 단어 하나씩 차례로 카피\n",
    "for i in range(4, vocab_size):\n",
    "    if index_to_word[i] in word2vec:\n",
    "        embedding_matrix[i] = word2vec[index_to_word[i]]"
   ]
  },
  {
   "cell_type": "code",
   "execution_count": 30,
   "id": "3fde8a69",
   "metadata": {},
   "outputs": [
    {
     "name": "stdout",
     "output_type": "stream",
     "text": [
      "Model: \"sequential_3\"\n",
      "_________________________________________________________________\n",
      "Layer (type)                 Output Shape              Param #   \n",
      "=================================================================\n",
      "embedding_3 (Embedding)      (None, 41, 200)           2000000   \n",
      "_________________________________________________________________\n",
      "lstm_1 (LSTM)                (None, 256)               467968    \n",
      "_________________________________________________________________\n",
      "dense_6 (Dense)              (None, 8)                 2056      \n",
      "_________________________________________________________________\n",
      "dense_7 (Dense)              (None, 8)                 72        \n",
      "_________________________________________________________________\n",
      "dense_8 (Dense)              (None, 1)                 9         \n",
      "=================================================================\n",
      "Total params: 2,470,105\n",
      "Trainable params: 2,470,105\n",
      "Non-trainable params: 0\n",
      "_________________________________________________________________\n"
     ]
    }
   ],
   "source": [
    "from tensorflow.keras.initializers import Constant\n",
    "\n",
    "vocab_size = 10000\n",
    "word_vector_dim = 200\n",
    "\n",
    "# 모델 설계\n",
    "model = tf.keras.Sequential()\n",
    "model.add(tf.keras.layers.Embedding(vocab_size,\n",
    "                                   word_vector_dim,\n",
    "                                   embeddings_initializer=Constant(embedding_matrix),\n",
    "                                   input_length=maxlen,\n",
    "                                   trainable=True))  # trainable=True면 Fine-tuning\n",
    "model.add(tf.keras.layers.LSTM(256))\n",
    "model.add(tf.keras.layers.Dense(8, activation='relu'))\n",
    "model.add(tf.keras.layers.Dense(8, activation='relu'))\n",
    "model.add(tf.keras.layers.Dense(1, activation='sigmoid')) \n",
    "\n",
    "model.summary()"
   ]
  },
  {
   "cell_type": "code",
   "execution_count": 31,
   "id": "cb5b9d12",
   "metadata": {},
   "outputs": [
    {
     "name": "stdout",
     "output_type": "stream",
     "text": [
      "Epoch 1/20\n",
      "392/392 [==============================] - 9s 18ms/step - loss: 0.4500 - accuracy: 0.7841 - val_loss: 0.3560 - val_accuracy: 0.8443\n",
      "Epoch 2/20\n",
      "392/392 [==============================] - 7s 17ms/step - loss: 0.3187 - accuracy: 0.8639 - val_loss: 0.3176 - val_accuracy: 0.8624\n",
      "Epoch 3/20\n",
      "392/392 [==============================] - 7s 17ms/step - loss: 0.2705 - accuracy: 0.8877 - val_loss: 0.3380 - val_accuracy: 0.8619\n",
      "Epoch 4/20\n",
      "392/392 [==============================] - 7s 17ms/step - loss: 0.2327 - accuracy: 0.9054 - val_loss: 0.3191 - val_accuracy: 0.8657\n",
      "Epoch 5/20\n",
      "392/392 [==============================] - 7s 17ms/step - loss: 0.1960 - accuracy: 0.9222 - val_loss: 0.3424 - val_accuracy: 0.8639\n",
      "Epoch 6/20\n",
      "392/392 [==============================] - 7s 17ms/step - loss: 0.1576 - accuracy: 0.9386 - val_loss: 0.3864 - val_accuracy: 0.8644\n",
      "Epoch 7/20\n",
      "392/392 [==============================] - 7s 17ms/step - loss: 0.1230 - accuracy: 0.9525 - val_loss: 0.4244 - val_accuracy: 0.8594\n",
      "Epoch 8/20\n",
      "392/392 [==============================] - 7s 17ms/step - loss: 0.0934 - accuracy: 0.9641 - val_loss: 0.4833 - val_accuracy: 0.8570\n",
      "Epoch 9/20\n",
      "392/392 [==============================] - 7s 17ms/step - loss: 0.0704 - accuracy: 0.9735 - val_loss: 0.5792 - val_accuracy: 0.8591\n",
      "Epoch 10/20\n",
      "392/392 [==============================] - 7s 17ms/step - loss: 0.0552 - accuracy: 0.9789 - val_loss: 0.6512 - val_accuracy: 0.8565\n",
      "Epoch 11/20\n",
      "392/392 [==============================] - 7s 17ms/step - loss: 0.0464 - accuracy: 0.9826 - val_loss: 0.7069 - val_accuracy: 0.8562\n",
      "Epoch 12/20\n",
      "392/392 [==============================] - 7s 17ms/step - loss: 0.0361 - accuracy: 0.9866 - val_loss: 0.7235 - val_accuracy: 0.8549\n",
      "Epoch 13/20\n",
      "392/392 [==============================] - 7s 17ms/step - loss: 0.0327 - accuracy: 0.9873 - val_loss: 0.8038 - val_accuracy: 0.8566\n",
      "Epoch 14/20\n",
      "392/392 [==============================] - 7s 17ms/step - loss: 0.0273 - accuracy: 0.9895 - val_loss: 0.8680 - val_accuracy: 0.8552\n",
      "Epoch 15/20\n",
      "392/392 [==============================] - 7s 17ms/step - loss: 0.0258 - accuracy: 0.9901 - val_loss: 0.9049 - val_accuracy: 0.8572\n",
      "Epoch 16/20\n",
      "392/392 [==============================] - 7s 17ms/step - loss: 0.0218 - accuracy: 0.9914 - val_loss: 0.9476 - val_accuracy: 0.8549\n",
      "Epoch 17/20\n",
      "392/392 [==============================] - 7s 17ms/step - loss: 0.0235 - accuracy: 0.9909 - val_loss: 0.9141 - val_accuracy: 0.8532\n",
      "Epoch 18/20\n",
      "392/392 [==============================] - 7s 17ms/step - loss: 0.0231 - accuracy: 0.9912 - val_loss: 0.9415 - val_accuracy: 0.8564\n",
      "Epoch 19/20\n",
      "392/392 [==============================] - 7s 17ms/step - loss: 0.0168 - accuracy: 0.9934 - val_loss: 0.9574 - val_accuracy: 0.8541\n",
      "Epoch 20/20\n",
      "392/392 [==============================] - 7s 17ms/step - loss: 0.0152 - accuracy: 0.9940 - val_loss: 1.0097 - val_accuracy: 0.8558\n"
     ]
    }
   ],
   "source": [
    "# 모델 학습\n",
    "model.compile(optimizer='adam',\n",
    "              loss='binary_crossentropy',\n",
    "              metrics=['accuracy'])\n",
    "              \n",
    "epochs = 20\n",
    "\n",
    "history = model.fit(partial_X_train,\n",
    "                    partial_y_train,\n",
    "                    epochs=epochs,\n",
    "                    batch_size=256,\n",
    "                    validation_data=(x_val, y_val),\n",
    "                    verbose=1)"
   ]
  },
  {
   "cell_type": "code",
   "execution_count": 32,
   "id": "2783e705",
   "metadata": {},
   "outputs": [
    {
     "name": "stdout",
     "output_type": "stream",
     "text": [
      "1537/1537 - 3s - loss: 1.0309 - accuracy: 0.8502\n",
      "[1.030946969985962, 0.8501535654067993]\n"
     ]
    }
   ],
   "source": [
    "# 모델 평가\n",
    "\n",
    "results = model.evaluate(X_test,  y_test, verbose=2)\n",
    "print(results)"
   ]
  },
  {
   "cell_type": "markdown",
   "id": "45b262c0",
   "metadata": {},
   "source": [
    "## 회고\n",
    "LSTM과 1-D CNN외에 LSTM을 간단하게 만든 GRU 모델을 썼는데 큰 차이는 없었다. 자연어를 토큰화나 전처리하는 작업이 굉장히 까다롭구나하는 생각이 들었다.  \n",
    "그 부분에 조금 더 신경쓰고, 모델의 하이퍼 파라미터의 적정값을 잘 찾아낼 수 있다면 조금 더 좋은 결과를 얻을 수 있을 것 같다.  \n",
    "한국어 Word2Vec 임베딩은 확실히 놀라웠다. '연기'라는 단어를 주었을 때 상당히 연관성있는 단어들을 제시했다.  \n",
    "다만 짧은 지식으로 추측컨대 한국어의 자연어 처리가 영어보다 어려운 듯한(불용어라던지...) 느낌이 들었다. 아무튼, 조금 더 깊이있게 공부해야겠다는 생각이 든다. "
   ]
  }
 ],
 "metadata": {
  "kernelspec": {
   "display_name": "Python 3 (ipykernel)",
   "language": "python",
   "name": "python3"
  },
  "language_info": {
   "codemirror_mode": {
    "name": "ipython",
    "version": 3
   },
   "file_extension": ".py",
   "mimetype": "text/x-python",
   "name": "python",
   "nbconvert_exporter": "python",
   "pygments_lexer": "ipython3",
   "version": "3.9.7"
  }
 },
 "nbformat": 4,
 "nbformat_minor": 5
}

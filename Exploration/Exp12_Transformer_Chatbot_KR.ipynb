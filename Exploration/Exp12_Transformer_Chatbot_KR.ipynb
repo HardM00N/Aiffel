{
 "cells": [
  {
   "cell_type": "markdown",
   "id": "15d2acbf",
   "metadata": {},
   "source": [
    "# Exp 12. 한국어 데이터로 챗봇 만들기\n",
    "- 번역기는 인코더와 디코더 두 가지 아키텍처로 구성되어 있다. 인코더에 입력 문장이 들어가고, 디코더는 이에 상응하는 출력 문장을 생성한다. \n",
    "- 비단 번역기에만 한정되지 않는데, 질문에 대해서 대답을 하도록 구성된 데이터셋을 인코더와 디코더 구조로 학습한다면, 주어진 질문에 답변할 수 있는 챗봇을 만들 수 있다. "
   ]
  },
  {
   "cell_type": "markdown",
   "id": "fecbb1c8",
   "metadata": {},
   "source": [
    "## 1. 챗봇의 병렬 데이터 받아오기\n",
    "- 한국어 챗봇 데이터는 송영숙님이 공개한 챗봇 데이터 사용"
   ]
  },
  {
   "cell_type": "code",
   "execution_count": 1,
   "id": "d90f4d24",
   "metadata": {},
   "outputs": [],
   "source": [
    "import tensorflow as tf\n",
    "import tensorflow_datasets as tfds\n",
    "import os\n",
    "import re\n",
    "import numpy as np\n",
    "import pandas as pd\n",
    "import matplotlib.pyplot as plt"
   ]
  },
  {
   "cell_type": "code",
   "execution_count": 2,
   "id": "54041756",
   "metadata": {},
   "outputs": [
    {
     "data": {
      "text/html": [
       "<div>\n",
       "<style scoped>\n",
       "    .dataframe tbody tr th:only-of-type {\n",
       "        vertical-align: middle;\n",
       "    }\n",
       "\n",
       "    .dataframe tbody tr th {\n",
       "        vertical-align: top;\n",
       "    }\n",
       "\n",
       "    .dataframe thead th {\n",
       "        text-align: right;\n",
       "    }\n",
       "</style>\n",
       "<table border=\"1\" class=\"dataframe\">\n",
       "  <thead>\n",
       "    <tr style=\"text-align: right;\">\n",
       "      <th></th>\n",
       "      <th>Q</th>\n",
       "      <th>A</th>\n",
       "      <th>label</th>\n",
       "    </tr>\n",
       "  </thead>\n",
       "  <tbody>\n",
       "    <tr>\n",
       "      <th>0</th>\n",
       "      <td>12시 땡!</td>\n",
       "      <td>하루가 또 가네요.</td>\n",
       "      <td>0</td>\n",
       "    </tr>\n",
       "    <tr>\n",
       "      <th>1</th>\n",
       "      <td>1지망 학교 떨어졌어</td>\n",
       "      <td>위로해 드립니다.</td>\n",
       "      <td>0</td>\n",
       "    </tr>\n",
       "    <tr>\n",
       "      <th>2</th>\n",
       "      <td>3박4일 놀러가고 싶다</td>\n",
       "      <td>여행은 언제나 좋죠.</td>\n",
       "      <td>0</td>\n",
       "    </tr>\n",
       "    <tr>\n",
       "      <th>3</th>\n",
       "      <td>3박4일 정도 놀러가고 싶다</td>\n",
       "      <td>여행은 언제나 좋죠.</td>\n",
       "      <td>0</td>\n",
       "    </tr>\n",
       "    <tr>\n",
       "      <th>4</th>\n",
       "      <td>PPL 심하네</td>\n",
       "      <td>눈살이 찌푸려지죠.</td>\n",
       "      <td>0</td>\n",
       "    </tr>\n",
       "    <tr>\n",
       "      <th>...</th>\n",
       "      <td>...</td>\n",
       "      <td>...</td>\n",
       "      <td>...</td>\n",
       "    </tr>\n",
       "    <tr>\n",
       "      <th>11818</th>\n",
       "      <td>훔쳐보는 것도 눈치 보임.</td>\n",
       "      <td>티가 나니까 눈치가 보이는 거죠!</td>\n",
       "      <td>2</td>\n",
       "    </tr>\n",
       "    <tr>\n",
       "      <th>11819</th>\n",
       "      <td>훔쳐보는 것도 눈치 보임.</td>\n",
       "      <td>훔쳐보는 거 티나나봐요.</td>\n",
       "      <td>2</td>\n",
       "    </tr>\n",
       "    <tr>\n",
       "      <th>11820</th>\n",
       "      <td>흑기사 해주는 짝남.</td>\n",
       "      <td>설렜겠어요.</td>\n",
       "      <td>2</td>\n",
       "    </tr>\n",
       "    <tr>\n",
       "      <th>11821</th>\n",
       "      <td>힘든 연애 좋은 연애라는게 무슨 차이일까?</td>\n",
       "      <td>잘 헤어질 수 있는 사이 여부인 거 같아요.</td>\n",
       "      <td>2</td>\n",
       "    </tr>\n",
       "    <tr>\n",
       "      <th>11822</th>\n",
       "      <td>힘들어서 결혼할까봐</td>\n",
       "      <td>도피성 결혼은 하지 않길 바라요.</td>\n",
       "      <td>2</td>\n",
       "    </tr>\n",
       "  </tbody>\n",
       "</table>\n",
       "<p>11823 rows × 3 columns</p>\n",
       "</div>"
      ],
      "text/plain": [
       "                             Q                         A  label\n",
       "0                       12시 땡!                하루가 또 가네요.      0\n",
       "1                  1지망 학교 떨어졌어                 위로해 드립니다.      0\n",
       "2                 3박4일 놀러가고 싶다               여행은 언제나 좋죠.      0\n",
       "3              3박4일 정도 놀러가고 싶다               여행은 언제나 좋죠.      0\n",
       "4                      PPL 심하네                눈살이 찌푸려지죠.      0\n",
       "...                        ...                       ...    ...\n",
       "11818           훔쳐보는 것도 눈치 보임.        티가 나니까 눈치가 보이는 거죠!      2\n",
       "11819           훔쳐보는 것도 눈치 보임.             훔쳐보는 거 티나나봐요.      2\n",
       "11820              흑기사 해주는 짝남.                    설렜겠어요.      2\n",
       "11821  힘든 연애 좋은 연애라는게 무슨 차이일까?  잘 헤어질 수 있는 사이 여부인 거 같아요.      2\n",
       "11822               힘들어서 결혼할까봐        도피성 결혼은 하지 않길 바라요.      2\n",
       "\n",
       "[11823 rows x 3 columns]"
      ]
     },
     "execution_count": 2,
     "metadata": {},
     "output_type": "execute_result"
    }
   ],
   "source": [
    "dataset = pd.read_csv(os.getenv('HOME')+'/aiffel/transformer_chatbot/data/ChatbotData .csv')\n",
    "dataset"
   ]
  },
  {
   "cell_type": "code",
   "execution_count": 3,
   "id": "0436907f",
   "metadata": {},
   "outputs": [
    {
     "name": "stdout",
     "output_type": "stream",
     "text": [
      "11823\n"
     ]
    }
   ],
   "source": [
    "# 샘플 개수 확인\n",
    "print(len(dataset))"
   ]
  },
  {
   "cell_type": "code",
   "execution_count": 4,
   "id": "343dde64",
   "metadata": {},
   "outputs": [],
   "source": [
    "def preprocess_sentence(sentence):\n",
    "    sentence = sentence.lower().strip()\n",
    "\n",
    "    sentence = re.sub(r\"([?.!,])\", r\" \\1 \", sentence)\n",
    "    sentence = re.sub(r'[\" \"]+', \" \", sentence)\n",
    "    \n",
    "    # 한글 자음과 모음으로 정규 표현식 작성\n",
    "    sentence = re.sub(r\"[ㄱ-ㅎㅏ-ㅣ?.!,]+\", \" \", sentence)\n",
    "    sentence = sentence.strip()\n",
    "    return sentence"
   ]
  },
  {
   "cell_type": "code",
   "execution_count": 5,
   "id": "112a3ad2",
   "metadata": {},
   "outputs": [],
   "source": [
    "# 질문과 답변의 쌍인 데이터셋을 구성하기 위한 데이터 로드 함수\n",
    "def load_conversations():\n",
    "\n",
    "    inputs, outputs = [], []\n",
    "\n",
    "    for i in range(len(dataset) - 1):\n",
    "        inputs.append(preprocess_sentence(dataset['Q'][i]))\n",
    "        outputs.append(preprocess_sentence(dataset['A'][i]))\n",
    "            \n",
    "    return inputs, outputs"
   ]
  },
  {
   "cell_type": "code",
   "execution_count": 6,
   "id": "82b60d38",
   "metadata": {},
   "outputs": [
    {
     "name": "stdout",
     "output_type": "stream",
     "text": [
      "전체 샘플 수 : 11822\n",
      "전체 샘플 수 : 11822\n"
     ]
    }
   ],
   "source": [
    "questions, answers = load_conversations()\n",
    "print('전체 샘플 수 :', len(questions))\n",
    "print('전체 샘플 수 :', len(answers))"
   ]
  },
  {
   "cell_type": "code",
   "execution_count": 7,
   "id": "2c7b012d",
   "metadata": {},
   "outputs": [
    {
     "name": "stdout",
     "output_type": "stream",
     "text": [
      "전처리 후의 22번째 질문 샘플: 가스비 장난 아님\n",
      "전처리 후의 22번째 답변 샘플: 다음 달에는 더 절약해봐요\n"
     ]
    }
   ],
   "source": [
    "print('전처리 후의 22번째 질문 샘플: {}'.format(questions[21]))\n",
    "print('전처리 후의 22번째 답변 샘플: {}'.format(answers[21]))"
   ]
  },
  {
   "cell_type": "markdown",
   "id": "497f1d08",
   "metadata": {},
   "source": [
    "## 2. 병렬 데이터 전처리하기\n",
    "1. SubwordTextEncoder를 토크나이저로 사용한다. 단어보다 더 작은 단위인 Subword를 기준으로 토크나이징하고, 각 토큰을 고유한 정수로 인코딩한다. \n",
    "2. 각 문장을 토큰화하고 각 문장의 시작과 끝을 나타내는 `START_TOKEN` 및 `END_TOKEN`을 추가한다. \n",
    "3. 최대 길이 MAX_LENGTH인 40을 넘는 문장들은 필터링한다. \n",
    "4. MAX_LENGTH보다 길이가 짧은 문장들은 40에 맞도록 패딩한다.  \n",
    "\n",
    "### (1) 단어장 만들기\n",
    "- 우선 각 단어에 고유한 정수 인덱스를 부여하기 위해 단어장을 만들어보자. 이 때 질문과 답변 데이터셋을 모두 사용해 만든다. "
   ]
  },
  {
   "cell_type": "code",
   "execution_count": 8,
   "id": "1b5930cf",
   "metadata": {},
   "outputs": [],
   "source": [
    "import tensorflow_datasets as tfds\n",
    "\n",
    "# 질문과 답변 데이터셋에 대해서 Vocabulary 생성. (Tensorflow 2.3.0 이상) (클라우드는 2.4)\n",
    "tokenizer = tfds.deprecated.text.SubwordTextEncoder.build_from_corpus(questions + answers, target_vocab_size=2**13)"
   ]
  },
  {
   "cell_type": "code",
   "execution_count": 9,
   "id": "34ccb430",
   "metadata": {},
   "outputs": [],
   "source": [
    "# 시작 토큰과 종료 토큰에 고유한 정수를 부여합니다.\n",
    "START_TOKEN, END_TOKEN = [tokenizer.vocab_size], [tokenizer.vocab_size + 1]"
   ]
  },
  {
   "cell_type": "code",
   "execution_count": 10,
   "id": "865b1133",
   "metadata": {},
   "outputs": [
    {
     "name": "stdout",
     "output_type": "stream",
     "text": [
      "START_TOKEN의 번호 : [8151]\n",
      "END_TOKEN의 번호 : [8152]\n"
     ]
    }
   ],
   "source": [
    "print('START_TOKEN의 번호 :' ,[tokenizer.vocab_size])\n",
    "print('END_TOKEN의 번호 :' ,[tokenizer.vocab_size + 1])"
   ]
  },
  {
   "cell_type": "code",
   "execution_count": 11,
   "id": "ee47a95a",
   "metadata": {},
   "outputs": [
    {
     "name": "stdout",
     "output_type": "stream",
     "text": [
      "8153\n"
     ]
    }
   ],
   "source": [
    "# 시작 토큰과 종료 토큰을 고려하여 +2를 하여 단어장의 크기를 산정.\n",
    "VOCAB_SIZE = tokenizer.vocab_size + 2\n",
    "print(VOCAB_SIZE)"
   ]
  },
  {
   "cell_type": "markdown",
   "id": "fa5cd863",
   "metadata": {},
   "source": [
    "### (2) 각 단어를 고유한 정수로 인코딩 & 패딩\n",
    "- 앞서 tokenizer를 정의하고 단어장을 만들었다면, `tokenizer.encode()`로 각 단어를 정수로 변환할 수 있고, `decode()`로 반대도 가능하다. "
   ]
  },
  {
   "cell_type": "code",
   "execution_count": 12,
   "id": "b76c9925",
   "metadata": {},
   "outputs": [
    {
     "name": "stdout",
     "output_type": "stream",
     "text": [
      "정수 인코딩 후의 21번째 질문 샘플: [5748, 605, 2480, 4150]\n",
      "정수 인코딩 후의 21번째 답변 샘플: [2346, 7493, 6, 6257, 95]\n"
     ]
    }
   ],
   "source": [
    "# 임의의 22번째 샘플에 대해서 정수 인코딩 작업을 수행.\n",
    "# 각 토큰을 고유한 정수로 변환\n",
    "print('정수 인코딩 후의 21번째 질문 샘플: {}'.format(tokenizer.encode(questions[21])))\n",
    "print('정수 인코딩 후의 21번째 답변 샘플: {}'.format(tokenizer.encode(answers[21])))"
   ]
  },
  {
   "cell_type": "code",
   "execution_count": 13,
   "id": "92c623f4",
   "metadata": {},
   "outputs": [
    {
     "name": "stdout",
     "output_type": "stream",
     "text": [
      "10\n"
     ]
    }
   ],
   "source": [
    "# 샘플의 최대 허용 길이 또는 패딩 후의 최종 길이\n",
    "MAX_LENGTH = 10\n",
    "print(MAX_LENGTH)"
   ]
  },
  {
   "cell_type": "code",
   "execution_count": 14,
   "id": "e17d1bf8",
   "metadata": {},
   "outputs": [],
   "source": [
    "# 정수 인코딩, 최대 길이를 초과하는 샘플 제거, 패딩\n",
    "def tokenize_and_filter(inputs, outputs):\n",
    "  tokenized_inputs, tokenized_outputs = [], []\n",
    "  \n",
    "  for (sentence1, sentence2) in zip(inputs, outputs):\n",
    "    # 정수 인코딩 과정에서 시작 토큰과 종료 토큰을 추가\n",
    "    sentence1 = START_TOKEN + tokenizer.encode(sentence1) + END_TOKEN\n",
    "    sentence2 = START_TOKEN + tokenizer.encode(sentence2) + END_TOKEN\n",
    "\n",
    "    # 최대 길이 40 이하인 경우에만 데이터셋으로 허용\n",
    "    if len(sentence1) <= MAX_LENGTH and len(sentence2) <= MAX_LENGTH:\n",
    "      tokenized_inputs.append(sentence1)\n",
    "      tokenized_outputs.append(sentence2)\n",
    "  \n",
    "  # 최대 길이 40으로 모든 데이터셋을 패딩\n",
    "  tokenized_inputs = tf.keras.preprocessing.sequence.pad_sequences(\n",
    "      tokenized_inputs, maxlen=MAX_LENGTH, padding='post')\n",
    "  tokenized_outputs = tf.keras.preprocessing.sequence.pad_sequences(\n",
    "      tokenized_outputs, maxlen=MAX_LENGTH, padding='post')\n",
    "  \n",
    "  return tokenized_inputs, tokenized_outputs"
   ]
  },
  {
   "cell_type": "code",
   "execution_count": 15,
   "id": "b1781e42",
   "metadata": {},
   "outputs": [
    {
     "name": "stdout",
     "output_type": "stream",
     "text": [
      "단어장의 크기 : 8153\n",
      "필터링 후의 질문 샘플 개수: 9901\n",
      "필터링 후의 답변 샘플 개수: 9901\n"
     ]
    }
   ],
   "source": [
    "questions, answers = tokenize_and_filter(questions, answers)\n",
    "print('단어장의 크기 :',(VOCAB_SIZE))\n",
    "print('필터링 후의 질문 샘플 개수: {}'.format(len(questions)))\n",
    "print('필터링 후의 답변 샘플 개수: {}'.format(len(answers)))"
   ]
  },
  {
   "cell_type": "markdown",
   "id": "39094a0c",
   "metadata": {},
   "source": [
    "### (3) 교사 강요 (Teacher Forcing) 사용하기\n",
    "- tf.data.Dataset API는 훈련 프로세스의 속도가 빨라지도록 입력 파이프라인을 구축하는 API다.  \n",
    "- 이를 적극 사용하기 위해서 질문과 답변의 쌍을 `tf.data.Dataset`의 입력으로 넣어주는 작업을 한다.  \n",
    "- 이 때, 디코더의 입력과 실제값(레이블)을 정의해주기 위해서는 교사 강요라는 언어 모델의 훈련 기법을 이해해야만 한다. \n",
    "- 이전 자신의 출력이 현재 자신의 상태를 결정하는 모델을 자기회귀 모델이라고 한다. 트랜스포머의 디코더 또한 자기회귀 모델이다. "
   ]
  },
  {
   "cell_type": "code",
   "execution_count": 16,
   "id": "c61684aa",
   "metadata": {},
   "outputs": [],
   "source": [
    "# 질문과 답변의 상을 tf.data.Dataset API의 입력으로 사용해 파이프라인 구성\n",
    "# 교사 강요를 위해서 answer[:, :-1]를 디코드의 입력값, answer[:, 1:]를 디코더의 레이블로 사용\n",
    "BATCH_SIZE = 64\n",
    "BUFFER_SIZE = 20000\n",
    "\n",
    "# 디코더는 이전의 target을 다음의 input으로 사용\n",
    "# 이에 따라 output에서는 START_TOKEN을 제거한다\n",
    "dataset = tf.data.Dataset.from_tensor_slices((\n",
    "    {\n",
    "        'inputs':questions,\n",
    "        'dec_inputs': answers[:, :-1]\n",
    "    },\n",
    "    {\n",
    "        'outputs': answers[:, 1:]\n",
    "    }\n",
    "))\n",
    "\n",
    "dataset = dataset.cache()\n",
    "dataset = dataset.shuffle(BUFFER_SIZE)\n",
    "dataset = dataset.batch(BATCH_SIZE)\n",
    "dataset = dataset.prefetch(tf.data.experimental.AUTOTUNE)"
   ]
  },
  {
   "cell_type": "markdown",
   "id": "b0c1f74d",
   "metadata": {},
   "source": [
    "## 3. 모델 정의 및 학습하기"
   ]
  },
  {
   "cell_type": "code",
   "execution_count": 17,
   "id": "d1717c60",
   "metadata": {},
   "outputs": [],
   "source": [
    "# 포지셔널 인코딩 레이어\n",
    "class PositionalEncoding(tf.keras.layers.Layer):\n",
    "    \n",
    "    def __init__(self, position, d_model):\n",
    "        super(PositionalEncoding, self).__init__()\n",
    "        self.pos_encoding = self.positional_encoding(position, d_model)\n",
    "        \n",
    "    def get_angles(self, position, i, d_model):\n",
    "        # tf.pow : 거듭제곱 값을 계산, tf.cast : 텐서를 새로운 형태로 캐스트\n",
    "        angles = 1 / tf.pow(10000, (2 * (i // 2)) / tf.cast(d_model, tf.float32))\n",
    "        return position * angles\n",
    "    \n",
    "    def positional_encoding(self, position, d_model):\n",
    "        # 각도 배열 생성\n",
    "        angle_rads = self.get_angles(\n",
    "            position=tf.range(position, dtype=tf.float32)[:, tf.newaxis],\n",
    "            i=tf.range(d_model, dtype=tf.float32)[tf.newaxis, :],\n",
    "            d_model=d_model)\n",
    "        \n",
    "        # 배열의 짝수 인덱스에는 sin 함수 적용\n",
    "        sines = tf.math.sin(angle_rads[:, 0::2])\n",
    "        # 배열의 홀수 인덱스에는 cos 함수 적용\n",
    "        cosines = tf.math.cos(angle_rads[:, 1::2])\n",
    "        \n",
    "        # sin과 cos이 교차되도록 재배열\n",
    "        pos_encoding = tf.stack([sines, cosines], axis=0)\n",
    "        pos_encoding = tf.transpose(pos_encoding, [1, 2, 0])\n",
    "        pos_encoding = tf.reshape(pos_encoding, [position, d_model])\n",
    "        \n",
    "        pos_encoding = pos_encoding[tf.newaxis, ...]\n",
    "        return tf.cast(pos_encoding, tf.float32)\n",
    "    \n",
    "    def call(self, inputs):\n",
    "        return inputs + self.pos_encoding[:, :tf.shape(inputs)[1], :]"
   ]
  },
  {
   "cell_type": "code",
   "execution_count": 18,
   "id": "df5c3be9",
   "metadata": {},
   "outputs": [],
   "source": [
    "# 스케일드 닷 프로덕트 어텐션 함수\n",
    "def scaled_dot_product_attention(query, key, value, mask):\n",
    "    # 어텐션 가중치는 Q와 K의 닷 프로덕트\n",
    "    matmul_qk = tf.matmul(query, key, transpose_b=True)\n",
    "    \n",
    "    # 가중치 정규화\n",
    "    depth = tf.cast(tf.shape(key)[-1], tf.float32)\n",
    "    logits = matmul_qk / tf.math.sqrt(depth)\n",
    "    \n",
    "    # 패딩에 마스크 추가\n",
    "    if mask is not None:\n",
    "        logits += (mask * -1e9)\n",
    "        \n",
    "    # softmax 적용\n",
    "    attention_weights = tf.nn.softmax(logits, axis=-1)\n",
    "    \n",
    "    # 최종 어텐션은 가중치와 V의 닷 프로덕트\n",
    "    output = tf.matmul(attention_weights, value)\n",
    "    return output"
   ]
  },
  {
   "cell_type": "code",
   "execution_count": 19,
   "id": "cfc2ed60",
   "metadata": {},
   "outputs": [],
   "source": [
    "class MultiHeadAttention(tf.keras.layers.Layer):\n",
    "    \n",
    "    def __init__(self, d_model, num_heads, name=\"multi_head_attention\"):\n",
    "        super(MultiHeadAttention, self).__init__(name=name)\n",
    "        self.num_heads = num_heads\n",
    "        self.d_model = d_model\n",
    "        \n",
    "        # assert는 뒤의 조건의 True가 아니면 AssertError를 발생한다. (방어적 프로그래밍)\n",
    "        assert d_model % self.num_heads == 0\n",
    "        \n",
    "        self.depth = d_model // self.num_heads\n",
    "        \n",
    "        self.query_dense = tf.keras.layers.Dense(units=d_model)\n",
    "        self.key_dense = tf.keras.layers.Dense(units=d_model)\n",
    "        self.value_dense = tf.keras.layers.Dense(units=d_model)\n",
    "        \n",
    "        self.dense = tf.keras.layers.Dense(units=d_model)\n",
    "        \n",
    "    def split_heads(self, inputs, batch_size):\n",
    "        inputs = tf.reshape(\n",
    "            inputs, shape=(batch_size, -1, self.num_heads, self.depth))\n",
    "        return tf.transpose(inputs, perm=[0, 2, 1, 3])\n",
    "    \n",
    "    def call(self, inputs):\n",
    "        query, key, value, mask = inputs['query'], inputs['key'], inputs['value'], inputs['mask']\n",
    "        batch_size = tf.shape(query)[0]\n",
    "        \n",
    "        # Q, K, V에 각각 Dense 적용\n",
    "        query = self.query_dense(query)\n",
    "        key = self.key_dense(key)\n",
    "        value = self.value_dense(value)\n",
    "        \n",
    "        # 병렬 연산을 위한 머리를 여러 개 생성\n",
    "        query = self.split_heads(query, batch_size)\n",
    "        key = self.split_heads(key, batch_size)\n",
    "        value = self.split_heads(value, batch_size)\n",
    "        \n",
    "        # 스케일드 닷 프로덕트 어텐션 함수\n",
    "        scaled_attention = scaled_dot_product_attention(query, key, value, mask)\n",
    "        \n",
    "        scaled_attention = tf.transpose(scaled_attention, perm=[0, 2, 1, 3])\n",
    "        \n",
    "        # 어텐션 연산 후에 각 결과를 concatenate\n",
    "        concat_attention = tf.reshape(scaled_attention, (batch_size, -1, self.d_model))\n",
    "        \n",
    "        # 최종 결과에도 Dense 한 번 더 적용\n",
    "        outputs = self.dense(concat_attention)\n",
    "        \n",
    "        return outputs"
   ]
  },
  {
   "cell_type": "code",
   "execution_count": 20,
   "id": "aa21621b",
   "metadata": {},
   "outputs": [],
   "source": [
    "# 패딩 마스킹 구현 함수\n",
    "# 이 함수에 정수 시퀀스를 입력으로 하면, 이 함수는 숫자가 0인 부분을 체크해 벡터를 리턴한다. \n",
    "def create_padding_mask(x):\n",
    "    mask = tf.cast(tf.math.equal(x, 0), tf.float32)\n",
    "    # (batch_size, 1, 1, sequence length)\n",
    "    return mask[:, tf.newaxis, tf.newaxis, :]"
   ]
  },
  {
   "cell_type": "code",
   "execution_count": 21,
   "id": "0de6d0e9",
   "metadata": {},
   "outputs": [],
   "source": [
    "def create_look_ahead_mask(x):\n",
    "    seq_len = tf.shape(x)[1]\n",
    "    look_ahead_mask = 1 - tf.linalg.band_part(tf.ones((seq_len, seq_len)), -1, 0)\n",
    "    padding_mask = create_padding_mask(x)\n",
    "    return tf.maximum(look_ahead_mask, padding_mask)"
   ]
  },
  {
   "cell_type": "markdown",
   "id": "43c196a7",
   "metadata": {},
   "source": [
    "### 인코더\n",
    "- 하나의 인코더 층은 크게 총 2개의 서브 층으로 나뉜다. 바로 셀프 어텐션과 피드 포워드 신경망이다. 셀프 어텐션은 멀티 헤드 어텐션으로 병렬적으로 이루어진다."
   ]
  },
  {
   "cell_type": "code",
   "execution_count": 22,
   "id": "cf48ed20",
   "metadata": {},
   "outputs": [],
   "source": [
    "# 인코더 하나의 레이어를 함수로 구현\n",
    "# 이 하나의 레이어 안에는 두 개의 서브 레이어가 존재\n",
    "def encoder_layer(units, d_model, num_heads, dropout, name=\"encoder_layer\"):\n",
    "    inputs = tf.keras.Input(shape=(None, d_model), name=\"inputs\")\n",
    "    \n",
    "    # 패딩 마스크 사용\n",
    "    padding_mask = tf.keras.Input(shape=(1, 1, None), name=\"padding_mask\")\n",
    "    \n",
    "    # 첫 번째 서브 레이어 : 멀티 헤드 어텐션 수행 (셀프 어텐션)\n",
    "    attention = MultiHeadAttention(d_model, num_heads, name=\"attention\")({\n",
    "        'query': inputs,\n",
    "        'key': inputs,\n",
    "        'value': inputs,\n",
    "        'mask': padding_mask\n",
    "    })\n",
    "    \n",
    "    # 어텐션의 결과는 Dropout과 Layer Normalization이라는 훈련을 돕는 테크닉을 수행\n",
    "    attention = tf.keras.layers.Dropout(rate=dropout)(attention)\n",
    "    attention = tf.keras.layers.LayerNormalization(\n",
    "        epsilon=1e-6)(inputs + attention)\n",
    "    \n",
    "    # 두 번째 서브 레이어 : 2개의 완전연결층\n",
    "    outputs = tf.keras.layers.Dense(units=units, activation='relu')(attention)\n",
    "    outputs = tf.keras.layers.Dense(units=d_model)(outputs)\n",
    "    \n",
    "    # 완전연결층의 결과는 Dropout과 LayerNormalization이라는 훈련을 돕는 테크닉을 수행\n",
    "    outputs = tf.keras.layers.Dropout(rate=dropout)(outputs)\n",
    "    outputs = tf.keras.layers.LayerNormalization(\n",
    "        epsilon=1e-6)(attention + outputs)\n",
    "    \n",
    "    return tf.keras.Model(\n",
    "        inputs=[inputs, padding_mask], outputs=outputs, name=name)"
   ]
  },
  {
   "cell_type": "code",
   "execution_count": 23,
   "id": "ccf56512",
   "metadata": {},
   "outputs": [],
   "source": [
    "def encoder(vocab_size,\n",
    "           num_layers,\n",
    "           units,\n",
    "           d_model,\n",
    "           num_heads,\n",
    "           dropout,\n",
    "           name=\"encoder\"):\n",
    "    inputs = tf.keras.Input(shape=(None, ), name=\"inputs\")\n",
    "    \n",
    "    # 패딩 마스크 사용\n",
    "    padding_mask = tf.keras.Input(shape=(1, 1, None), name=\"padding_mask\")\n",
    "    \n",
    "    # 임베딩 레이어\n",
    "    embeddings = tf.keras.layers.Embedding(vocab_size, d_model)(inputs)\n",
    "    embeddings *= tf.math.sqrt(tf.cast(d_model, tf.float32))\n",
    "    \n",
    "    # 포지셔널 인코딩\n",
    "    embeddings = PositionalEncoding(vocab_size, d_model)(embeddings)\n",
    "    \n",
    "    outputs = tf.keras.layers.Dropout(rate=dropout)(embeddings)\n",
    "    \n",
    "    # num_layers만큼 쌓아올린 인코더 층\n",
    "    for i in range(num_layers):\n",
    "        outputs = encoder_layer(\n",
    "            units=units,\n",
    "            d_model=d_model,\n",
    "            num_heads=num_heads,\n",
    "            dropout=dropout,\n",
    "            name=\"encoder_layer_{}\".format(i), )([outputs, padding_mask])\n",
    "        \n",
    "    return tf.keras.Model(\n",
    "        inputs=[inputs, padding_mask], outputs=outputs, name=name)"
   ]
  },
  {
   "cell_type": "markdown",
   "id": "386ea153",
   "metadata": {},
   "source": [
    "### 디코더\n",
    "- 디코더는 인코더와 비슷하지만, 인코더보다 조금 더 복잡하다. \n",
    "- 인코더는 두 개의 서브 층으로 구성되지만, 디코더는 세 개의 서브 층으로 구성된다는 점이 다르다. \n",
    "- 첫 번째는 셀프 어텐션, 두 번째는 인코더-디코더 어텐션, 세 번째는 피드 포워드 신경망이다. \n",
    "- 인코더-디코더 어텐션은 셀프 어텐션과는 달리, 쿼리가 디코더의 벡터인 반면에 키와 밸류가 인코더의 벡터라는 특징이 있다.\n",
    "- 인코더의 셀프 어텐션과 마찬가지로 디코더의 셀프 어텐션, 인코더-디코더 어텐션 모두 스케일드 닷 프로덕트 어텐션을 멀티 헤드 어텐션으로 병렬적으로 수행한다."
   ]
  },
  {
   "cell_type": "code",
   "execution_count": 24,
   "id": "e9335fc8",
   "metadata": {},
   "outputs": [],
   "source": [
    "# 디코더 하나의 레이어를 함수로 구현\n",
    "# 이 하나의 레이어 안에는 세 개의 서브 레이어가 존재\n",
    "def decoder_layer(units, d_model, num_heads, dropout, name=\"decoder_layer\"):\n",
    "    inputs = tf.keras.Input(shape=(None, d_model), name=\"inputs\")\n",
    "    enc_outputs = tf.keras.Input(shape=(None, d_model), name=\"encoder_outputs\")\n",
    "    look_ahead_mask = tf.keras.Input(shape=(1, None, None), name=\"look_ahead_mask\")\n",
    "    padding_mask = tf.keras.Input(shape=(1, 1, None), name=\"padding_mask\")\n",
    "    \n",
    "    # 첫 번째 서브 레이어 : 멀티 헤드 어텐션 수행 (셀프 어텐션)\n",
    "    attention1 = MultiHeadAttention(d_model, num_heads, name=\"attention_1\")(inputs={\n",
    "        'query': inputs,\n",
    "        'key': inputs,\n",
    "        'value': inputs,\n",
    "        'mask': look_ahead_mask\n",
    "    })\n",
    "    \n",
    "    # 멀티 헤드 어텐션의 결과는 LayerNormalization이라는 훈련을 돕는 테크닉을 수행\n",
    "    attention1 = tf.keras.layers.LayerNormalization(epsilon=1e-6)(attention1 + inputs)\n",
    "    \n",
    "    # 두 번째 서브 레이어 : 마스크드 멀티 헤드 어텐션 수행 (인코더-디코더 어텐션)\n",
    "    attention2 = MultiHeadAttention(d_model, num_heads, name=\"attention_2\")(inputs={\n",
    "        'query': attention1,\n",
    "        'key': enc_outputs,\n",
    "        'value': enc_outputs,\n",
    "        'mask': padding_mask\n",
    "    })\n",
    "    \n",
    "    # 마스크드 멀티 헤드 어텐션의 결과는 Dropout과 LayerNormalization이라는 훈련을 돕는 테크닉을 수행\n",
    "    attention2 = tf.keras.layers.Dropout(rate=dropout)(attention2)\n",
    "    attention2 = tf.keras.layers.LayerNormalization(epsilon=1e-6)(attention2 + attention1)\n",
    "    \n",
    "    # 세 번째 서브 레이어 : 2개의 완전연결층\n",
    "    outputs = tf.keras.layers.Dense(units=units, activation='relu')(attention2)\n",
    "    outputs = tf.keras.layers.Dense(units=d_model)(outputs)\n",
    "    \n",
    "    # 완전연결층의 결과는 Dropout과 LayerNormalization 수행\n",
    "    outputs = tf.keras.layers.Dropout(rate=dropout)(outputs)\n",
    "    outputs = tf.keras.layers.LayerNormalization(epsilon=1e-6)(outputs + attention2)\n",
    "    \n",
    "    return tf.keras.Model(\n",
    "        inputs=[inputs, enc_outputs, look_ahead_mask, padding_mask],\n",
    "        outputs=outputs,\n",
    "        name=name)"
   ]
  },
  {
   "cell_type": "code",
   "execution_count": 25,
   "id": "b604127f",
   "metadata": {},
   "outputs": [],
   "source": [
    "def decoder(vocab_size, \n",
    "           num_layers,\n",
    "           units,\n",
    "           d_model,\n",
    "           num_heads,\n",
    "           dropout,\n",
    "           name=\"decoder\"):\n",
    "    inputs = tf.keras.Input(shape=(None, ), name='inputs')\n",
    "    enc_outputs = tf.keras.Input(shape=(None, d_model), name='encoder_outputs')\n",
    "    look_ahead_mask = tf.keras.Input(shape=(1, None, None), name='look_ahead_mask')\n",
    "    \n",
    "    # 패딩 마스크\n",
    "    padding_mask = tf.keras.Input(shape=(1, 1, None), name='padding_mask')\n",
    "    \n",
    "    # 임베딩 레이어\n",
    "    embeddings = tf.keras.layers.Embedding(vocab_size, d_model)(inputs)\n",
    "    embeddings *= tf.math.sqrt(tf.cast(d_model, tf.float32))\n",
    "    \n",
    "    # 포지셔널 인코딩\n",
    "    embeddings = PositionalEncoding(vocab_size, d_model)(embeddings)\n",
    "    \n",
    "    # Dropout 수행\n",
    "    outputs = tf.keras.layers.Dropout(rate=dropout)(embeddings)\n",
    "    \n",
    "    for i in range(num_layers):\n",
    "        outputs = decoder_layer(\n",
    "            units=units,\n",
    "            d_model=d_model,\n",
    "            num_heads=num_heads,\n",
    "            dropout=dropout,\n",
    "            name='decoder_layer_{}'.format(i), )(inputs=[outputs, enc_outputs, look_ahead_mask, padding_mask])\n",
    "        \n",
    "    return tf.keras.Model(\n",
    "        inputs=[inputs, enc_outputs, look_ahead_mask, padding_mask],\n",
    "        outputs=outputs,\n",
    "        name=name)"
   ]
  },
  {
   "cell_type": "markdown",
   "id": "9863bd7f",
   "metadata": {},
   "source": [
    "- 앞서 사용한 인코더 층 함수와 디코더 층 함수를 사용해 트랜스포머 함수를 정의한다. "
   ]
  },
  {
   "cell_type": "code",
   "execution_count": 26,
   "id": "ace60e83",
   "metadata": {},
   "outputs": [],
   "source": [
    "def transformer(vocab_size, \n",
    "               num_layers,\n",
    "               units,\n",
    "               d_model,\n",
    "               num_heads,\n",
    "               dropout,\n",
    "               name=\"transformer\"):\n",
    "    inputs = tf.keras.Input(shape=(None,), name=\"inputs\")\n",
    "    dec_inputs = tf.keras.Input(shape=(None,), name=\"dec_inputs\")\n",
    "    \n",
    "    # 인코더에서 패딩을 위한 마스크\n",
    "    enc_padding_mask = tf.keras.layers.Lambda(\n",
    "        create_padding_mask, output_shape=(1, 1, None),\n",
    "        name='enc_padding_mask')(inputs)\n",
    "    \n",
    "    # 디코더에서 미래의 토큰을 마스크하기 위해 사용\n",
    "    # 내부적으로 패딩 마스크도 포함되어져 있다. \n",
    "    look_ahead_mask = tf.keras.layers.Lambda(\n",
    "        create_look_ahead_mask,\n",
    "        output_shape=(1, None, None),\n",
    "        name='look_ahead_mask')(dec_inputs)\n",
    "    \n",
    "    # 두 번째 어텐션 블록에서 인코더의 벡터들을 마스킹\n",
    "    # 디코더에서 패딩을 위한 마스크\n",
    "    dec_padding_mask = tf.keras.layers.Lambda(\n",
    "        create_padding_mask, output_shape=(1, 1, None),\n",
    "        name='dec_padding_mask')(inputs)\n",
    "    \n",
    "    # 인코더\n",
    "    enc_outputs = encoder(\n",
    "        vocab_size=vocab_size,\n",
    "        num_layers=num_layers,\n",
    "        units=units,\n",
    "        d_model=d_model,\n",
    "        num_heads=num_heads,\n",
    "        dropout=dropout,\n",
    "    )(inputs=[inputs, enc_padding_mask])\n",
    "    \n",
    "    # 디코더\n",
    "    dec_outputs = decoder(\n",
    "        vocab_size=vocab_size,\n",
    "        num_layers=num_layers,\n",
    "        units=units,\n",
    "        d_model=d_model,\n",
    "        num_heads=num_heads,\n",
    "        dropout=dropout,\n",
    "    )(inputs=[dec_inputs, enc_outputs, look_ahead_mask, dec_padding_mask])\n",
    "    \n",
    "    # 완전연결층\n",
    "    outputs = tf.keras.layers.Dense(units=vocab_size, name=\"outputs\")(dec_outputs)\n",
    "    \n",
    "    return tf.keras.Model(inputs=[inputs, dec_inputs], outputs=outputs, name=name)"
   ]
  },
  {
   "cell_type": "markdown",
   "id": "c270154b",
   "metadata": {},
   "source": [
    "### (1) 모델 생성\n",
    "- `num_layers`, `d_Model`, `units`는 전부 사용자가 정할 수 있는 하이퍼파라미터 값이다. \n",
    "- 논문에서 `num_layers`는 6, `d-Model`은 512였지만, 빠르고 원활한 훈련을 위해 여기서는 논문에서보다 작은 값을 사용한다. "
   ]
  },
  {
   "cell_type": "code",
   "execution_count": 27,
   "id": "36f9b600",
   "metadata": {},
   "outputs": [
    {
     "name": "stdout",
     "output_type": "stream",
     "text": [
      "Model: \"transformer\"\n",
      "__________________________________________________________________________________________________\n",
      "Layer (type)                    Output Shape         Param #     Connected to                     \n",
      "==================================================================================================\n",
      "inputs (InputLayer)             [(None, None)]       0                                            \n",
      "__________________________________________________________________________________________________\n",
      "dec_inputs (InputLayer)         [(None, None)]       0                                            \n",
      "__________________________________________________________________________________________________\n",
      "enc_padding_mask (Lambda)       (None, 1, 1, None)   0           inputs[0][0]                     \n",
      "__________________________________________________________________________________________________\n",
      "encoder (Functional)            (None, None, 512)    13642240    inputs[0][0]                     \n",
      "                                                                 enc_padding_mask[0][0]           \n",
      "__________________________________________________________________________________________________\n",
      "look_ahead_mask (Lambda)        (None, 1, None, None 0           dec_inputs[0][0]                 \n",
      "__________________________________________________________________________________________________\n",
      "dec_padding_mask (Lambda)       (None, 1, 1, None)   0           inputs[0][0]                     \n",
      "__________________________________________________________________________________________________\n",
      "decoder (Functional)            (None, None, 512)    19952128    dec_inputs[0][0]                 \n",
      "                                                                 encoder[0][0]                    \n",
      "                                                                 look_ahead_mask[0][0]            \n",
      "                                                                 dec_padding_mask[0][0]           \n",
      "__________________________________________________________________________________________________\n",
      "outputs (Dense)                 (None, None, 8153)   4182489     decoder[0][0]                    \n",
      "==================================================================================================\n",
      "Total params: 37,776,857\n",
      "Trainable params: 37,776,857\n",
      "Non-trainable params: 0\n",
      "__________________________________________________________________________________________________\n"
     ]
    }
   ],
   "source": [
    "tf.keras.backend.clear_session()\n",
    "\n",
    "# 하이퍼파라미터\n",
    "NUM_LAYERS = 6  # 인코더와 디코더 층의 개수\n",
    "D_MODEL = 512  # 인코더와 디코더 내부의 입, 출력의 고정 차원\n",
    "NUM_HEADS = 8  # 멀티 헤드 어텐션에서의 헤드 수\n",
    "UNITS = 512  # 피드 포워드 신경망의 은닉층의 크기\n",
    "DROPOUT = 0.1  # 드롭아웃의 비율\n",
    "\n",
    "model = transformer(\n",
    "    vocab_size=VOCAB_SIZE,\n",
    "    num_layers=NUM_LAYERS,\n",
    "    units=UNITS,\n",
    "    d_model=D_MODEL,\n",
    "    num_heads=NUM_HEADS,\n",
    "    dropout=DROPOUT)\n",
    "\n",
    "model.summary()"
   ]
  },
  {
   "cell_type": "markdown",
   "id": "ab9d8ab9",
   "metadata": {},
   "source": [
    "### (2) 손실 함수\n",
    "- 레이블인 시퀀스에 패딩이 되어 있기 때문에, loss를 계산할 때 패딩 마스크를 적용해야 한다. "
   ]
  },
  {
   "cell_type": "code",
   "execution_count": 28,
   "id": "7c457e95",
   "metadata": {},
   "outputs": [],
   "source": [
    "def loss_function(y_true, y_pred):\n",
    "    y_true = tf.reshape(y_true, shape=(-1, MAX_LENGTH - 1))\n",
    "    \n",
    "    loss = tf.keras.losses.SparseCategoricalCrossentropy(from_logits=True, reduction='none')(y_true, y_pred)\n",
    "    \n",
    "    mask = tf.cast(tf.not_equal(y_true, 0), tf.float32)\n",
    "    loss = tf.multiply(loss, mask)\n",
    "    \n",
    "    return tf.reduce_mean(loss)"
   ]
  },
  {
   "cell_type": "markdown",
   "id": "6f20c777",
   "metadata": {},
   "source": [
    "### (3) 커스텀된 학습률 (Learning rate)\n",
    "- 딥러닝 모델학습 시 learning rate는 매우 중요한 하이퍼파라미터다. 최근에는 모델학습 초기에 learning rate를 급격하게 높였다가 이후 train step이 진행됨에 따라 서서히 낮춰가면서 안정적으로 수렴하게 하는 고급 기법을 널리 사용하고 있다. 이런 방법을 커스텀 학습률 스케줄링이라고 한다. \n",
    "- 논문에 나온 공식을 참고해 커스텀 학습률 스케줄러를 통한 아담 옵티마이저를 사용한다. "
   ]
  },
  {
   "cell_type": "code",
   "execution_count": 29,
   "id": "2f4b8916",
   "metadata": {},
   "outputs": [],
   "source": [
    "class CustomSchedule(tf.keras.optimizers.schedules.LearningRateSchedule):\n",
    "    \n",
    "    def __init__(self, d_model, warmup_steps=4000):\n",
    "        super(CustomSchedule, self).__init__()\n",
    "        \n",
    "        self.d_model = d_model\n",
    "        self.d_model = tf.cast(self.d_model, tf.float32)\n",
    "        \n",
    "        self.warmup_steps = warmup_steps\n",
    "        \n",
    "    def __call__(self, step):\n",
    "        arg1 = tf.math.rsqrt(step)\n",
    "        arg2 = step * (self.warmup_steps**-1.5)\n",
    "        \n",
    "        return tf.math.rsqrt(self.d_model) * tf.math.minimum(arg1, arg2)"
   ]
  },
  {
   "cell_type": "markdown",
   "id": "8458d410",
   "metadata": {},
   "source": [
    "- 학습 초기에는 learning_rate가 step_num에 비례해서 증가하다가 이후로는 감소하는 것을 확인할 수 있다. "
   ]
  },
  {
   "cell_type": "code",
   "execution_count": 30,
   "id": "51123e4f",
   "metadata": {},
   "outputs": [
    {
     "data": {
      "text/plain": [
       "Text(0.5, 0, 'Train Step')"
      ]
     },
     "execution_count": 30,
     "metadata": {},
     "output_type": "execute_result"
    },
    {
     "data": {
      "image/png": "[encoded data removed]",
      "text/plain": [
       "<Figure size 432x288 with 1 Axes>"
      ]
     },
     "metadata": {
      "needs_background": "light"
     },
     "output_type": "display_data"
    }
   ],
   "source": [
    "sample_learning_rate = CustomSchedule(d_model=128)\n",
    "\n",
    "plt.plot(sample_learning_rate(tf.range(200000, dtype=tf.float32)))\n",
    "plt.ylabel(\"Learning Rate\")\n",
    "plt.xlabel(\"Train Step\")"
   ]
  },
  {
   "cell_type": "markdown",
   "id": "0dc6e5df",
   "metadata": {},
   "source": [
    "### (4) 모델 컴파일\n",
    "- 손실 함수와 커스텀된 학습률을 사용해 모델을 컴파일한다. "
   ]
  },
  {
   "cell_type": "code",
   "execution_count": 31,
   "id": "381a3a3f",
   "metadata": {},
   "outputs": [],
   "source": [
    "learning_rate = CustomSchedule(D_MODEL)\n",
    "\n",
    "optimizer = tf.keras.optimizers.Adam(learning_rate, beta_1=0.9, beta_2=0.98, epsilon=1e-9)\n",
    "\n",
    "def accuracy(y_true, y_pred):\n",
    "    y_true = tf.reshape(y_true, shape=(-1, MAX_LENGTH - 1))\n",
    "    return tf.keras.metrics.sparse_categorical_accuracy(y_true, y_pred)\n",
    "\n",
    "model.compile(optimizer=optimizer, loss=loss_function, metrics=[accuracy])"
   ]
  },
  {
   "cell_type": "code",
   "execution_count": 32,
   "id": "e37c3cbb",
   "metadata": {},
   "outputs": [
    {
     "name": "stdout",
     "output_type": "stream",
     "text": [
      "Epoch 1/100\n",
      "155/155 [==============================] - 30s 80ms/step - loss: 4.6468 - accuracy: 0.0966\n",
      "Epoch 2/100\n",
      "155/155 [==============================] - 12s 80ms/step - loss: 4.0737 - accuracy: 0.1111\n",
      "Epoch 3/100\n",
      "155/155 [==============================] - 12s 80ms/step - loss: 3.7428 - accuracy: 0.1128\n",
      "Epoch 4/100\n",
      "155/155 [==============================] - 12s 80ms/step - loss: 3.5732 - accuracy: 0.1179\n",
      "Epoch 5/100\n",
      "155/155 [==============================] - 12s 80ms/step - loss: 3.4664 - accuracy: 0.1238\n",
      "Epoch 6/100\n",
      "155/155 [==============================] - 12s 80ms/step - loss: 3.3717 - accuracy: 0.1278\n",
      "Epoch 7/100\n",
      "155/155 [==============================] - 12s 80ms/step - loss: 3.2399 - accuracy: 0.1377\n",
      "Epoch 8/100\n",
      "155/155 [==============================] - 12s 80ms/step - loss: 3.0660 - accuracy: 0.1496\n",
      "Epoch 9/100\n",
      "155/155 [==============================] - 12s 80ms/step - loss: 2.8552 - accuracy: 0.1641\n",
      "Epoch 10/100\n",
      "155/155 [==============================] - 12s 80ms/step - loss: 2.6184 - accuracy: 0.1845\n",
      "Epoch 11/100\n",
      "155/155 [==============================] - 12s 80ms/step - loss: 2.3646 - accuracy: 0.2084\n",
      "Epoch 12/100\n",
      "155/155 [==============================] - 12s 80ms/step - loss: 2.0989 - accuracy: 0.2386\n",
      "Epoch 13/100\n",
      "155/155 [==============================] - 12s 80ms/step - loss: 1.8325 - accuracy: 0.2711\n",
      "Epoch 14/100\n",
      "155/155 [==============================] - 12s 80ms/step - loss: 1.5790 - accuracy: 0.3039\n",
      "Epoch 15/100\n",
      "155/155 [==============================] - 12s 80ms/step - loss: 1.3396 - accuracy: 0.3394\n",
      "Epoch 16/100\n",
      "155/155 [==============================] - 12s 80ms/step - loss: 1.1196 - accuracy: 0.3735\n",
      "Epoch 17/100\n",
      "155/155 [==============================] - 12s 79ms/step - loss: 0.9297 - accuracy: 0.4013\n",
      "Epoch 18/100\n",
      "155/155 [==============================] - 12s 80ms/step - loss: 0.7796 - accuracy: 0.4249\n",
      "Epoch 19/100\n",
      "155/155 [==============================] - 12s 80ms/step - loss: 0.6552 - accuracy: 0.4444\n",
      "Epoch 20/100\n",
      "155/155 [==============================] - 12s 80ms/step - loss: 0.5628 - accuracy: 0.4595\n",
      "Epoch 21/100\n",
      "155/155 [==============================] - 12s 80ms/step - loss: 0.4914 - accuracy: 0.4721\n",
      "Epoch 22/100\n",
      "155/155 [==============================] - 12s 80ms/step - loss: 0.4390 - accuracy: 0.4800\n",
      "Epoch 23/100\n",
      "155/155 [==============================] - 12s 80ms/step - loss: 0.4078 - accuracy: 0.4851\n",
      "Epoch 24/100\n",
      "155/155 [==============================] - 12s 80ms/step - loss: 0.3834 - accuracy: 0.4888\n",
      "Epoch 25/100\n",
      "155/155 [==============================] - 12s 80ms/step - loss: 0.3709 - accuracy: 0.4911\n",
      "Epoch 26/100\n",
      "155/155 [==============================] - 12s 80ms/step - loss: 0.3449 - accuracy: 0.4962\n",
      "Epoch 27/100\n",
      "155/155 [==============================] - 12s 80ms/step - loss: 0.3319 - accuracy: 0.4981\n",
      "Epoch 28/100\n",
      "155/155 [==============================] - 12s 80ms/step - loss: 0.2834 - accuracy: 0.5101\n",
      "Epoch 29/100\n",
      "155/155 [==============================] - 12s 80ms/step - loss: 0.2568 - accuracy: 0.5163\n",
      "Epoch 30/100\n",
      "155/155 [==============================] - 12s 80ms/step - loss: 0.2313 - accuracy: 0.5232\n",
      "Epoch 31/100\n",
      "155/155 [==============================] - 12s 80ms/step - loss: 0.2089 - accuracy: 0.5286\n",
      "Epoch 32/100\n",
      "155/155 [==============================] - 12s 80ms/step - loss: 0.1883 - accuracy: 0.5339\n",
      "Epoch 33/100\n",
      "155/155 [==============================] - 12s 80ms/step - loss: 0.1761 - accuracy: 0.5368\n",
      "Epoch 34/100\n",
      "155/155 [==============================] - 12s 80ms/step - loss: 0.1619 - accuracy: 0.5402\n",
      "Epoch 35/100\n",
      "155/155 [==============================] - 12s 80ms/step - loss: 0.1521 - accuracy: 0.5430\n",
      "Epoch 36/100\n",
      "155/155 [==============================] - 12s 80ms/step - loss: 0.1323 - accuracy: 0.5476\n",
      "Epoch 37/100\n",
      "155/155 [==============================] - 12s 80ms/step - loss: 0.1339 - accuracy: 0.5478\n",
      "Epoch 38/100\n",
      "155/155 [==============================] - 12s 80ms/step - loss: 0.1165 - accuracy: 0.5515\n",
      "Epoch 39/100\n",
      "155/155 [==============================] - 12s 80ms/step - loss: 0.1125 - accuracy: 0.5532\n",
      "Epoch 40/100\n",
      "155/155 [==============================] - 12s 79ms/step - loss: 0.1011 - accuracy: 0.5561\n",
      "Epoch 41/100\n",
      "155/155 [==============================] - 12s 80ms/step - loss: 0.0999 - accuracy: 0.5567\n",
      "Epoch 42/100\n",
      "155/155 [==============================] - 12s 80ms/step - loss: 0.0939 - accuracy: 0.5578\n",
      "Epoch 43/100\n",
      "155/155 [==============================] - 12s 80ms/step - loss: 0.0911 - accuracy: 0.5590\n",
      "Epoch 44/100\n",
      "155/155 [==============================] - 12s 80ms/step - loss: 0.0802 - accuracy: 0.5613\n",
      "Epoch 45/100\n",
      "155/155 [==============================] - 12s 80ms/step - loss: 0.0805 - accuracy: 0.5615\n",
      "Epoch 46/100\n",
      "155/155 [==============================] - 12s 79ms/step - loss: 0.0793 - accuracy: 0.5621\n",
      "Epoch 47/100\n",
      "155/155 [==============================] - 12s 80ms/step - loss: 0.0674 - accuracy: 0.5651\n",
      "Epoch 48/100\n",
      "155/155 [==============================] - 12s 79ms/step - loss: 0.0677 - accuracy: 0.5648\n",
      "Epoch 49/100\n",
      "155/155 [==============================] - 13s 81ms/step - loss: 0.0608 - accuracy: 0.5673\n",
      "Epoch 50/100\n",
      "155/155 [==============================] - 13s 81ms/step - loss: 0.0644 - accuracy: 0.5657\n",
      "Epoch 51/100\n",
      "155/155 [==============================] - 12s 80ms/step - loss: 0.0599 - accuracy: 0.5668\n",
      "Epoch 52/100\n",
      "155/155 [==============================] - 12s 79ms/step - loss: 0.0554 - accuracy: 0.5682\n",
      "Epoch 53/100\n",
      "155/155 [==============================] - 12s 80ms/step - loss: 0.0536 - accuracy: 0.5689\n",
      "Epoch 54/100\n",
      "155/155 [==============================] - 12s 80ms/step - loss: 0.0521 - accuracy: 0.5690\n",
      "Epoch 55/100\n",
      "155/155 [==============================] - 12s 80ms/step - loss: 0.0512 - accuracy: 0.5692\n",
      "Epoch 56/100\n",
      "155/155 [==============================] - 12s 79ms/step - loss: 0.0504 - accuracy: 0.5692\n",
      "Epoch 57/100\n",
      "155/155 [==============================] - 12s 79ms/step - loss: 0.0480 - accuracy: 0.5702\n",
      "Epoch 58/100\n",
      "155/155 [==============================] - 12s 80ms/step - loss: 0.0467 - accuracy: 0.5705\n",
      "Epoch 59/100\n",
      "155/155 [==============================] - 12s 79ms/step - loss: 0.0437 - accuracy: 0.5713\n",
      "Epoch 60/100\n",
      "155/155 [==============================] - 12s 79ms/step - loss: 0.0418 - accuracy: 0.5719\n",
      "Epoch 61/100\n",
      "155/155 [==============================] - 12s 80ms/step - loss: 0.0401 - accuracy: 0.5723\n",
      "Epoch 62/100\n",
      "155/155 [==============================] - 12s 80ms/step - loss: 0.0424 - accuracy: 0.5716\n",
      "Epoch 63/100\n",
      "155/155 [==============================] - 12s 79ms/step - loss: 0.0470 - accuracy: 0.5708\n",
      "Epoch 64/100\n",
      "155/155 [==============================] - 12s 79ms/step - loss: 0.0341 - accuracy: 0.5736\n",
      "Epoch 65/100\n",
      "155/155 [==============================] - 12s 80ms/step - loss: 0.0370 - accuracy: 0.5731\n",
      "Epoch 66/100\n",
      "155/155 [==============================] - 12s 79ms/step - loss: 0.0423 - accuracy: 0.5724\n",
      "Epoch 67/100\n",
      "155/155 [==============================] - 12s 79ms/step - loss: 0.0359 - accuracy: 0.5732\n",
      "Epoch 68/100\n",
      "155/155 [==============================] - 12s 80ms/step - loss: 0.0322 - accuracy: 0.5743\n",
      "Epoch 69/100\n",
      "155/155 [==============================] - 12s 80ms/step - loss: 0.0324 - accuracy: 0.5742\n",
      "Epoch 70/100\n",
      "155/155 [==============================] - 12s 79ms/step - loss: 0.0317 - accuracy: 0.5742\n",
      "Epoch 71/100\n",
      "155/155 [==============================] - 12s 80ms/step - loss: 0.0309 - accuracy: 0.5746\n",
      "Epoch 72/100\n",
      "155/155 [==============================] - 12s 80ms/step - loss: 0.0300 - accuracy: 0.5748\n",
      "Epoch 73/100\n",
      "155/155 [==============================] - 12s 79ms/step - loss: 0.0309 - accuracy: 0.5747\n",
      "Epoch 74/100\n",
      "155/155 [==============================] - 12s 80ms/step - loss: 0.0283 - accuracy: 0.5754\n",
      "Epoch 75/100\n",
      "155/155 [==============================] - 12s 80ms/step - loss: 0.0290 - accuracy: 0.5751\n",
      "Epoch 76/100\n",
      "155/155 [==============================] - 12s 79ms/step - loss: 0.0305 - accuracy: 0.5745\n",
      "Epoch 77/100\n",
      "155/155 [==============================] - 12s 79ms/step - loss: 0.0279 - accuracy: 0.5752\n",
      "Epoch 78/100\n",
      "155/155 [==============================] - 12s 80ms/step - loss: 0.0263 - accuracy: 0.5759\n",
      "Epoch 79/100\n",
      "155/155 [==============================] - 12s 79ms/step - loss: 0.0266 - accuracy: 0.5756\n",
      "Epoch 80/100\n",
      "155/155 [==============================] - 12s 79ms/step - loss: 0.0266 - accuracy: 0.5758\n",
      "Epoch 81/100\n",
      "155/155 [==============================] - 12s 80ms/step - loss: 0.0258 - accuracy: 0.5755\n",
      "Epoch 82/100\n",
      "155/155 [==============================] - 12s 80ms/step - loss: 0.0247 - accuracy: 0.5763\n",
      "Epoch 83/100\n",
      "155/155 [==============================] - 12s 79ms/step - loss: 0.0252 - accuracy: 0.5757\n",
      "Epoch 84/100\n",
      "155/155 [==============================] - 12s 79ms/step - loss: 0.0242 - accuracy: 0.5763\n",
      "Epoch 85/100\n",
      "155/155 [==============================] - 12s 79ms/step - loss: 0.0261 - accuracy: 0.5760\n",
      "Epoch 86/100\n",
      "155/155 [==============================] - 12s 79ms/step - loss: 0.0233 - accuracy: 0.5765\n",
      "Epoch 87/100\n",
      "155/155 [==============================] - 12s 80ms/step - loss: 0.0224 - accuracy: 0.5767\n",
      "Epoch 88/100\n",
      "155/155 [==============================] - 12s 79ms/step - loss: 0.0231 - accuracy: 0.5768\n",
      "Epoch 89/100\n",
      "155/155 [==============================] - 12s 79ms/step - loss: 0.0228 - accuracy: 0.5764\n",
      "Epoch 90/100\n",
      "155/155 [==============================] - 12s 79ms/step - loss: 0.0214 - accuracy: 0.5769\n",
      "Epoch 91/100\n",
      "155/155 [==============================] - 12s 80ms/step - loss: 0.0227 - accuracy: 0.5764\n",
      "Epoch 92/100\n",
      "155/155 [==============================] - 12s 79ms/step - loss: 0.0200 - accuracy: 0.5773\n",
      "Epoch 93/100\n",
      "155/155 [==============================] - 12s 80ms/step - loss: 0.0210 - accuracy: 0.5772\n",
      "Epoch 94/100\n",
      "155/155 [==============================] - 12s 79ms/step - loss: 0.0212 - accuracy: 0.5767\n",
      "Epoch 95/100\n",
      "155/155 [==============================] - 12s 80ms/step - loss: 0.0208 - accuracy: 0.5770\n",
      "Epoch 96/100\n",
      "155/155 [==============================] - 12s 79ms/step - loss: 0.0196 - accuracy: 0.5771\n",
      "Epoch 97/100\n",
      "155/155 [==============================] - 12s 80ms/step - loss: 0.0203 - accuracy: 0.5771\n",
      "Epoch 98/100\n",
      "155/155 [==============================] - 12s 80ms/step - loss: 0.0206 - accuracy: 0.5772\n",
      "Epoch 99/100\n",
      "155/155 [==============================] - 12s 80ms/step - loss: 0.0189 - accuracy: 0.5774\n",
      "Epoch 100/100\n",
      "155/155 [==============================] - 13s 81ms/step - loss: 0.0200 - accuracy: 0.5772\n"
     ]
    },
    {
     "data": {
      "text/plain": [
       "<keras.callbacks.History at 0x7f6a66a0a7c0>"
      ]
     },
     "execution_count": 32,
     "metadata": {},
     "output_type": "execute_result"
    }
   ],
   "source": [
    "EPOCHS = 100\n",
    "model.fit(dataset, epochs=EPOCHS, verbose=1)"
   ]
  },
  {
   "cell_type": "markdown",
   "id": "20b7d963",
   "metadata": {},
   "source": [
    "## 4. 챗봇 테스트하기\n",
    "예측(inference) 단계는 기본적으로 다음 과정을 거친다. \n",
    "1. 새로운 입력 문장에 대해서는 훈련 때와 동일한 전처리를 거친다. \n",
    "2. 입력 문장을 토크나이징하고, `START_TOKEN`, `END_TOKEN`을 추가한다. \n",
    "3. 패딩 마스킹과 룩 어헤드 마스킹을 계산한다.\n",
    "4. 디코더는 입력 시퀀스로부터 다음 단어를 예측한다. \n",
    "5. 디코더는 예측된 다음 단어를 기존의 입력 시퀀스에 추가해 새로운 입력으로 사용한다. \n",
    "6. `END_TOKEN`이 예측되거나 문장의 최대 길이에 도달하면 디코더는 동작을 멈춘다.  \n",
    "\n",
    "위의 과정을 모두 담은 `decoder_inference()` 함수를 만든다"
   ]
  },
  {
   "cell_type": "code",
   "execution_count": 33,
   "id": "e7a20175",
   "metadata": {},
   "outputs": [],
   "source": [
    "def decoder_inference(sentence):\n",
    "    sentence = preprocess_sentence(sentence)\n",
    "    \n",
    "    # 입력된 문장을 정수 인코딩 후, 시작 토큰과 종료 토큰을 앞뒤로 추가\n",
    "    sentence = tf.expand_dims(START_TOKEN + tokenizer.encode(sentence) + END_TOKEN, axis=0)\n",
    "    \n",
    "    # 디코더의 현재까지의 예측한 출력 시퀀스가 지속적으로 저장되는 변수\n",
    "    # 처음에는 예측한 내용이 없으므로 시작 토큰만 별도 저장\n",
    "    output_sequence = tf.expand_dims(START_TOKEN, 0)\n",
    "    \n",
    "    # 디코더의 인퍼런스 단계\n",
    "    for i in range(MAX_LENGTH):\n",
    "        # 디코더는 최대 MAX_LENGTH의 길이만큼 다음 단어 예측을 반복한다. \n",
    "        predictions = model(inputs=[sentence, output_sequence], training=False)\n",
    "        predictions = predictions[:, -1:, :]\n",
    "        \n",
    "        # 현재 예측한 단어의 정수\n",
    "        predicted_id = tf.cast(tf.argmax(predictions, axis=-1), tf.int32)\n",
    "        \n",
    "        # 만약 현재 예측한 단어가 종료 토큰이라면 for문을 종료\n",
    "        if tf.equal(predicted_id, END_TOKEN[0]):\n",
    "            break\n",
    "        \n",
    "        # 예측한 단어들은 지속적으로 output_sequence에 추가된다. \n",
    "        # 이 output_sequence는 다시 디코더의 입력이 된다. \n",
    "        output_sequence = tf.concat([output_sequence, predicted_id], axis=-1)\n",
    "        \n",
    "    return tf.squeeze(output_sequence, axis=0)"
   ]
  },
  {
   "cell_type": "markdown",
   "id": "1b02647c",
   "metadata": {},
   "source": [
    "- 임의의 입력 문장에 대해서 `decoder_inference()` 함수를 호출해 챗봇의 대답을 얻는 `sentence_generation()` 함수를 만든다."
   ]
  },
  {
   "cell_type": "code",
   "execution_count": 34,
   "id": "b8a0d4e3",
   "metadata": {},
   "outputs": [],
   "source": [
    "def sentence_generation(sentence):\n",
    "    # 입력 문장에 대해서 디코더를 동작시켜 예측된 정수 시퀀스를 리턴받는다. \n",
    "    prediction = decoder_inference(sentence)\n",
    "    \n",
    "    # 정수 시퀀스를 다시 텍스트 시퀀스로 변환\n",
    "    predicted_sentence = tokenizer.decode([i for i in prediction if i < tokenizer.vocab_size])\n",
    "    \n",
    "    print('입력 : {}'.format(sentence))\n",
    "    print('출력 : {}'.format(predicted_sentence))\n",
    "    \n",
    "    return predicted_sentence"
   ]
  },
  {
   "cell_type": "code",
   "execution_count": 35,
   "id": "c6c47aa3",
   "metadata": {},
   "outputs": [
    {
     "name": "stdout",
     "output_type": "stream",
     "text": [
      "입력 : 쉽지 않아\n",
      "출력 : 수고 많았어요\n"
     ]
    },
    {
     "data": {
      "text/plain": [
       "'수고 많았어요'"
      ]
     },
     "execution_count": 35,
     "metadata": {},
     "output_type": "execute_result"
    }
   ],
   "source": [
    "sentence_generation('쉽지 않아')"
   ]
  },
  {
   "cell_type": "code",
   "execution_count": 36,
   "id": "d2215585",
   "metadata": {},
   "outputs": [
    {
     "name": "stdout",
     "output_type": "stream",
     "text": [
      "입력 : 이름이 뭐야\n",
      "출력 : 위로봇이요\n"
     ]
    },
    {
     "data": {
      "text/plain": [
       "'위로봇이요'"
      ]
     },
     "execution_count": 36,
     "metadata": {},
     "output_type": "execute_result"
    }
   ],
   "source": [
    "sentence_generation('이름이 뭐야')"
   ]
  },
  {
   "cell_type": "code",
   "execution_count": 37,
   "id": "dcf9f199",
   "metadata": {},
   "outputs": [
    {
     "name": "stdout",
     "output_type": "stream",
     "text": [
      "입력 : 아이펠\n",
      "출력 : 또 한잔 길 바랍니다\n"
     ]
    },
    {
     "data": {
      "text/plain": [
       "'또 한잔 길 바랍니다'"
      ]
     },
     "execution_count": 37,
     "metadata": {},
     "output_type": "execute_result"
    }
   ],
   "source": [
    "sentence_generation('아이펠')"
   ]
  },
  {
   "cell_type": "code",
   "execution_count": 38,
   "id": "a1365a2e",
   "metadata": {},
   "outputs": [
    {
     "name": "stdout",
     "output_type": "stream",
     "text": [
      "입력 : 으악\n",
      "출력 : 놀랐나봐요\n"
     ]
    },
    {
     "data": {
      "text/plain": [
       "'놀랐나봐요'"
      ]
     },
     "execution_count": 38,
     "metadata": {},
     "output_type": "execute_result"
    }
   ],
   "source": [
    "sentence_generation('으악')"
   ]
  },
  {
   "cell_type": "markdown",
   "id": "1654ec4f",
   "metadata": {},
   "source": [
    "## 5. 회고\n",
    "- 한국어 데이터를 형태소 분석기가 아니라 노드에서 사용한 `SubwordTextEncoder`를 그대로 사용했음에도 질문에 대해 꽤 괜찮은 답변을 주는 것이 신기했다. \n",
    "- 학습 시 accuarcy는 상당히 낮게 나오는데 비해서 챗봇의 결과는 꽤나 준수한 것 같다. 교사 강요라는 개념도 처음 본 것 같은데 신기했다. \n",
    "- 역시나 자연어 처리는 정규표현식을 이용한 전처리가 까다롭다는 것을 느꼈고, 트랜스포머의 구조에 대해 좀 자세히 알게 된 노드였던 것 같다. 인코더와 디코더, 포지셔널 인코딩, 어텐션, 마스킹 기법 등 차근차근 짚고 넘어갈 수 있어서 좋았다. 하지만 머리는... 아프다. \n",
    "- 추가 : 괜히 조금만 더 건드려보고 싶어서... `NUM_LAYER`를 4로, `EPOCHS`를 100으로 해서 돌려보니 accuracy가 0.1487에 수렴했고, 입력된 문장에 대한 예측 결과에는 큰 변화가 없었다. (아이펠이라는 말에 헛소리를 하는 것도!) 그래서 논문대로 한 번 더 돌려보기로 했다.  \n",
    "- 추가2 : 노드에서 언급한 논문과 같이 `NUM_LAYER`를 6으로, `D_MODEL`을 512로 해서 100 에폭을 돌렸는데 loss는 꾸준히 줄었고, accuracy는 앞 결과와 비슷하게 0.1482에 수렴했다. 아마 데이터셋이 단편적이라서 이 이상의 결과가 안 나오는건지... 의문이지만 단편적인 질문에 대한 답변은 꽤 그럴싸하다는 것을 알 수 있었다. \n",
    "- 추가3 : 이미 제출해놓고 계속 뭘 추가하고 있긴 한데... 사실 accuracy가 0.14 수준에서 계속 수렴하는 것이 뭔가 마음에 걸리던 중에 다현님의 프로젝트를 봤는데 문장 길이 제한을 기존 노드와 동일한 40으로만 돌린 나와는 다르게 데이터셋의 평균 문장 길이를 체크하고 문장 길이 제한을 10으로 바꾸셔서 accuracy가 0.6이 넘게 나오셨다! 데이터셋을 뜯어보고 그에 맞게 전처리하는 건 여러 노드를 통해 배운 사실인데도 간과하고 있었던 것이다. 다현님의 정보를 바탕으로 문장 길이 제한을 10으로 설정하니 accuracy가 0.577에 수렴했다! 주어진 데이터셋에 대해 파악하는 것을 잊지 말자! "
   ]
  }
 ],
 "metadata": {
  "kernelspec": {
   "display_name": "Python 3 (ipykernel)",
   "language": "python",
   "name": "python3"
  },
  "language_info": {
   "codemirror_mode": {
    "name": "ipython",
    "version": 3
   },
   "file_extension": ".py",
   "mimetype": "text/x-python",
   "name": "python",
   "nbconvert_exporter": "python",
   "pygments_lexer": "ipython3",
   "version": "3.9.7"
  }
 },
 "nbformat": 4,
 "nbformat_minor": 5
}

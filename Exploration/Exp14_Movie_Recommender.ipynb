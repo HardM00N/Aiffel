{
 "cells": [
  {
   "cell_type": "markdown",
   "id": "5896f538",
   "metadata": {},
   "source": [
    "# Exp14. 프로젝트 - Movielens 영화 추천 실습\n",
    "활용할 데이터셋은 추천 시스템의 MNIST라고 부를만한 Movielens 데이터다. \n",
    "- 유저가 영화에 대해 평점을 매긴 데이터가 데이터 크기 별로 있다. \n",
    "- 별점 데이터는 대표적인 explicit 데이터지만 implicit 데이터로 간주하고 테스트할 수 있다. \n",
    "- 별점을 시청횟수로 해석해서 생각하자. \n",
    "- 또한 유저가 3점 미만으로 준 데이터는 선호하지 않는다고 가정한다.  \n",
    "\n",
    "\n",
    "### 1) 데이터 준비와 전처리"
   ]
  },
  {
   "cell_type": "code",
   "execution_count": 1,
   "id": "3dcd37ca",
   "metadata": {},
   "outputs": [
    {
     "data": {
      "text/html": [
       "<div>\n",
       "<style scoped>\n",
       "    .dataframe tbody tr th:only-of-type {\n",
       "        vertical-align: middle;\n",
       "    }\n",
       "\n",
       "    .dataframe tbody tr th {\n",
       "        vertical-align: top;\n",
       "    }\n",
       "\n",
       "    .dataframe thead th {\n",
       "        text-align: right;\n",
       "    }\n",
       "</style>\n",
       "<table border=\"1\" class=\"dataframe\">\n",
       "  <thead>\n",
       "    <tr style=\"text-align: right;\">\n",
       "      <th></th>\n",
       "      <th>user_id</th>\n",
       "      <th>movie_id</th>\n",
       "      <th>ratings</th>\n",
       "      <th>timestamp</th>\n",
       "    </tr>\n",
       "  </thead>\n",
       "  <tbody>\n",
       "    <tr>\n",
       "      <th>0</th>\n",
       "      <td>1</td>\n",
       "      <td>1193</td>\n",
       "      <td>5</td>\n",
       "      <td>978300760</td>\n",
       "    </tr>\n",
       "    <tr>\n",
       "      <th>1</th>\n",
       "      <td>1</td>\n",
       "      <td>661</td>\n",
       "      <td>3</td>\n",
       "      <td>978302109</td>\n",
       "    </tr>\n",
       "    <tr>\n",
       "      <th>2</th>\n",
       "      <td>1</td>\n",
       "      <td>914</td>\n",
       "      <td>3</td>\n",
       "      <td>978301968</td>\n",
       "    </tr>\n",
       "    <tr>\n",
       "      <th>3</th>\n",
       "      <td>1</td>\n",
       "      <td>3408</td>\n",
       "      <td>4</td>\n",
       "      <td>978300275</td>\n",
       "    </tr>\n",
       "    <tr>\n",
       "      <th>4</th>\n",
       "      <td>1</td>\n",
       "      <td>2355</td>\n",
       "      <td>5</td>\n",
       "      <td>978824291</td>\n",
       "    </tr>\n",
       "  </tbody>\n",
       "</table>\n",
       "</div>"
      ],
      "text/plain": [
       "   user_id  movie_id  ratings  timestamp\n",
       "0        1      1193        5  978300760\n",
       "1        1       661        3  978302109\n",
       "2        1       914        3  978301968\n",
       "3        1      3408        4  978300275\n",
       "4        1      2355        5  978824291"
      ]
     },
     "execution_count": 1,
     "metadata": {},
     "output_type": "execute_result"
    }
   ],
   "source": [
    "import pandas as pd\n",
    "import os\n",
    "\n",
    "rating_file_path=os.getenv('HOME') + '/aiffel/recommendata_iu/data/ml-1m/ratings.dat'\n",
    "ratings_cols = ['user_id', 'movie_id', 'ratings', 'timestamp']\n",
    "ratings = pd.read_csv(rating_file_path, sep='::', names=ratings_cols, engine='python', encoding = \"ISO-8859-1\")\n",
    "orginal_data_size = len(ratings)\n",
    "ratings.head()"
   ]
  },
  {
   "cell_type": "code",
   "execution_count": 2,
   "id": "b52a3709",
   "metadata": {},
   "outputs": [
    {
     "name": "stdout",
     "output_type": "stream",
     "text": [
      "orginal_data_size: 1000209, filtered_data_size: 836478\n",
      "Ratio of Remaining Data is 83.63%\n"
     ]
    }
   ],
   "source": [
    "# 3점 이상만 남긴다. \n",
    "ratings = ratings[ratings['ratings']>=3]\n",
    "filtered_data_size = len(ratings)\n",
    "\n",
    "print(f'orginal_data_size: {orginal_data_size}, filtered_data_size: {filtered_data_size}')\n",
    "print(f'Ratio of Remaining Data is {filtered_data_size / orginal_data_size:.2%}')"
   ]
  },
  {
   "cell_type": "code",
   "execution_count": 3,
   "id": "f92dbff0",
   "metadata": {},
   "outputs": [],
   "source": [
    "# ratings 컬럼의 이름을 counts로 바꾼다.\n",
    "ratings.rename(columns={'ratings':'counts'}, inplace=True)"
   ]
  },
  {
   "cell_type": "code",
   "execution_count": 4,
   "id": "cc654481",
   "metadata": {},
   "outputs": [
    {
     "data": {
      "text/plain": [
       "0          5\n",
       "1          3\n",
       "2          3\n",
       "3          4\n",
       "4          5\n",
       "          ..\n",
       "1000203    3\n",
       "1000205    5\n",
       "1000206    5\n",
       "1000207    4\n",
       "1000208    4\n",
       "Name: counts, Length: 836478, dtype: int64"
      ]
     },
     "execution_count": 4,
     "metadata": {},
     "output_type": "execute_result"
    }
   ],
   "source": [
    "ratings['counts']"
   ]
  },
  {
   "cell_type": "code",
   "execution_count": 5,
   "id": "ecaa8a7e",
   "metadata": {},
   "outputs": [
    {
     "data": {
      "text/html": [
       "<div>\n",
       "<style scoped>\n",
       "    .dataframe tbody tr th:only-of-type {\n",
       "        vertical-align: middle;\n",
       "    }\n",
       "\n",
       "    .dataframe tbody tr th {\n",
       "        vertical-align: top;\n",
       "    }\n",
       "\n",
       "    .dataframe thead th {\n",
       "        text-align: right;\n",
       "    }\n",
       "</style>\n",
       "<table border=\"1\" class=\"dataframe\">\n",
       "  <thead>\n",
       "    <tr style=\"text-align: right;\">\n",
       "      <th></th>\n",
       "      <th>movie_id</th>\n",
       "      <th>title</th>\n",
       "      <th>genre</th>\n",
       "    </tr>\n",
       "  </thead>\n",
       "  <tbody>\n",
       "    <tr>\n",
       "      <th>0</th>\n",
       "      <td>1</td>\n",
       "      <td>Toy Story (1995)</td>\n",
       "      <td>Animation|Children's|Comedy</td>\n",
       "    </tr>\n",
       "    <tr>\n",
       "      <th>1</th>\n",
       "      <td>2</td>\n",
       "      <td>Jumanji (1995)</td>\n",
       "      <td>Adventure|Children's|Fantasy</td>\n",
       "    </tr>\n",
       "    <tr>\n",
       "      <th>2</th>\n",
       "      <td>3</td>\n",
       "      <td>Grumpier Old Men (1995)</td>\n",
       "      <td>Comedy|Romance</td>\n",
       "    </tr>\n",
       "    <tr>\n",
       "      <th>3</th>\n",
       "      <td>4</td>\n",
       "      <td>Waiting to Exhale (1995)</td>\n",
       "      <td>Comedy|Drama</td>\n",
       "    </tr>\n",
       "    <tr>\n",
       "      <th>4</th>\n",
       "      <td>5</td>\n",
       "      <td>Father of the Bride Part II (1995)</td>\n",
       "      <td>Comedy</td>\n",
       "    </tr>\n",
       "  </tbody>\n",
       "</table>\n",
       "</div>"
      ],
      "text/plain": [
       "   movie_id                               title                         genre\n",
       "0         1                    Toy Story (1995)   Animation|Children's|Comedy\n",
       "1         2                      Jumanji (1995)  Adventure|Children's|Fantasy\n",
       "2         3             Grumpier Old Men (1995)                Comedy|Romance\n",
       "3         4            Waiting to Exhale (1995)                  Comedy|Drama\n",
       "4         5  Father of the Bride Part II (1995)                        Comedy"
      ]
     },
     "execution_count": 5,
     "metadata": {},
     "output_type": "execute_result"
    }
   ],
   "source": [
    "# 영화 제목을 보기 위해 메타 데이터를 로드\n",
    "movie_file_path=os.getenv('HOME') + '/aiffel/recommendata_iu/data/ml-1m/movies.dat'\n",
    "cols = ['movie_id', 'title', 'genre'] \n",
    "movies = pd.read_csv(movie_file_path, sep='::', names=cols, engine='python', encoding='ISO-8859-1')\n",
    "movies.head()"
   ]
  },
  {
   "cell_type": "code",
   "execution_count": 6,
   "id": "b6a0a559",
   "metadata": {},
   "outputs": [],
   "source": [
    "data = pd.merge(ratings, movies)"
   ]
  },
  {
   "cell_type": "markdown",
   "id": "bbcb2f01",
   "metadata": {},
   "source": [
    "- ratings와 movies에 모두 movie_id가 있기 때문에 이를 기준으로 두 데이터프레임을 합쳤다(merge). "
   ]
  },
  {
   "cell_type": "code",
   "execution_count": 7,
   "id": "78febd9c",
   "metadata": {},
   "outputs": [
    {
     "data": {
      "text/html": [
       "<div>\n",
       "<style scoped>\n",
       "    .dataframe tbody tr th:only-of-type {\n",
       "        vertical-align: middle;\n",
       "    }\n",
       "\n",
       "    .dataframe tbody tr th {\n",
       "        vertical-align: top;\n",
       "    }\n",
       "\n",
       "    .dataframe thead th {\n",
       "        text-align: right;\n",
       "    }\n",
       "</style>\n",
       "<table border=\"1\" class=\"dataframe\">\n",
       "  <thead>\n",
       "    <tr style=\"text-align: right;\">\n",
       "      <th></th>\n",
       "      <th>user_id</th>\n",
       "      <th>movie_id</th>\n",
       "      <th>counts</th>\n",
       "      <th>timestamp</th>\n",
       "      <th>title</th>\n",
       "      <th>genre</th>\n",
       "    </tr>\n",
       "  </thead>\n",
       "  <tbody>\n",
       "    <tr>\n",
       "      <th>0</th>\n",
       "      <td>1</td>\n",
       "      <td>1193</td>\n",
       "      <td>5</td>\n",
       "      <td>978300760</td>\n",
       "      <td>One Flew Over the Cuckoo's Nest (1975)</td>\n",
       "      <td>Drama</td>\n",
       "    </tr>\n",
       "    <tr>\n",
       "      <th>1</th>\n",
       "      <td>2</td>\n",
       "      <td>1193</td>\n",
       "      <td>5</td>\n",
       "      <td>978298413</td>\n",
       "      <td>One Flew Over the Cuckoo's Nest (1975)</td>\n",
       "      <td>Drama</td>\n",
       "    </tr>\n",
       "    <tr>\n",
       "      <th>2</th>\n",
       "      <td>12</td>\n",
       "      <td>1193</td>\n",
       "      <td>4</td>\n",
       "      <td>978220179</td>\n",
       "      <td>One Flew Over the Cuckoo's Nest (1975)</td>\n",
       "      <td>Drama</td>\n",
       "    </tr>\n",
       "    <tr>\n",
       "      <th>3</th>\n",
       "      <td>15</td>\n",
       "      <td>1193</td>\n",
       "      <td>4</td>\n",
       "      <td>978199279</td>\n",
       "      <td>One Flew Over the Cuckoo's Nest (1975)</td>\n",
       "      <td>Drama</td>\n",
       "    </tr>\n",
       "    <tr>\n",
       "      <th>4</th>\n",
       "      <td>17</td>\n",
       "      <td>1193</td>\n",
       "      <td>5</td>\n",
       "      <td>978158471</td>\n",
       "      <td>One Flew Over the Cuckoo's Nest (1975)</td>\n",
       "      <td>Drama</td>\n",
       "    </tr>\n",
       "  </tbody>\n",
       "</table>\n",
       "</div>"
      ],
      "text/plain": [
       "   user_id  movie_id  counts  timestamp  \\\n",
       "0        1      1193       5  978300760   \n",
       "1        2      1193       5  978298413   \n",
       "2       12      1193       4  978220179   \n",
       "3       15      1193       4  978199279   \n",
       "4       17      1193       5  978158471   \n",
       "\n",
       "                                    title  genre  \n",
       "0  One Flew Over the Cuckoo's Nest (1975)  Drama  \n",
       "1  One Flew Over the Cuckoo's Nest (1975)  Drama  \n",
       "2  One Flew Over the Cuckoo's Nest (1975)  Drama  \n",
       "3  One Flew Over the Cuckoo's Nest (1975)  Drama  \n",
       "4  One Flew Over the Cuckoo's Nest (1975)  Drama  "
      ]
     },
     "execution_count": 7,
     "metadata": {},
     "output_type": "execute_result"
    }
   ],
   "source": [
    "data.head()"
   ]
  },
  {
   "cell_type": "code",
   "execution_count": 8,
   "id": "6dcc3190",
   "metadata": {},
   "outputs": [
    {
     "data": {
      "text/html": [
       "<div>\n",
       "<style scoped>\n",
       "    .dataframe tbody tr th:only-of-type {\n",
       "        vertical-align: middle;\n",
       "    }\n",
       "\n",
       "    .dataframe tbody tr th {\n",
       "        vertical-align: top;\n",
       "    }\n",
       "\n",
       "    .dataframe thead th {\n",
       "        text-align: right;\n",
       "    }\n",
       "</style>\n",
       "<table border=\"1\" class=\"dataframe\">\n",
       "  <thead>\n",
       "    <tr style=\"text-align: right;\">\n",
       "      <th></th>\n",
       "      <th>user_id</th>\n",
       "      <th>title</th>\n",
       "      <th>counts</th>\n",
       "    </tr>\n",
       "  </thead>\n",
       "  <tbody>\n",
       "    <tr>\n",
       "      <th>0</th>\n",
       "      <td>1</td>\n",
       "      <td>One Flew Over the Cuckoo's Nest (1975)</td>\n",
       "      <td>5</td>\n",
       "    </tr>\n",
       "    <tr>\n",
       "      <th>1</th>\n",
       "      <td>2</td>\n",
       "      <td>One Flew Over the Cuckoo's Nest (1975)</td>\n",
       "      <td>5</td>\n",
       "    </tr>\n",
       "    <tr>\n",
       "      <th>2</th>\n",
       "      <td>12</td>\n",
       "      <td>One Flew Over the Cuckoo's Nest (1975)</td>\n",
       "      <td>4</td>\n",
       "    </tr>\n",
       "    <tr>\n",
       "      <th>3</th>\n",
       "      <td>15</td>\n",
       "      <td>One Flew Over the Cuckoo's Nest (1975)</td>\n",
       "      <td>4</td>\n",
       "    </tr>\n",
       "    <tr>\n",
       "      <th>4</th>\n",
       "      <td>17</td>\n",
       "      <td>One Flew Over the Cuckoo's Nest (1975)</td>\n",
       "      <td>5</td>\n",
       "    </tr>\n",
       "    <tr>\n",
       "      <th>5</th>\n",
       "      <td>18</td>\n",
       "      <td>One Flew Over the Cuckoo's Nest (1975)</td>\n",
       "      <td>4</td>\n",
       "    </tr>\n",
       "    <tr>\n",
       "      <th>6</th>\n",
       "      <td>19</td>\n",
       "      <td>One Flew Over the Cuckoo's Nest (1975)</td>\n",
       "      <td>5</td>\n",
       "    </tr>\n",
       "    <tr>\n",
       "      <th>7</th>\n",
       "      <td>24</td>\n",
       "      <td>One Flew Over the Cuckoo's Nest (1975)</td>\n",
       "      <td>5</td>\n",
       "    </tr>\n",
       "    <tr>\n",
       "      <th>8</th>\n",
       "      <td>28</td>\n",
       "      <td>One Flew Over the Cuckoo's Nest (1975)</td>\n",
       "      <td>3</td>\n",
       "    </tr>\n",
       "    <tr>\n",
       "      <th>9</th>\n",
       "      <td>33</td>\n",
       "      <td>One Flew Over the Cuckoo's Nest (1975)</td>\n",
       "      <td>5</td>\n",
       "    </tr>\n",
       "  </tbody>\n",
       "</table>\n",
       "</div>"
      ],
      "text/plain": [
       "   user_id                                   title  counts\n",
       "0        1  One Flew Over the Cuckoo's Nest (1975)       5\n",
       "1        2  One Flew Over the Cuckoo's Nest (1975)       5\n",
       "2       12  One Flew Over the Cuckoo's Nest (1975)       4\n",
       "3       15  One Flew Over the Cuckoo's Nest (1975)       4\n",
       "4       17  One Flew Over the Cuckoo's Nest (1975)       5\n",
       "5       18  One Flew Over the Cuckoo's Nest (1975)       4\n",
       "6       19  One Flew Over the Cuckoo's Nest (1975)       5\n",
       "7       24  One Flew Over the Cuckoo's Nest (1975)       5\n",
       "8       28  One Flew Over the Cuckoo's Nest (1975)       3\n",
       "9       33  One Flew Over the Cuckoo's Nest (1975)       5"
      ]
     },
     "execution_count": 8,
     "metadata": {},
     "output_type": "execute_result"
    }
   ],
   "source": [
    "using_cols = ['user_id', 'title', 'counts']\n",
    "data = data[using_cols]\n",
    "data.head(10)"
   ]
  },
  {
   "cell_type": "markdown",
   "id": "f2b58abc",
   "metadata": {},
   "source": [
    "- 필요한 컬럼만 남기고 제거했다. "
   ]
  },
  {
   "cell_type": "markdown",
   "id": "5f798d90",
   "metadata": {},
   "source": [
    "### 2) 데이터 탐색"
   ]
  },
  {
   "cell_type": "code",
   "execution_count": 9,
   "id": "53f9327d",
   "metadata": {},
   "outputs": [
    {
     "data": {
      "text/plain": [
       "3628"
      ]
     },
     "execution_count": 9,
     "metadata": {},
     "output_type": "execute_result"
    }
   ],
   "source": [
    "# data에 있는 유니크한 영화 개수\n",
    "data['title'].nunique()"
   ]
  },
  {
   "cell_type": "code",
   "execution_count": 10,
   "id": "85ffdbfd",
   "metadata": {},
   "outputs": [
    {
     "data": {
      "text/plain": [
       "6039"
      ]
     },
     "execution_count": 10,
     "metadata": {},
     "output_type": "execute_result"
    }
   ],
   "source": [
    "# data에 있는 유니크한 사용자 수\n",
    "data['user_id'].nunique()"
   ]
  },
  {
   "cell_type": "code",
   "execution_count": 11,
   "id": "edb8ceca",
   "metadata": {},
   "outputs": [
    {
     "data": {
      "text/plain": [
       "title\n",
       "American Beauty (1999)                                   3211\n",
       "Star Wars: Episode IV - A New Hope (1977)                2910\n",
       "Star Wars: Episode V - The Empire Strikes Back (1980)    2885\n",
       "Star Wars: Episode VI - Return of the Jedi (1983)        2716\n",
       "Saving Private Ryan (1998)                               2561\n",
       "Terminator 2: Judgment Day (1991)                        2509\n",
       "Silence of the Lambs, The (1991)                         2498\n",
       "Raiders of the Lost Ark (1981)                           2473\n",
       "Back to the Future (1985)                                2460\n",
       "Matrix, The (1999)                                       2434\n",
       "Jurassic Park (1993)                                     2413\n",
       "Sixth Sense, The (1999)                                  2385\n",
       "Fargo (1996)                                             2371\n",
       "Braveheart (1995)                                        2314\n",
       "Men in Black (1997)                                      2297\n",
       "Schindler's List (1993)                                  2257\n",
       "Princess Bride, The (1987)                               2252\n",
       "Shakespeare in Love (1998)                               2213\n",
       "L.A. Confidential (1997)                                 2210\n",
       "Shawshank Redemption, The (1994)                         2194\n",
       "Godfather, The (1972)                                    2167\n",
       "Groundhog Day (1993)                                     2121\n",
       "E.T. the Extra-Terrestrial (1982)                        2102\n",
       "Being John Malkovich (1999)                              2066\n",
       "Ghostbusters (1984)                                      2051\n",
       "Pulp Fiction (1994)                                      2030\n",
       "Forrest Gump (1994)                                      2022\n",
       "Terminator, The (1984)                                   2019\n",
       "Toy Story (1995)                                         2000\n",
       "Fugitive, The (1993)                                     1941\n",
       "Name: user_id, dtype: int64"
      ]
     },
     "execution_count": 11,
     "metadata": {},
     "output_type": "execute_result"
    }
   ],
   "source": [
    "# 가장 인기 있는 영화 30개(인기순)\n",
    "title_count = data.groupby('title')['user_id'].count()\n",
    "title_count.sort_values(ascending=False).head(30)"
   ]
  },
  {
   "cell_type": "code",
   "execution_count": 12,
   "id": "a57bb47b",
   "metadata": {},
   "outputs": [
    {
     "data": {
      "text/plain": [
       "count    6039.000000\n",
       "mean      138.512668\n",
       "std       156.241599\n",
       "min         1.000000\n",
       "25%        38.000000\n",
       "50%        81.000000\n",
       "75%       177.000000\n",
       "max      1968.000000\n",
       "Name: title, dtype: float64"
      ]
     },
     "execution_count": 12,
     "metadata": {},
     "output_type": "execute_result"
    }
   ],
   "source": [
    "# 사용자 별 몇 개의 영화를 봤는지에 대한 통계\n",
    "user_count = data.groupby('user_id')['title'].count()\n",
    "user_count.describe()"
   ]
  },
  {
   "cell_type": "markdown",
   "id": "821d36f6",
   "metadata": {},
   "source": [
    "### 3) 내가 선호하는 영화 5가지 골라서 data에 추가"
   ]
  },
  {
   "cell_type": "code",
   "execution_count": 13,
   "id": "1586590c",
   "metadata": {},
   "outputs": [
    {
     "data": {
      "text/html": [
       "<div>\n",
       "<style scoped>\n",
       "    .dataframe tbody tr th:only-of-type {\n",
       "        vertical-align: middle;\n",
       "    }\n",
       "\n",
       "    .dataframe tbody tr th {\n",
       "        vertical-align: top;\n",
       "    }\n",
       "\n",
       "    .dataframe thead th {\n",
       "        text-align: right;\n",
       "    }\n",
       "</style>\n",
       "<table border=\"1\" class=\"dataframe\">\n",
       "  <thead>\n",
       "    <tr style=\"text-align: right;\">\n",
       "      <th></th>\n",
       "      <th>user_id</th>\n",
       "      <th>title</th>\n",
       "      <th>counts</th>\n",
       "    </tr>\n",
       "  </thead>\n",
       "  <tbody>\n",
       "    <tr>\n",
       "      <th>836473</th>\n",
       "      <td>5851</td>\n",
       "      <td>One Little Indian (1973)</td>\n",
       "      <td>5</td>\n",
       "    </tr>\n",
       "    <tr>\n",
       "      <th>836474</th>\n",
       "      <td>5854</td>\n",
       "      <td>Slaughterhouse (1987)</td>\n",
       "      <td>4</td>\n",
       "    </tr>\n",
       "    <tr>\n",
       "      <th>836475</th>\n",
       "      <td>5854</td>\n",
       "      <td>Promise, The (Versprechen, Das) (1994)</td>\n",
       "      <td>3</td>\n",
       "    </tr>\n",
       "    <tr>\n",
       "      <th>836476</th>\n",
       "      <td>5938</td>\n",
       "      <td>Five Wives, Three Secretaries and Me (1998)</td>\n",
       "      <td>4</td>\n",
       "    </tr>\n",
       "    <tr>\n",
       "      <th>836477</th>\n",
       "      <td>5948</td>\n",
       "      <td>Identification of a Woman (Identificazione di ...</td>\n",
       "      <td>5</td>\n",
       "    </tr>\n",
       "    <tr>\n",
       "      <th>0</th>\n",
       "      <td>jaehyun</td>\n",
       "      <td>Toy Story (1995)</td>\n",
       "      <td>5</td>\n",
       "    </tr>\n",
       "    <tr>\n",
       "      <th>1</th>\n",
       "      <td>jaehyun</td>\n",
       "      <td>Matrix, The (1999)</td>\n",
       "      <td>5</td>\n",
       "    </tr>\n",
       "    <tr>\n",
       "      <th>2</th>\n",
       "      <td>jaehyun</td>\n",
       "      <td>Terminator 2: Judgment Day (1991)</td>\n",
       "      <td>5</td>\n",
       "    </tr>\n",
       "    <tr>\n",
       "      <th>3</th>\n",
       "      <td>jaehyun</td>\n",
       "      <td>Terminator, The (1984)</td>\n",
       "      <td>5</td>\n",
       "    </tr>\n",
       "    <tr>\n",
       "      <th>4</th>\n",
       "      <td>jaehyun</td>\n",
       "      <td>Jurassic Park (1993)</td>\n",
       "      <td>5</td>\n",
       "    </tr>\n",
       "  </tbody>\n",
       "</table>\n",
       "</div>"
      ],
      "text/plain": [
       "        user_id                                              title  counts\n",
       "836473     5851                           One Little Indian (1973)       5\n",
       "836474     5854                              Slaughterhouse (1987)       4\n",
       "836475     5854             Promise, The (Versprechen, Das) (1994)       3\n",
       "836476     5938        Five Wives, Three Secretaries and Me (1998)       4\n",
       "836477     5948  Identification of a Woman (Identificazione di ...       5\n",
       "0       jaehyun                                   Toy Story (1995)       5\n",
       "1       jaehyun                                 Matrix, The (1999)       5\n",
       "2       jaehyun                  Terminator 2: Judgment Day (1991)       5\n",
       "3       jaehyun                             Terminator, The (1984)       5\n",
       "4       jaehyun                               Jurassic Park (1993)       5"
      ]
     },
     "execution_count": 13,
     "metadata": {},
     "output_type": "execute_result"
    }
   ],
   "source": [
    "my_favorite = ['Toy Story (1995)' , 'Matrix, The (1999)' ,'Terminator 2: Judgment Day (1991)' ,'Terminator, The (1984)' ,'Jurassic Park (1993)']\n",
    "\n",
    "# 'jaehyun'이라는 user_id가 위 영화를 5번씩 봤다고 가정 (평점을 횟수로 가정했으므로)\n",
    "my_playlist = pd.DataFrame({'user_id':['jaehyun']*5, 'title':my_favorite, 'counts':[5]*5})\n",
    "\n",
    "if not data.isin({'user_id':['jaehyun']})['user_id'].any():  # user_id에 'zimin'이라는 데이터가 없다면 위에 임의로 만든 데이터 추가\n",
    "    data = data.append(my_playlist)\n",
    "    \n",
    "data.tail(10)  # 잘 추가되었는지 확인"
   ]
  },
  {
   "cell_type": "code",
   "execution_count": 14,
   "id": "d985c6e8",
   "metadata": {},
   "outputs": [],
   "source": [
    "# 고유한 유저, 영화를 찾아내는 코드\n",
    "user_unique = data['user_id'].unique()\n",
    "title_unique = data['title'].unique()\n",
    "\n",
    "# 유저, 영화 indexing하는 코드\n",
    "user_to_idx = {v:k for k, v in enumerate(user_unique)}\n",
    "title_to_idx = {v:k for k, v in enumerate(title_unique)}"
   ]
  },
  {
   "cell_type": "code",
   "execution_count": 15,
   "id": "f279fb43",
   "metadata": {},
   "outputs": [
    {
     "name": "stdout",
     "output_type": "stream",
     "text": [
      "6039\n",
      "40\n"
     ]
    }
   ],
   "source": [
    "# 인덱싱이 잘 되었는지 확인\n",
    "print(user_to_idx['jaehyun'])  # 6040명의 유저 중 마지막으로 추가된 유저라서 6039이 나와야 한다. \n",
    "print(title_to_idx['Toy Story (1995)'])"
   ]
  },
  {
   "cell_type": "code",
   "execution_count": 16,
   "id": "63512661",
   "metadata": {},
   "outputs": [
    {
     "name": "stdout",
     "output_type": "stream",
     "text": [
      "user_id column indexing OK!!\n",
      "title column indexing OK!!\n"
     ]
    },
    {
     "data": {
      "text/html": [
       "<div>\n",
       "<style scoped>\n",
       "    .dataframe tbody tr th:only-of-type {\n",
       "        vertical-align: middle;\n",
       "    }\n",
       "\n",
       "    .dataframe tbody tr th {\n",
       "        vertical-align: top;\n",
       "    }\n",
       "\n",
       "    .dataframe thead th {\n",
       "        text-align: right;\n",
       "    }\n",
       "</style>\n",
       "<table border=\"1\" class=\"dataframe\">\n",
       "  <thead>\n",
       "    <tr style=\"text-align: right;\">\n",
       "      <th></th>\n",
       "      <th>user_id</th>\n",
       "      <th>title</th>\n",
       "      <th>counts</th>\n",
       "    </tr>\n",
       "  </thead>\n",
       "  <tbody>\n",
       "    <tr>\n",
       "      <th>0</th>\n",
       "      <td>0</td>\n",
       "      <td>0</td>\n",
       "      <td>5</td>\n",
       "    </tr>\n",
       "    <tr>\n",
       "      <th>1</th>\n",
       "      <td>1</td>\n",
       "      <td>0</td>\n",
       "      <td>5</td>\n",
       "    </tr>\n",
       "    <tr>\n",
       "      <th>2</th>\n",
       "      <td>2</td>\n",
       "      <td>0</td>\n",
       "      <td>4</td>\n",
       "    </tr>\n",
       "    <tr>\n",
       "      <th>3</th>\n",
       "      <td>3</td>\n",
       "      <td>0</td>\n",
       "      <td>4</td>\n",
       "    </tr>\n",
       "    <tr>\n",
       "      <th>4</th>\n",
       "      <td>4</td>\n",
       "      <td>0</td>\n",
       "      <td>5</td>\n",
       "    </tr>\n",
       "    <tr>\n",
       "      <th>...</th>\n",
       "      <td>...</td>\n",
       "      <td>...</td>\n",
       "      <td>...</td>\n",
       "    </tr>\n",
       "    <tr>\n",
       "      <th>0</th>\n",
       "      <td>6039</td>\n",
       "      <td>40</td>\n",
       "      <td>5</td>\n",
       "    </tr>\n",
       "    <tr>\n",
       "      <th>1</th>\n",
       "      <td>6039</td>\n",
       "      <td>124</td>\n",
       "      <td>5</td>\n",
       "    </tr>\n",
       "    <tr>\n",
       "      <th>2</th>\n",
       "      <td>6039</td>\n",
       "      <td>92</td>\n",
       "      <td>5</td>\n",
       "    </tr>\n",
       "    <tr>\n",
       "      <th>3</th>\n",
       "      <td>6039</td>\n",
       "      <td>200</td>\n",
       "      <td>5</td>\n",
       "    </tr>\n",
       "    <tr>\n",
       "      <th>4</th>\n",
       "      <td>6039</td>\n",
       "      <td>107</td>\n",
       "      <td>5</td>\n",
       "    </tr>\n",
       "  </tbody>\n",
       "</table>\n",
       "<p>836483 rows × 3 columns</p>\n",
       "</div>"
      ],
      "text/plain": [
       "    user_id  title  counts\n",
       "0         0      0       5\n",
       "1         1      0       5\n",
       "2         2      0       4\n",
       "3         3      0       4\n",
       "4         4      0       5\n",
       "..      ...    ...     ...\n",
       "0      6039     40       5\n",
       "1      6039    124       5\n",
       "2      6039     92       5\n",
       "3      6039    200       5\n",
       "4      6039    107       5\n",
       "\n",
       "[836483 rows x 3 columns]"
      ]
     },
     "execution_count": 16,
     "metadata": {},
     "output_type": "execute_result"
    }
   ],
   "source": [
    "# indexing을 통해 데이터 컬럼 내 값을 바꾸는 코드\n",
    "# dictionary 자료형의 get 함수는 https://wikidocs.net/16 참고\n",
    "\n",
    "# user_to_idx.get을 통해 user_id 컬럼의 모든 값을 인덱싱한 Series를 구해보자. \n",
    "# 혹시 정상적으로 인덱싱되지 않은 row가 있다면 인덱스가 NaN이 될테니 dropna()로 제거\n",
    "temp_user_data = data['user_id'].map(user_to_idx.get).dropna()\n",
    "if len(temp_user_data) == len(data):  # 모든 row가 정상적으로 인덱싱되었다면\n",
    "    print('user_id column indexing OK!!')\n",
    "    data['user_id'] = temp_user_data\n",
    "else:\n",
    "    print('user_id column indexing Fail!!')\n",
    "    \n",
    "# title_to_idx를 통해 artist 컬럼도 동일한 방식으로 인덱싱\n",
    "temp_title_data = data['title'].map(title_to_idx.get).dropna()\n",
    "if len(temp_title_data) == len(data):\n",
    "    print('title column indexing OK!!')\n",
    "    data['title'] = temp_title_data\n",
    "else:\n",
    "    print('title column indexing Fail!!')\n",
    "\n",
    "data"
   ]
  },
  {
   "cell_type": "markdown",
   "id": "a96321f0",
   "metadata": {},
   "source": [
    "### 4) CSR matrix 생성"
   ]
  },
  {
   "cell_type": "code",
   "execution_count": 17,
   "id": "f9a7b2e6",
   "metadata": {},
   "outputs": [
    {
     "data": {
      "text/plain": [
       "<6040x3628 sparse matrix of type '<class 'numpy.int64'>'\n",
       "\twith 836483 stored elements in Compressed Sparse Row format>"
      ]
     },
     "execution_count": 17,
     "metadata": {},
     "output_type": "execute_result"
    }
   ],
   "source": [
    "from scipy.sparse import csr_matrix\n",
    "\n",
    "num_user = data['user_id'].nunique()\n",
    "num_title = data['title'].nunique()\n",
    "\n",
    "csr_data = csr_matrix((data.counts, (data.user_id, data.title)), shape=(num_user, num_title))\n",
    "csr_data"
   ]
  },
  {
   "cell_type": "markdown",
   "id": "eba6cf52",
   "metadata": {},
   "source": [
    "### 5) MF 모델 학습하기\n",
    "- `implicit` 패키지는 암묵적 데이터셋을 사용하는 다양한 모델을 굉장히 빠르게 학습할 수 있는 패키지다. \n",
    "- 이 패키지에 구현된 `als(AlternatingLeastSquares)` 모델을 사용해보자. MF에서 쪼개진 두 Feature Matrix를 한꺼번에 훈련하는 것은 잘 수렴하지 않기 때문에, 한 쪽을 고정시키고 다른 쪽을 학습하는 방식을 번갈아 수행하는 als방식이 효과적인 것으로 알려져 있다. "
   ]
  },
  {
   "cell_type": "code",
   "execution_count": 18,
   "id": "2a481ff4",
   "metadata": {},
   "outputs": [],
   "source": [
    "from implicit.als import AlternatingLeastSquares\n",
    "import os\n",
    "import numpy as np\n",
    "\n",
    "# implicit 라이브러리에서 권장하고 있는 부분으로, 학습 내용과는 무관\n",
    "os.environ['OPENBLAS_NUM_THREADS']='1'\n",
    "os.environ['KMP_DUPLICATE_LIB_OK']='True'\n",
    "os.environ['MKL_NUM_THREADS']='1'"
   ]
  },
  {
   "cell_type": "markdown",
   "id": "a1369d01",
   "metadata": {},
   "source": [
    "- AlternatingLeastSquares 클래스의 __init__ 파라미터를 살펴보자. \n",
    "1. factors : 유저와 아이템의 벡터를 몇 차원으로 할 것인지\n",
    "2. regularization : 과적합을 방지하기 위해 정규화 값을 얼마나 사용할 것인지\n",
    "3. use_gpu : GPU를 사용할 것인지\n",
    "4. iterations : epochs와 같은 의미다. 데이터를 몇 번 반복해서 학습할 것인지  \n",
    "\n",
    "- 1과 4를 늘릴수록 학습 데이터를 잘 학습하게 되지만 과적합의 우려가 있으니 좋은 값을 찾아야 한다. "
   ]
  },
  {
   "cell_type": "code",
   "execution_count": 19,
   "id": "7449913c",
   "metadata": {},
   "outputs": [],
   "source": [
    "# Implicit AlternatingLeastSquares 모델의 선언\n",
    "als_model = AlternatingLeastSquares(factors=100, regularization=0.01, use_gpu=False, iterations=20, dtype=np.float32)"
   ]
  },
  {
   "cell_type": "code",
   "execution_count": 20,
   "id": "448098e8",
   "metadata": {},
   "outputs": [
    {
     "data": {
      "text/plain": [
       "<3628x6040 sparse matrix of type '<class 'numpy.int64'>'\n",
       "\twith 836483 stored elements in Compressed Sparse Column format>"
      ]
     },
     "execution_count": 20,
     "metadata": {},
     "output_type": "execute_result"
    }
   ],
   "source": [
    "# als 모델은 input으로 (item X user 꼴의 matrix를 받기 때문에 Transpose)\n",
    "csr_data_transpose = csr_data.T\n",
    "csr_data_transpose"
   ]
  },
  {
   "cell_type": "code",
   "execution_count": 21,
   "id": "d63e95a3",
   "metadata": {},
   "outputs": [
    {
     "data": {
      "application/vnd.jupyter.widget-view+json": {
       "model_id": "d5459ff9e7b342f49a7ef0d9cb8a272b",
       "version_major": 2,
       "version_minor": 0
      },
      "text/plain": [
       "  0%|          | 0/20 [00:00<?, ?it/s]"
      ]
     },
     "metadata": {},
     "output_type": "display_data"
    }
   ],
   "source": [
    "als_model.fit(csr_data_transpose)"
   ]
  },
  {
   "cell_type": "markdown",
   "id": "4b7abf24",
   "metadata": {},
   "source": [
    "### 6) 내가 선호하는 5가지 영화 중 하나와 그 외의 영화 하나를 골라 훈련된 모델이 예측한 나의 선호도 파악"
   ]
  },
  {
   "cell_type": "markdown",
   "id": "3a4fa6cc",
   "metadata": {},
   "source": [
    "- 모델 학습이 끝났으므로 2가지 사항을 살펴보자. \n",
    "1. jaehyun 벡터와 Toy Story (1995)의 벡터를 어떻게 만들고 있는지\n",
    "2. 두 벡터를 곱하면 어떤 값이 나오는지"
   ]
  },
  {
   "cell_type": "code",
   "execution_count": 22,
   "id": "d36183e7",
   "metadata": {},
   "outputs": [],
   "source": [
    "jaehyun, toy_story_1995 = user_to_idx['jaehyun'], title_to_idx['Toy Story (1995)']\n",
    "jaehyun_vector, toy_story_1995_vector = als_model.user_factors[jaehyun], als_model.item_factors[toy_story_1995]"
   ]
  },
  {
   "cell_type": "code",
   "execution_count": 23,
   "id": "e8998434",
   "metadata": {},
   "outputs": [
    {
     "data": {
      "text/plain": [
       "array([-1.2295958 , -0.33232802, -0.1341222 , -0.51456434,  0.446458  ,\n",
       "        0.07728854,  0.19096981,  0.65385157, -0.82453454,  0.71519434,\n",
       "       -0.12251413, -0.11275071,  0.36444226,  0.50490475,  0.6683688 ,\n",
       "       -0.32655227, -0.6728536 ,  1.1542741 ,  0.04124462, -0.77027273,\n",
       "       -0.02716425,  0.1099931 , -0.6147232 ,  0.0828746 ,  0.64688456,\n",
       "        0.35055864,  0.3766285 ,  0.23233193,  0.06284525, -0.23516467,\n",
       "        0.5978214 , -0.6419357 , -0.28120074, -0.15911227,  0.39324695,\n",
       "       -0.43254915,  0.16430049,  0.48797932,  0.46321246, -0.3702417 ,\n",
       "       -0.15652081, -0.44176415,  0.13537045,  0.06016988,  0.7090349 ,\n",
       "       -0.41191006,  0.03849759, -0.04041364,  1.3893045 ,  0.48429835,\n",
       "        0.09625688,  0.71751046, -0.59683144,  0.5296188 , -0.5248479 ,\n",
       "       -1.3163904 ,  0.76440775,  0.48095474, -0.551583  ,  0.77972794,\n",
       "       -0.05015115, -0.44759622, -0.14093708,  0.18343073, -0.3837355 ,\n",
       "       -0.16270131, -0.747808  ,  0.3343634 , -0.8574335 , -0.36128476,\n",
       "       -0.06320006,  0.0547608 , -0.04672621, -0.1981291 ,  0.0763532 ,\n",
       "        0.8549163 , -0.5897839 , -0.04299664,  0.70116496,  0.72234994,\n",
       "       -0.18438284,  0.53968346,  0.21202837,  0.7293287 , -0.56446964,\n",
       "       -0.24017039,  0.09562625, -0.10419789,  0.2893489 , -0.07515393,\n",
       "        0.15333411, -0.6870388 , -0.44965082, -0.13773552, -0.09783667,\n",
       "        0.5122525 , -0.2698851 ,  0.53790045, -0.4707056 , -0.12306836],\n",
       "      dtype=float32)"
      ]
     },
     "execution_count": 23,
     "metadata": {},
     "output_type": "execute_result"
    }
   ],
   "source": [
    "jaehyun_vector"
   ]
  },
  {
   "cell_type": "code",
   "execution_count": 24,
   "id": "539a475b",
   "metadata": {},
   "outputs": [
    {
     "data": {
      "text/plain": [
       "array([-0.03450963,  0.02754663, -0.02215889, -0.01894817,  0.01973913,\n",
       "        0.04939866,  0.00467446, -0.00506493,  0.00509344,  0.0312742 ,\n",
       "       -0.00685987, -0.01076658,  0.00126015,  0.02765311, -0.01722812,\n",
       "       -0.01300864,  0.00076677,  0.04138676,  0.00355085,  0.00894081,\n",
       "       -0.00299128,  0.03839055, -0.02913265, -0.004687  ,  0.01742247,\n",
       "        0.03866908, -0.01784724,  0.00717229, -0.00098376, -0.00197393,\n",
       "       -0.00039604,  0.00240511,  0.02697414, -0.01266019,  0.02379697,\n",
       "       -0.02108619,  0.02743129,  0.01960642,  0.0238733 , -0.01354972,\n",
       "       -0.03264422,  0.02450228,  0.0167331 , -0.02692762,  0.03442114,\n",
       "       -0.00638786,  0.02010877, -0.00185093,  0.04940748,  0.0099962 ,\n",
       "        0.01840177,  0.01714633,  0.01856813,  0.01280127,  0.00913653,\n",
       "       -0.01288868, -0.00680634,  0.00517803, -0.00948341, -0.01136119,\n",
       "       -0.00943058, -0.00313953,  0.0292283 ,  0.00972348, -0.01435679,\n",
       "        0.00336093,  0.01338369,  0.01476686, -0.02647845, -0.02868697,\n",
       "       -0.00097654, -0.02363322,  0.00210486, -0.01178403,  0.01570191,\n",
       "        0.04653587, -0.01147365,  0.00650688,  0.00773921,  0.00390488,\n",
       "        0.01313042,  0.01149749,  0.04469773,  0.02982426, -0.00842924,\n",
       "       -0.005755  ,  0.03236305, -0.01797151,  0.02254348, -0.01370248,\n",
       "       -0.00825708, -0.00031761,  0.01533559,  0.00126249,  0.01733191,\n",
       "        0.02016195, -0.00064151,  0.03096258,  0.02189858, -0.04633989],\n",
       "      dtype=float32)"
      ]
     },
     "execution_count": 24,
     "metadata": {},
     "output_type": "execute_result"
    }
   ],
   "source": [
    "toy_story_1995_vector"
   ]
  },
  {
   "cell_type": "code",
   "execution_count": 25,
   "id": "c94098ec",
   "metadata": {},
   "outputs": [
    {
     "data": {
      "text/plain": [
       "0.4749143"
      ]
     },
     "execution_count": 25,
     "metadata": {},
     "output_type": "execute_result"
    }
   ],
   "source": [
    "# jaehyun과 toy_story_1995를 내적하는 코드\n",
    "np.dot(jaehyun_vector, toy_story_1995_vector)"
   ]
  },
  {
   "cell_type": "markdown",
   "id": "2a08d117",
   "metadata": {},
   "source": [
    "- 1이 나와야 할 것 같은데 한참 낮은 수치가 나왔다. factors를 늘리거나 iterations를 늘려야 할 것 같다.\n",
    "- 이 두 수치를 늘려 1에 가깝게 나왔다하더라도 이 모델이 잘 학습되었다고는 확신할 수 없다. \n",
    "- 학습 데이터에 대해서 fitting은 되었지만 아직 보지 못한 데이터에 대한 검증이 이루어지지 않았기 때문이다. "
   ]
  },
  {
   "cell_type": "code",
   "execution_count": 26,
   "id": "9fe3917d",
   "metadata": {},
   "outputs": [
    {
     "data": {
      "text/plain": [
       "0.0069319387"
      ]
     },
     "execution_count": 26,
     "metadata": {},
     "output_type": "execute_result"
    }
   ],
   "source": [
    "schindler = title_to_idx['Schindler\\'s List (1993)']\n",
    "schindler_vector = als_model.item_factors[schindler]\n",
    "np.dot(jaehyun_vector, schindler_vector)"
   ]
  },
  {
   "cell_type": "markdown",
   "id": "29c96dc9",
   "metadata": {},
   "source": [
    "- 그렇다면 한 번도 본 적 없는 Schindler's List (1993)에 대한 예측을 어떻게 해석해야 할까? \n",
    "- 사용자와 영화 벡터 내적이 0.5를 기준으로 그보다 높으면 모델이 선호한다고 판단했다고 할 수 있을까?\n",
    "- 모델은 만드는 사람이 정하기 나름이라고 한다. 객관적인 지표를 만들어 기준을 정할 수도, 도메인 경험을 통해 정할 수도 있고 한다. (도메인 경험이라니.. 오..) \n",
    "- 추천 시스템은 다른 머신러닝 task보다 객관적인 평가가 어려운 분야다. (사람을 도통 알 수 없기 때문에...) "
   ]
  },
  {
   "cell_type": "markdown",
   "id": "72c68fea",
   "metadata": {},
   "source": [
    "### 7) 내가 좋아하는 영화와 비슷한 영화 추천받기\n",
    "- `AlternatingLeastSquares` 클래스에 구현되어 있는 `similar_items` 메서드를 통해 비슷한 영화를 찾는다."
   ]
  },
  {
   "cell_type": "code",
   "execution_count": 27,
   "id": "5fcac26c",
   "metadata": {},
   "outputs": [
    {
     "data": {
      "text/plain": [
       "[(40, 1.0),\n",
       " (50, 0.79038316),\n",
       " (33, 0.58450556),\n",
       " (322, 0.57963395),\n",
       " (4, 0.56650674),\n",
       " (110, 0.5385301),\n",
       " (330, 0.46631473),\n",
       " (10, 0.43585706),\n",
       " (20, 0.43047625),\n",
       " (160, 0.4059132),\n",
       " (255, 0.38720405),\n",
       " (32, 0.35368198),\n",
       " (34, 0.3503908),\n",
       " (126, 0.32902256),\n",
       " (16, 0.3266439)]"
      ]
     },
     "execution_count": 27,
     "metadata": {},
     "output_type": "execute_result"
    }
   ],
   "source": [
    "favorite_title = 'Toy Story (1995)'\n",
    "title_id = title_to_idx[favorite_title]\n",
    "similar_title = als_model.similar_items(title_id, N=15)\n",
    "similar_title"
   ]
  },
  {
   "cell_type": "markdown",
   "id": "f7e2c3c7",
   "metadata": {},
   "source": [
    "- (아티스트의 id, 유사도)를 튜플로 반환하고 있다. 이를 다시 아티스트의 이름으로 매핑하자. "
   ]
  },
  {
   "cell_type": "code",
   "execution_count": 28,
   "id": "0fa46d0b",
   "metadata": {},
   "outputs": [
    {
     "data": {
      "text/plain": [
       "['Toy Story (1995)',\n",
       " 'Toy Story 2 (1999)',\n",
       " 'Aladdin (1992)',\n",
       " 'Babe (1995)',\n",
       " \"Bug's Life, A (1998)\",\n",
       " 'Groundhog Day (1993)',\n",
       " 'Lion King, The (1994)',\n",
       " 'Beauty and the Beast (1991)',\n",
       " 'Pleasantville (1998)',\n",
       " 'Forrest Gump (1994)',\n",
       " \"There's Something About Mary (1998)\",\n",
       " 'Hercules (1997)',\n",
       " 'Mulan (1998)',\n",
       " 'Shakespeare in Love (1998)',\n",
       " 'Tarzan (1999)']"
      ]
     },
     "execution_count": 28,
     "metadata": {},
     "output_type": "execute_result"
    }
   ],
   "source": [
    "#artist_to_idx 를 뒤집어, index로부터 artist 이름을 얻는 dict를 생성\n",
    "idx_to_title = {v:k for k,v in title_to_idx.items()}\n",
    "[idx_to_title[i[0]] for i in similar_title]"
   ]
  },
  {
   "cell_type": "markdown",
   "id": "d8611e8d",
   "metadata": {},
   "source": [
    "- 오... 토이 스토리 1편을 좋아한다고 했더니 유사한 영화로 토이 스토리 2편과 알라딘, 라이온 킹, 미녀와 야수 등 내가 좋아하는 디즈니 영화를 추천해준다. \n",
    "- iteration을 20으로만 학습했는데도 이런 결과가 나오다니 놀랍다. \n",
    "- 몇 번 더 반복하기 위해서 위의 코드를 함수화하자. "
   ]
  },
  {
   "cell_type": "code",
   "execution_count": 29,
   "id": "a2553c0c",
   "metadata": {},
   "outputs": [],
   "source": [
    "# 몇 번 더 반복해서 확인하기 위해 위의 코드 함수화\n",
    "def get_similar_title(title_name: str):\n",
    "    title_id = title_to_idx[title_name]\n",
    "    similar_title = als_model.similar_items(title_id)\n",
    "    similar_title = [idx_to_title[i[0]] for i in similar_title]\n",
    "    return similar_title"
   ]
  },
  {
   "cell_type": "code",
   "execution_count": 30,
   "id": "803e9128",
   "metadata": {},
   "outputs": [
    {
     "data": {
      "text/plain": [
       "['Terminator 2: Judgment Day (1991)',\n",
       " 'Matrix, The (1999)',\n",
       " 'Jurassic Park (1993)',\n",
       " 'Total Recall (1990)',\n",
       " 'Men in Black (1997)',\n",
       " 'Terminator, The (1984)',\n",
       " 'Braveheart (1995)',\n",
       " 'Fugitive, The (1993)',\n",
       " 'Schlafes Bruder (Brother of Sleep) (1995)',\n",
       " 'Hunt for Red October, The (1990)']"
      ]
     },
     "execution_count": 30,
     "metadata": {},
     "output_type": "execute_result"
    }
   ],
   "source": [
    "get_similar_title('Terminator 2: Judgment Day (1991)')"
   ]
  },
  {
   "cell_type": "markdown",
   "id": "ad4ffcb3",
   "metadata": {},
   "source": [
    "- 터미네이터 2를 좋아한다고 했더니 비슷한 SF 장르의 매트릭스, 쥬라기 공원, 맨 인 블랙 등을 추천해준다. 오..."
   ]
  },
  {
   "cell_type": "markdown",
   "id": "756664b0",
   "metadata": {},
   "source": [
    "### 8) 내가 좋아할만한 영화 추천받기\n",
    "- 마찬가지로 `AlternatingLeastSquares` 클래스에 구현되어 있는 `recommend` 메서드를 통해 좋아할만한 영화를 추천받는다. \n",
    "- `filter_already_liked_items`는 유저가 이미 평가한 아이템은 제외하는 Argument다. "
   ]
  },
  {
   "cell_type": "code",
   "execution_count": 31,
   "id": "6a05e7ed",
   "metadata": {},
   "outputs": [
    {
     "data": {
      "text/plain": [
       "[(175, 0.52369),\n",
       " (62, 0.5060674),\n",
       " (141, 0.3838625),\n",
       " (50, 0.3625343),\n",
       " (193, 0.28902286),\n",
       " (651, 0.28434318),\n",
       " (87, 0.269706),\n",
       " (38, 0.266284),\n",
       " (145, 0.263461),\n",
       " (44, 0.26289064),\n",
       " (22, 0.25830975),\n",
       " (317, 0.24959642),\n",
       " (117, 0.2443867),\n",
       " (75, 0.23911306),\n",
       " (110, 0.23157875),\n",
       " (64, 0.22202893),\n",
       " (160, 0.22021887),\n",
       " (33, 0.21436659),\n",
       " (685, 0.21374087),\n",
       " (4, 0.20895371)]"
      ]
     },
     "execution_count": 31,
     "metadata": {},
     "output_type": "execute_result"
    }
   ],
   "source": [
    "user = user_to_idx['jaehyun']\n",
    "# recommend에서는 user*item CSR Matrix를 받는다. \n",
    "title_recommended = als_model.recommend(user, csr_data, N=20, filter_already_liked_items=True)\n",
    "title_recommended"
   ]
  },
  {
   "cell_type": "code",
   "execution_count": 32,
   "id": "8ad3f18e",
   "metadata": {},
   "outputs": [
    {
     "data": {
      "text/plain": [
       "['Men in Black (1997)',\n",
       " 'Total Recall (1990)',\n",
       " 'Fugitive, The (1993)',\n",
       " 'Toy Story 2 (1999)',\n",
       " 'Alien (1979)',\n",
       " 'Aliens (1986)',\n",
       " 'Braveheart (1995)',\n",
       " 'Sixth Sense, The (1999)',\n",
       " 'Fifth Element, The (1997)',\n",
       " 'Star Wars: Episode IV - A New Hope (1977)',\n",
       " 'Back to the Future (1985)',\n",
       " 'Twelve Monkeys (1995)',\n",
       " 'Star Wars: Episode V - The Empire Strikes Back (1980)',\n",
       " 'Hunt for Red October, The (1990)',\n",
       " 'Groundhog Day (1993)',\n",
       " 'Star Wars: Episode VI - Return of the Jedi (1983)',\n",
       " 'Forrest Gump (1994)',\n",
       " 'Aladdin (1992)',\n",
       " 'Planet of the Apes (1968)',\n",
       " \"Bug's Life, A (1998)\"]"
      ]
     },
     "execution_count": 32,
     "metadata": {},
     "output_type": "execute_result"
    }
   ],
   "source": [
    "[idx_to_title[i[0]] for i in title_recommended]"
   ]
  },
  {
   "cell_type": "markdown",
   "id": "5c95634d",
   "metadata": {},
   "source": [
    "- `explain` 메서드로 이 추천에 기여한 정도를 확인할 수 있다. "
   ]
  },
  {
   "cell_type": "code",
   "execution_count": 33,
   "id": "935bd37a",
   "metadata": {},
   "outputs": [],
   "source": [
    "men_in_black = title_to_idx['Men in Black (1997)']\n",
    "explain = als_model.explain(user, csr_data, itemid=men_in_black)"
   ]
  },
  {
   "cell_type": "code",
   "execution_count": 34,
   "id": "b27762c2",
   "metadata": {},
   "outputs": [
    {
     "data": {
      "text/plain": [
       "[('Jurassic Park (1993)', 0.2987027463523288),\n",
       " ('Terminator 2: Judgment Day (1991)', 0.16590494240730191),\n",
       " ('Matrix, The (1999)', 0.0854461558579209),\n",
       " ('Toy Story (1995)', -0.006612910632082382),\n",
       " ('Terminator, The (1984)', -0.027657065635481634)]"
      ]
     },
     "execution_count": 34,
     "metadata": {},
     "output_type": "execute_result"
    }
   ],
   "source": [
    "[(idx_to_title[i[0]], i[1]) for i in explain[1]]"
   ]
  },
  {
   "cell_type": "markdown",
   "id": "3f8f3cc1",
   "metadata": {},
   "source": [
    "### 회고\n",
    "- 추천 시스템은 어제 Fundamentals 노드로 처음 접했는데, 다음 날인 오늘 바로 추천 시스템 프로젝트가 나와서 MF 모델에 대해 좀 더 공부할 수 있었다. \n",
    "- 데이터 전처리나 모델링 등 전체적인 흐름은 노드의 그것을 따라갔는데, iteration을 20으로 꽤나 간단하고 빠르게 학습한 것 치고는 내가 좋아할만한 영화나 내가 선호하는 5가지 영화에 기반해 비슷한 영화를 추천해주는 것이 꽤나 취향과 비슷해서 신기했다. \n",
    "- 이번 프로젝트는 explicit한 별점 데이터를 implicit한 데이터로 간주하고 테스트했는데, 실제로는 explicit한 데이터를 모으는 것보다 implicit한 데이터를 모으는 것이 더 수월하지 않나싶다. 나만 하더라도 영화를 엄청 좋아하고 봤던 영화를 여러 번 볼 정도로 영화를 즐겨 보지만 정작 넷플릭스나 왓챠 같은 OTT 플랫폼에서 내가 본 영화에 대해 평가를 한 적은 거의 없는 것 같다. 그래서...? 뭔가 사용자 본인도 모르게 암묵적으로 제공되는 데이터를 기반으로 추천을 하는게 데이터 수집 면에서??? 좀 더 수월하지 않을까 싶다. \n",
    "- 여기선 영화의 장르나 감독 등 다른 요인들에 대해서는 다루지 않았지만 이러저러한 추가적인 요인들에 기반해 추천을 한다면 좀 더 추천의 정확도를 높일 수 있지 않나 생각한다."
   ]
  }
 ],
 "metadata": {
  "kernelspec": {
   "display_name": "Python 3 (ipykernel)",
   "language": "python",
   "name": "python3"
  },
  "language_info": {
   "codemirror_mode": {
    "name": "ipython",
    "version": 3
   },
   "file_extension": ".py",
   "mimetype": "text/x-python",
   "name": "python",
   "nbconvert_exporter": "python",
   "pygments_lexer": "ipython3",
   "version": "3.9.7"
  }
 },
 "nbformat": 4,
 "nbformat_minor": 5
}

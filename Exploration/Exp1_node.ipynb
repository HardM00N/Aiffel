{
  "nbformat": 4,
  "nbformat_minor": 0,
  "metadata": {
    "colab": {
      "name": "AIFFEL EXP1 인공지능과 가위바위보.ipynb",
      "provenance": [],
      "collapsed_sections": []
    },
    "kernelspec": {
      "name": "python3",
      "display_name": "Python 3"
    },
    "language_info": {
      "name": "python"
    },
    "accelerator": "GPU"
  },
  "cells": [
    {
      "cell_type": "markdown",
      "source": [
        "## 데이터 준비\n",
        "### MNIST 숫자 손글씨 Dataset 불러오기\n",
        "\n",
        "텐서플로우(TensorFlow)의 표준 API인 `tf.kreas`의 Sequential API를 이용해 숫자 손글씨 만들어보자.\n",
        "\n",
        ">구글에서 오픈소스로 제공하는 텐서플로우는 가장 널리 사용되는 머신러닝 라이브러리 중 하나이다. (여기서는 Tensorflow 2.4.1을 사용한다)"
      ],
      "metadata": {
        "id": "f-IxRW8yIUC4"
      }
    },
    {
      "cell_type": "code",
      "source": [
        "import tensorflow as tf\n",
        "from tensorflow import keras\n",
        "\n",
        "import numpy as np\n",
        "import matplotlib.pyplot as plt\n",
        "import os\n",
        "\n",
        "print(tf.__version__) # tensorflow 버전 출력\n",
        "\n",
        "mnist = keras.datasets.mnist\n",
        "\n",
        "# MNIST 데이터를 로드. 다운로드하지 않았다면 다운로드까지 자동 진행.\n",
        "(x_train, y_train), (x_test, y_test) = mnist.load_data()\n",
        "\n",
        "print(len(x_train)) # x_train 배열의 크기를 출력"
      ],
      "metadata": {
        "colab": {
          "base_uri": "https://localhost:8080/"
        },
        "id": "Ko0V1FLlJDTJ",
        "outputId": "6c3ff58d-d17f-4d00-ed39-06476486b059"
      },
      "execution_count": 1,
      "outputs": [
        {
          "output_type": "stream",
          "name": "stdout",
          "text": [
            "2.7.0\n",
            "Downloading data from https://storage.googleapis.com/tensorflow/tf-keras-datasets/mnist.npz\n",
            "11493376/11490434 [==============================] - 0s 0us/step\n",
            "11501568/11490434 [==============================] - 0s 0us/step\n",
            "60000\n"
          ]
        }
      ]
    },
    {
      "cell_type": "markdown",
      "source": [
        "위 코드를 실행하면 숫자 손글씨 데이터베이스인 MNIST 데이터셋을 읽을 수 있다.\n",
        "- MNIST 데이터셋은 Yann Lecun 교수님이 공개한 데이터이다. [참고문헌](http://yann.lecun.com/exdb/mnist/)\n",
        "- 28x28 사이즈의 숫자 손글씨 이미지로, 250여명의 손글씨가 포함된 60000장의 training set와 10000장의 test set로 구성된다."
      ],
      "metadata": {
        "id": "XVEyCNgpJv9j"
      }
    },
    {
      "cell_type": "code",
      "source": [
        "# 불러들인 숫자 손글씨 이미지 하나 출력\n",
        "# MNIST 데이터셋의 X 항목(x_train, x_test)은 이미지 데이터를 담은 행렬(matrix)\n",
        "plt.imshow(x_train[1], cmap=plt.cm.binary)\n",
        "plt.show()"
      ],
      "metadata": {
        "colab": {
          "base_uri": "https://localhost:8080/",
          "height": 265
        },
        "id": "qfVKv80CLqkM",
        "outputId": "b6623bb4-dcd2-42a1-bb63-25c8964f19e7"
      },
      "execution_count": 2,
      "outputs": [
        {
          "output_type": "display_data",
          "data": {
            "image/png": "[encoded data removed]",
            "text/plain": [
              "<Figure size 432x288 with 1 Axes>"
            ]
          },
          "metadata": {
            "needs_background": "light"
          }
        }
      ]
    },
    {
      "cell_type": "code",
      "source": [
        "# y_train 행렬의 2번째 값을 확인해보면  X 항목에 들어있는 이미지에 대응하는 실제 숫자 값이 담겨있음을 알 수 있다.\n",
        "print(y_train[1])"
      ],
      "metadata": {
        "id": "cM1JEfCclgIm",
        "colab": {
          "base_uri": "https://localhost:8080/"
        },
        "outputId": "a3045fae-cb08-43f1-9ea3-96694e97e835"
      },
      "execution_count": 3,
      "outputs": [
        {
          "output_type": "stream",
          "name": "stdout",
          "text": [
            "0\n"
          ]
        }
      ]
    },
    {
      "cell_type": "code",
      "source": [
        "# index에 0~59999 사이 숫자를 지정해보자.\n",
        "index = 10000\n",
        "plt.imshow(x_train[index], cmap=plt.cm.binary)\n",
        "plt.show()\n",
        "print((index + 1), '번째 이미지 숫자는 바로 ', y_train[index], '입니다.')"
      ],
      "metadata": {
        "colab": {
          "base_uri": "https://localhost:8080/",
          "height": 282
        },
        "id": "MDXjzY9Jl3_x",
        "outputId": "050f0234-cb2f-4152-e227-dd702720d793"
      },
      "execution_count": 4,
      "outputs": [
        {
          "output_type": "display_data",
          "data": {
            "image/png": "[encoded data removed]",
            "text/plain": [
              "<Figure size 432x288 with 1 Axes>"
            ]
          },
          "metadata": {
            "needs_background": "light"
          }
        },
        {
          "output_type": "stream",
          "name": "stdout",
          "text": [
            "10001 번째 이미지 숫자는 바로  3 입니다.\n"
          ]
        }
      ]
    },
    {
      "cell_type": "markdown",
      "source": [
        "참고 : Matplotlib이란?\n",
        "\n",
        "> 파이썬에서 제공하는 시각화(Visualization) 패키지인 Matplotlib은 차트(chart), 플롯(plot) 등 다양한 형태로 데이터를 시각화할 수 있는 강력한 기능들을 제공한다.\n",
        "\n",
        "\n",
        "### 학습용 데이터와 시험용 데이터\n",
        "`(x_train, y_train), (x_test, y_test) = mnist.load_data()`\n",
        "\n",
        "위 코드를 살펴보면 `mnist.load()` 함수를 통해 학습용 데이터 `(x_train, y_train)` 와 시험용 데이터 `(x_test, y_test)` 를 나누어서 받아들이는 것을 볼 수 있다.\n",
        "\n",
        "우리가 만들 숫자 손글씨 분류기는 학습용 데이터만을 가지고 학습한 후, 이 손글씨 분류기가 얼마나 좋은 성능을 보이는지 확인하기 위해 시험용 데이터로 테스트를 할 수 있다.\n",
        "\n",
        "> MNIST 데이터셋은 약 500명 사용자가 작성한 숫자 이미지를 갖고 있다. <br> 그 중 250여명의 데이터가 학습용 데이터로, 나머지가 데이터 시험용 데이터로 이용된다."
      ],
      "metadata": {
        "id": "1cyIvSa-mhP0"
      }
    },
    {
      "cell_type": "code",
      "source": [
        "# 불러들인 학습용 데이터가 몇 장인지 확인\n",
        "print(x_train.shape)  # 28x28 크기의 숫자 이미지가 60000장\n",
        "\n",
        "# 불러들인 시험용 데이터가 몇 장인지 확인\n",
        "print(x_test.shape)"
      ],
      "metadata": {
        "colab": {
          "base_uri": "https://localhost:8080/"
        },
        "id": "9jwpXjJtouge",
        "outputId": "ae710342-8cf3-443e-c7c9-9279924e0556"
      },
      "execution_count": 5,
      "outputs": [
        {
          "output_type": "stream",
          "name": "stdout",
          "text": [
            "(60000, 28, 28)\n",
            "(10000, 28, 28)\n"
          ]
        }
      ]
    },
    {
      "cell_type": "markdown",
      "source": [
        "- [학습용 데이터, 검증용 데이터, 시험용 데이터의 의미와 차이점](https://ganghee-lee.tistory.com/38)\n",
        "\n",
        "\n",
        "### 데이터 전처리\n",
        "숫자 손글씨 이미지의 실제 픽셀 값은 0~255 사이의 값을 가진다."
      ],
      "metadata": {
        "id": "v4sAtE-JptPq"
      }
    },
    {
      "cell_type": "code",
      "source": [
        "print('최소값 : ',  np.min(x_train), ' 최대값 : ', np.max(x_train))"
      ],
      "metadata": {
        "colab": {
          "base_uri": "https://localhost:8080/"
        },
        "id": "80zaFZqjrb-1",
        "outputId": "ed969ef1-3dcd-4a84-ee01-5a2f7907e43e"
      },
      "execution_count": 6,
      "outputs": [
        {
          "output_type": "stream",
          "name": "stdout",
          "text": [
            "최소값 :  0  최대값 :  255\n"
          ]
        }
      ]
    },
    {
      "cell_type": "markdown",
      "source": [
        "인공지능 모델을 훈련시키고 사용할 때, 일반적으로 입력은 0\\~1 사이의 값으로 정규화하는 것이 좋다. MNIST 데이터는 각 픽셀의 값이 0~255 사이 범위에 있으므로 데이터들을 255.0으로 나눠주면 된다. "
      ],
      "metadata": {
        "id": "rTVxUIGXrpOH"
      }
    },
    {
      "cell_type": "code",
      "source": [
        "x_train_norm, x_test_norm = x_train / 255.0, x_test / 255.0\n",
        "print('최소값 : ', np.min(x_train_norm), ' 최대값 : ', np.max(x_train_norm))"
      ],
      "metadata": {
        "colab": {
          "base_uri": "https://localhost:8080/"
        },
        "id": "Yynf4LVFrznQ",
        "outputId": "3fd7e3de-c258-4dbb-c3b0-ecbb34be2c8c"
      },
      "execution_count": 7,
      "outputs": [
        {
          "output_type": "stream",
          "name": "stdout",
          "text": [
            "최소값 :  0.0  최대값 :  1.0\n"
          ]
        }
      ]
    },
    {
      "cell_type": "markdown",
      "source": [
        "## 딥러닝 네트워크 설계\n",
        "### Sequential Model을 사용해보자.\n",
        "데이터가 모두 준비되었다면 이제 딥러닝 네트워크를 만들어야 한다.  \n",
        "여기서는 텐서플로우 케라스 `tf.keras` 에서 Sequential API라는 방법을 사용한다. Sequential API는 개발의 자유도는 떨어지지만, 매우 간단하게 딥러닝 모델을 만들어낼 수있는 방법이다. 이 방법을 통해 미리 정의된 딥러닝 레이어(layer)를 손쉽게 추가할 수 있다.  \n",
        "\n",
        "다음의 코드는 `tf.keras` 의 Sequential API를 이용해 LeNet이라는 딥러닝 네트워크를 설계한 예다. "
      ],
      "metadata": {
        "id": "mZFbBODmtIZP"
      }
    },
    {
      "cell_type": "code",
      "source": [
        "model=keras.models.Sequential()\n",
        "model.add(keras.layers.Conv2D(16, (3,3), activation='relu', input_shape=(28,28,1)))\n",
        "model.add(keras.layers.MaxPool2D(2,2))\n",
        "model.add(keras.layers.Conv2D(32, (3,3), activation='relu'))\n",
        "model.add(keras.layers.MaxPooling2D((2,2)))\n",
        "model.add(keras.layers.Flatten())\n",
        "model.add(keras.layers.Dense(32, activation='relu'))\n",
        "model.add(keras.layers.Dense(10, activation='softmax'))\n",
        "\n",
        "print('Model에 추가된 Layer 개수: ', len(model.layers))"
      ],
      "metadata": {
        "colab": {
          "base_uri": "https://localhost:8080/"
        },
        "id": "sR-YoP8PuKOo",
        "outputId": "ea2e1b90-ab92-4c3e-bef4-16bb0cd373b2"
      },
      "execution_count": 8,
      "outputs": [
        {
          "output_type": "stream",
          "name": "stdout",
          "text": [
            "Model에 추가된 Layer 개수:  7\n"
          ]
        }
      ]
    },
    {
      "cell_type": "markdown",
      "source": [
        "- Conv2D 레이어의 첫 번째 인자는 사용하는 이미지 특징의 수다. 여기서는 16과 32를 사용했다. 가장 먼저 16개 이미지 특징을, 그 뒤에 32개 이미지 특징을 고려하겠다는 뜻이다. 우리의 숫자 이미지는 매우 단순한 형태의 이미지인 반면 강아지 얼굴 사진이 입력 이미지라면 훨신 디테일하고 복잡한 영상이기 때문에 이 특징 숫자를 늘려주는 것을 고려해 볼 수 있다. \n",
        "- Dense 레이어의 첫 번재 인자는 분류기에 사용되는 뉴런의 숫자다. 이 값이 클수록 보다 복잡한 분류기를 만들 수 있다. 가령 10개의 숫자가 아닌 알파벳을 구분하고 싶다면 총 52개의 클래스를 분류해야하므로 32보다 큰 64나 128을 고려해 볼 수 있다.\n",
        "- 마지막 Dense 레이어의 뉴런 숫자는 결과적으로 분류해 내야 하는 클래스의 수로 지정하면 된다. 숫자 인식기에서는 10, 알파벳 인식기에선느 52가 될 것이다. \n",
        "\n",
        "우리가 만든 딥러닝 네트워크 모델을 확인해보려면, `model.summary()` 메소드를 이용하면 된다."
      ],
      "metadata": {
        "id": "lIvi2BDSun1i"
      }
    },
    {
      "cell_type": "code",
      "source": [
        "model.summary()"
      ],
      "metadata": {
        "colab": {
          "base_uri": "https://localhost:8080/"
        },
        "id": "pcGWDtYCviEN",
        "outputId": "ccf179f4-5555-4a17-b9bf-418cf20fe36a"
      },
      "execution_count": 9,
      "outputs": [
        {
          "output_type": "stream",
          "name": "stdout",
          "text": [
            "Model: \"sequential\"\n",
            "_________________________________________________________________\n",
            " Layer (type)                Output Shape              Param #   \n",
            "=================================================================\n",
            " conv2d (Conv2D)             (None, 26, 26, 16)        160       \n",
            "                                                                 \n",
            " max_pooling2d (MaxPooling2D  (None, 13, 13, 16)       0         \n",
            " )                                                               \n",
            "                                                                 \n",
            " conv2d_1 (Conv2D)           (None, 11, 11, 32)        4640      \n",
            "                                                                 \n",
            " max_pooling2d_1 (MaxPooling  (None, 5, 5, 32)         0         \n",
            " 2D)                                                             \n",
            "                                                                 \n",
            " flatten (Flatten)           (None, 800)               0         \n",
            "                                                                 \n",
            " dense (Dense)               (None, 32)                25632     \n",
            "                                                                 \n",
            " dense_1 (Dense)             (None, 10)                330       \n",
            "                                                                 \n",
            "=================================================================\n",
            "Total params: 30,762\n",
            "Trainable params: 30,762\n",
            "Non-trainable params: 0\n",
            "_________________________________________________________________\n"
          ]
        }
      ]
    },
    {
      "cell_type": "markdown",
      "source": [
        "## 딥러닝 네트워크 학습시키기\n",
        "\n",
        "우리가 만든 네트워크의 입력은 `(데이터 개수, 이미지 크기 x, 이미지 크기 y, 채널 수)` 와 같은 형태를 가진다.  \n",
        "그런데 `print(x_train.shape)` 을 해보면, `(60000, 28, 28)` 로 채널 수에 대한 정보가 없다. 따라서 `(60000, 28, 28, 1)` 로 만들어 주어야 한다. (여기서 채널 수 1은 흑백 이미지를 의미한다. 컬러 이미지의 경우 RGB 값이 있기 때문에 3이 된다.)"
      ],
      "metadata": {
        "id": "VhFn4rDxvx1-"
      }
    },
    {
      "cell_type": "code",
      "source": [
        "print(\"Before Reshape - x_train_norm shape: {}\".format(x_train_norm.shape))\n",
        "print(\"Before Reshape - x_test_norm shape: {}\".format(x_test_norm.shape))\n",
        "\n",
        "x_train_reshaped=x_train_norm.reshape( -1, 28, 28, 1)  # 데이터 개수에 -1을 쓰면 reshape시 자동으로 계산된다.\n",
        "x_test_reshaped=x_test_norm.reshape( -1, 28, 28, 1)\n",
        "\n",
        "print(\"After Reshape - x_train_reshaped shape: {}\".format(x_train_reshaped.shape))\n",
        "print(\"After Reshape - x_test_reshaped shape: {}\".format(x_test_reshaped.shape))"
      ],
      "metadata": {
        "colab": {
          "base_uri": "https://localhost:8080/"
        },
        "id": "215WT-b1wRTO",
        "outputId": "dd227411-c317-4af5-cc01-83e8e7e21503"
      },
      "execution_count": 10,
      "outputs": [
        {
          "output_type": "stream",
          "name": "stdout",
          "text": [
            "Before Reshape - x_train_norm shape: (60000, 28, 28)\n",
            "Before Reshape - x_test_norm shape: (10000, 28, 28)\n",
            "After Reshape - x_train_reshaped shape: (60000, 28, 28, 1)\n",
            "After Reshape - x_test_reshaped shape: (10000, 28, 28, 1)\n"
          ]
        }
      ]
    },
    {
      "cell_type": "markdown",
      "source": [
        "이제 `x_rain` 학습 데이터로 딥러닝 네트워크를 학습시켜 보자.  \n",
        "여기서 `epochs=10` 은 전체 60000개의 데이터를 10번 반복 사용해 학습을 시키라는 뜻이다. "
      ],
      "metadata": {
        "id": "-SXggBmrwmPm"
      }
    },
    {
      "cell_type": "code",
      "source": [
        "model.compile(optimizer='adam',\n",
        "              loss='sparse_categorical_crossentropy',\n",
        "              metrics=['accuracy'])\n",
        "model.fit(x_train_reshaped, y_train, epochs=10)"
      ],
      "metadata": {
        "colab": {
          "base_uri": "https://localhost:8080/"
        },
        "id": "ONskr7-mw5Dp",
        "outputId": "00d706ca-9b03-421c-e4a8-cbde7497f5e3"
      },
      "execution_count": 11,
      "outputs": [
        {
          "output_type": "stream",
          "name": "stdout",
          "text": [
            "Epoch 1/10\n",
            "1875/1875 [==============================] - 31s 16ms/step - loss: 0.1905 - accuracy: 0.9415\n",
            "Epoch 2/10\n",
            "1875/1875 [==============================] - 30s 16ms/step - loss: 0.0604 - accuracy: 0.9812\n",
            "Epoch 3/10\n",
            "1875/1875 [==============================] - 30s 16ms/step - loss: 0.0454 - accuracy: 0.9858\n",
            "Epoch 4/10\n",
            "1875/1875 [==============================] - 31s 16ms/step - loss: 0.0359 - accuracy: 0.9888\n",
            "Epoch 5/10\n",
            "1875/1875 [==============================] - 30s 16ms/step - loss: 0.0294 - accuracy: 0.9911\n",
            "Epoch 6/10\n",
            "1875/1875 [==============================] - 31s 16ms/step - loss: 0.0239 - accuracy: 0.9925\n",
            "Epoch 7/10\n",
            "1875/1875 [==============================] - 31s 17ms/step - loss: 0.0202 - accuracy: 0.9933\n",
            "Epoch 8/10\n",
            "1875/1875 [==============================] - 31s 16ms/step - loss: 0.0168 - accuracy: 0.9948\n",
            "Epoch 9/10\n",
            "1875/1875 [==============================] - 31s 16ms/step - loss: 0.0145 - accuracy: 0.9954\n",
            "Epoch 10/10\n",
            "1875/1875 [==============================] - 31s 16ms/step - loss: 0.0118 - accuracy: 0.9961\n"
          ]
        },
        {
          "output_type": "execute_result",
          "data": {
            "text/plain": [
              "<keras.callbacks.History at 0x7fb3f03436d0>"
            ]
          },
          "metadata": {},
          "execution_count": 11
        }
      ]
    },
    {
      "cell_type": "markdown",
      "source": [
        "각 학습이 진행됨에 따라 epoch 별로 `accuracy` 가 올라가는지 확인할 수 있다.  \n",
        "9 epoch 정도부터는 `accuracy`의 상승이 미미하기 때문에 10 epoch 정도 학습을 시키면 충분하다.\n",
        "\n",
        "<br>\n",
        "\n",
        "## 잘 만들었는지 확인하기\n",
        "### 테스트 데이터로 성능 확인\n",
        "위의 `accuracy` 는 학습용 데이터(`x_train`)을 가지고 구한 것이다.  \n",
        "이제 시험용 데이터(`x_test`)를 가지고 확인해보자."
      ],
      "metadata": {
        "id": "pxLr3rtZxjhM"
      }
    },
    {
      "cell_type": "code",
      "source": [
        "test_loss, test_accuracy = model.evaluate(x_test_reshaped, y_test, verbose=2)\n",
        "print(\"test_loss : {} \".format(test_loss))\n",
        "print(\"test_accuracy : {}\".format(test_accuracy))"
      ],
      "metadata": {
        "colab": {
          "base_uri": "https://localhost:8080/"
        },
        "id": "vClL6dyPy2Mh",
        "outputId": "265d1819-e707-418a-bb4d-1457a6e996e4"
      },
      "execution_count": 12,
      "outputs": [
        {
          "output_type": "stream",
          "name": "stdout",
          "text": [
            "313/313 - 2s - loss: 0.0410 - accuracy: 0.9893 - 2s/epoch - 6ms/step\n",
            "test_loss : 0.04100910201668739 \n",
            "test_accuracy : 0.989300012588501\n"
          ]
        }
      ]
    },
    {
      "cell_type": "markdown",
      "source": [
        "`model.evaluate()` 대신 `model.predict()` 를 사용하면 model이 입력값을 보고 실제로 추론한 확률분포를 출력할 수 있다. 우리가 만든 model이란 사실 10개의 숫자 중 어느 것일지에 대한 확률값을 출력하는 함수다. 이 함수의 출력값, 즉 확률값이 가장 높은 숫자가 바로 model이 추론한 숫자가 된다."
      ],
      "metadata": {
        "id": "MGSM4IYdzigM"
      }
    },
    {
      "cell_type": "code",
      "source": [
        "predicted_result = model.predict(x_test_reshaped)  # model이 추론한 확률값\n",
        "predicted_labels = np.argmax(predicted_result, axis=1)\n",
        "\n",
        "idx = 0 # 1번째 x_test\n",
        "print('model.predict() 결과 : ', predicted_result[idx])\n",
        "print('model이 추론한 가장 가능성이 높은 결과 : ', predicted_labels[idx])\n",
        "print('실제 데이터의 라벨 : ', y_test[idx])"
      ],
      "metadata": {
        "colab": {
          "base_uri": "https://localhost:8080/"
        },
        "id": "CVOHGo71zyvu",
        "outputId": "9def3298-1656-4af4-dea1-69f3ebe7a84f"
      },
      "execution_count": 13,
      "outputs": [
        {
          "output_type": "stream",
          "name": "stdout",
          "text": [
            "model.predict() 결과 :  [1.4269425e-14 1.4076893e-11 7.4680697e-09 9.6518821e-11 1.8178413e-13\n",
            " 5.8276354e-15 5.8526093e-15 1.0000000e+00 3.4841189e-14 2.1012212e-09]\n",
            "model이 추론한 가장 가능성이 높은 결과 :  7\n",
            "실제 데이터의 라벨 :  7\n"
          ]
        }
      ]
    },
    {
      "cell_type": "markdown",
      "source": [
        "이 경우에 model이 추론한 결과가 7일 확률이 1.00에 근접하고 있다, 즉 이 model은 입력한 이미지가 숫자 7이라는 걸 아주 확신하고 있다는 뜻이 된다.\n",
        "정말 숫자 7인지 확인해보자."
      ],
      "metadata": {
        "id": "YX-RkEAY0otn"
      }
    },
    {
      "cell_type": "code",
      "source": [
        "plt.imshow(x_test[idx], cmap=plt.cm.binary)\n",
        "plt.show()"
      ],
      "metadata": {
        "colab": {
          "base_uri": "https://localhost:8080/",
          "height": 265
        },
        "id": "n2o3scDu0x_H",
        "outputId": "abac27ff-34ea-4167-fe20-5987c06cb3b3"
      },
      "execution_count": 14,
      "outputs": [
        {
          "output_type": "display_data",
          "data": {
            "image/png": "[encoded data removed]",
            "text/plain": [
              "<Figure size 432x288 with 1 Axes>"
            ]
          },
          "metadata": {
            "needs_background": "light"
          }
        }
      ]
    },
    {
      "cell_type": "markdown",
      "source": [
        "model이 추론해 낸 숫자와 실제 라벨의 값이 다른 경우는 어떤 경우인지 직접 확인해 볼 수도 있다."
      ],
      "metadata": {
        "id": "5uiMtS3v1FJn"
      }
    },
    {
      "cell_type": "code",
      "source": [
        "import random\n",
        "wrong_predict_list = []\n",
        "for i, _ in enumerate(predicted_labels):\n",
        "  # i번째 test_labels와 y_test가 다른 경우만 모은다\n",
        "  if predicted_labels[i] != y_test[i]:\n",
        "    wrong_predict_list.append(i)\n",
        "\n",
        "# wrong_predict_list에서 랜덤하게 5개만 뽑는다\n",
        "samples = random.choices(population=wrong_predict_list, k=5)\n",
        "\n",
        "for n in samples:\n",
        "  print(\"예측확률분포 : \", str(predicted_result[n]))\n",
        "  print(\"라벨 : \" + str(y_test[n]) + \", 예측결과\" + str(predicted_labels[n]))\n",
        "  plt.imshow(x_test[n], cmap=plt.cm.binary)\n",
        "  plt.show()"
      ],
      "metadata": {
        "colab": {
          "base_uri": "https://localhost:8080/",
          "height": 1000
        },
        "id": "3j0QiM3p1L0M",
        "outputId": "bac3bc96-fa77-493b-bb80-cd1217e08255"
      },
      "execution_count": 15,
      "outputs": [
        {
          "output_type": "stream",
          "name": "stdout",
          "text": [
            "예측확률분포 :  [3.36287975e-09 5.62022038e-08 1.13590055e-07 2.37050062e-06\n",
            " 1.74766847e-05 3.95360811e-09 4.89737528e-10 7.98926249e-06\n",
            " 3.17384620e-05 9.99940276e-01]\n",
            "라벨 : 8, 예측결과9\n"
          ]
        },
        {
          "output_type": "display_data",
          "data": {
            "image/png": "[encoded data removed]",
            "text/plain": [
              "<Figure size 432x288 with 1 Axes>"
            ]
          },
          "metadata": {
            "needs_background": "light"
          }
        },
        {
          "output_type": "stream",
          "name": "stdout",
          "text": [
            "예측확률분포 :  [7.9971401e-04 4.5413235e-03 1.0995979e-02 2.8258560e-03 3.7900329e-04\n",
            " 8.7301791e-01 3.4177718e-03 1.8421158e-03 1.0204185e-01 1.3862088e-04]\n",
            "라벨 : 8, 예측결과5\n"
          ]
        },
        {
          "output_type": "display_data",
          "data": {
            "image/png": "[encoded data removed]",
            "text/plain": [
              "<Figure size 432x288 with 1 Axes>"
            ]
          },
          "metadata": {
            "needs_background": "light"
          }
        },
        {
          "output_type": "stream",
          "name": "stdout",
          "text": [
            "예측확률분포 :  [1.5438222e-09 6.6646549e-05 1.1996326e-07 2.2247787e-06 8.6739004e-01\n",
            " 2.7753222e-06 3.7171627e-05 5.4526259e-07 1.3210109e-01 3.9934446e-04]\n",
            "라벨 : 8, 예측결과4\n"
          ]
        },
        {
          "output_type": "display_data",
          "data": {
            "image/png": "[encoded data removed]",
            "text/plain": [
              "<Figure size 432x288 with 1 Axes>"
            ]
          },
          "metadata": {
            "needs_background": "light"
          }
        },
        {
          "output_type": "stream",
          "name": "stdout",
          "text": [
            "예측확률분포 :  [4.6857900e-04 3.6304671e-02 3.2896353e-03 9.1215196e-07 3.6255455e-01\n",
            " 2.0090837e-07 2.8708430e-07 5.9728044e-01 8.8980090e-07 9.9790210e-05]\n",
            "라벨 : 4, 예측결과7\n"
          ]
        },
        {
          "output_type": "display_data",
          "data": {
            "image/png": "[encoded data removed]",
            "text/plain": [
              "<Figure size 432x288 with 1 Axes>"
            ]
          },
          "metadata": {
            "needs_background": "light"
          }
        },
        {
          "output_type": "stream",
          "name": "stdout",
          "text": [
            "예측확률분포 :  [4.6857900e-04 3.6304671e-02 3.2896353e-03 9.1215196e-07 3.6255455e-01\n",
            " 2.0090837e-07 2.8708430e-07 5.9728044e-01 8.8980090e-07 9.9790210e-05]\n",
            "라벨 : 4, 예측결과7\n"
          ]
        },
        {
          "output_type": "display_data",
          "data": {
            "image/png": "[encoded data removed]",
            "text/plain": [
              "<Figure size 432x288 with 1 Axes>"
            ]
          },
          "metadata": {
            "needs_background": "light"
          }
        }
      ]
    },
    {
      "cell_type": "markdown",
      "source": [
        "틀린 경우를 살펴보면 model도 추론 결과에 대한 확신도가 낮고 혼란스러워한다는 것을 알 수 있다.  \n",
        "model의 추론 결과를 시각화하여 살펴보는 것은 향후 model 성능 개선에 도움이 되는 아이디어를 얻을 수 있는 좋은 방법 중 하나다.\n",
        "\n",
        "\n",
        "### 더 좋은 네트워크 만들어보기\n",
        "그렇다면 인식률을 99점대로 만들어 볼 수 없을까?  \n",
        "딥러닝 네트워크의 구조 자체는 바꾸지 않더라도 하이퍼파라미터들을 바꿔 볼 수 있다.  \n",
        "`Conv2D` 레이어에서 입력 이미지의 특징 수를 늘리거나 줄이거나, `Dense` 레이어에서 뉴런 수를 바꿔 보거나, 학습 반복 횟수인 `epoch` 값을 변경해 볼 수 있다."
      ],
      "metadata": {
        "id": "9rTjMKi82xdE"
      }
    },
    {
      "cell_type": "code",
      "source": [
        "# 바꿔 볼 수 있는 하이퍼파라미터들\n",
        "n_channel_1=16\n",
        "n_channel_2=32\n",
        "n_dense=32\n",
        "n_train_epoch=10\n",
        "\n",
        "model=keras.models.Sequential()\n",
        "model.add(keras.layers.Conv2D(n_channel_1, (3,3), activation='relu', input_shape=(28,28,1)))\n",
        "model.add(keras.layers.MaxPool2D(2,2))\n",
        "model.add(keras.layers.Conv2D(n_channel_2, (3,3), activation='relu'))\n",
        "model.add(keras.layers.MaxPooling2D((2,2)))\n",
        "model.add(keras.layers.Flatten())\n",
        "model.add(keras.layers.Dense(n_dense, activation='relu'))\n",
        "model.add(keras.layers.Dense(10, activation='softmax'))\n",
        "\n",
        "model.summary()\n",
        "model.compile(optimizer='adam',\n",
        "             loss='sparse_categorical_crossentropy',\n",
        "             metrics=['accuracy'])\n",
        "\n",
        "# 모델 훈련\n",
        "model.fit(x_train_reshaped, y_train, epochs=n_train_epoch)\n",
        "\n",
        "# 모델 시험\n",
        "test_loss, test_accuracy = model.evaluate(x_test_reshaped, y_test, verbose=2)\n",
        "print(\"test_loss: {} \".format(test_loss))\n",
        "print(\"test_accuracy: {}\".format(test_accuracy))"
      ],
      "metadata": {
        "colab": {
          "base_uri": "https://localhost:8080/"
        },
        "id": "TVjc_eV_41il",
        "outputId": "e6b36e96-207e-494c-a117-08f846ec2e3c"
      },
      "execution_count": 16,
      "outputs": [
        {
          "output_type": "stream",
          "name": "stdout",
          "text": [
            "Model: \"sequential_1\"\n",
            "_________________________________________________________________\n",
            " Layer (type)                Output Shape              Param #   \n",
            "=================================================================\n",
            " conv2d_2 (Conv2D)           (None, 26, 26, 16)        160       \n",
            "                                                                 \n",
            " max_pooling2d_2 (MaxPooling  (None, 13, 13, 16)       0         \n",
            " 2D)                                                             \n",
            "                                                                 \n",
            " conv2d_3 (Conv2D)           (None, 11, 11, 32)        4640      \n",
            "                                                                 \n",
            " max_pooling2d_3 (MaxPooling  (None, 5, 5, 32)         0         \n",
            " 2D)                                                             \n",
            "                                                                 \n",
            " flatten_1 (Flatten)         (None, 800)               0         \n",
            "                                                                 \n",
            " dense_2 (Dense)             (None, 32)                25632     \n",
            "                                                                 \n",
            " dense_3 (Dense)             (None, 10)                330       \n",
            "                                                                 \n",
            "=================================================================\n",
            "Total params: 30,762\n",
            "Trainable params: 30,762\n",
            "Non-trainable params: 0\n",
            "_________________________________________________________________\n",
            "Epoch 1/10\n",
            "1875/1875 [==============================] - 32s 17ms/step - loss: 0.1870 - accuracy: 0.9429\n",
            "Epoch 2/10\n",
            "1875/1875 [==============================] - 31s 17ms/step - loss: 0.0612 - accuracy: 0.9811\n",
            "Epoch 3/10\n",
            "1875/1875 [==============================] - 31s 17ms/step - loss: 0.0455 - accuracy: 0.9861\n",
            "Epoch 4/10\n",
            "1875/1875 [==============================] - 31s 17ms/step - loss: 0.0364 - accuracy: 0.9889\n",
            "Epoch 5/10\n",
            "1875/1875 [==============================] - 31s 17ms/step - loss: 0.0289 - accuracy: 0.9910\n",
            "Epoch 6/10\n",
            "1875/1875 [==============================] - 32s 17ms/step - loss: 0.0237 - accuracy: 0.9921\n",
            "Epoch 7/10\n",
            "1875/1875 [==============================] - 32s 17ms/step - loss: 0.0187 - accuracy: 0.9941\n",
            "Epoch 8/10\n",
            "1875/1875 [==============================] - 31s 17ms/step - loss: 0.0166 - accuracy: 0.9947\n",
            "Epoch 9/10\n",
            "1875/1875 [==============================] - 31s 17ms/step - loss: 0.0135 - accuracy: 0.9955\n",
            "Epoch 10/10\n",
            "1875/1875 [==============================] - 31s 17ms/step - loss: 0.0122 - accuracy: 0.9957\n",
            "313/313 - 2s - loss: 0.0394 - accuracy: 0.9876 - 2s/epoch - 6ms/step\n",
            "test_loss: 0.03942860662937164 \n",
            "test_accuracy: 0.9876000285148621\n"
          ]
        }
      ]
    }
  ]
}
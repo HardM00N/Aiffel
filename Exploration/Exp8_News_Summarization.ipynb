{
 "cells": [
  {
   "cell_type": "markdown",
   "id": "1cd1e254",
   "metadata": {},
   "source": [
    "# Exp8. News Summarization"
   ]
  },
  {
   "cell_type": "markdown",
   "id": "102b316c",
   "metadata": {},
   "source": [
    "## 1. module import & data load"
   ]
  },
  {
   "cell_type": "code",
   "execution_count": 1,
   "id": "dc323d0b",
   "metadata": {},
   "outputs": [
    {
     "name": "stderr",
     "output_type": "stream",
     "text": [
      "[nltk_data] Downloading package stopwords to /aiffel/nltk_data...\n",
      "[nltk_data]   Package stopwords is already up-to-date!\n"
     ]
    }
   ],
   "source": [
    "import nltk\n",
    "nltk.download('stopwords')\n",
    "\n",
    "import numpy as np\n",
    "import pandas as pd\n",
    "import os\n",
    "import re\n",
    "import matplotlib.pyplot as plt\n",
    "from nltk.corpus import stopwords\n",
    "from bs4 import BeautifulSoup\n",
    "from tensorflow.keras.preprocessing.text import Tokenizer\n",
    "from tensorflow.keras.preprocessing.sequence import pad_sequences\n",
    "import urllib.request\n",
    "import warnings\n",
    "warnings.filterwarnings(\"ignore\", category=UserWarning, module='bs4')"
   ]
  },
  {
   "cell_type": "code",
   "execution_count": 2,
   "id": "ddb727f2",
   "metadata": {},
   "outputs": [],
   "source": [
    "urllib.request.urlretrieve(\"https://raw.githubusercontent.com/sunnysai12345/News_Summary/master/news_summary_more.csv\", filename=\"news_summary_more.csv\")\n",
    "data = pd.read_csv('news_summary_more.csv', encoding='iso-8859-1')"
   ]
  },
  {
   "cell_type": "code",
   "execution_count": 3,
   "id": "16ef5b5d",
   "metadata": {},
   "outputs": [
    {
     "name": "stdout",
     "output_type": "stream",
     "text": [
      "전체 샘플 수 :  98401\n"
     ]
    },
    {
     "data": {
      "text/html": [
       "<div>\n",
       "<style scoped>\n",
       "    .dataframe tbody tr th:only-of-type {\n",
       "        vertical-align: middle;\n",
       "    }\n",
       "\n",
       "    .dataframe tbody tr th {\n",
       "        vertical-align: top;\n",
       "    }\n",
       "\n",
       "    .dataframe thead th {\n",
       "        text-align: right;\n",
       "    }\n",
       "</style>\n",
       "<table border=\"1\" class=\"dataframe\">\n",
       "  <thead>\n",
       "    <tr style=\"text-align: right;\">\n",
       "      <th></th>\n",
       "      <th>headlines</th>\n",
       "      <th>text</th>\n",
       "    </tr>\n",
       "  </thead>\n",
       "  <tbody>\n",
       "    <tr>\n",
       "      <th>76628</th>\n",
       "      <td>GST Council recommends luxury car cess hike fr...</td>\n",
       "      <td>The GST Council has recommended the government...</td>\n",
       "    </tr>\n",
       "    <tr>\n",
       "      <th>73853</th>\n",
       "      <td>OBC creamy layer bar raised from Ã¢ÂÂ¹6 lakh ...</td>\n",
       "      <td>Union Finance Minister Arun Jaitley on Wednesd...</td>\n",
       "    </tr>\n",
       "    <tr>\n",
       "      <th>50445</th>\n",
       "      <td>Man dies of heart attack while playing cricket...</td>\n",
       "      <td>A 25-year-old man died of a heart attack while...</td>\n",
       "    </tr>\n",
       "    <tr>\n",
       "      <th>87783</th>\n",
       "      <td>World's largest aircraft completes test flight</td>\n",
       "      <td>Airlander 10, the largest aircraft in the worl...</td>\n",
       "    </tr>\n",
       "    <tr>\n",
       "      <th>74207</th>\n",
       "      <td>US embassy in Russia suspends issue of nonimmi...</td>\n",
       "      <td>The US embassy in Russia has indefinitely susp...</td>\n",
       "    </tr>\n",
       "    <tr>\n",
       "      <th>61065</th>\n",
       "      <td>Christians in China swap Jesus posters with Pr...</td>\n",
       "      <td>Hundreds of Christians in China's Yugan county...</td>\n",
       "    </tr>\n",
       "    <tr>\n",
       "      <th>55681</th>\n",
       "      <td>NASA studying human body in space for future M...</td>\n",
       "      <td>NASA is seeking proposals for research that co...</td>\n",
       "    </tr>\n",
       "    <tr>\n",
       "      <th>62488</th>\n",
       "      <td>Flyer caught hiding gold worth Ã¢ÂÂ¹30 lakh i...</td>\n",
       "      <td>A 46-year-old passenger was caught allegedly h...</td>\n",
       "    </tr>\n",
       "    <tr>\n",
       "      <th>94077</th>\n",
       "      <td>Brock Lesnar tops Forbes' highest paid WWE wre...</td>\n",
       "      <td>WWE's wrestler Brock Lesnar, who earned over Ã...</td>\n",
       "    </tr>\n",
       "    <tr>\n",
       "      <th>24367</th>\n",
       "      <td>Railways suffered Ã¢ÂÂ¹90L loss in Mumbai bri...</td>\n",
       "      <td>The railways suffered a loss of around Ã¢ÂÂ¹9...</td>\n",
       "    </tr>\n",
       "  </tbody>\n",
       "</table>\n",
       "</div>"
      ],
      "text/plain": [
       "                                               headlines  \\\n",
       "76628  GST Council recommends luxury car cess hike fr...   \n",
       "73853  OBC creamy layer bar raised from Ã¢ÂÂ¹6 lakh ...   \n",
       "50445  Man dies of heart attack while playing cricket...   \n",
       "87783     World's largest aircraft completes test flight   \n",
       "74207  US embassy in Russia suspends issue of nonimmi...   \n",
       "61065  Christians in China swap Jesus posters with Pr...   \n",
       "55681  NASA studying human body in space for future M...   \n",
       "62488  Flyer caught hiding gold worth Ã¢ÂÂ¹30 lakh i...   \n",
       "94077  Brock Lesnar tops Forbes' highest paid WWE wre...   \n",
       "24367  Railways suffered Ã¢ÂÂ¹90L loss in Mumbai bri...   \n",
       "\n",
       "                                                    text  \n",
       "76628  The GST Council has recommended the government...  \n",
       "73853  Union Finance Minister Arun Jaitley on Wednesd...  \n",
       "50445  A 25-year-old man died of a heart attack while...  \n",
       "87783  Airlander 10, the largest aircraft in the worl...  \n",
       "74207  The US embassy in Russia has indefinitely susp...  \n",
       "61065  Hundreds of Christians in China's Yugan county...  \n",
       "55681  NASA is seeking proposals for research that co...  \n",
       "62488  A 46-year-old passenger was caught allegedly h...  \n",
       "94077  WWE's wrestler Brock Lesnar, who earned over Ã...  \n",
       "24367  The railways suffered a loss of around Ã¢ÂÂ¹9...  "
      ]
     },
     "execution_count": 3,
     "metadata": {},
     "output_type": "execute_result"
    }
   ],
   "source": [
    "print('전체 샘플 수 : ', len(data))\n",
    "data.sample(10)"
   ]
  },
  {
   "cell_type": "markdown",
   "id": "6f1bc64c",
   "metadata": {},
   "source": [
    "## 2. data preprocessing\n",
    "### (1) 결측치 및 중복 데이터 제거"
   ]
  },
  {
   "cell_type": "code",
   "execution_count": 4,
   "id": "f4c80983",
   "metadata": {},
   "outputs": [
    {
     "name": "stdout",
     "output_type": "stream",
     "text": [
      "text 열에서 중복을 배제한 유일한 샘플의 수 :  98360\n",
      "headlines 열에서 중복을 배제한 유일한 샘플의 수 :  98280\n"
     ]
    }
   ],
   "source": [
    "print('text 열에서 중복을 배제한 유일한 샘플의 수 : ', data['text'].nunique())\n",
    "print('headlines 열에서 중복을 배제한 유일한 샘플의 수 : ', data['headlines'].nunique())"
   ]
  },
  {
   "cell_type": "markdown",
   "id": "168036a4",
   "metadata": {},
   "source": [
    "- text가 달라도 headlines는 동일할 수 있기 때문에 text 자체가 중복이 된 샘플만 제거해야 된다. "
   ]
  },
  {
   "cell_type": "code",
   "execution_count": 5,
   "id": "708d55a7",
   "metadata": {},
   "outputs": [
    {
     "name": "stdout",
     "output_type": "stream",
     "text": [
      "전체 샘플 수 :  98360\n"
     ]
    }
   ],
   "source": [
    "data.drop_duplicates(subset = ['text'], inplace=True)\n",
    "print('전체 샘플 수 : ', len(data))"
   ]
  },
  {
   "cell_type": "code",
   "execution_count": 6,
   "id": "b98471ca",
   "metadata": {},
   "outputs": [
    {
     "name": "stdout",
     "output_type": "stream",
     "text": [
      "headlines    0\n",
      "text         0\n",
      "dtype: int64\n"
     ]
    }
   ],
   "source": [
    "# 결측치 확인\n",
    "print(data.isnull().sum())"
   ]
  },
  {
   "cell_type": "markdown",
   "id": "34320227",
   "metadata": {},
   "source": [
    "### (2) 텍스트 정규화와 불용어 제거\n",
    "`it'll`, `it will`과 같은 표현들을 하나로 통일시켜주는 방법론을 텍스트 정규화(text normalization)라고 한다."
   ]
  },
  {
   "cell_type": "code",
   "execution_count": 7,
   "id": "9d03f15b",
   "metadata": {},
   "outputs": [
    {
     "name": "stdout",
     "output_type": "stream",
     "text": [
      "정규화 사전의 수:  120\n"
     ]
    }
   ],
   "source": [
    "contractions = {\"ain't\": \"is not\", \"aren't\": \"are not\",\"can't\": \"cannot\", \"'cause\": \"because\", \"could've\": \"could have\", \"couldn't\": \"could not\",\n",
    "                           \"didn't\": \"did not\",  \"doesn't\": \"does not\", \"don't\": \"do not\", \"hadn't\": \"had not\", \"hasn't\": \"has not\", \"haven't\": \"have not\",\n",
    "                           \"he'd\": \"he would\",\"he'll\": \"he will\", \"he's\": \"he is\", \"how'd\": \"how did\", \"how'd'y\": \"how do you\", \"how'll\": \"how will\", \"how's\": \"how is\",\n",
    "                           \"I'd\": \"I would\", \"I'd've\": \"I would have\", \"I'll\": \"I will\", \"I'll've\": \"I will have\",\"I'm\": \"I am\", \"I've\": \"I have\", \"i'd\": \"i would\",\n",
    "                           \"i'd've\": \"i would have\", \"i'll\": \"i will\",  \"i'll've\": \"i will have\",\"i'm\": \"i am\", \"i've\": \"i have\", \"isn't\": \"is not\", \"it'd\": \"it would\",\n",
    "                           \"it'd've\": \"it would have\", \"it'll\": \"it will\", \"it'll've\": \"it will have\",\"it's\": \"it is\", \"let's\": \"let us\", \"ma'am\": \"madam\",\n",
    "                           \"mayn't\": \"may not\", \"might've\": \"might have\",\"mightn't\": \"might not\",\"mightn't've\": \"might not have\", \"must've\": \"must have\",\n",
    "                           \"mustn't\": \"must not\", \"mustn't've\": \"must not have\", \"needn't\": \"need not\", \"needn't've\": \"need not have\",\"o'clock\": \"of the clock\",\n",
    "                           \"oughtn't\": \"ought not\", \"oughtn't've\": \"ought not have\", \"shan't\": \"shall not\", \"sha'n't\": \"shall not\", \"shan't've\": \"shall not have\",\n",
    "                           \"she'd\": \"she would\", \"she'd've\": \"she would have\", \"she'll\": \"she will\", \"she'll've\": \"she will have\", \"she's\": \"she is\",\n",
    "                           \"should've\": \"should have\", \"shouldn't\": \"should not\", \"shouldn't've\": \"should not have\", \"so've\": \"so have\",\"so's\": \"so as\",\n",
    "                           \"this's\": \"this is\",\"that'd\": \"that would\", \"that'd've\": \"that would have\", \"that's\": \"that is\", \"there'd\": \"there would\",\n",
    "                           \"there'd've\": \"there would have\", \"there's\": \"there is\", \"here's\": \"here is\",\"they'd\": \"they would\", \"they'd've\": \"they would have\",\n",
    "                           \"they'll\": \"they will\", \"they'll've\": \"they will have\", \"they're\": \"they are\", \"they've\": \"they have\", \"to've\": \"to have\",\n",
    "                           \"wasn't\": \"was not\", \"we'd\": \"we would\", \"we'd've\": \"we would have\", \"we'll\": \"we will\", \"we'll've\": \"we will have\", \"we're\": \"we are\",\n",
    "                           \"we've\": \"we have\", \"weren't\": \"were not\", \"what'll\": \"what will\", \"what'll've\": \"what will have\", \"what're\": \"what are\",\n",
    "                           \"what's\": \"what is\", \"what've\": \"what have\", \"when's\": \"when is\", \"when've\": \"when have\", \"where'd\": \"where did\", \"where's\": \"where is\",\n",
    "                           \"where've\": \"where have\", \"who'll\": \"who will\", \"who'll've\": \"who will have\", \"who's\": \"who is\", \"who've\": \"who have\",\n",
    "                           \"why's\": \"why is\", \"why've\": \"why have\", \"will've\": \"will have\", \"won't\": \"will not\", \"won't've\": \"will not have\",\n",
    "                           \"would've\": \"would have\", \"wouldn't\": \"would not\", \"wouldn't've\": \"would not have\", \"y'all\": \"you all\",\n",
    "                           \"y'all'd\": \"you all would\",\"y'all'd've\": \"you all would have\",\"y'all're\": \"you all are\",\"y'all've\": \"you all have\",\n",
    "                           \"you'd\": \"you would\", \"you'd've\": \"you would have\", \"you'll\": \"you will\", \"you'll've\": \"you will have\",\n",
    "                           \"you're\": \"you are\", \"you've\": \"you have\"}\n",
    "\n",
    "print(\"정규화 사전의 수: \", len(contractions))"
   ]
  },
  {
   "cell_type": "code",
   "execution_count": 8,
   "id": "900436cd",
   "metadata": {},
   "outputs": [],
   "source": [
    "# 데이터 전처리 함수\n",
    "def preprocess_sentence(sentence, remove_stopwords=True):\n",
    "    sentence = sentence.lower()  # 소문자화\n",
    "    sentence = BeautifulSoup(sentence, \"lxml\").text  # html 태그 제거\n",
    "    sentence = re.sub(r'\\([^)]*\\)', '', sentence)  # 괄호로 닫힌 문자열 제거\n",
    "    sentence = re.sub('\"', '', sentence)  # 쌍따옴표 \" 제거\n",
    "    sentence = ' '.join([contractions[t] if t in contractions else t for t in sentence.split(\" \")]) # 약어 정규화\n",
    "    sentence = re.sub(r\"'s\\b\",\"\", sentence) # 소유격 제거\n",
    "    sentence = re.sub(\"[^a-zA-Z]\", \" \", sentence) # 영어 외 문자(숫자, 특수문자 등) 공백으로 변환\n",
    "    sentence = re.sub('[m]{2,}', 'mm', sentence) # m이 3개 이상이면 2개로 변경. Ex) ummmmmmm yeah -> umm yeah\n",
    "    \n",
    "    # 불용어 제거 (text)\n",
    "    if remove_stopwords:\n",
    "        tokens = ' '.join(word for word in sentence.split() if not word in stopwords.words('english') if len(word) > 1)\n",
    "    # 불용어 미제거 (headlines)\n",
    "    else:\n",
    "        tokens = ' '.join(word for word in sentence.split() if len(word) > 1)\n",
    "    return tokens"
   ]
  },
  {
   "cell_type": "code",
   "execution_count": 9,
   "id": "b94e200f",
   "metadata": {},
   "outputs": [
    {
     "name": "stdout",
     "output_type": "stream",
     "text": [
      "text :  everything bought great infact ordered twice third ordered wasfor mother father\n",
      "headlines :  great way to start the day\n"
     ]
    }
   ],
   "source": [
    "# 전처리 전후 결과 확인을 위해 임의의 text와 headlines 만들어 함수 호출\n",
    "temp_text = 'Everything I bought was great, infact I ordered twice and the third ordered was<br />for my mother and father.'\n",
    "temp_headlines = 'Great way to start (or finish) the day!!!'\n",
    "\n",
    "print(\"text : \", preprocess_sentence(temp_text))\n",
    "print(\"headlines : \", preprocess_sentence(temp_headlines, False))"
   ]
  },
  {
   "cell_type": "code",
   "execution_count": 10,
   "id": "69195671",
   "metadata": {},
   "outputs": [
    {
     "name": "stdout",
     "output_type": "stream",
     "text": [
      "text 전처리 후 결과 :  ['saurav kant alumnus upgrad iiit pg program machine learning artificial intelligence sr systems engineer infosys almost years work experience program upgrad degree career support helped transition data scientist tech mahindra salary hike upgrad online power learning powered lakh careers', 'kunal shah credit card bill payment platform cred gave users chance win free food swiggy one year pranav kaushik delhi techie bagged reward spending cred coins users get one cred coin per rupee bill paid used avail rewards brands like ixigo bookmyshow ubereats cult fit', 'new zealand defeated india wickets fourth odi hamilton thursday win first match five match odi series india lost international match rohit sharma captaincy consecutive victories dating back march match witnessed india getting seventh lowest total odi cricket history', 'aegon life iterm insurance plan customers enjoy tax benefits premiums paid save taxes plan provides life cover age years also customers options insure critical illnesses disability accidental death benefit rider life cover age years', 'speaking sexual harassment allegations rajkumar hirani sonam kapoor said known hirani many years true metoo movement get derailed metoo movement always believe woman case need reserve judgment added hirani accused assistant worked sanju']\n"
     ]
    }
   ],
   "source": [
    "clean_text = []\n",
    "# 전체 Text 데어터에 대한 전처리 : 10분 이상 시간이 걸릴 수 있다.\n",
    "for s in data['text']:\n",
    "    clean_text.append(preprocess_sentence(s))\n",
    "    \n",
    "# 전처리 후 출력\n",
    "print(\"text 전처리 후 결과 : \", clean_text[:5])"
   ]
  },
  {
   "cell_type": "code",
   "execution_count": 11,
   "id": "ba72ce2a",
   "metadata": {},
   "outputs": [
    {
     "name": "stdout",
     "output_type": "stream",
     "text": [
      "headlines 전처리 후 결과 :  ['upgrad learner switches to career in ml al with salary hike', 'delhi techie wins free food from swiggy for one year on cred', 'new zealand end rohit sharma led india match winning streak', 'aegon life iterm insurance plan helps customers save tax', 'have known hirani for yrs what if metoo claims are not true sonam']\n"
     ]
    }
   ],
   "source": [
    "clean_headlines = []\n",
    "# 전체 headlines 데이터에 대한 전처리 : 5분 이상 시간이 걸릴 수 있다. \n",
    "for s in data['headlines']:\n",
    "    clean_headlines.append(preprocess_sentence(s, False))\n",
    "    \n",
    "print(\"headlines 전처리 후 결과 : \", clean_headlines[:5])"
   ]
  },
  {
   "cell_type": "code",
   "execution_count": 12,
   "id": "26443000",
   "metadata": {},
   "outputs": [],
   "source": [
    "# 데이터들을 데이터프레임에 저장, empty 값이 있으면 Null 값으로 대체\n",
    "data['text'] = clean_text\n",
    "data['headlines'] = clean_headlines\n",
    "\n",
    "# 빈 값을 Null 값으로 변환\n",
    "data.replace('', np.nan, inplace=True)"
   ]
  },
  {
   "cell_type": "code",
   "execution_count": 13,
   "id": "a7f225ff",
   "metadata": {},
   "outputs": [
    {
     "data": {
      "text/plain": [
       "headlines    0\n",
       "text         0\n",
       "dtype: int64"
      ]
     },
     "execution_count": 13,
     "metadata": {},
     "output_type": "execute_result"
    }
   ],
   "source": [
    "# Null 값이 생겼는지 확인\n",
    "data.isnull().sum()"
   ]
  },
  {
   "cell_type": "markdown",
   "id": "9eb06be5",
   "metadata": {},
   "source": [
    "### (3) 샘플 최대 길이 설정"
   ]
  },
  {
   "cell_type": "code",
   "execution_count": 14,
   "id": "0b785e79",
   "metadata": {},
   "outputs": [
    {
     "name": "stdout",
     "output_type": "stream",
     "text": [
      "텍스트의 최소 길이 : 1\n",
      "텍스트의 최대 길이 : 60\n",
      "텍스트의 평균 길이 : 35.09968483123221\n",
      "요약의 최소 길이 : 1\n",
      "요약의 최대 길이 : 16\n",
      "요약의 평균 길이 : 9.299532330215534\n"
     ]
    },
    {
     "data": {
      "image/png": "[encoded data removed]",
      "text/plain": [
       "<Figure size 432x288 with 2 Axes>"
      ]
     },
     "metadata": {
      "needs_background": "light"
     },
     "output_type": "display_data"
    },
    {
     "data": {
      "image/png": "[encoded data removed]",
      "text/plain": [
       "<Figure size 432x288 with 1 Axes>"
      ]
     },
     "metadata": {
      "needs_background": "light"
     },
     "output_type": "display_data"
    },
    {
     "data": {
      "image/png": "[encoded data removed]",
      "text/plain": [
       "<Figure size 432x288 with 1 Axes>"
      ]
     },
     "metadata": {
      "needs_background": "light"
     },
     "output_type": "display_data"
    }
   ],
   "source": [
    "# 길이 분포 출력\n",
    "import matplotlib.pyplot as plt\n",
    "\n",
    "text_len = [len(s.split()) for s in data['text']]\n",
    "headlines_len = [len(s.split()) for s in data['headlines']]\n",
    "\n",
    "print('텍스트의 최소 길이 : {}'.format(np.min(text_len)))\n",
    "print('텍스트의 최대 길이 : {}'.format(np.max(text_len)))\n",
    "print('텍스트의 평균 길이 : {}'.format(np.mean(text_len)))\n",
    "print('요약의 최소 길이 : {}'.format(np.min(headlines_len)))\n",
    "print('요약의 최대 길이 : {}'.format(np.max(headlines_len)))\n",
    "print('요약의 평균 길이 : {}'.format(np.mean(headlines_len)))\n",
    "\n",
    "plt.subplot(1, 2, 1)\n",
    "plt.boxplot(text_len)\n",
    "plt.title('text')\n",
    "plt.subplot(1, 2, 2)\n",
    "plt.boxplot(headlines_len)\n",
    "plt.title('headlines')\n",
    "plt.tight_layout()\n",
    "plt.show()\n",
    "\n",
    "plt.title('text')\n",
    "plt.hist(text_len, bins=40)\n",
    "plt.xlabel('lenght of samples')\n",
    "plt.ylabel('number of samples')\n",
    "plt.show()\n",
    "\n",
    "plt.title('headlines')\n",
    "plt.hist(headlines_len, bins=40)\n",
    "plt.xlabel('length of samples')\n",
    "plt.ylabel('number of samples')\n",
    "plt.show()"
   ]
  },
  {
   "cell_type": "code",
   "execution_count": 15,
   "id": "b532077e",
   "metadata": {},
   "outputs": [],
   "source": [
    "# text 최대 길이랑 headlines 최대 길이 임의지정\n",
    "text_max_len = 40\n",
    "headlines_max_len = 10"
   ]
  },
  {
   "cell_type": "markdown",
   "id": "ef4a6b7a",
   "metadata": {},
   "source": [
    "- 이 길이를 선택했을 때, 얼마나 많은 샘플들을 자르지 않고 포함할 수 있는지 통계로 확인하는 편이 객관적으로 길이를 결정하는데 도움이 된다.   \n",
    "훈련 데이터와 샘플의 길이를 입력하면, 데이터와 몇 %가 해당하는지 계산하는 함수를 만들어서 좀 더 정확하게 판단해보자."
   ]
  },
  {
   "cell_type": "code",
   "execution_count": 16,
   "id": "cd448617",
   "metadata": {},
   "outputs": [],
   "source": [
    "def below_threshold_len(max_len, nested_list):\n",
    "    cnt = 0\n",
    "    for s in nested_list:\n",
    "        if(len(s.split()) <= max_len):\n",
    "            cnt = cnt + 1\n",
    "    \n",
    "    print('전체 샘플 중 길이가 %s 이하인 샘플의 비율 : %s'%(max_len, (cnt / len(nested_list))))"
   ]
  },
  {
   "cell_type": "code",
   "execution_count": 17,
   "id": "43b6c529",
   "metadata": {},
   "outputs": [
    {
     "name": "stdout",
     "output_type": "stream",
     "text": [
      "전체 샘플 중 길이가 40 이하인 샘플의 비율 : 0.9238714924766165\n",
      "전체 샘플 중 길이가 10 이하인 샘플의 비율 : 0.8162972753151687\n"
     ]
    }
   ],
   "source": [
    "below_threshold_len(text_max_len, data['text'])\n",
    "below_threshold_len(headlines_max_len, data['headlines'])"
   ]
  },
  {
   "cell_type": "markdown",
   "id": "79dd86a8",
   "metadata": {},
   "source": [
    "- 각각 40과 10으로 패딩을 하게 되면 긴 샘플들은 내용이 잘리게 된다. 정해진 길이에 맞춰 자르는 것이 아니라, 정해진 길이보다 길면 제외하는 방법으로 데이터를 정제하자. "
   ]
  },
  {
   "cell_type": "code",
   "execution_count": 18,
   "id": "9f1d53de",
   "metadata": {},
   "outputs": [
    {
     "name": "stdout",
     "output_type": "stream",
     "text": [
      "전체 샘플 수 :  74102\n"
     ]
    }
   ],
   "source": [
    "data = data[data['text'].apply(lambda x: len(x.split()) <= text_max_len)]\n",
    "data = data[data['headlines'].apply(lambda x: len(x.split()) <= headlines_max_len)]\n",
    "print('전체 샘플 수 : ', len(data))"
   ]
  },
  {
   "cell_type": "markdown",
   "id": "c0c18c31",
   "metadata": {},
   "source": [
    "### (4) 시작 토큰과 종료 토큰 추가\n",
    "seq2seq 훈련을 위해서는 디코드의 입력과 레이블에 시작 토큰과 종료 토큰을 추가할 필요가 있다.  \n",
    "시작 토큰은 `sostoken`, 종료 토큰은 `eostoken`이라 명명하고 앞, 뒤로 추가해보자. 디코더의 입력에 해당하면서 시작 토큰이 맨 앞에 있는 문장의 이름을 `decoder_input`, 디코더의 출력 또는 레이블에 해당하면서 종료 토큰이 맨 뒤에 붙는 문장의 이름을 `decoder_target`이라고 정하자. "
   ]
  },
  {
   "cell_type": "code",
   "execution_count": 19,
   "id": "723883a9",
   "metadata": {},
   "outputs": [
    {
     "data": {
      "text/html": [
       "<div>\n",
       "<style scoped>\n",
       "    .dataframe tbody tr th:only-of-type {\n",
       "        vertical-align: middle;\n",
       "    }\n",
       "\n",
       "    .dataframe tbody tr th {\n",
       "        vertical-align: top;\n",
       "    }\n",
       "\n",
       "    .dataframe thead th {\n",
       "        text-align: right;\n",
       "    }\n",
       "</style>\n",
       "<table border=\"1\" class=\"dataframe\">\n",
       "  <thead>\n",
       "    <tr style=\"text-align: right;\">\n",
       "      <th></th>\n",
       "      <th>headlines</th>\n",
       "      <th>text</th>\n",
       "      <th>decoder_input</th>\n",
       "      <th>decoder_target</th>\n",
       "    </tr>\n",
       "  </thead>\n",
       "  <tbody>\n",
       "    <tr>\n",
       "      <th>2</th>\n",
       "      <td>new zealand end rohit sharma led india match w...</td>\n",
       "      <td>new zealand defeated india wickets fourth odi ...</td>\n",
       "      <td>sostoken new zealand end rohit sharma led indi...</td>\n",
       "      <td>new zealand end rohit sharma led india match w...</td>\n",
       "    </tr>\n",
       "    <tr>\n",
       "      <th>3</th>\n",
       "      <td>aegon life iterm insurance plan helps customer...</td>\n",
       "      <td>aegon life iterm insurance plan customers enjo...</td>\n",
       "      <td>sostoken aegon life iterm insurance plan helps...</td>\n",
       "      <td>aegon life iterm insurance plan helps customer...</td>\n",
       "    </tr>\n",
       "    <tr>\n",
       "      <th>5</th>\n",
       "      <td>rahat fateh ali khan denies getting notice for...</td>\n",
       "      <td>pakistani singer rahat fateh ali khan denied r...</td>\n",
       "      <td>sostoken rahat fateh ali khan denies getting n...</td>\n",
       "      <td>rahat fateh ali khan denies getting notice for...</td>\n",
       "    </tr>\n",
       "    <tr>\n",
       "      <th>9</th>\n",
       "      <td>cong wins ramgarh bypoll in rajasthan takes to...</td>\n",
       "      <td>congress candidate shafia zubair ramgarh assem...</td>\n",
       "      <td>sostoken cong wins ramgarh bypoll in rajasthan...</td>\n",
       "      <td>cong wins ramgarh bypoll in rajasthan takes to...</td>\n",
       "    </tr>\n",
       "    <tr>\n",
       "      <th>10</th>\n",
       "      <td>up cousins fed human excreta for friendship wi...</td>\n",
       "      <td>two minor cousins uttar pradesh gorakhpur alle...</td>\n",
       "      <td>sostoken up cousins fed human excreta for frie...</td>\n",
       "      <td>up cousins fed human excreta for friendship wi...</td>\n",
       "    </tr>\n",
       "  </tbody>\n",
       "</table>\n",
       "</div>"
      ],
      "text/plain": [
       "                                            headlines  \\\n",
       "2   new zealand end rohit sharma led india match w...   \n",
       "3   aegon life iterm insurance plan helps customer...   \n",
       "5   rahat fateh ali khan denies getting notice for...   \n",
       "9   cong wins ramgarh bypoll in rajasthan takes to...   \n",
       "10  up cousins fed human excreta for friendship wi...   \n",
       "\n",
       "                                                 text  \\\n",
       "2   new zealand defeated india wickets fourth odi ...   \n",
       "3   aegon life iterm insurance plan customers enjo...   \n",
       "5   pakistani singer rahat fateh ali khan denied r...   \n",
       "9   congress candidate shafia zubair ramgarh assem...   \n",
       "10  two minor cousins uttar pradesh gorakhpur alle...   \n",
       "\n",
       "                                        decoder_input  \\\n",
       "2   sostoken new zealand end rohit sharma led indi...   \n",
       "3   sostoken aegon life iterm insurance plan helps...   \n",
       "5   sostoken rahat fateh ali khan denies getting n...   \n",
       "9   sostoken cong wins ramgarh bypoll in rajasthan...   \n",
       "10  sostoken up cousins fed human excreta for frie...   \n",
       "\n",
       "                                       decoder_target  \n",
       "2   new zealand end rohit sharma led india match w...  \n",
       "3   aegon life iterm insurance plan helps customer...  \n",
       "5   rahat fateh ali khan denies getting notice for...  \n",
       "9   cong wins ramgarh bypoll in rajasthan takes to...  \n",
       "10  up cousins fed human excreta for friendship wi...  "
      ]
     },
     "execution_count": 19,
     "metadata": {},
     "output_type": "execute_result"
    }
   ],
   "source": [
    "# 요약 데이터에는 시작 토큰과 종료 토큰을 추가한다.\n",
    "data['decoder_input'] = data['headlines'].apply(lambda x: 'sostoken ' + x)\n",
    "data['decoder_target'] = data['headlines'].apply(lambda x: x + ' eostoken')\n",
    "data.head()"
   ]
  },
  {
   "cell_type": "code",
   "execution_count": 20,
   "id": "4d6521b0",
   "metadata": {},
   "outputs": [],
   "source": [
    "# 인코더의 입력, 디코더의 입력과 레이블을 각각 다시 Numpy 타입으로 저장\n",
    "encoder_input = np.array(data['text'])  # 인코더의 입력\n",
    "decoder_input = np.array(data['decoder_input'])  # 디코더의 입력\n",
    "decoder_target = np.array(data['decoder_target'])  # 디코더의 레이블"
   ]
  },
  {
   "cell_type": "code",
   "execution_count": 21,
   "id": "492ee1a1",
   "metadata": {},
   "outputs": [
    {
     "name": "stdout",
     "output_type": "stream",
     "text": [
      "[59605 44768 32465 ... 38952 68576 62626]\n"
     ]
    }
   ],
   "source": [
    "# encoder_input과 크기와 형태가 같은 순서가 섞인 정수 시퀀스 생성\n",
    "indices = np.arange(encoder_input.shape[0])\n",
    "np.random.shuffle(indices)\n",
    "print(indices)"
   ]
  },
  {
   "cell_type": "code",
   "execution_count": 22,
   "id": "ae12c708",
   "metadata": {},
   "outputs": [],
   "source": [
    "# 정수 시퀀스를 이용해 다시 샘플 데이터의 샘플 순서 정의\n",
    "encoder_input = encoder_input[indices]\n",
    "decoder_input = decoder_input[indices]\n",
    "decoder_target = decoder_target[indices]"
   ]
  },
  {
   "cell_type": "code",
   "execution_count": 23,
   "id": "3d8a55ee",
   "metadata": {},
   "outputs": [
    {
     "name": "stdout",
     "output_type": "stream",
     "text": [
      "테스트 데이터의 수 :  14820\n"
     ]
    }
   ],
   "source": [
    "# 8:2의 비율로 훈련 데이터와 테스트 데이터 분리\n",
    "n_of_val = int(len(encoder_input) * 0.2)\n",
    "print('테스트 데이터의 수 : ', n_of_val)"
   ]
  },
  {
   "cell_type": "code",
   "execution_count": 24,
   "id": "799fd661",
   "metadata": {},
   "outputs": [
    {
     "name": "stdout",
     "output_type": "stream",
     "text": [
      "훈련 데이터의 개수 :  59282\n",
      "훈련 레이블의 개수 :  59282\n",
      "테스트 데이터의 개수 :  14820\n",
      "테스트 레이블의 개수 :  14820\n"
     ]
    }
   ],
   "source": [
    "# 정의한 테스트 데이터의 개수를 이용해 전체 데이터 양분\n",
    "encoder_input_train = encoder_input[:-n_of_val]\n",
    "decoder_input_train = decoder_input[:-n_of_val]\n",
    "decoder_target_train = decoder_target[:-n_of_val]\n",
    "\n",
    "encoder_input_test = encoder_input[-n_of_val:]\n",
    "decoder_input_test = decoder_input[-n_of_val:]\n",
    "decoder_target_test = decoder_target[-n_of_val:]\n",
    "\n",
    "print('훈련 데이터의 개수 : ', len(encoder_input_train))\n",
    "print('훈련 레이블의 개수 : ', len(decoder_input_train))\n",
    "print('테스트 데이터의 개수 : ', len(encoder_input_test))\n",
    "print('테스트 레이블의 개수 : ', len(decoder_input_test))"
   ]
  },
  {
   "cell_type": "markdown",
   "id": "e2c818e0",
   "metadata": {},
   "source": [
    "### (5) 단어 집합(vocabulary) 만들기 및 정수 인코딩\n",
    "기계가 텍스트를 숫자로 처리할 수 있도록 훈련 데이터와 테스트 데이터의 단어들을 모두 정수로 바꿔줘야 한다. 이를 위해서 각 단어에 고유한 정수를 맵핑하는 작업이 필요한데, 이를 **단어 집합(vocabulary)**을 만든다고 표현한다. Keras의 토크나이저를 사용하면, 입력된 훈련 데이터로부터 단어 집합을 만들 수 있다."
   ]
  },
  {
   "cell_type": "code",
   "execution_count": 25,
   "id": "e447effa",
   "metadata": {},
   "outputs": [],
   "source": [
    "src_tokenizer = Tokenizer()  # 토크나이저 정의\n",
    "src_tokenizer.fit_on_texts(encoder_input_train)  # 입력된 데이터로부터 단어 집합 생성"
   ]
  },
  {
   "cell_type": "code",
   "execution_count": 26,
   "id": "f4cc1f9c",
   "metadata": {},
   "outputs": [
    {
     "name": "stdout",
     "output_type": "stream",
     "text": [
      "단어 집합(vocabulary)의 크기 :  61426\n",
      "등장 빈도가 6번 이하인 희귀 단어의 수: 42156\n",
      "단어 집합에서 희귀 단어를 제외시킬 경우의 단어 집합의 크기 19270\n",
      "단어 집합에서 희귀 단어의 비율: 68.62891935011233\n",
      "전체 등장 빈도에서 희귀 단어 등장 빈도 비율: 4.201467525999735\n"
     ]
    }
   ],
   "source": [
    "threshold = 7\n",
    "total_cnt = len(src_tokenizer.word_index)  # 단어의 수\n",
    "rare_cnt = 0  # 등장 빈도수가 threshold보다 작은 단어의 개수를 카운트\n",
    "total_freq = 0  # 훈련 데이터의 전체 단어 빈도수 총 합\n",
    "rare_freq = 0  # 등장 빈도수가 threshold보다 작은 단어의 등장 빈도수의 총 합\n",
    "\n",
    "# 단어와 빈도수의 쌍을 key와 value로 받는다.\n",
    "for key, value in src_tokenizer.word_counts.items():\n",
    "    total_freq = total_freq + value\n",
    "    \n",
    "    # 단어의 등장 빈도수가 threshold보다 작으면\n",
    "    if(value < threshold):\n",
    "        rare_cnt = rare_cnt + 1\n",
    "        rare_freq = rare_freq + value\n",
    "\n",
    "print('단어 집합(vocabulary)의 크기 : ', total_cnt)\n",
    "print('등장 빈도가 %s번 이하인 희귀 단어의 수: %s'%(threshold - 1, rare_cnt))\n",
    "print('단어 집합에서 희귀 단어를 제외시킬 경우의 단어 집합의 크기 %s'%(total_cnt - rare_cnt))\n",
    "print(\"단어 집합에서 희귀 단어의 비율:\", (rare_cnt / total_cnt)*100)\n",
    "print(\"전체 등장 빈도에서 희귀 단어 등장 빈도 비율:\", (rare_freq / total_freq)*100)"
   ]
  },
  {
   "cell_type": "markdown",
   "id": "3290e5d2",
   "metadata": {},
   "source": [
    "등장빈도가 6회 이하인 단어들은 정수 인코딩 과정에서 빼고, 훈련 데이터에서 제거하고자 한다.  \n",
    "위에서 이를 제외한 단어 집합의 크기를 2만여 개로 계산했는데, 이와 비슷한 값으로 어림잡아 단어 집합의 크기를 19000으로 제한해보자. "
   ]
  },
  {
   "cell_type": "code",
   "execution_count": 27,
   "id": "4f81513e",
   "metadata": {},
   "outputs": [],
   "source": [
    "src_vocab = 19000\n",
    "src_tokenizer = Tokenizer(num_words=src_vocab)  # 단어 집합의 크기를 8000으로 제한\n",
    "src_tokenizer.fit_on_texts(encoder_input_train) # 단어 집합 재생성"
   ]
  },
  {
   "cell_type": "code",
   "execution_count": 28,
   "id": "5227f09a",
   "metadata": {},
   "outputs": [
    {
     "name": "stdout",
     "output_type": "stream",
     "text": [
      "[[12188, 124, 2449, 22, 195, 1651, 1472, 18, 1101, 160, 708, 1917, 18, 4948, 30, 101, 3135, 10025, 1019, 2449, 2763, 6996, 14395, 1, 6542, 195, 5008, 202], [174, 7638, 4467, 82, 1576, 762, 718, 785, 191, 507, 552, 4147, 150, 1518, 7106, 6, 4467, 5, 1, 343, 1788, 3532, 762, 718, 181, 170, 104, 191, 299, 507, 1259, 10, 1166, 1603, 2213, 3939, 785], [55, 1109, 678, 77, 129, 2981, 2514, 3258, 400, 153, 12, 5, 83, 400, 1373, 12, 403, 678, 3309, 2, 15, 261, 2, 15, 255, 3718, 2706, 165, 348, 166, 115]]\n"
     ]
    }
   ],
   "source": [
    "# 텍스트 시퀀스를 정수 시퀀스로 변환\n",
    "encoder_input_train = src_tokenizer.texts_to_sequences(encoder_input_train)\n",
    "encoder_input_test = src_tokenizer.texts_to_sequences(encoder_input_test)\n",
    "\n",
    "# 잘 진행되었는지 샘플 출력\n",
    "print(encoder_input_train[:3])"
   ]
  },
  {
   "cell_type": "code",
   "execution_count": 29,
   "id": "41115aff",
   "metadata": {},
   "outputs": [],
   "source": [
    "# headlines 데이터에 대해서도 동일한 작업 수행\n",
    "tar_tokenizer = Tokenizer()\n",
    "tar_tokenizer.fit_on_texts(decoder_input_train)"
   ]
  },
  {
   "cell_type": "code",
   "execution_count": 30,
   "id": "65286f5a",
   "metadata": {},
   "outputs": [
    {
     "name": "stdout",
     "output_type": "stream",
     "text": [
      "단어 집합(vocabulary)의 크기 : 27246\n",
      "등장 빈도가 5번 이하인 희귀 단어의 수: 18211\n",
      "단어 집합에서 희귀 단어를 제외시킬 경우의 단어 집합의 크기 9035\n",
      "단어 집합에서 희귀 단어의 비율: 66.83916905233795\n",
      "전체 등장 빈도에서 희귀 단어 등장 빈도 비율: 5.992184778337043\n"
     ]
    }
   ],
   "source": [
    "threshold = 6\n",
    "total_cnt = len(tar_tokenizer.word_index) # 단어의 수\n",
    "rare_cnt = 0 # 등장 빈도수가 threshold보다 작은 단어의 개수를 카운트\n",
    "total_freq = 0 # 훈련 데이터의 전체 단어 빈도수 총 합\n",
    "rare_freq = 0 # 등장 빈도수가 threshold보다 작은 단어의 등장 빈도수의 총 합\n",
    "\n",
    "# 단어와 빈도수의 쌍(pair)을 key와 value로 받는다.\n",
    "for key, value in tar_tokenizer.word_counts.items():\n",
    "    total_freq = total_freq + value\n",
    "\n",
    "    # 단어의 등장 빈도수가 threshold보다 작으면\n",
    "    if(value < threshold):\n",
    "        rare_cnt = rare_cnt + 1\n",
    "        rare_freq = rare_freq + value\n",
    "\n",
    "print('단어 집합(vocabulary)의 크기 :', total_cnt)\n",
    "print('등장 빈도가 %s번 이하인 희귀 단어의 수: %s'%(threshold - 1, rare_cnt))\n",
    "print('단어 집합에서 희귀 단어를 제외시킬 경우의 단어 집합의 크기 %s'%(total_cnt - rare_cnt))\n",
    "print(\"단어 집합에서 희귀 단어의 비율:\", (rare_cnt / total_cnt)*100)\n",
    "print(\"전체 등장 빈도에서 희귀 단어 등장 빈도 비율:\", (rare_freq / total_freq)*100)"
   ]
  },
  {
   "cell_type": "code",
   "execution_count": 31,
   "id": "a6d8aa10",
   "metadata": {},
   "outputs": [
    {
     "name": "stdout",
     "output_type": "stream",
     "text": [
      "input\n",
      "input  [[1, 20, 1880, 155, 2652, 3, 307, 24, 88], [1, 3037, 4882, 365, 443, 450, 207, 402, 625, 3458], [1, 334, 2280, 322, 5, 1273, 58, 16, 62], [1, 372, 2868, 390, 6968, 301, 1425, 3, 5710], [1, 81, 3037, 787, 2006, 49, 365, 443, 136, 4, 14]]\n",
      "target\n",
      "decoder  [[20, 1880, 155, 2652, 3, 307, 24, 88, 2], [3037, 4882, 365, 443, 450, 207, 402, 625, 3458, 2], [334, 2280, 322, 5, 1273, 58, 16, 62, 2], [372, 2868, 390, 6968, 301, 1425, 3, 5710, 2], [81, 3037, 787, 2006, 49, 365, 443, 136, 4, 14, 2]]\n"
     ]
    }
   ],
   "source": [
    "tar_vocab = 9000\n",
    "tar_tokenizer = Tokenizer(num_words=tar_vocab) \n",
    "tar_tokenizer.fit_on_texts(decoder_input_train)\n",
    "tar_tokenizer.fit_on_texts(decoder_target_train)\n",
    "\n",
    "# 텍스트 시퀀스를 정수 시퀀스로 변환\n",
    "decoder_input_train = tar_tokenizer.texts_to_sequences(decoder_input_train) \n",
    "decoder_target_train = tar_tokenizer.texts_to_sequences(decoder_target_train)\n",
    "decoder_input_test = tar_tokenizer.texts_to_sequences(decoder_input_test)\n",
    "decoder_target_test = tar_tokenizer.texts_to_sequences(decoder_target_test)\n",
    "\n",
    "# 잘 변환되었는지 확인\n",
    "print('input')\n",
    "print('input ',decoder_input_train[:5])\n",
    "print('target')\n",
    "print('decoder ',decoder_target_train[:5])"
   ]
  },
  {
   "cell_type": "markdown",
   "id": "5d007084",
   "metadata": {},
   "source": [
    "- 정상적으로 정수 인코딩 작업이 끝났다. `decoder_input_train`과 `decoder_target_train`에는 더 이상 숫자 2000이 넘는 숫자는 존재하지 않는다. \n",
    "- 전체 데이터에서 빈도수가 낮은 단어가 삭제되었다는 것은 빈도가 낮은 단어만으로 구성되었던 샘플들은 이제 빈 샘플이 되었을 가능성이 있다. \n",
    "- 요약문에서 길이가 0이된 샘플들의 인덱스를 받아와보자."
   ]
  },
  {
   "cell_type": "code",
   "execution_count": 32,
   "id": "4e80f88f",
   "metadata": {},
   "outputs": [
    {
     "name": "stdout",
     "output_type": "stream",
     "text": [
      "삭제할 훈련 데이터의 개수 :  0\n",
      "삭제할 테스트 데이터의 개수 :  0\n",
      "훈련 데이터의 개수 : 59282\n",
      "훈련 레이블의 개수 : 59282\n",
      "테스트 데이터의 개수 : 14820\n",
      "테스트 레이블의 개수 : 14820\n"
     ]
    }
   ],
   "source": [
    "# 훈련 데이터와 테스트 데이터에 대해서 요약문의 길이가 1인 경우의 인덱스를 각각 drop_train과 drop_test라는 변수에 저장해보자. \n",
    "drop_train = [index for index, sentence in enumerate(decoder_input_train) if len(sentence) == 1]\n",
    "drop_test = [index for index, sentence in enumerate(decoder_input_test) if len(sentence) == 1]\n",
    "\n",
    "print('삭제할 훈련 데이터의 개수 : ', len(drop_train))\n",
    "print('삭제할 테스트 데이터의 개수 : ', len(drop_test))\n",
    "\n",
    "encoder_input_train = [sentence for index, sentence in enumerate(encoder_input_train) if index not in drop_train]\n",
    "decoder_input_train = [sentence for index, sentence in enumerate(decoder_input_train) if index not in drop_train]\n",
    "decoder_target_train = [sentence for index, sentence in enumerate(decoder_target_train) if index not in drop_train]\n",
    "\n",
    "encoder_input_test = [sentence for index, sentence in enumerate(encoder_input_test) if index not in drop_test]\n",
    "decoder_input_test = [sentence for index, sentence in enumerate(decoder_input_test) if index not in drop_test]\n",
    "decoder_target_test = [sentence for index, sentence in enumerate(decoder_target_test) if index not in drop_test]\n",
    "\n",
    "print('훈련 데이터의 개수 :', len(encoder_input_train))\n",
    "print('훈련 레이블의 개수 :', len(decoder_input_train))\n",
    "print('테스트 데이터의 개수 :', len(encoder_input_test))\n",
    "print('테스트 레이블의 개수 :', len(decoder_input_test))"
   ]
  },
  {
   "cell_type": "markdown",
   "id": "a6904521",
   "metadata": {},
   "source": [
    "### (6) 패딩하기\n",
    "- 텍스트 시퀀스를 정수 시퀀스로 변환했다면, 이제 서로 다른 길이의 샘플들을 병렬 처리하기 위해 같은 길이로 맞춰주는 패딩 작업을 해야한다.  \n",
    "- 아까 정해둔 최대 길이로 패딩하고, 최대 길이보다 짧은 데이터들은 뒤의 공간에 숫자 0을 넣어 최대 길이로 맞춰준다."
   ]
  },
  {
   "cell_type": "code",
   "execution_count": 33,
   "id": "c1659c73",
   "metadata": {},
   "outputs": [],
   "source": [
    "encoder_input_train = pad_sequences(encoder_input_train, maxlen=text_max_len, padding='post')\n",
    "encoder_input_test = pad_sequences(encoder_input_test, maxlen=text_max_len, padding='post')\n",
    "decoder_input_train = pad_sequences(decoder_input_train, maxlen=headlines_max_len, padding='post')\n",
    "decoder_target_train = pad_sequences(decoder_target_train, maxlen=headlines_max_len, padding='post')\n",
    "decoder_input_test = pad_sequences(decoder_input_test, maxlen=headlines_max_len, padding='post')\n",
    "decoder_target_test = pad_sequences(decoder_target_test, maxlen=headlines_max_len, padding='post')"
   ]
  },
  {
   "cell_type": "markdown",
   "id": "0420822c",
   "metadata": {},
   "source": [
    "## 3. modeling"
   ]
  },
  {
   "cell_type": "code",
   "execution_count": 34,
   "id": "275de8fd",
   "metadata": {},
   "outputs": [
    {
     "name": "stdout",
     "output_type": "stream",
     "text": [
      "WARNING:tensorflow:Layer lstm will not use cuDNN kernels since it doesn't meet the criteria. It will use a generic GPU kernel as fallback when running on GPU.\n",
      "WARNING:tensorflow:Layer lstm_1 will not use cuDNN kernels since it doesn't meet the criteria. It will use a generic GPU kernel as fallback when running on GPU.\n",
      "WARNING:tensorflow:Layer lstm_2 will not use cuDNN kernels since it doesn't meet the criteria. It will use a generic GPU kernel as fallback when running on GPU.\n"
     ]
    }
   ],
   "source": [
    "from tensorflow.keras.layers import Input, LSTM, Embedding, Dense, Concatenate, TimeDistributed\n",
    "from tensorflow.keras.models import Model\n",
    "from tensorflow.keras.callbacks import EarlyStopping, ModelCheckpoint\n",
    "\n",
    "\n",
    "# 인코더 설계 시작\n",
    "embedding_dim = 128\n",
    "hidden_size = 256\n",
    "\n",
    "# 인코더\n",
    "encoder_inputs = Input(shape=(text_max_len,))\n",
    "\n",
    "# 인코더의 임베딩 층\n",
    "enc_emb = Embedding(src_vocab, embedding_dim)(encoder_inputs)\n",
    "\n",
    "# 인코더의 LSTM 1\n",
    "encoder_lstm1 = LSTM(hidden_size, return_sequences=True, return_state=True ,dropout = 0.4, recurrent_dropout = 0.4)\n",
    "encoder_output1, state_h1, state_c1 = encoder_lstm1(enc_emb)\n",
    "\n",
    "# 인코더의 LSTM 2\n",
    "encoder_lstm2 = LSTM(hidden_size, return_sequences=True, return_state=True, dropout=0.4, recurrent_dropout=0.4)\n",
    "encoder_output2, state_h2, state_c2 = encoder_lstm2(encoder_output1)\n",
    "\n",
    "# 인코더의 LSTM 3\n",
    "encoder_lstm3 = LSTM(hidden_size, return_state=True, return_sequences=True, dropout=0.4, recurrent_dropout=0.4)\n",
    "encoder_outputs, state_h, state_c= encoder_lstm3(encoder_output2)"
   ]
  },
  {
   "cell_type": "markdown",
   "id": "c62718ee",
   "metadata": {},
   "source": [
    "- 임베딩 벡터의 차원은 128로 정의, hidden state 크기를 256으로 정의했다. hidden state는 LSTM에서 얼만큼의 수용력(capacity)를 가질지 정하는 파라미터다.  \n",
    "- 이 파라미터는 LSTM의 용량의 크기나, 뉴런의 개수라고 이해하면 된다. 무조건 용량을 많이 준다고 해서 성능이 반드시 올라가는 것은 아니다. 인코더의 LSTM은 총 3개의 층으로 구성해 모델의 복잡도를 높였다. hidden state의 크기를 늘리는 것이 LSTM 층 1개의 용량을 늘린다면, 3개의 층을 사용하는 것은 모델의 용량을 늘린다고 볼 수 있다.  \n",
    "- LSTM은 dropout뿐 아니라 recurrent dropout까지 사용한다. 일반적인 dropout이 레이어의 weight를 랜덤으로 생략해 모델의 overfitting을 해결한다면, recurrent dropout은 레이어가 아닌 time step마다 해주는 방식으로, regularization의 효과가 있고, overfitting을 방지할 수 있다. \n",
    "> 참고로 dropout과 recurrent dropout을 모두 사용한 것을 Variational Dropout이라고 한다. "
   ]
  },
  {
   "cell_type": "code",
   "execution_count": 35,
   "id": "efe1b699",
   "metadata": {},
   "outputs": [
    {
     "name": "stdout",
     "output_type": "stream",
     "text": [
      "WARNING:tensorflow:Layer lstm_3 will not use cuDNN kernels since it doesn't meet the criteria. It will use a generic GPU kernel as fallback when running on GPU.\n"
     ]
    }
   ],
   "source": [
    "# 디코더 설계\n",
    "decoder_inputs = Input(shape=(None,))\n",
    "\n",
    "# 디코더의 임베딩 층\n",
    "dec_emb_layer = Embedding(tar_vocab, embedding_dim)\n",
    "dec_emb = dec_emb_layer(decoder_inputs)\n",
    "\n",
    "# 디코더의 LSTM\n",
    "decoder_lstm = LSTM(hidden_size, return_sequences=True, return_state=True, dropout=0.4, recurrent_dropout=0.2)\n",
    "decoder_outputs, _, _ = decoder_lstm(dec_emb, initial_state=[state_h, state_c])"
   ]
  },
  {
   "cell_type": "markdown",
   "id": "9b5a2de5",
   "metadata": {},
   "source": [
    "- 디코더의 임베딩 층과 LSTM을 설계하는 것은 인코더와 거의 동일하다.  \n",
    "- 하지만 LSTM의 입력을 정의할 때, `initial_state`의 인자값으로 인코더의 hidden state와 cell state의 값을 넣어줘야 한다."
   ]
  },
  {
   "cell_type": "code",
   "execution_count": 36,
   "id": "b06aaddb",
   "metadata": {},
   "outputs": [
    {
     "name": "stdout",
     "output_type": "stream",
     "text": [
      "Model: \"model\"\n",
      "__________________________________________________________________________________________________\n",
      "Layer (type)                    Output Shape         Param #     Connected to                     \n",
      "==================================================================================================\n",
      "input_1 (InputLayer)            [(None, 40)]         0                                            \n",
      "__________________________________________________________________________________________________\n",
      "embedding (Embedding)           (None, 40, 128)      2432000     input_1[0][0]                    \n",
      "__________________________________________________________________________________________________\n",
      "lstm (LSTM)                     [(None, 40, 256), (N 394240      embedding[0][0]                  \n",
      "__________________________________________________________________________________________________\n",
      "input_2 (InputLayer)            [(None, None)]       0                                            \n",
      "__________________________________________________________________________________________________\n",
      "lstm_1 (LSTM)                   [(None, 40, 256), (N 525312      lstm[0][0]                       \n",
      "__________________________________________________________________________________________________\n",
      "embedding_1 (Embedding)         (None, None, 128)    1152000     input_2[0][0]                    \n",
      "__________________________________________________________________________________________________\n",
      "lstm_2 (LSTM)                   [(None, 40, 256), (N 525312      lstm_1[0][0]                     \n",
      "__________________________________________________________________________________________________\n",
      "lstm_3 (LSTM)                   [(None, None, 256),  394240      embedding_1[0][0]                \n",
      "                                                                 lstm_2[0][1]                     \n",
      "                                                                 lstm_2[0][2]                     \n",
      "__________________________________________________________________________________________________\n",
      "dense (Dense)                   (None, None, 9000)   2313000     lstm_3[0][0]                     \n",
      "==================================================================================================\n",
      "Total params: 7,736,104\n",
      "Trainable params: 7,736,104\n",
      "Non-trainable params: 0\n",
      "__________________________________________________________________________________________________\n"
     ]
    }
   ],
   "source": [
    "# 디코더의 출력층\n",
    "decoder_softmax_layer = Dense(tar_vocab, activation='softmax')\n",
    "decoder_softmax_outputs = decoder_softmax_layer(decoder_outputs)\n",
    "\n",
    "# 모델 정의\n",
    "model = Model([encoder_inputs, decoder_inputs], decoder_softmax_outputs)\n",
    "model.summary()"
   ]
  },
  {
   "cell_type": "markdown",
   "id": "ea15dc6b",
   "metadata": {},
   "source": [
    "- 디코더의 출력층에서는 Summary의 단어장인 `tar_vocab`의 수많은 선택지 중 하나의 단어를 선택하는 다중 클래스 분류 문제를 풀어야 한다. \n",
    "- 따라서 Dense의 인자로 `tar_vocab`을 주고, 활성화 함수로 소프트맥스를 사용하고 있다.  \n",
    "- 지금까지 설계한 것은 인코더의 hidden state와 cell state를 디코더의 초기 state로 사용하는 가장 기본적인 seq2seq다.  \n",
    "- 디코더의 출력층을 설계를 살짝 바꿔서 성능을 높일 수 있는 방법이 있는데, 그게 바로 어텐션 메커니즘이다!"
   ]
  },
  {
   "cell_type": "markdown",
   "id": "baa707fc",
   "metadata": {},
   "source": [
    "### (1) 어텐션 메커니즘\n",
    "Tensorflow에 이미 구현된 어텐션 함수를 가져와서 디코더의 출력층에 어떤 방식으로 결합하는지 살펴보자. "
   ]
  },
  {
   "cell_type": "code",
   "execution_count": 37,
   "id": "0d02b35b",
   "metadata": {},
   "outputs": [
    {
     "name": "stdout",
     "output_type": "stream",
     "text": [
      "Model: \"model_1\"\n",
      "__________________________________________________________________________________________________\n",
      "Layer (type)                    Output Shape         Param #     Connected to                     \n",
      "==================================================================================================\n",
      "input_1 (InputLayer)            [(None, 40)]         0                                            \n",
      "__________________________________________________________________________________________________\n",
      "embedding (Embedding)           (None, 40, 128)      2432000     input_1[0][0]                    \n",
      "__________________________________________________________________________________________________\n",
      "lstm (LSTM)                     [(None, 40, 256), (N 394240      embedding[0][0]                  \n",
      "__________________________________________________________________________________________________\n",
      "input_2 (InputLayer)            [(None, None)]       0                                            \n",
      "__________________________________________________________________________________________________\n",
      "lstm_1 (LSTM)                   [(None, 40, 256), (N 525312      lstm[0][0]                       \n",
      "__________________________________________________________________________________________________\n",
      "embedding_1 (Embedding)         (None, None, 128)    1152000     input_2[0][0]                    \n",
      "__________________________________________________________________________________________________\n",
      "lstm_2 (LSTM)                   [(None, 40, 256), (N 525312      lstm_1[0][0]                     \n",
      "__________________________________________________________________________________________________\n",
      "lstm_3 (LSTM)                   [(None, None, 256),  394240      embedding_1[0][0]                \n",
      "                                                                 lstm_2[0][1]                     \n",
      "                                                                 lstm_2[0][2]                     \n",
      "__________________________________________________________________________________________________\n",
      "attention_layer (AdditiveAttent (None, None, 256)    256         lstm_3[0][0]                     \n",
      "                                                                 lstm_2[0][0]                     \n",
      "__________________________________________________________________________________________________\n",
      "concat_layer (Concatenate)      (None, None, 512)    0           lstm_3[0][0]                     \n",
      "                                                                 attention_layer[0][0]            \n",
      "__________________________________________________________________________________________________\n",
      "dense_1 (Dense)                 (None, None, 9000)   4617000     concat_layer[0][0]               \n",
      "==================================================================================================\n",
      "Total params: 10,040,360\n",
      "Trainable params: 10,040,360\n",
      "Non-trainable params: 0\n",
      "__________________________________________________________________________________________________\n"
     ]
    }
   ],
   "source": [
    "from tensorflow.keras.layers import AdditiveAttention\n",
    "\n",
    "# 어텐션 층(어텐션 함수)\n",
    "attn_layer = AdditiveAttention(name='attention_layer')\n",
    "\n",
    "# 인코더와 디코더의 모든 time step의 hidden state를 어텐션 층에 전달하고 결과를 리턴\n",
    "attn_out = attn_layer([decoder_outputs, encoder_outputs])\n",
    "\n",
    "\n",
    "# 어텐션의 결과와 디코더의 hidden state들을 연결\n",
    "decoder_concat_input = Concatenate(axis=-1, name='concat_layer')([decoder_outputs, attn_out])\n",
    "\n",
    "# 디코더의 출력층\n",
    "decoder_softmax_layer = Dense(tar_vocab, activation='softmax')\n",
    "decoder_softmax_outputs = decoder_softmax_layer(decoder_concat_input)\n",
    "\n",
    "# 모델 정의\n",
    "model = Model([encoder_inputs, decoder_inputs], decoder_softmax_outputs)\n",
    "model.summary()"
   ]
  },
  {
   "cell_type": "markdown",
   "id": "0656f68c",
   "metadata": {},
   "source": [
    "## 4. Training"
   ]
  },
  {
   "cell_type": "code",
   "execution_count": 38,
   "id": "f7c3a792",
   "metadata": {},
   "outputs": [
    {
     "name": "stdout",
     "output_type": "stream",
     "text": [
      "Epoch 1/50\n",
      "232/232 [==============================] - 135s 547ms/step - loss: 6.3076 - val_loss: 5.8745\n",
      "Epoch 2/50\n",
      "232/232 [==============================] - 126s 543ms/step - loss: 5.7669 - val_loss: 5.5379\n",
      "Epoch 3/50\n",
      "232/232 [==============================] - 125s 538ms/step - loss: 5.4339 - val_loss: 5.2784\n",
      "Epoch 4/50\n",
      "232/232 [==============================] - 125s 539ms/step - loss: 5.1653 - val_loss: 5.0748\n",
      "Epoch 5/50\n",
      "232/232 [==============================] - 125s 537ms/step - loss: 4.9271 - val_loss: 4.9157\n",
      "Epoch 6/50\n",
      "232/232 [==============================] - 124s 534ms/step - loss: 4.7288 - val_loss: 4.7676\n",
      "Epoch 7/50\n",
      "232/232 [==============================] - 124s 534ms/step - loss: 4.5586 - val_loss: 4.6706\n",
      "Epoch 8/50\n",
      "232/232 [==============================] - 124s 537ms/step - loss: 4.4082 - val_loss: 4.5783\n",
      "Epoch 9/50\n",
      "232/232 [==============================] - 125s 537ms/step - loss: 4.2732 - val_loss: 4.5142\n",
      "Epoch 10/50\n",
      "232/232 [==============================] - 124s 533ms/step - loss: 4.1538 - val_loss: 4.4612\n",
      "Epoch 11/50\n",
      "232/232 [==============================] - 124s 533ms/step - loss: 4.0418 - val_loss: 4.4000\n",
      "Epoch 12/50\n",
      "232/232 [==============================] - 123s 531ms/step - loss: 3.9389 - val_loss: 4.3741\n",
      "Epoch 13/50\n",
      "232/232 [==============================] - 124s 534ms/step - loss: 3.8478 - val_loss: 4.3303\n",
      "Epoch 14/50\n",
      "232/232 [==============================] - 131s 566ms/step - loss: 3.7609 - val_loss: 4.3087\n",
      "Epoch 15/50\n",
      "232/232 [==============================] - 125s 539ms/step - loss: 3.6765 - val_loss: 4.2852\n",
      "Epoch 16/50\n",
      "232/232 [==============================] - 131s 563ms/step - loss: 3.6020 - val_loss: 4.2684\n",
      "Epoch 17/50\n",
      "232/232 [==============================] - 127s 549ms/step - loss: 3.5320 - val_loss: 4.2448\n",
      "Epoch 18/50\n",
      "232/232 [==============================] - 127s 548ms/step - loss: 3.4677 - val_loss: 4.2335\n",
      "Epoch 19/50\n",
      "232/232 [==============================] - 130s 562ms/step - loss: 3.4077 - val_loss: 4.2280\n",
      "Epoch 20/50\n",
      "232/232 [==============================] - 130s 561ms/step - loss: 3.3515 - val_loss: 4.2159\n",
      "Epoch 21/50\n",
      "232/232 [==============================] - 129s 558ms/step - loss: 3.2922 - val_loss: 4.2157\n",
      "Epoch 22/50\n",
      "232/232 [==============================] - 127s 546ms/step - loss: 3.2398 - val_loss: 4.2086\n",
      "Epoch 23/50\n",
      "232/232 [==============================] - 125s 541ms/step - loss: 3.1874 - val_loss: 4.2046\n",
      "Epoch 24/50\n",
      "232/232 [==============================] - 125s 539ms/step - loss: 3.1388 - val_loss: 4.2045\n",
      "Epoch 25/50\n",
      "232/232 [==============================] - 126s 542ms/step - loss: 3.0923 - val_loss: 4.2044\n",
      "Epoch 26/50\n",
      "232/232 [==============================] - 125s 541ms/step - loss: 3.0487 - val_loss: 4.2036\n",
      "Epoch 27/50\n",
      "232/232 [==============================] - 126s 542ms/step - loss: 3.0078 - val_loss: 4.1938\n",
      "Epoch 28/50\n",
      "232/232 [==============================] - 126s 542ms/step - loss: 2.9674 - val_loss: 4.2034\n",
      "Epoch 29/50\n",
      "232/232 [==============================] - 126s 542ms/step - loss: 2.9292 - val_loss: 4.2067\n",
      "Epoch 00029: early stopping\n"
     ]
    }
   ],
   "source": [
    "model.compile(optimizer='rmsprop', loss='sparse_categorical_crossentropy')\n",
    "es = EarlyStopping(monitor='val_loss', patience=2, verbose=1)\n",
    "history = model.fit(x=[encoder_input_train, decoder_input_train], y=decoder_target_train, \\\n",
    "          validation_data=([encoder_input_test, decoder_input_test], decoder_target_test), \\\n",
    "          batch_size=256, callbacks=[es], epochs=50)"
   ]
  },
  {
   "cell_type": "markdown",
   "id": "a19f0a9d",
   "metadata": {},
   "source": [
    "- 조기 종료를 뜻하는 `EarlyStopping`은 특정 조건이 충족되면 훈련을 멈추는 역할을 한다. 위 코드에서는 val_loss를 관찰하다가, 줄어들지 않고 증가하는 현상이 2회 관측되면 학습을 멈추도록 설정되어 있다. "
   ]
  },
  {
   "cell_type": "code",
   "execution_count": 39,
   "id": "6a1611e5",
   "metadata": {},
   "outputs": [
    {
     "data": {
      "image/png": "[encoded data removed]",
      "text/plain": [
       "<Figure size 432x288 with 1 Axes>"
      ]
     },
     "metadata": {
      "needs_background": "light"
     },
     "output_type": "display_data"
    }
   ],
   "source": [
    "# 훈련 데이터의 손실과 검증 데이터의 손실이 줄어드는 과정 시각화\n",
    "plt.plot(history.history['loss'], label='train')\n",
    "plt.plot(history.history['val_loss'], label='test')\n",
    "plt.legend()\n",
    "plt.show()"
   ]
  },
  {
   "cell_type": "code",
   "execution_count": 40,
   "id": "1b08f495",
   "metadata": {},
   "outputs": [],
   "source": [
    "src_index_to_word = src_tokenizer.index_word  # 원문 단어 집합에서 정수 -> 단어를 얻음\n",
    "tar_word_to_index = tar_tokenizer.word_index  # 요약 단어 집합에서 단어 -> 정수를 얻음\n",
    "tar_index_to_word = tar_tokenizer.index_word  # 요약 단어 집합에서 정수 -> 단어를 얻음"
   ]
  },
  {
   "cell_type": "markdown",
   "id": "f5d0e041",
   "metadata": {},
   "source": [
    "seq2seq는 훈련할 때와 실제 동작할 때(인퍼런스 단계)의 방식이 다르므로 그에 맞게 모델 설계를 별개로 진행해야 한다.  \n",
    "훈련 단계에서는 디코더의 입력부에 정답이 되는 문장 전체를 한꺼번에 넣고 디코더의 출력과 한 번에 비교할 수 있으므로, 인코더와 디코더를 엮은 통짜 모델 하나만 준비했다.  \n",
    "그러나 정답 문장이 없는 인퍼런스 단계에서는 만들어야 할 문장의 길이만큼 디코더가 반복 구조로 동작해야 하기 때문에 부득이하게 인퍼런스를 위한 모델 설계를 별도로 해주어야 한다. 이 때는 인코더 모델과 디코더 모델을 분리해서 설계한다. "
   ]
  },
  {
   "cell_type": "code",
   "execution_count": 41,
   "id": "3232bb48",
   "metadata": {},
   "outputs": [],
   "source": [
    "# 인코더 설계\n",
    "encoder_model = Model(inputs=encoder_inputs, outputs=[encoder_outputs, state_h, state_c])\n",
    "\n",
    "# 이전 시점의 상태들을 저장하는 텐서\n",
    "decoder_state_input_h = Input(shape=(hidden_size,))\n",
    "decoder_state_input_c = Input(shape=(hidden_size,))\n",
    "\n",
    "dec_emb2 = dec_emb_layer(decoder_inputs)\n",
    "\n",
    "# 문장의 다음 단어를 예측하기 위해서 초기 상태(initial_state)를 이전 시점의 상태로 사용. 이는 뒤의 함수 decode_sequence()에 구현\n",
    "# 훈련 과정에서와 달리 LSTM의 리턴하는 은닉 상태와 셀 상태인 state_h와 state_c를 버리지 않음.\n",
    "decoder_outputs2, state_h2, state_c2 = decoder_lstm(dec_emb2, initial_state=[decoder_state_input_h, decoder_state_input_c])"
   ]
  },
  {
   "cell_type": "code",
   "execution_count": 42,
   "id": "55309ab0",
   "metadata": {},
   "outputs": [],
   "source": [
    "# 어텐션 함수\n",
    "decoder_hidden_state_input = Input(shape=(text_max_len, hidden_size))\n",
    "attn_out_inf = attn_layer([decoder_outputs2, decoder_hidden_state_input])\n",
    "decoder_inf_concat = Concatenate(axis=-1, name='concat')([decoder_outputs2, attn_out_inf])\n",
    "\n",
    "# 디코더의 출력층\n",
    "decoder_outputs2 = decoder_softmax_layer(decoder_inf_concat) \n",
    "\n",
    "# 최종 디코더 모델\n",
    "decoder_model = Model(\n",
    "    [decoder_inputs] + [decoder_hidden_state_input,decoder_state_input_h, decoder_state_input_c],\n",
    "    [decoder_outputs2] + [state_h2, state_c2])"
   ]
  },
  {
   "cell_type": "code",
   "execution_count": 43,
   "id": "0886d0ff",
   "metadata": {},
   "outputs": [],
   "source": [
    "def decode_sequence(input_seq):\n",
    "    # 입력으로부터 인코더의 상태를 얻음\n",
    "    e_out, e_h, e_c = encoder_model.predict(input_seq)\n",
    "\n",
    "     # <SOS>에 해당하는 토큰 생성\n",
    "    target_seq = np.zeros((1,1))\n",
    "    target_seq[0, 0] = tar_word_to_index['sostoken']\n",
    "\n",
    "    stop_condition = False\n",
    "    decoded_sentence = ''\n",
    "    while not stop_condition: # stop_condition이 True가 될 때까지 루프 반복\n",
    "\n",
    "        output_tokens, h, c = decoder_model.predict([target_seq] + [e_out, e_h, e_c])\n",
    "        sampled_token_index = np.argmax(output_tokens[0, -1, :])\n",
    "        sampled_token = tar_index_to_word[sampled_token_index]\n",
    "\n",
    "        if (sampled_token!='eostoken'):\n",
    "            decoded_sentence += ' '+sampled_token\n",
    "\n",
    "        #  <eos>에 도달하거나 최대 길이를 넘으면 중단.\n",
    "        if (sampled_token == 'eostoken'  or len(decoded_sentence.split()) >= (headlines_max_len-1)):\n",
    "            stop_condition = True\n",
    "\n",
    "        # 길이가 1인 타겟 시퀀스를 업데이트\n",
    "        target_seq = np.zeros((1,1))\n",
    "        target_seq[0, 0] = sampled_token_index\n",
    "\n",
    "        # 상태를 업데이트\n",
    "        e_h, e_c = h, c\n",
    "\n",
    "    return decoded_sentence"
   ]
  },
  {
   "cell_type": "markdown",
   "id": "253a1a1f",
   "metadata": {},
   "source": [
    "## 4. model test (추상적 요약)"
   ]
  },
  {
   "cell_type": "code",
   "execution_count": 44,
   "id": "8fe5562c",
   "metadata": {},
   "outputs": [],
   "source": [
    "# 원문의 정수 시퀀스를 텍스트 시퀀스로 변환\n",
    "def seq2text(input_seq):\n",
    "    temp=''\n",
    "    for i in input_seq:\n",
    "        if (i!=0):\n",
    "            temp = temp + src_index_to_word[i]+' '\n",
    "    return temp\n",
    "\n",
    "# 요약문의 정수 시퀀스를 텍스트 시퀀스로 변환\n",
    "def seq2headlines(input_seq):\n",
    "    temp=''\n",
    "    for i in input_seq:\n",
    "        if ((i!=0 and i!=tar_word_to_index['sostoken']) and i!=tar_word_to_index['eostoken']):\n",
    "            temp = temp + tar_index_to_word[i] + ' '\n",
    "    return temp"
   ]
  },
  {
   "cell_type": "code",
   "execution_count": 45,
   "id": "b7eadf53",
   "metadata": {},
   "outputs": [
    {
     "name": "stdout",
     "output_type": "stream",
     "text": [
      "원문 : cambridge university considering scrap written exams allow laptops replace pen paper due increasing students handwriting academics said students losing ability write hand reliance laptops lectures elsewhere difficult harder harder read scripts said lecturer \n",
      "실제 요약 : cambridge plans to scrap written exams over bad handwriting \n",
      "예측 요약 :  cbse class schools to be held in cbse quarter\n",
      "\n",
      "\n",
      "원문 : google workers slammed software engineer anti diversity page memorandum written went viral company document attacked google policies foster diverse workplace according reports argued women face discrimination workplace inherent psychological differences men women \n",
      "실제 요약 : google employee slammed over anti diversity page memo \n",
      "예측 요약 :  google apologises for google firing on google memo\n",
      "\n",
      "\n",
      "원문 : reacting messaging service whatsapp outage experienced new year user tweeted whatsapp aadhaar link karna another user tweeted whatsapp cannot remember send sms user also tweeted single whatsapp even notice \n",
      "실제 요약 : aadhaar link tweets user on whatsapp outage \n",
      "예측 요약 :  whatsapp rolls out of whatsapp accounts\n",
      "\n",
      "\n",
      "원문 : maharashtra mangrove cell approved proposal wherein indian institute space science technology track health mangrove forests using real time satellite remote sensing data reports carrying satellite images forest department order check area wise increase destruction cases areas restored \n",
      "실제 요약 : real time satellite data to help monitor maha \n",
      "예측 요약 :  maharashtra to get its first solar system\n",
      "\n",
      "\n",
      "원문 : actress kriti sanon opening journey film industry said faced casting couch bollywood signed agency thankfully nothing sort happened added kriti said casting couch exist bollywood office places \n",
      "실제 요약 : have not faced casting couch in bollywood kriti sanon \n",
      "예측 요약 :  am not understand kriti sanon on relationship kriti\n",
      "\n",
      "\n",
      "원문 : video unidentified dead sea animal found shores island indonesia surfaced online bloodied creature thought metres long metres wide suspected giant local news agency social media users argued carcass whale elephant \n",
      "실제 요약 : unknown dead found washed in indonesia \n",
      "예측 요약 :  crocodile found in hurricane spotted in russia\n",
      "\n",
      "\n",
      "원문 : twitter conversation actor amitabh bachchan ranveer singh wrote blessed even know exist ranveer wrote amitabh complained replying sms birthday greetings ranveer tweeted except totally replied cross checked fact one first even wish \n",
      "실제 요약 : am blessed that you even know exist ranveer to amitabh \n",
      "예측 요약 :  ranveer singh to be ranveer as actor\n",
      "\n",
      "\n",
      "원문 : iran supreme leader ayatollah ali khamenei said us president donald trump remnants america sanctions country years tensions two america defeated iran added us aims iran economy sanctions promote iranian self said \n",
      "실제 요약 : trump has us with sanctions iran \n",
      "예측 요약 :  iran supreme leader seeks iran nuclear deal\n",
      "\n",
      "\n",
      "원문 : mumbai based prabhat dairy monday said sell flagship dairy business french dairy products giant crore indian subsidiary tirumala milk products buy prabhat milk business well subsidiary industries milk processing contributed prabhat dairy consolidated revenue \n",
      "실제 요약 : to sell dairy business to french firm for cr \n",
      "예측 요약 :  mumbai business buys stake in mumbai\n",
      "\n",
      "\n",
      "원문 : opposition parties slammed government suggestion extending aadhaar like unique identification cows check cattle smuggling aimim chief asaduddin owaisi said priorities government completely misplaced cpi leader raja said centre forced follow hindutva agenda rss narendra modi prime minister \n",
      "실제 요약 : centre completely opp on cow \n",
      "예측 요약 :  aadhaar must be mandatory for aadhaar services sc\n",
      "\n",
      "\n",
      "원문 : india football team captain singh chosen unanimous vote team members coach luis de suggested four names role asked players team write choice captain based votes cast jitendra singh chosen vice captain \n",
      "실제 요약 : india football captain chosen through vote by players \n",
      "예측 요약 :  bcci coach resigns from bcci after criticism\n",
      "\n",
      "\n",
      "원문 : telecom regulator trai chairman rs sharma said entities try hide data breaches recommending creation platform awareness sharing breaches happens added said data powerful tool hands controllers hands government delivery social benefits \n",
      "실제 요약 : entities should not hide data breaches trai chairman \n",
      "예측 요약 :  trai chief denies reports of trai chief\n",
      "\n",
      "\n",
      "원문 : qatar monday filed legal complaint world trade organisation trade boycott saudi arabia bahrain united arab emirates formally requesting consultations three countries qatar triggered day deadline settle complaint face litigation wto potential retaliatory trade sanctions \n",
      "실제 요약 : qatar complains to wto against saudi led trade boycott \n",
      "예측 요약 :  us threatens to protest against qatar for qatar\n",
      "\n",
      "\n",
      "원문 : indonesian passenger plane carrying people crashed sea monday suffered technical problem previous flight carrier lion air chief executive officer edward said however added problem resolved said airline plan ground rest boeing max fleet \n",
      "실제 요약 : crashed plane suffered glitch on previous flight lion air ceo \n",
      "예측 요약 :  plane crash lands in plane crash in russia\n",
      "\n",
      "\n",
      "원문 : writing poem daughter shweta bachchan nanda launched new fashion brand partnership friend amitabh bachchan wrote proud daughters found success like necklace jewels precious keep safe wrote shweta new fashion brand called \n",
      "실제 요약 : proud when daughters find success themselves big in poem \n",
      "예측 요약 :  big shares picture with daughter daughter\n",
      "\n",
      "\n",
      "원문 : paris turned lights eiffel tower midnight mark respect victims attack london wednesday five people including police officer killed others injured knife wielding attacker drove pedestrians crashed outside houses parliament attacker shot dead police \n",
      "실제 요약 : eiffel tower goes dark to remember london attack victims \n",
      "예측 요약 :  london tower terror attack victims killed in london\n",
      "\n",
      "\n",
      "원문 : yami gautam said film industry consuming place adding absorb drain emotionally come far hard way come step step never money driving force priority important respected actor said yami \n",
      "실제 요약 : film industry is consuming can drain you \n",
      "예측 요약 :  people are not an environment system\n",
      "\n",
      "\n",
      "원문 : gal gadot known portraying wonder woman accused victim shaming anonymous person claimed gadot roommate years ago alleging raped gadot friend woman wrote gadot told rape mistake added gal gadot says supports sexual assault survivors believe \n",
      "실제 요약 : gal gadot accused of shaming rape victim in anonymous post \n",
      "예측 요약 :  woman who alleged rape accused says her woman\n",
      "\n",
      "\n",
      "원문 : government friday said declarations made black money holders tax payment deposits pradhan mantri garib kalyan yojana made may government earlier extended date deposits scheme april last chance undisclosed wealth holders come clean paying tax penalty \n",
      "실제 요약 : date for filing tax on black money extended \n",
      "예측 요약 :  govt to print pan cards to all black money\n",
      "\n",
      "\n",
      "원문 : uefa handed lakh fine turkish football club cat invaded pitch forcing play briefly stopped champions league match bayern munich march charged organisation also penalised fans throwing objects blocking stadium \n",
      "실제 요약 : team fined lakh after cat stopped champions league match \n",
      "예측 요약 :  football club fined for fans over pitch in pitch\n",
      "\n",
      "\n",
      "원문 : year old chhattisgarh grocer stock witness police cases stock witness one tell court police wants gave first statement working cameraman since police witness gambling case \n",
      "실제 요약 : yr old chhattisgarh man is police witness in cases \n",
      "예측 요약 :  only of only criminal cases in pune\n",
      "\n",
      "\n",
      "원문 : called community rajasthan demanded reservation government jobs academic institutions next days given reservation agitation member said december rajasthan government approved reservation four backward communities \n",
      "실제 요약 : community demands reservation in days \n",
      "예측 요약 :  govt to give reservation for reservation in up\n",
      "\n",
      "\n",
      "원문 : american economists william paul awarded th prize economic sciences memory alfred nobel monday innovation climate economic growth william recognised work climate economics awarded work growth theory share million cash prize \n",
      "실제 요약 : william paul win th nobel prize for economics \n",
      "예측 요약 :  nobel prize winning economist passes away aged\n",
      "\n",
      "\n",
      "원문 : woman killed husband called prostitute murder charges supreme court court said since death result sudden grave provocation punishable culpable homicide amounting murder woman co accused sentenced ten years jail \n",
      "실제 요약 : calling wife grave sc clears woman of murder \n",
      "예측 요약 :  woman killed in court over killing of\n",
      "\n",
      "\n",
      "원문 : talking sexually harassed pitch perfect actress rebel wilson revealed male star asked repeatedly stick finger male friends tried film incident added whole thing disgusting told people industry story graphic detail warn individual \n",
      "실제 요약 : male star friends tried to film him harassing me rebel \n",
      "예측 요약 :  was not sexually harassed by sister says sister\n",
      "\n",
      "\n",
      "원문 : centre working plans new airports delhi mumbai chennai kolkata airports authority india chairman mohapatra said move aimed growing passenger traffic civil aviation ministry written tamil nadu west bengal governments suggest plots alternate airports built reports said \n",
      "실제 요약 : delhi mumbai chennai and kolkata to get second airports \n",
      "예측 요약 :  railways to train at delhi airport\n",
      "\n",
      "\n",
      "원문 : music streaming startup denied reports shutdown laid employees staff last week fired employees hired two weeks layoffs january ceo alexander said startup might run cash subscription service gain popularity \n",
      "실제 요약 : startup denies shutdown reports after off staff \n",
      "예측 요약 :  snapdeal fires employees to employees\n",
      "\n",
      "\n",
      "원문 : days daughter kerala top cop kumar accused hitting police driver chief minister pinarayi vijayan said senior police officials allowed use policemen personal work basic human rights people protected added notably around policemen currently deployed officials homes \n",
      "실제 요약 : using policemen for personal work not allowed kerala cm \n",
      "예측 요약 :  bjp mp cop arrested for raping woman in telangana\n",
      "\n",
      "\n",
      "원문 : top ranked rounder shakib al hasan appointed captain bangladesh team following meeting bangladesh cricket board saturday shakib replaces mashrafe mortaza retired format last month shakib previously captained bangladesh four back country losing \n",
      "실제 요약 : shakib al appointed bangladesh captain \n",
      "예측 요약 :  sl captain injured in bangladesh over sl odi series\n",
      "\n",
      "\n",
      "원문 : volkswagen announced plans spend billion developing electric cars autonomous driving new technologies next years german automaker also pledged offer electric version roughly group models notably volkswagen group includes audi porsche along core volkswagen brand \n",
      "실제 요약 : volkswagen to spend bn on electric cars over next yrs \n",
      "예측 요약 :  volkswagen to build electric cars in india in china\n",
      "\n",
      "\n",
      "원문 : billionaire founder co ceo uk gambling firm bet paid salary million last fiscal year old also collected dividend payments million shareholding bet pay double paid entire bet owned city football team \n",
      "실제 요약 : gambling firm billionaire founder pays herself cr salary \n",
      "예측 요약 :  billionaire mahindra ceo earned mn in\n",
      "\n",
      "\n",
      "원문 : indian wrestler olympic medallist sushil kumar bagged third straight commonwealth games gold medal winning men freestyle kg event thursday year old wrestler final dominated previous opponents sushil silver bronze olympics crowned world champion \n",
      "실제 요약 : sushil kumar wins his rd straight commonwealth games gold \n",
      "예측 요약 :  sushil kumar wins gold at cwg gold\n",
      "\n",
      "\n",
      "원문 : deepika padukone ranveer singh got married wednesday per konkani customs another wedding thursday according sindhi customs released official wedding photos couple wedding held lake como italy reportedly host two receptions bengaluru mumbai following wedding \n",
      "실제 요약 : deepika padukone ranveer singh share first official wedding photos \n",
      "예측 요약 :  deepika ranveer to marry deepika wedding reception\n",
      "\n",
      "\n",
      "원문 : venezuela constituent assembly recently created president nicol maduro defiance international criticism given power pass laws assembly opposition led congress opposition believes assembly tasked country constitution help maduro consolidate dictatorship country \n",
      "실제 요약 : venezuelan assembly power amid criticism \n",
      "예측 요약 :  venezuela president resigns over political\n",
      "\n",
      "\n",
      "원문 : passenger travelling tirupati hyderabad filed complaint spicejet playing national anthem minutes landing complainant said passengers position stand following pilot directions keep seat belt spicejet spokesperson said anthem started playing crew mistakenly selected wrong number \n",
      "실제 요약 : spicejet plays national anthem with people strapped to seats \n",
      "예측 요약 :  delhi airport apologises for showing dance to stop smoking\n",
      "\n",
      "\n",
      "원문 : punjab national bank suspended officials connection billion fraud linked jeweller nirav modi firms bank ceo sunil mehta said criminal action taken staff members involved fraud also revealed bank received vague offer nirav modi regarding repayment loan \n",
      "실제 요약 : pnb suspends officials in bn nirav modi fraud case \n",
      "예측 요약 :  pnb fraud pnb scam in pnb scam\n",
      "\n",
      "\n",
      "원문 : scene upcoming film sanju actress madhuri dixit referred removed actress per reports director rajkumar hirani reportedly shot scene ranbir kapoor sanjay dutt makes call arrest sanjay madhuri rumoured relationship early \n",
      "실제 요약 : reference to madhuri deleted from sanju on request report \n",
      "예측 요약 :  actress taapsee to star in film in film report\n",
      "\n",
      "\n",
      "원문 : acid attack survivor khan took social media share pictures without make people started recovery seeing pictures make wanted make clear see internet real wrote added want give people false hopes \n",
      "실제 요약 : acid attack survivor shares pics of herself without make up \n",
      "예측 요약 :  couple who inspired tv show are not\n",
      "\n",
      "\n",
      "원문 : actor politician kamal haasan wednesday said party makkal needhi maiam ready lok sabha elections however asked contesting upcoming elections tamil nadu haasan stated teach lesson government tell duties mindset contest \n",
      "실제 요약 : my party ready for lok sabha elections kamal haasan \n",
      "예측 요약 :  kamal haasan must contest elections in polls kamal haasan\n",
      "\n",
      "\n",
      "원문 : former cricketers aakash chopra mitchell johnson argued twitter rating icc gave pitch used nd test india australia perth former england captain michael vaughan also agreed johnson view pitch deserved better rating vaughan termed exciting pitch \n",
      "실제 요약 : johnson on twitter over perth pitch rating \n",
      "예측 요약 :  kohli does not expect to test cricket cricket board\n",
      "\n",
      "\n",
      "원문 : talking sonam kapoor wedding reception wherein shah rukh khan salman khan danced together singer mika singh said difficult make two superstars dance together stage added came stage took whole atmosphere another level never forget party entire life mika said \n",
      "실제 요약 : it is difficult to make srk salman dance together mika \n",
      "예측 요약 :  sonam to attend bharat anand in mumbai reports\n",
      "\n",
      "\n",
      "원문 : us president donald trump naked statue auctioned later year new jersey statue estimated fetch said sculpture statue remaining others vandalised destroyed put display weeks trump elected \n",
      "실제 요약 : naked donald trump statue to be auctioned for \n",
      "예측 요약 :  trump statue of mahatma gandhi statue\n",
      "\n",
      "\n",
      "원문 : united arab emirates tuesday announced formed new economic partnership group saudi arabia separate six member gulf cooperation council move could undermine council half whose members boycotted qatar allegedly supporting terrorism announcement comes hours meeting expected discuss qatar boycott \n",
      "실제 요약 : new uae saudi group may gulf cooperation council \n",
      "예측 요약 :  qatar group suspends military visas for visas\n",
      "\n",
      "\n",
      "원문 : youtube personality dhinchak pooja released video song cash first song released following removal several music videos youtube copyright issues dhinchak pooja known songs like ka shooter swag meri selfie maine aaj \n",
      "실제 요약 : dhinchak pooja releases video for song cash \n",
      "예측 요약 :  song from pooja released\n",
      "\n",
      "\n",
      "원문 : video released police shows three suspects rob store united states texas video shows two suspects rob store third steals customers smartphones jumping behind counter handing donuts police looking suspects wanted aggravated robbery deadly weapon \n",
      "실제 요약 : thief hands out to after robbing store \n",
      "예측 요약 :  video shows us police store using dog\n",
      "\n",
      "\n",
      "원문 : indian origin royal mail sentenced months imprisonment stealing debit cards birthday singh khera stole two punjab national bank cards pin numbers withdrawing atm machines khera whose sentence suspended two years due heart condition years \n",
      "실제 요약 : british indian steals debit cards birthday \n",
      "예측 요약 :  indian origin woman jailed for stealing indian origin woman\n",
      "\n",
      "\n",
      "원문 : singer katy perry thursday posted photo instagram nails painted symbols cryptocurrencies like bitcoin ethereum monero crypto wrote alongside photo earlier november posted photo billionaire warren buffett captioned asking warren buffett thoughts cryptocurrency \n",
      "실제 요약 : katy perry posts pic of painted with cryptocurrencies \n",
      "예측 요약 :  singer shares pic of her own crypto\n",
      "\n",
      "\n",
      "원문 : manchester united crashed champions league pre quarterfinals losing sevilla old trafford wednesday first time sevilla five time europa league champions reached champions league quarterfinals barcelona chelsea played draw first leg play second leg last tie today \n",
      "실제 요약 : manchester united knocked out of champions league \n",
      "예측 요약 :  chelsea lose first ever pl goal in seconds\n",
      "\n",
      "\n",
      "원문 : inventor modern ed asked family ashes death family honoured decision ashes limited edition plastic memorial flying sold fund museum two disc set comprising ashes reportedly sells today \n",
      "실제 요약 : ashes of modern inventor were into \n",
      "예측 요약 :  dna had to survive on developing death\n",
      "\n",
      "\n",
      "원문 : year old world war ii veteran works driver karnataka although michael souza driving last years got first licence renewed constantly since michael said fined wearing seatbelt driven cars including fiat austin mercedes benz \n",
      "실제 요약 : year old wwii veteran works as driver in karnataka \n",
      "예측 요약 :  world oldest driver dies after years\n",
      "\n",
      "\n"
     ]
    }
   ],
   "source": [
    "for i in range(50, 100):\n",
    "    print(\"원문 :\", seq2text(encoder_input_test[i]))\n",
    "    print(\"실제 요약 :\", seq2headlines(decoder_input_test[i]))\n",
    "    print(\"예측 요약 :\", decode_sequence(encoder_input_test[i].reshape(1, text_max_len)))\n",
    "    print(\"\\n\")"
   ]
  },
  {
   "cell_type": "markdown",
   "id": "063c7746",
   "metadata": {},
   "source": [
    "## 5. Summa (추출적 요약)\n",
    "- text(str) : 요약할 텍스트\n",
    "- ratio(float, optional) : 요약문에서 원본에서 선택되는 문장 비율, 0~1 값\n",
    "- words(int or None, optional) : 출력에 포함할 단어 수\n",
    "- split(bool, optional) : True면 문장 list / False면 join된 문자열 반환"
   ]
  },
  {
   "cell_type": "code",
   "execution_count": 46,
   "id": "0dc2d6a9",
   "metadata": {},
   "outputs": [],
   "source": [
    "import requests\n",
    "from summa.summarizer import summarize"
   ]
  },
  {
   "cell_type": "code",
   "execution_count": 47,
   "id": "68453846",
   "metadata": {},
   "outputs": [
    {
     "name": "stdout",
     "output_type": "stream",
     "text": [
      "0       Saurav Kant, an alumnus of upGrad and IIIT-B's...\n",
      "1       Kunal Shah's credit card bill payment platform...\n",
      "2       New Zealand defeated India by 8 wickets in the...\n",
      "3       With Aegon Life iTerm Insurance plan, customer...\n",
      "4       Speaking about the sexual harassment allegatio...\n",
      "                              ...                        \n",
      "1495    India head coach Ravi Shastri has said that he...\n",
      "1496    Italian tennis player Andreas Seppi ensured hi...\n",
      "1497    World number three Roger Federer was stopped b...\n",
      "1498    A cutout of TMC chief and West Bengal CM Mamat...\n",
      "1499    A Delhi court on Saturday pulled up Delhi Poli...\n",
      "Name: text, Length: 1500, dtype: object\n"
     ]
    }
   ],
   "source": [
    "data = pd.read_csv('news_summary_more.csv', encoding='iso-8859-1')\n",
    "text = data['text']\n",
    "print(text[:1500])"
   ]
  },
  {
   "cell_type": "code",
   "execution_count": 48,
   "id": "4513d6d7",
   "metadata": {},
   "outputs": [
    {
     "name": "stdout",
     "output_type": "stream",
     "text": [
      "\n",
      "text : The wing of an Air India plane with 179 on board went inside a building after the plane struck the building at Stockholm's Arlanda airport. The passengers could disembark from the plane on a mobile staircase and thereafter enter the terminal, said police. According to airport operator Swedavia's website, the flight had originated in New Delhi.\n",
      "\n",
      "\n",
      "headlines : The wing of an Air India plane with 179 on board went inside a building after the plane struck the building at Stockholm's Arlanda airport.\n",
      "\n",
      "--------------------------------------------------------------------------------------------------------\n",
      "\n",
      "text : Ayushmann Khurrana revealed a gay casting director once told him, \"I want to see your c*ck. Can I just feel you?\" Ayushmann said, \"I was like, 'Kya baat kar rahe ho yaar? Are you serious?' I said no.\" Ayushmann added he was told he had to do these things and was questioned on how he would survive in the industry.\n",
      "\n",
      "\n",
      "headlines : Are you serious?' I said no.\" Ayushmann added he was told he had to do these things and was questioned on how he would survive in the industry.\n",
      "\n",
      "--------------------------------------------------------------------------------------------------------\n",
      "\n",
      "text : A 30-year-old biker was killed in a high-speed crash in Jaipur on Friday after suffering brain haemorrhage reportedly due to him failing to remove the helmet on time. The incident reportedly took place when the biker, while trying to avoid hitting two pedestrians crossing the road, lost control of the bike. A pedestrian was also critically injured in the accident.\n",
      "\n",
      "\n",
      "headlines : The incident reportedly took place when the biker, while trying to avoid hitting two pedestrians crossing the road, lost control of the bike.\n",
      "\n",
      "--------------------------------------------------------------------------------------------------------\n",
      "\n",
      "text : Actor Jared Leto, known for portraying the character the Joker in the film Suicide Squad, has claimed that his house in Hollywood Hills, an out-of-use Air Force base, is haunted. Leto added, \"God knows what they did here, but it talks. We've already had ghost sightings reported by my housekeeper. A handyman quit the project as he had an encounter.\"\n",
      "\n",
      "\n",
      "headlines : Actor Jared Leto, known for portraying the character the Joker in the film Suicide Squad, has claimed that his house in Hollywood Hills, an out-of-use Air Force base, is haunted.\n",
      "Leto added, \"God knows what they did here, but it talks.\n",
      "\n",
      "--------------------------------------------------------------------------------------------------------\n",
      "\n",
      "text : The documentary 'Kailash', which is about Nobel Peace Prize winner Kailash Satyarthi and his efforts to end child slavery, won the 'US Grand Jury Prize: Documentary' at the Sundance Film Festival. Satyarthi's charity 'Bachpan Bachao Andolan' has been credited with freeing at least 80,000 child slaves in India over 30 years. \n",
      "\n",
      "\n",
      "headlines : The documentary 'Kailash', which is about Nobel Peace Prize winner Kailash Satyarthi and his efforts to end child slavery, won the 'US Grand Jury Prize: Documentary' at the Sundance Film Festival.\n",
      "\n",
      "--------------------------------------------------------------------------------------------------------\n",
      "\n",
      "text : The Indian Railways recorded the worst punctuality performance in three years with almost 30% of the trains running late in 2017-18, official data has revealed. The percentage of express and mail trains that ran on time in 2017-18 declined to 71.39% from 76.69% in 2016-17. The Railways attributed the lowered performance to the massive maintenance work undertaken by the department.\n",
      "\n",
      "\n",
      "headlines : The Indian Railways recorded the worst punctuality performance in three years with almost 30% of the trains running late in 2017-18, official data has revealed.\n",
      "\n",
      "--------------------------------------------------------------------------------------------------------\n",
      "\n",
      "text : A 56-year-old Indian man, diagnosed with end-stage heart disease, was left with two beating hearts following a 'Piggyback Heart Transplant' at Hyderabad's Apollo Hospital. Doctors decided on keeping both hearts due to size difference, with the donor heart being normal fist-sized, while the patient's heart was the size of a small football. Only about 150 such procedures have been reported.\n",
      "\n",
      "\n",
      "headlines : A 56-year-old Indian man, diagnosed with end-stage heart disease, was left with two beating hearts following a 'Piggyback Heart Transplant' at Hyderabad's Apollo Hospital.\n",
      "\n",
      "--------------------------------------------------------------------------------------------------------\n",
      "\n",
      "text : In a bid to check e-waste problem, Rajasthan government has launched a scheme wherein people can sell their old phones, computers, routers and any other electronic items to the government. The government will also give jute bags in exchange for plastic bags to people. Around 20 such collection points have been set up at Indian Oil petrol pumps in Jaipur.\n",
      "\n",
      "\n",
      "headlines : In a bid to check e-waste problem, Rajasthan government has launched a scheme wherein people can sell their old phones, computers, routers and any other electronic items to the government.\n",
      "\n",
      "--------------------------------------------------------------------------------------------------------\n",
      "\n",
      "text : Mumbai Indians captain Rohit Sharma has been reprimanded and charged with a Level 1 offence for showing dissent at an umpire's decision during the IPL match against Kolkata Knight Riders on Sunday. Rohit was given out LBW after scoring 2 runs by umpire CK Nandan, despite an inside edge. He walked back voicing his displeasure towards the umpire.\n",
      "\n",
      "\n",
      "headlines : Rohit was given out LBW after scoring 2 runs by umpire CK Nandan, despite an inside edge.\n",
      "\n",
      "--------------------------------------------------------------------------------------------------------\n",
      "\n",
      "text : An $18.12 billion class action lawsuit against Mastercard is being revived after lawyers filed to appeal against a ruling that barred the case from heading to trial last month. The lawsuit was lodged on behalf of nearly 4.6 crore consumers. It alleged that Mastercard's interchange fees forced consumers to pay higher prices over a 16-year period, breaching EU competition law. \n",
      "\n",
      "\n",
      "headlines : The lawsuit was lodged on behalf of nearly 4.6 crore consumers.\n",
      "\n",
      "--------------------------------------------------------------------------------------------------------\n",
      "\n",
      "text : Mining firm BSG Resources, led by billionaire Beny Steinmetz sued billionaire George Soros, claiming he cost it $10 billion (Ã¢ÂÂ¹64,400 crore) through a defamation campaign. BSGR accused Soros of manipulating Guinea government and other misconduct to strip it of mining contracts. Steinmetz was earlier put under house arrest amid accusations that he bribed Guinea authorities to advance businesses.\n",
      "\n",
      "\n",
      "headlines : BSGR accused Soros of manipulating Guinea government and other misconduct to strip it of mining contracts.\n",
      "\n",
      "--------------------------------------------------------------------------------------------------------\n",
      "\n",
      "text : UK Prime Minister Theresa May has rebuked US President Donald Trump over his remarks on the London terror attack, saying that it is \"not helpful for anybody to speculate on...an ongoing investigation\". \"Another attack in London by a loser terrorist. These are sick and demented people who were in the sights of Scotland Yard. Must be proactive!\" Trump had tweeted.\n",
      "\n",
      "\n",
      "headlines : UK Prime Minister Theresa May has rebuked US President Donald Trump over his remarks on the London terror attack, saying that it is \"not helpful for anybody to speculate on...an ongoing investigation\".\n",
      "\"Another attack in London by a loser terrorist.\n",
      "\n",
      "--------------------------------------------------------------------------------------------------------\n",
      "\n",
      "text : During PM Narendra Modi's 'Pariksha par Charcha' with nearly 3,000 students on Friday, a student asked the Prime Minister if he was prepared for the 2019 Lok Sabha \"examinations\". PM Modi answered, \"If I was your teacher, I would've guided you to take up journalism because journalists ask such long-winded questions.\" He added, \"I have wishes of 125 crore Indians.\"\n",
      "\n",
      "\n",
      "headlines : During PM Narendra Modi's 'Pariksha par Charcha' with nearly 3,000 students on Friday, a student asked the Prime Minister if he was prepared for the 2019 Lok Sabha \"examinations\".\n",
      "\n",
      "--------------------------------------------------------------------------------------------------------\n",
      "\n",
      "text : Former Australian wicketkeeper Adam Gilchrist has called South Africa's wicketkeeper Quinton de Kock a superstar. A Twitter user had posted, \"Seems like @QuinnyDeKock69 is the new @gilly381. Comes in late in the middle order and scores at an impatient pace!\" \"Nice compliment for me. That kid is a superstar,\" Gilchrist replied to the user's tweet.\n",
      "\n",
      "\n",
      "headlines : Former Australian wicketkeeper Adam Gilchrist has called South Africa's wicketkeeper Quinton de Kock a superstar.\n",
      "That kid is a superstar,\" Gilchrist replied to the user's tweet.\n",
      "\n",
      "--------------------------------------------------------------------------------------------------------\n",
      "\n",
      "text : Speaking in the no-confidence motion debate in the Lok Sabha on Friday, Congress MP Mallikarjun Kharge said, \"If we followed your (BJP's) path, democracy would have ended long time ago.\" \"Congress has always tried to safeguard democracy,\" he added. He further said that Opposition parties Congress, CPI, CPM, and the Muslim League stand with Andhra Pradesh and support its demands.\n",
      "\n",
      "\n",
      "headlines : Speaking in the no-confidence motion debate in the Lok Sabha on Friday, Congress MP Mallikarjun Kharge said, \"If we followed your (BJP's) path, democracy would have ended long time ago.\" \"Congress has always tried to safeguard democracy,\" he added.\n",
      "\n",
      "--------------------------------------------------------------------------------------------------------\n"
     ]
    }
   ],
   "source": [
    "for _ in range(15):\n",
    "    random_n = np.random.randint(len(text))\n",
    "    print(\"\\ntext : {}\\n\".format(text[random_n]))\n",
    "    print(\"\\nheadlines : {}\\n\".format(summarize(text[random_n], ratio=0.5)))\n",
    "    print(\"--------------------------------------------------------------------------------------------------------\")"
   ]
  },
  {
   "cell_type": "markdown",
   "id": "0ae35d4e",
   "metadata": {},
   "source": [
    "## 6. 간단한 비교분석 및 회고\n",
    "- 추상적 요약 모델의 경우 텍스트를 여러 단계에 거쳐 전처리를 진행했기에 기대했던 것보다는 괜찮은 headline이 나왔던 것 같다. 처음에는 이상해보이는 요약문이 좀 있었지만 text의 maxlen 값과 빈도수에 따른 단어 집합의 크기를 조정하면서 학습해보니 결과가 점점 좋아졌다. (시간은 엄청 걸렸지만)\n",
    "- 추출적 요약은 데이터 전처리 없이 데이터를 때려 넣었(?)음에도 불구하고 단어구, 문장을 잘 뽑아서 그런지 요약 결과가 대체로 적절한 것 같다. 약간 허무하다. "
   ]
  }
 ],
 "metadata": {
  "kernelspec": {
   "display_name": "Python 3 (ipykernel)",
   "language": "python",
   "name": "python3"
  },
  "language_info": {
   "codemirror_mode": {
    "name": "ipython",
    "version": 3
   },
   "file_extension": ".py",
   "mimetype": "text/x-python",
   "name": "python",
   "nbconvert_exporter": "python",
   "pygments_lexer": "ipython3",
   "version": "3.9.7"
  }
 },
 "nbformat": 4,
 "nbformat_minor": 5
}
